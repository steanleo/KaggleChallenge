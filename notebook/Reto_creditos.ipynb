{
 "cells": [
  {
   "cell_type": "markdown",
   "id": "fe6ed63d",
   "metadata": {},
   "source": [
    "![](images/EscUpmPolit_p.gif \"UPM\")"
   ]
  },
  {
   "cell_type": "markdown",
   "id": "ddcdfca7",
   "metadata": {},
   "source": [
    "# Kaggle Challenge\n",
    "## Loan Approval Prediction - New York\n",
    "El reto consiste en aplicar algoritmos de Machine Learning para predecir la emisión de créditos a un cliente en función de un dataset de entrada para el entrenamiento correspondiente.\n",
    "\n",
    "El dataset está formado por los siguientes campos:\n",
    "\n",
    "- id # Text # Identifier of the data instance\n",
    "- LoanNr_ChkDgt # Text # Identifier of the loan petition\n",
    "- Name # Text # Borrower name\n",
    "- City # Text # Borrower city\n",
    "- State # Text # Borrower state\n",
    "- Bank # Text # Bank name\n",
    "- BankState # Text # Bank state\n",
    "- ApprovalDate # Date/Time # Date SBA commitment issued\n",
    "- ApprovalFY # Text # Fiscal year of commitment\n",
    "- NoEmp # Number # Number of business employees\n",
    "- NewExist # Text # 1 = Existing business, 2 = New business\n",
    "- CreateJob # Number # Number of jobs created\n",
    "- RetainedJob # Number # Number of jobs retained\n",
    "- FranchiseCode # Text # Franchise code, (00000 or 00001) = No franchise\n",
    "- UrbanRural # Text # 1 = Urban, 2 = rural, 0 = undefined\n",
    "- RevLineCr # Text # Revolving line of credit: Y = Yes, N = No\n",
    "- LowDoc # Text # LowDoc Loan Program: Y = Yes, N = No\n",
    "- DisbursementDate # Date/Time # Disbursement date\n",
    "- DisbursementGross # Currency # Amount disbursed\n",
    "- BalanceGross # Currency # Gross amount outstanding\n",
    "- Accept # Text # Loan approval status. 0 = not approved, 1 = approved\n"
   ]
  },
  {
   "cell_type": "markdown",
   "id": "38e299da",
   "metadata": {},
   "source": [
    "## 1º Paso: Importar datos"
   ]
  },
  {
   "cell_type": "code",
   "execution_count": 186,
   "id": "c5ab3559",
   "metadata": {},
   "outputs": [
    {
     "name": "stderr",
     "output_type": "stream",
     "text": [
      "C:\\Users\\Usuario\\anaconda3\\lib\\site-packages\\IPython\\core\\interactiveshell.py:3165: DtypeWarning: Columns (8) have mixed types.Specify dtype option on import or set low_memory=False.\n",
      "  has_raised = await self.run_ast_nodes(code_ast.body, cell_name,\n"
     ]
    }
   ],
   "source": [
    "import numpy as np\n",
    "import pandas as pd\n",
    "from pandas import Series, DataFrame\n",
    "\n",
    "# Training and test spliting\n",
    "from sklearn.model_selection import train_test_split\n",
    "from sklearn import preprocessing\n",
    "\n",
    "# Estimators\n",
    "from sklearn.svm import SVC\n",
    "\n",
    "# Evaluation\n",
    "from sklearn import metrics\n",
    "from sklearn.model_selection import cross_val_score, KFold, StratifiedKFold\n",
    "from sklearn.naive_bayes import BernoulliNB, ComplementNB, MultinomialNB\n",
    "from sklearn.metrics import classification_report\n",
    "from sklearn.metrics import roc_curve\n",
    "from sklearn.metrics import roc_auc_score\n",
    "\n",
    "# Optimization\n",
    "from sklearn.model_selection import GridSearchCV\n",
    "\n",
    "# Visualisation\n",
    "import seaborn as sns\n",
    "import matplotlib.pyplot as plt\n",
    "sns.set(color_codes=True)\n",
    "\n",
    "train = pd.read_csv('data_reto_1/train.csv')\n",
    "test = pd.read_csv('data_reto_1/test_nolabel.csv')\n",
    "original_data = pd.concat([data, test])"
   ]
  },
  {
   "cell_type": "code",
   "execution_count": 188,
   "id": "dc9d1eb1",
   "metadata": {},
   "outputs": [
    {
     "name": "stdout",
     "output_type": "stream",
     "text": [
      "(40385, 21)\n",
      "(7050, 20)\n",
      "(47435, 21)\n"
     ]
    },
    {
     "data": {
      "text/html": [
       "<div>\n",
       "<style scoped>\n",
       "    .dataframe tbody tr th:only-of-type {\n",
       "        vertical-align: middle;\n",
       "    }\n",
       "\n",
       "    .dataframe tbody tr th {\n",
       "        vertical-align: top;\n",
       "    }\n",
       "\n",
       "    .dataframe thead th {\n",
       "        text-align: right;\n",
       "    }\n",
       "</style>\n",
       "<table border=\"1\" class=\"dataframe\">\n",
       "  <thead>\n",
       "    <tr style=\"text-align: right;\">\n",
       "      <th></th>\n",
       "      <th>id</th>\n",
       "      <th>LoanNr_ChkDgt</th>\n",
       "      <th>Name</th>\n",
       "      <th>City</th>\n",
       "      <th>State</th>\n",
       "      <th>Bank</th>\n",
       "      <th>BankState</th>\n",
       "      <th>ApprovalDate</th>\n",
       "      <th>ApprovalFY</th>\n",
       "      <th>NoEmp</th>\n",
       "      <th>...</th>\n",
       "      <th>CreateJob</th>\n",
       "      <th>RetainedJob</th>\n",
       "      <th>FranchiseCode</th>\n",
       "      <th>UrbanRural</th>\n",
       "      <th>RevLineCr</th>\n",
       "      <th>LowDoc</th>\n",
       "      <th>DisbursementDate</th>\n",
       "      <th>DisbursementGross</th>\n",
       "      <th>BalanceGross</th>\n",
       "      <th>Accept</th>\n",
       "    </tr>\n",
       "  </thead>\n",
       "  <tbody>\n",
       "    <tr>\n",
       "      <th>0</th>\n",
       "      <td>63ef5dfc62f</td>\n",
       "      <td>1787644007</td>\n",
       "      <td>ERIC P. HAILE</td>\n",
       "      <td>STAFFORD</td>\n",
       "      <td>NY</td>\n",
       "      <td>MANUFACTURERS &amp; TRADERS TR CO</td>\n",
       "      <td>NY</td>\n",
       "      <td>16-Jan-98</td>\n",
       "      <td>1998</td>\n",
       "      <td>1</td>\n",
       "      <td>...</td>\n",
       "      <td>0</td>\n",
       "      <td>0</td>\n",
       "      <td>1</td>\n",
       "      <td>0</td>\n",
       "      <td>N</td>\n",
       "      <td>Y</td>\n",
       "      <td>3-Apr-98</td>\n",
       "      <td>$35,000.00</td>\n",
       "      <td>$0.00</td>\n",
       "      <td>NaN</td>\n",
       "    </tr>\n",
       "    <tr>\n",
       "      <th>1</th>\n",
       "      <td>65ee0569c05</td>\n",
       "      <td>6209123009</td>\n",
       "      <td>TANNING BED, LTD.</td>\n",
       "      <td>WEST SENECA</td>\n",
       "      <td>NY</td>\n",
       "      <td>MANUFACTURERS &amp; TRADERS TR CO</td>\n",
       "      <td>NY</td>\n",
       "      <td>9-Feb-94</td>\n",
       "      <td>1994</td>\n",
       "      <td>81</td>\n",
       "      <td>...</td>\n",
       "      <td>0</td>\n",
       "      <td>0</td>\n",
       "      <td>1</td>\n",
       "      <td>0</td>\n",
       "      <td>N</td>\n",
       "      <td>N</td>\n",
       "      <td>31-Jul-94</td>\n",
       "      <td>$145,000.00</td>\n",
       "      <td>$0.00</td>\n",
       "      <td>NaN</td>\n",
       "    </tr>\n",
       "    <tr>\n",
       "      <th>2</th>\n",
       "      <td>19058f4da52</td>\n",
       "      <td>5033174010</td>\n",
       "      <td>BREITO COMPUTER SOLUTIONS INC</td>\n",
       "      <td>WOOD HAVEN (WOODHAVEN)</td>\n",
       "      <td>NY</td>\n",
       "      <td>BANK OF AMERICA NATL ASSOC</td>\n",
       "      <td>RI</td>\n",
       "      <td>7-Nov-01</td>\n",
       "      <td>2002</td>\n",
       "      <td>4</td>\n",
       "      <td>...</td>\n",
       "      <td>1</td>\n",
       "      <td>5</td>\n",
       "      <td>1</td>\n",
       "      <td>1</td>\n",
       "      <td>Y</td>\n",
       "      <td>N</td>\n",
       "      <td>31-Dec-01</td>\n",
       "      <td>$52,174.00</td>\n",
       "      <td>$0.00</td>\n",
       "      <td>NaN</td>\n",
       "    </tr>\n",
       "    <tr>\n",
       "      <th>3</th>\n",
       "      <td>a0f1299afe4</td>\n",
       "      <td>1578685008</td>\n",
       "      <td>Rasol Food Corporation</td>\n",
       "      <td>BRONX</td>\n",
       "      <td>NY</td>\n",
       "      <td>JPMORGAN CHASE BANK NATL ASSOC</td>\n",
       "      <td>IL</td>\n",
       "      <td>13-Dec-05</td>\n",
       "      <td>2006</td>\n",
       "      <td>6</td>\n",
       "      <td>...</td>\n",
       "      <td>3</td>\n",
       "      <td>6</td>\n",
       "      <td>0</td>\n",
       "      <td>1</td>\n",
       "      <td>Y</td>\n",
       "      <td>N</td>\n",
       "      <td>31-Jan-06</td>\n",
       "      <td>$194,316.00</td>\n",
       "      <td>$0.00</td>\n",
       "      <td>NaN</td>\n",
       "    </tr>\n",
       "    <tr>\n",
       "      <th>4</th>\n",
       "      <td>e47da0be9fc</td>\n",
       "      <td>7146054004</td>\n",
       "      <td>MCKAY ARCHITECTURE AND DESIGN</td>\n",
       "      <td>NEW YORK</td>\n",
       "      <td>NY</td>\n",
       "      <td>FLUSHING BANK</td>\n",
       "      <td>NY</td>\n",
       "      <td>30-Jan-04</td>\n",
       "      <td>2004</td>\n",
       "      <td>3</td>\n",
       "      <td>...</td>\n",
       "      <td>0</td>\n",
       "      <td>3</td>\n",
       "      <td>1</td>\n",
       "      <td>1</td>\n",
       "      <td>Y</td>\n",
       "      <td>N</td>\n",
       "      <td>29-Feb-04</td>\n",
       "      <td>$75,000.00</td>\n",
       "      <td>$0.00</td>\n",
       "      <td>NaN</td>\n",
       "    </tr>\n",
       "    <tr>\n",
       "      <th>...</th>\n",
       "      <td>...</td>\n",
       "      <td>...</td>\n",
       "      <td>...</td>\n",
       "      <td>...</td>\n",
       "      <td>...</td>\n",
       "      <td>...</td>\n",
       "      <td>...</td>\n",
       "      <td>...</td>\n",
       "      <td>...</td>\n",
       "      <td>...</td>\n",
       "      <td>...</td>\n",
       "      <td>...</td>\n",
       "      <td>...</td>\n",
       "      <td>...</td>\n",
       "      <td>...</td>\n",
       "      <td>...</td>\n",
       "      <td>...</td>\n",
       "      <td>...</td>\n",
       "      <td>...</td>\n",
       "      <td>...</td>\n",
       "      <td>...</td>\n",
       "    </tr>\n",
       "    <tr>\n",
       "      <th>7045</th>\n",
       "      <td>78c2f0067d8</td>\n",
       "      <td>5583904009</td>\n",
       "      <td>NASCO STONEWORKS INC</td>\n",
       "      <td>HUNTINGTON STATION (HUNTINGTON</td>\n",
       "      <td>NY</td>\n",
       "      <td>BANK OF AMERICA NATL ASSOC</td>\n",
       "      <td>RI</td>\n",
       "      <td>2-Aug-02</td>\n",
       "      <td>2002</td>\n",
       "      <td>2</td>\n",
       "      <td>...</td>\n",
       "      <td>0</td>\n",
       "      <td>2</td>\n",
       "      <td>1</td>\n",
       "      <td>1</td>\n",
       "      <td>0</td>\n",
       "      <td>N</td>\n",
       "      <td>31-Oct-02</td>\n",
       "      <td>$30,000.00</td>\n",
       "      <td>$0.00</td>\n",
       "      <td>NaN</td>\n",
       "    </tr>\n",
       "    <tr>\n",
       "      <th>7046</th>\n",
       "      <td>279c7d23eb7</td>\n",
       "      <td>3264695007</td>\n",
       "      <td>Yaworski's, Inc.</td>\n",
       "      <td>ROME</td>\n",
       "      <td>NY</td>\n",
       "      <td>FIRST NIAGARA BANK NATL ASSOC</td>\n",
       "      <td>NY</td>\n",
       "      <td>14-Nov-08</td>\n",
       "      <td>2009</td>\n",
       "      <td>5</td>\n",
       "      <td>...</td>\n",
       "      <td>0</td>\n",
       "      <td>5</td>\n",
       "      <td>0</td>\n",
       "      <td>1</td>\n",
       "      <td>N</td>\n",
       "      <td>N</td>\n",
       "      <td>31-Dec-08</td>\n",
       "      <td>$18.00</td>\n",
       "      <td>$0.00</td>\n",
       "      <td>NaN</td>\n",
       "    </tr>\n",
       "    <tr>\n",
       "      <th>7047</th>\n",
       "      <td>d67af0ec109</td>\n",
       "      <td>1890735004</td>\n",
       "      <td>RAWSON VALLEY FARMS LANDSCAPES</td>\n",
       "      <td>WALWORTH</td>\n",
       "      <td>NY</td>\n",
       "      <td>CITIZENS BANK NATL ASSOC</td>\n",
       "      <td>RI</td>\n",
       "      <td>23-Jun-06</td>\n",
       "      <td>2006</td>\n",
       "      <td>1</td>\n",
       "      <td>...</td>\n",
       "      <td>0</td>\n",
       "      <td>1</td>\n",
       "      <td>0</td>\n",
       "      <td>2</td>\n",
       "      <td>Y</td>\n",
       "      <td>N</td>\n",
       "      <td>31-Aug-06</td>\n",
       "      <td>$23,762.00</td>\n",
       "      <td>$0.00</td>\n",
       "      <td>NaN</td>\n",
       "    </tr>\n",
       "    <tr>\n",
       "      <th>7048</th>\n",
       "      <td>7d2e8114e9a</td>\n",
       "      <td>8939464003</td>\n",
       "      <td>RAJ REALTY PA LLC</td>\n",
       "      <td>BROOKLYN</td>\n",
       "      <td>NY</td>\n",
       "      <td>FIRST NIAGARA BANK NATL ASSOC</td>\n",
       "      <td>NY</td>\n",
       "      <td>20-Jun-05</td>\n",
       "      <td>2005</td>\n",
       "      <td>2</td>\n",
       "      <td>...</td>\n",
       "      <td>0</td>\n",
       "      <td>2</td>\n",
       "      <td>1</td>\n",
       "      <td>1</td>\n",
       "      <td>Y</td>\n",
       "      <td>N</td>\n",
       "      <td>31-Mar-08</td>\n",
       "      <td>$30,000.00</td>\n",
       "      <td>$0.00</td>\n",
       "      <td>NaN</td>\n",
       "    </tr>\n",
       "    <tr>\n",
       "      <th>7049</th>\n",
       "      <td>f479ed04b66</td>\n",
       "      <td>1527695000</td>\n",
       "      <td>Heather Adelle</td>\n",
       "      <td>BROOKLYN</td>\n",
       "      <td>NY</td>\n",
       "      <td>HSBC BK USA NATL ASSOC</td>\n",
       "      <td>VA</td>\n",
       "      <td>3-Nov-05</td>\n",
       "      <td>2006</td>\n",
       "      <td>1</td>\n",
       "      <td>...</td>\n",
       "      <td>0</td>\n",
       "      <td>1</td>\n",
       "      <td>0</td>\n",
       "      <td>1</td>\n",
       "      <td>Y</td>\n",
       "      <td>N</td>\n",
       "      <td>30-Nov-05</td>\n",
       "      <td>$25,247.00</td>\n",
       "      <td>$0.00</td>\n",
       "      <td>NaN</td>\n",
       "    </tr>\n",
       "  </tbody>\n",
       "</table>\n",
       "<p>7050 rows × 21 columns</p>\n",
       "</div>"
      ],
      "text/plain": [
       "               id  LoanNr_ChkDgt                            Name  \\\n",
       "0     63ef5dfc62f     1787644007                   ERIC P. HAILE   \n",
       "1     65ee0569c05     6209123009               TANNING BED, LTD.   \n",
       "2     19058f4da52     5033174010   BREITO COMPUTER SOLUTIONS INC   \n",
       "3     a0f1299afe4     1578685008          Rasol Food Corporation   \n",
       "4     e47da0be9fc     7146054004   MCKAY ARCHITECTURE AND DESIGN   \n",
       "...           ...            ...                             ...   \n",
       "7045  78c2f0067d8     5583904009            NASCO STONEWORKS INC   \n",
       "7046  279c7d23eb7     3264695007                Yaworski's, Inc.   \n",
       "7047  d67af0ec109     1890735004  RAWSON VALLEY FARMS LANDSCAPES   \n",
       "7048  7d2e8114e9a     8939464003               RAJ REALTY PA LLC   \n",
       "7049  f479ed04b66     1527695000                  Heather Adelle   \n",
       "\n",
       "                                City State                            Bank  \\\n",
       "0                           STAFFORD    NY   MANUFACTURERS & TRADERS TR CO   \n",
       "1                        WEST SENECA    NY   MANUFACTURERS & TRADERS TR CO   \n",
       "2             WOOD HAVEN (WOODHAVEN)    NY      BANK OF AMERICA NATL ASSOC   \n",
       "3                              BRONX    NY  JPMORGAN CHASE BANK NATL ASSOC   \n",
       "4                           NEW YORK    NY                   FLUSHING BANK   \n",
       "...                              ...   ...                             ...   \n",
       "7045  HUNTINGTON STATION (HUNTINGTON    NY      BANK OF AMERICA NATL ASSOC   \n",
       "7046                            ROME    NY   FIRST NIAGARA BANK NATL ASSOC   \n",
       "7047                        WALWORTH    NY        CITIZENS BANK NATL ASSOC   \n",
       "7048                        BROOKLYN    NY   FIRST NIAGARA BANK NATL ASSOC   \n",
       "7049                        BROOKLYN    NY          HSBC BK USA NATL ASSOC   \n",
       "\n",
       "     BankState ApprovalDate ApprovalFY  NoEmp  ...  CreateJob  RetainedJob  \\\n",
       "0           NY    16-Jan-98       1998      1  ...          0            0   \n",
       "1           NY     9-Feb-94       1994     81  ...          0            0   \n",
       "2           RI     7-Nov-01       2002      4  ...          1            5   \n",
       "3           IL    13-Dec-05       2006      6  ...          3            6   \n",
       "4           NY    30-Jan-04       2004      3  ...          0            3   \n",
       "...        ...          ...        ...    ...  ...        ...          ...   \n",
       "7045        RI     2-Aug-02       2002      2  ...          0            2   \n",
       "7046        NY    14-Nov-08       2009      5  ...          0            5   \n",
       "7047        RI    23-Jun-06       2006      1  ...          0            1   \n",
       "7048        NY    20-Jun-05       2005      2  ...          0            2   \n",
       "7049        VA     3-Nov-05       2006      1  ...          0            1   \n",
       "\n",
       "      FranchiseCode  UrbanRural  RevLineCr LowDoc DisbursementDate  \\\n",
       "0                 1           0          N      Y         3-Apr-98   \n",
       "1                 1           0          N      N        31-Jul-94   \n",
       "2                 1           1          Y      N        31-Dec-01   \n",
       "3                 0           1          Y      N        31-Jan-06   \n",
       "4                 1           1          Y      N        29-Feb-04   \n",
       "...             ...         ...        ...    ...              ...   \n",
       "7045              1           1          0      N        31-Oct-02   \n",
       "7046              0           1          N      N        31-Dec-08   \n",
       "7047              0           2          Y      N        31-Aug-06   \n",
       "7048              1           1          Y      N        31-Mar-08   \n",
       "7049              0           1          Y      N        30-Nov-05   \n",
       "\n",
       "     DisbursementGross BalanceGross Accept  \n",
       "0          $35,000.00        $0.00     NaN  \n",
       "1         $145,000.00        $0.00     NaN  \n",
       "2          $52,174.00        $0.00     NaN  \n",
       "3         $194,316.00        $0.00     NaN  \n",
       "4          $75,000.00        $0.00     NaN  \n",
       "...                ...          ...    ...  \n",
       "7045       $30,000.00        $0.00     NaN  \n",
       "7046           $18.00        $0.00     NaN  \n",
       "7047       $23,762.00        $0.00     NaN  \n",
       "7048       $30,000.00        $0.00     NaN  \n",
       "7049       $25,247.00        $0.00     NaN  \n",
       "\n",
       "[7050 rows x 21 columns]"
      ]
     },
     "execution_count": 188,
     "metadata": {},
     "output_type": "execute_result"
    }
   ],
   "source": [
    "print(data.shape)\n",
    "print(test.shape)\n",
    "print(original_data.shape)\n",
    "original_data.iloc[40385:,:]"
   ]
  },
  {
   "cell_type": "code",
   "execution_count": 189,
   "id": "eed5ac5b",
   "metadata": {},
   "outputs": [
    {
     "data": {
      "text/html": [
       "<div>\n",
       "<style scoped>\n",
       "    .dataframe tbody tr th:only-of-type {\n",
       "        vertical-align: middle;\n",
       "    }\n",
       "\n",
       "    .dataframe tbody tr th {\n",
       "        vertical-align: top;\n",
       "    }\n",
       "\n",
       "    .dataframe thead th {\n",
       "        text-align: right;\n",
       "    }\n",
       "</style>\n",
       "<table border=\"1\" class=\"dataframe\">\n",
       "  <thead>\n",
       "    <tr style=\"text-align: right;\">\n",
       "      <th></th>\n",
       "      <th>id</th>\n",
       "      <th>NoEmp</th>\n",
       "      <th>NewExist</th>\n",
       "    </tr>\n",
       "  </thead>\n",
       "  <tbody>\n",
       "    <tr>\n",
       "      <th>0</th>\n",
       "      <td>b353a0b461c</td>\n",
       "      <td>20</td>\n",
       "      <td>1.0</td>\n",
       "    </tr>\n",
       "    <tr>\n",
       "      <th>1</th>\n",
       "      <td>cca24bbcc48</td>\n",
       "      <td>3</td>\n",
       "      <td>1.0</td>\n",
       "    </tr>\n",
       "    <tr>\n",
       "      <th>2</th>\n",
       "      <td>e60644381ce</td>\n",
       "      <td>5</td>\n",
       "      <td>1.0</td>\n",
       "    </tr>\n",
       "    <tr>\n",
       "      <th>3</th>\n",
       "      <td>ffca41a2760</td>\n",
       "      <td>25</td>\n",
       "      <td>1.0</td>\n",
       "    </tr>\n",
       "    <tr>\n",
       "      <th>4</th>\n",
       "      <td>79e48255003</td>\n",
       "      <td>6</td>\n",
       "      <td>1.0</td>\n",
       "    </tr>\n",
       "    <tr>\n",
       "      <th>...</th>\n",
       "      <td>...</td>\n",
       "      <td>...</td>\n",
       "      <td>...</td>\n",
       "    </tr>\n",
       "    <tr>\n",
       "      <th>7045</th>\n",
       "      <td>78c2f0067d8</td>\n",
       "      <td>2</td>\n",
       "      <td>1.0</td>\n",
       "    </tr>\n",
       "    <tr>\n",
       "      <th>7046</th>\n",
       "      <td>279c7d23eb7</td>\n",
       "      <td>5</td>\n",
       "      <td>2.0</td>\n",
       "    </tr>\n",
       "    <tr>\n",
       "      <th>7047</th>\n",
       "      <td>d67af0ec109</td>\n",
       "      <td>1</td>\n",
       "      <td>1.0</td>\n",
       "    </tr>\n",
       "    <tr>\n",
       "      <th>7048</th>\n",
       "      <td>7d2e8114e9a</td>\n",
       "      <td>2</td>\n",
       "      <td>1.0</td>\n",
       "    </tr>\n",
       "    <tr>\n",
       "      <th>7049</th>\n",
       "      <td>f479ed04b66</td>\n",
       "      <td>1</td>\n",
       "      <td>2.0</td>\n",
       "    </tr>\n",
       "  </tbody>\n",
       "</table>\n",
       "<p>47435 rows × 3 columns</p>\n",
       "</div>"
      ],
      "text/plain": [
       "               id  NoEmp  NewExist\n",
       "0     b353a0b461c     20       1.0\n",
       "1     cca24bbcc48      3       1.0\n",
       "2     e60644381ce      5       1.0\n",
       "3     ffca41a2760     25       1.0\n",
       "4     79e48255003      6       1.0\n",
       "...           ...    ...       ...\n",
       "7045  78c2f0067d8      2       1.0\n",
       "7046  279c7d23eb7      5       2.0\n",
       "7047  d67af0ec109      1       1.0\n",
       "7048  7d2e8114e9a      2       1.0\n",
       "7049  f479ed04b66      1       2.0\n",
       "\n",
       "[47435 rows x 3 columns]"
      ]
     },
     "execution_count": 189,
     "metadata": {},
     "output_type": "execute_result"
    }
   ],
   "source": [
    "original_data[['id', 'NoEmp', 'NewExist']]"
   ]
  },
  {
   "cell_type": "markdown",
   "id": "5e5035a6",
   "metadata": {},
   "source": [
    "De acuerdo a los datos mostrados, se puede intuir que las variables asociadas a la prediccion del riesgo son:\n",
    "- ApprovalDate y DisbursementDate, ambas determinan la fecha en que la SBA ha aceptado la solicitud y la fecha en que ha concedido el préstamo.\n",
    "- NoEmp, la cantidad de empleados puede determinar que tan grande o pequeña es la empresa.\n",
    "- NewExist, si es una empresa que recién esta empezando su actividad podría afectar la concesión del préstamo.\n",
    "- CreateJob, si se han creado fuentes de empleo puede ser un indicador del crecimiento de la empresa.\n",
    "- RetainedJob, representa la cantidad de empleos a tiempo completo existentes al momento de hacer la solicitud y que se mantendrán en caso de conseguir la aprobación.\n",
    "- FranchiseCode ??\n",
    "- RevLineCr, representa el hecho de que tan pronto como se pague la deuda, la empresa puede volver a pedir prestado hasta su límite de crédito sin pasar por otro proceso de aprobación de préstamo.\n",
    "- LowDoc, de ser verdadero significa que el SBA promete un procesamiento rápido (para montos inferiores a $150,000).\n",
    "- DisbursementGross, la cantidad que se esta solicitando es importante en conjunto con el resto de parámetros para poder determinar la aprobación del préstamo.\n",
    "- Accept, el campo más importante porque indica si se ha cedido o no el préstamo."
   ]
  },
  {
   "cell_type": "markdown",
   "id": "137b3800",
   "metadata": {},
   "source": [
    "##  2º Paso: Limpieza de datos\n",
    "\n",
    "Se eliminarán campos irrelevantes o no necesarios. Para esto se debe analizar los datos numéricos, revisar si hay datos faltantes o nulos y completarlos, y eliminar columnas no necesarias. Luego hacer lo mismo con los no numéricos e incluso cambiar el tipo de dato si así se considera."
   ]
  },
  {
   "cell_type": "code",
   "execution_count": 190,
   "id": "d1968628",
   "metadata": {
    "scrolled": true
   },
   "outputs": [
    {
     "name": "stdout",
     "output_type": "stream",
     "text": [
      "<class 'pandas.core.frame.DataFrame'>\n",
      "Int64Index: 47435 entries, 0 to 7049\n",
      "Data columns (total 21 columns):\n",
      " #   Column             Non-Null Count  Dtype  \n",
      "---  ------             --------------  -----  \n",
      " 0   id                 47435 non-null  object \n",
      " 1   LoanNr_ChkDgt      47435 non-null  int64  \n",
      " 2   Name               47431 non-null  object \n",
      " 3   City               47435 non-null  object \n",
      " 4   State              47435 non-null  object \n",
      " 5   Bank               47382 non-null  object \n",
      " 6   BankState          47380 non-null  object \n",
      " 7   ApprovalDate       47435 non-null  object \n",
      " 8   ApprovalFY         47435 non-null  object \n",
      " 9   NoEmp              47435 non-null  int64  \n",
      " 10  NewExist           47427 non-null  float64\n",
      " 11  CreateJob          47435 non-null  int64  \n",
      " 12  RetainedJob        47435 non-null  int64  \n",
      " 13  FranchiseCode      47435 non-null  int64  \n",
      " 14  UrbanRural         47435 non-null  int64  \n",
      " 15  RevLineCr          47288 non-null  object \n",
      " 16  LowDoc             47376 non-null  object \n",
      " 17  DisbursementDate   47270 non-null  object \n",
      " 18  DisbursementGross  47435 non-null  object \n",
      " 19  BalanceGross       47435 non-null  object \n",
      " 20  Accept             40385 non-null  float64\n",
      "dtypes: float64(2), int64(6), object(13)\n",
      "memory usage: 8.0+ MB\n"
     ]
    }
   ],
   "source": [
    "#Dataframe information from each column\n",
    "original_data.info()"
   ]
  },
  {
   "cell_type": "code",
   "execution_count": 191,
   "id": "12be99bc",
   "metadata": {},
   "outputs": [
    {
     "data": {
      "text/plain": [
       "False"
      ]
     },
     "execution_count": 191,
     "metadata": {},
     "output_type": "execute_result"
    }
   ],
   "source": [
    "#Let's see if there's any duplicate\n",
    "original_data.duplicated().any()"
   ]
  },
  {
   "cell_type": "code",
   "execution_count": 192,
   "id": "3611a1f0",
   "metadata": {},
   "outputs": [
    {
     "data": {
      "text/html": [
       "<div>\n",
       "<style scoped>\n",
       "    .dataframe tbody tr th:only-of-type {\n",
       "        vertical-align: middle;\n",
       "    }\n",
       "\n",
       "    .dataframe tbody tr th {\n",
       "        vertical-align: top;\n",
       "    }\n",
       "\n",
       "    .dataframe thead th {\n",
       "        text-align: right;\n",
       "    }\n",
       "</style>\n",
       "<table border=\"1\" class=\"dataframe\">\n",
       "  <thead>\n",
       "    <tr style=\"text-align: right;\">\n",
       "      <th></th>\n",
       "      <th>LoanNr_ChkDgt</th>\n",
       "      <th>NoEmp</th>\n",
       "      <th>NewExist</th>\n",
       "      <th>CreateJob</th>\n",
       "      <th>RetainedJob</th>\n",
       "      <th>FranchiseCode</th>\n",
       "      <th>UrbanRural</th>\n",
       "      <th>Accept</th>\n",
       "    </tr>\n",
       "  </thead>\n",
       "  <tbody>\n",
       "    <tr>\n",
       "      <th>count</th>\n",
       "      <td>4.743500e+04</td>\n",
       "      <td>47435.000000</td>\n",
       "      <td>47427.000000</td>\n",
       "      <td>47435.000000</td>\n",
       "      <td>47435.000000</td>\n",
       "      <td>47435.000000</td>\n",
       "      <td>47435.000000</td>\n",
       "      <td>40385.000000</td>\n",
       "    </tr>\n",
       "    <tr>\n",
       "      <th>mean</th>\n",
       "      <td>4.419227e+09</td>\n",
       "      <td>9.223548</td>\n",
       "      <td>1.277353</td>\n",
       "      <td>3.843027</td>\n",
       "      <td>6.730895</td>\n",
       "      <td>1208.474881</td>\n",
       "      <td>0.780879</td>\n",
       "      <td>0.796360</td>\n",
       "    </tr>\n",
       "    <tr>\n",
       "      <th>std</th>\n",
       "      <td>2.535700e+09</td>\n",
       "      <td>51.034541</td>\n",
       "      <td>0.450420</td>\n",
       "      <td>140.256254</td>\n",
       "      <td>140.456054</td>\n",
       "      <td>8592.654575</td>\n",
       "      <td>0.583581</td>\n",
       "      <td>0.402709</td>\n",
       "    </tr>\n",
       "    <tr>\n",
       "      <th>min</th>\n",
       "      <td>1.000655e+09</td>\n",
       "      <td>0.000000</td>\n",
       "      <td>0.000000</td>\n",
       "      <td>0.000000</td>\n",
       "      <td>0.000000</td>\n",
       "      <td>0.000000</td>\n",
       "      <td>0.000000</td>\n",
       "      <td>0.000000</td>\n",
       "    </tr>\n",
       "    <tr>\n",
       "      <th>25%</th>\n",
       "      <td>2.255044e+09</td>\n",
       "      <td>2.000000</td>\n",
       "      <td>1.000000</td>\n",
       "      <td>0.000000</td>\n",
       "      <td>0.000000</td>\n",
       "      <td>0.000000</td>\n",
       "      <td>0.000000</td>\n",
       "      <td>1.000000</td>\n",
       "    </tr>\n",
       "    <tr>\n",
       "      <th>50%</th>\n",
       "      <td>3.716385e+09</td>\n",
       "      <td>4.000000</td>\n",
       "      <td>1.000000</td>\n",
       "      <td>0.000000</td>\n",
       "      <td>2.000000</td>\n",
       "      <td>1.000000</td>\n",
       "      <td>1.000000</td>\n",
       "      <td>1.000000</td>\n",
       "    </tr>\n",
       "    <tr>\n",
       "      <th>75%</th>\n",
       "      <td>6.356859e+09</td>\n",
       "      <td>8.000000</td>\n",
       "      <td>2.000000</td>\n",
       "      <td>1.000000</td>\n",
       "      <td>5.000000</td>\n",
       "      <td>1.000000</td>\n",
       "      <td>1.000000</td>\n",
       "      <td>1.000000</td>\n",
       "    </tr>\n",
       "    <tr>\n",
       "      <th>max</th>\n",
       "      <td>9.995413e+09</td>\n",
       "      <td>9999.000000</td>\n",
       "      <td>2.000000</td>\n",
       "      <td>8800.000000</td>\n",
       "      <td>8800.000000</td>\n",
       "      <td>91110.000000</td>\n",
       "      <td>2.000000</td>\n",
       "      <td>1.000000</td>\n",
       "    </tr>\n",
       "  </tbody>\n",
       "</table>\n",
       "</div>"
      ],
      "text/plain": [
       "       LoanNr_ChkDgt         NoEmp      NewExist     CreateJob   RetainedJob  \\\n",
       "count   4.743500e+04  47435.000000  47427.000000  47435.000000  47435.000000   \n",
       "mean    4.419227e+09      9.223548      1.277353      3.843027      6.730895   \n",
       "std     2.535700e+09     51.034541      0.450420    140.256254    140.456054   \n",
       "min     1.000655e+09      0.000000      0.000000      0.000000      0.000000   \n",
       "25%     2.255044e+09      2.000000      1.000000      0.000000      0.000000   \n",
       "50%     3.716385e+09      4.000000      1.000000      0.000000      2.000000   \n",
       "75%     6.356859e+09      8.000000      2.000000      1.000000      5.000000   \n",
       "max     9.995413e+09   9999.000000      2.000000   8800.000000   8800.000000   \n",
       "\n",
       "       FranchiseCode    UrbanRural        Accept  \n",
       "count   47435.000000  47435.000000  40385.000000  \n",
       "mean     1208.474881      0.780879      0.796360  \n",
       "std      8592.654575      0.583581      0.402709  \n",
       "min         0.000000      0.000000      0.000000  \n",
       "25%         0.000000      0.000000      1.000000  \n",
       "50%         1.000000      1.000000      1.000000  \n",
       "75%         1.000000      1.000000      1.000000  \n",
       "max     91110.000000      2.000000      1.000000  "
      ]
     },
     "execution_count": 192,
     "metadata": {},
     "output_type": "execute_result"
    }
   ],
   "source": [
    "#statistics from numeric columns\n",
    "original_data.describe()"
   ]
  },
  {
   "cell_type": "code",
   "execution_count": 193,
   "id": "69807d06",
   "metadata": {},
   "outputs": [
    {
     "data": {
      "text/plain": [
       "id                      0\n",
       "LoanNr_ChkDgt           0\n",
       "Name                    4\n",
       "City                    0\n",
       "State                   0\n",
       "Bank                   53\n",
       "BankState              55\n",
       "ApprovalDate            0\n",
       "ApprovalFY              0\n",
       "NoEmp                   0\n",
       "NewExist                8\n",
       "CreateJob               0\n",
       "RetainedJob             0\n",
       "FranchiseCode           0\n",
       "UrbanRural              0\n",
       "RevLineCr             147\n",
       "LowDoc                 59\n",
       "DisbursementDate      165\n",
       "DisbursementGross       0\n",
       "BalanceGross            0\n",
       "Accept               7050\n",
       "dtype: int64"
      ]
     },
     "execution_count": 193,
     "metadata": {},
     "output_type": "execute_result"
    }
   ],
   "source": [
    "#and null or missing values\n",
    "original_data.isnull().sum()"
   ]
  },
  {
   "cell_type": "code",
   "execution_count": 194,
   "id": "9fdc67f5",
   "metadata": {},
   "outputs": [
    {
     "data": {
      "text/plain": [
       "NewExist\n",
       "0.0       58\n",
       "1.0    34157\n",
       "2.0    13212\n",
       "dtype: int64"
      ]
     },
     "execution_count": 194,
     "metadata": {},
     "output_type": "execute_result"
    }
   ],
   "source": [
    "#Fill the missing numeric values with the most repeated\n",
    "df = original_data.copy()\n",
    "df.groupby('NewExist').size()"
   ]
  },
  {
   "cell_type": "code",
   "execution_count": 195,
   "id": "e1c3d5a1",
   "metadata": {},
   "outputs": [
    {
     "data": {
      "text/plain": [
       "False"
      ]
     },
     "execution_count": 195,
     "metadata": {},
     "output_type": "execute_result"
    }
   ],
   "source": [
    "df['NewExist'] = df['NewExist'].fillna(1.0)\n",
    "df['NewExist'].isnull().any()"
   ]
  },
  {
   "cell_type": "markdown",
   "id": "aff56ba4",
   "metadata": {},
   "source": [
    "Se elimina la columna LoanNr_ChkDgt porque es un identificador de la solicitud del préstamo y no aporta información relevante para determinar el riesgo.\n"
   ]
  },
  {
   "cell_type": "code",
   "execution_count": 196,
   "id": "978128c8",
   "metadata": {},
   "outputs": [],
   "source": [
    "df.drop(['LoanNr_ChkDgt'], axis=1, inplace=True)"
   ]
  },
  {
   "cell_type": "markdown",
   "id": "633d2ce6",
   "metadata": {},
   "source": [
    "Al revisar los datos no numéricos, se considera que las siguientes columnas no son consideradas como relevantes al momento de determinar el riesgo ya que aportan solamente información complementaria de la solicitud:\n",
    "- Name\n",
    "- City\n",
    "- State\n",
    "- Bank\n",
    "- BankState\n",
    "- ApprovalFY\n",
    "\n",
    "Así mismo, para RevLineCr y LowDoc se va a reemplazar los nulos por el valor que más se repita."
   ]
  },
  {
   "cell_type": "code",
   "execution_count": 197,
   "id": "060d6928",
   "metadata": {},
   "outputs": [
    {
     "name": "stdout",
     "output_type": "stream",
     "text": [
      "<class 'pandas.core.frame.DataFrame'>\n",
      "Int64Index: 47435 entries, 0 to 7049\n",
      "Data columns (total 14 columns):\n",
      " #   Column             Non-Null Count  Dtype  \n",
      "---  ------             --------------  -----  \n",
      " 0   id                 47435 non-null  object \n",
      " 1   ApprovalDate       47435 non-null  object \n",
      " 2   NoEmp              47435 non-null  int64  \n",
      " 3   NewExist           47435 non-null  float64\n",
      " 4   CreateJob          47435 non-null  int64  \n",
      " 5   RetainedJob        47435 non-null  int64  \n",
      " 6   FranchiseCode      47435 non-null  int64  \n",
      " 7   UrbanRural         47435 non-null  int64  \n",
      " 8   RevLineCr          47288 non-null  object \n",
      " 9   LowDoc             47376 non-null  object \n",
      " 10  DisbursementDate   47270 non-null  object \n",
      " 11  DisbursementGross  47435 non-null  object \n",
      " 12  BalanceGross       47435 non-null  object \n",
      " 13  Accept             40385 non-null  float64\n",
      "dtypes: float64(2), int64(5), object(7)\n",
      "memory usage: 5.4+ MB\n"
     ]
    }
   ],
   "source": [
    "df.drop(['Name', 'City', 'State', 'Bank', 'BankState', 'ApprovalFY'], axis=1, inplace=True)\n",
    "df.info()"
   ]
  },
  {
   "cell_type": "code",
   "execution_count": 198,
   "id": "d5ecd8fc",
   "metadata": {},
   "outputs": [
    {
     "data": {
      "text/plain": [
       "LowDoc\n",
       "0       13\n",
       "A       13\n",
       "C       16\n",
       "N    43131\n",
       "R        2\n",
       "S       11\n",
       "Y     4190\n",
       "dtype: int64"
      ]
     },
     "execution_count": 198,
     "metadata": {},
     "output_type": "execute_result"
    }
   ],
   "source": [
    "df.groupby('LowDoc').size()"
   ]
  },
  {
   "cell_type": "code",
   "execution_count": 199,
   "id": "b288447e",
   "metadata": {},
   "outputs": [
    {
     "data": {
      "text/plain": [
       "False"
      ]
     },
     "execution_count": 199,
     "metadata": {},
     "output_type": "execute_result"
    }
   ],
   "source": [
    "df['LowDoc'].fillna('N', inplace=True)\n",
    "df['LowDoc'].isnull().any()"
   ]
  },
  {
   "cell_type": "code",
   "execution_count": 200,
   "id": "7cea37fc",
   "metadata": {},
   "outputs": [
    {
     "data": {
      "text/plain": [
       "RevLineCr\n",
       "0    10051\n",
       "N    20383\n",
       "T      955\n",
       "Y    15899\n",
       "dtype: int64"
      ]
     },
     "execution_count": 200,
     "metadata": {},
     "output_type": "execute_result"
    }
   ],
   "source": [
    "df.groupby('RevLineCr').size()"
   ]
  },
  {
   "cell_type": "code",
   "execution_count": 201,
   "id": "1b927936",
   "metadata": {},
   "outputs": [
    {
     "data": {
      "text/plain": [
       "False"
      ]
     },
     "execution_count": 201,
     "metadata": {},
     "output_type": "execute_result"
    }
   ],
   "source": [
    "df['RevLineCr'].fillna('N', inplace=True)\n",
    "df['RevLineCr'].isnull().any()"
   ]
  },
  {
   "cell_type": "code",
   "execution_count": 202,
   "id": "9f82ce15",
   "metadata": {},
   "outputs": [
    {
     "data": {
      "text/plain": [
       "BalanceGross\n",
       "$0.00     47435\n",
       "dtype: int64"
      ]
     },
     "execution_count": 202,
     "metadata": {},
     "output_type": "execute_result"
    }
   ],
   "source": [
    "#Let's see the column BalanceGross because it seems that it's not as relevant as it was thought\n",
    "df.groupby('BalanceGross').size()"
   ]
  },
  {
   "cell_type": "code",
   "execution_count": 203,
   "id": "0cf5402c",
   "metadata": {},
   "outputs": [],
   "source": [
    "#So, let's drop it\n",
    "df.drop(['BalanceGross'], axis=1, inplace=True)"
   ]
  },
  {
   "cell_type": "markdown",
   "id": "30e64487",
   "metadata": {},
   "source": [
    "Luego, convertimos el tipo de dato como se muestra a continuación:\n",
    "- id, object -> string\n",
    "- ApprovalDate y DisbursementDate, object -> string\n",
    "- NewExists, float64 -> int64\n",
    "- RevLineCr, object -> int64\n",
    "- LowDoc, object -> int64\n",
    "- DisbursementGross, object -> float64"
   ]
  },
  {
   "cell_type": "code",
   "execution_count": 204,
   "id": "4c90d9b0",
   "metadata": {},
   "outputs": [],
   "source": [
    "df['id'] = df['id'].astype(str)\n",
    "\n",
    "df['ApprovalDate'] = df['ApprovalDate'].astype(str)\n",
    "\n",
    "df['DisbursementDate'] = df['DisbursementDate'].astype(str)\n",
    "\n",
    "df.loc[df[\"RevLineCr\"] == \"N\", \"RevLineCr\"] = 0\n",
    "df.loc[df[\"RevLineCr\"] == \"0\", \"RevLineCr\"] = 0\n",
    "df.loc[df[\"RevLineCr\"] == \"T\", \"RevLineCr\"] = 0\n",
    "df.loc[df[\"RevLineCr\"] == \"Y\", \"RevLineCr\"] = 1\n",
    "df['RevLineCr'] = df['RevLineCr'].astype(np.int64)\n",
    "\n",
    "df.loc[df[\"LowDoc\"] == \"N\", \"LowDoc\"] = 0\n",
    "df.loc[df[\"LowDoc\"] == \"0\", \"LowDoc\"] = 0\n",
    "df.loc[df[\"LowDoc\"] == \"A\", \"LowDoc\"] = 0\n",
    "df.loc[df[\"LowDoc\"] == \"C\", \"LowDoc\"] = 0\n",
    "df.loc[df[\"LowDoc\"] == \"R\", \"LowDoc\"] = 0\n",
    "df.loc[df[\"LowDoc\"] == \"S\", \"LowDoc\"] = 0\n",
    "df.loc[df[\"LowDoc\"] == \"Y\", \"LowDoc\"] = 0\n",
    "df['LowDoc'] = df['LowDoc'].astype(np.int64)\n",
    "\n",
    "df[\"DisbursementGross\"] = df[\"DisbursementGross\"].astype(str)\n",
    "df[\"DisbursementGross\"] = df[\"DisbursementGross\"].apply(lambda x: x[1:])\n",
    "df[\"DisbursementGross\"] = df[\"DisbursementGross\"].apply(lambda s: s.strip())\n",
    "df[\"DisbursementGross\"] = df[\"DisbursementGross\"].replace({',':''}, regex=True)\n",
    "df.loc[df[\"DisbursementGross\"] == \"\", \"DisbursementGross\"] = 0\n",
    "df[\"DisbursementGross\"] = df[\"DisbursementGross\"].astype(float)"
   ]
  },
  {
   "cell_type": "code",
   "execution_count": 205,
   "id": "e6ee1208",
   "metadata": {},
   "outputs": [
    {
     "name": "stdout",
     "output_type": "stream",
     "text": [
      "<class 'pandas.core.frame.DataFrame'>\n",
      "Int64Index: 47435 entries, 0 to 7049\n",
      "Data columns (total 13 columns):\n",
      " #   Column             Non-Null Count  Dtype  \n",
      "---  ------             --------------  -----  \n",
      " 0   id                 47435 non-null  object \n",
      " 1   ApprovalDate       47435 non-null  object \n",
      " 2   NoEmp              47435 non-null  int64  \n",
      " 3   NewExist           47435 non-null  float64\n",
      " 4   CreateJob          47435 non-null  int64  \n",
      " 5   RetainedJob        47435 non-null  int64  \n",
      " 6   FranchiseCode      47435 non-null  int64  \n",
      " 7   UrbanRural         47435 non-null  int64  \n",
      " 8   RevLineCr          47435 non-null  int64  \n",
      " 9   LowDoc             47435 non-null  int64  \n",
      " 10  DisbursementDate   47435 non-null  object \n",
      " 11  DisbursementGross  47435 non-null  float64\n",
      " 12  Accept             40385 non-null  float64\n",
      "dtypes: float64(3), int64(7), object(3)\n",
      "memory usage: 5.1+ MB\n"
     ]
    },
    {
     "data": {
      "text/html": [
       "<div>\n",
       "<style scoped>\n",
       "    .dataframe tbody tr th:only-of-type {\n",
       "        vertical-align: middle;\n",
       "    }\n",
       "\n",
       "    .dataframe tbody tr th {\n",
       "        vertical-align: top;\n",
       "    }\n",
       "\n",
       "    .dataframe thead th {\n",
       "        text-align: right;\n",
       "    }\n",
       "</style>\n",
       "<table border=\"1\" class=\"dataframe\">\n",
       "  <thead>\n",
       "    <tr style=\"text-align: right;\">\n",
       "      <th></th>\n",
       "      <th>id</th>\n",
       "      <th>ApprovalDate</th>\n",
       "      <th>NoEmp</th>\n",
       "      <th>NewExist</th>\n",
       "      <th>CreateJob</th>\n",
       "      <th>RetainedJob</th>\n",
       "      <th>FranchiseCode</th>\n",
       "      <th>UrbanRural</th>\n",
       "      <th>RevLineCr</th>\n",
       "      <th>LowDoc</th>\n",
       "      <th>DisbursementDate</th>\n",
       "      <th>DisbursementGross</th>\n",
       "      <th>Accept</th>\n",
       "    </tr>\n",
       "  </thead>\n",
       "  <tbody>\n",
       "    <tr>\n",
       "      <th>0</th>\n",
       "      <td>b353a0b461c</td>\n",
       "      <td>21-Dec-88</td>\n",
       "      <td>20</td>\n",
       "      <td>1.0</td>\n",
       "      <td>0</td>\n",
       "      <td>0</td>\n",
       "      <td>0</td>\n",
       "      <td>0</td>\n",
       "      <td>0</td>\n",
       "      <td>0</td>\n",
       "      <td>30-Apr-89</td>\n",
       "      <td>350000.0</td>\n",
       "      <td>1.0</td>\n",
       "    </tr>\n",
       "    <tr>\n",
       "      <th>1</th>\n",
       "      <td>cca24bbcc48</td>\n",
       "      <td>23-Mar-07</td>\n",
       "      <td>3</td>\n",
       "      <td>1.0</td>\n",
       "      <td>1</td>\n",
       "      <td>4</td>\n",
       "      <td>0</td>\n",
       "      <td>2</td>\n",
       "      <td>0</td>\n",
       "      <td>0</td>\n",
       "      <td>30-Apr-07</td>\n",
       "      <td>35000.0</td>\n",
       "      <td>1.0</td>\n",
       "    </tr>\n",
       "    <tr>\n",
       "      <th>2</th>\n",
       "      <td>e60644381ce</td>\n",
       "      <td>9-Jan-03</td>\n",
       "      <td>5</td>\n",
       "      <td>1.0</td>\n",
       "      <td>0</td>\n",
       "      <td>5</td>\n",
       "      <td>1</td>\n",
       "      <td>1</td>\n",
       "      <td>0</td>\n",
       "      <td>0</td>\n",
       "      <td>31-Jan-03</td>\n",
       "      <td>50000.0</td>\n",
       "      <td>1.0</td>\n",
       "    </tr>\n",
       "    <tr>\n",
       "      <th>3</th>\n",
       "      <td>ffca41a2760</td>\n",
       "      <td>10-Nov-93</td>\n",
       "      <td>25</td>\n",
       "      <td>1.0</td>\n",
       "      <td>0</td>\n",
       "      <td>0</td>\n",
       "      <td>1</td>\n",
       "      <td>0</td>\n",
       "      <td>0</td>\n",
       "      <td>0</td>\n",
       "      <td>31-Jan-94</td>\n",
       "      <td>190000.0</td>\n",
       "      <td>1.0</td>\n",
       "    </tr>\n",
       "    <tr>\n",
       "      <th>4</th>\n",
       "      <td>79e48255003</td>\n",
       "      <td>14-Aug-03</td>\n",
       "      <td>6</td>\n",
       "      <td>1.0</td>\n",
       "      <td>0</td>\n",
       "      <td>0</td>\n",
       "      <td>1</td>\n",
       "      <td>1</td>\n",
       "      <td>0</td>\n",
       "      <td>0</td>\n",
       "      <td>30-Sep-03</td>\n",
       "      <td>30000.0</td>\n",
       "      <td>1.0</td>\n",
       "    </tr>\n",
       "    <tr>\n",
       "      <th>...</th>\n",
       "      <td>...</td>\n",
       "      <td>...</td>\n",
       "      <td>...</td>\n",
       "      <td>...</td>\n",
       "      <td>...</td>\n",
       "      <td>...</td>\n",
       "      <td>...</td>\n",
       "      <td>...</td>\n",
       "      <td>...</td>\n",
       "      <td>...</td>\n",
       "      <td>...</td>\n",
       "      <td>...</td>\n",
       "      <td>...</td>\n",
       "    </tr>\n",
       "    <tr>\n",
       "      <th>7045</th>\n",
       "      <td>78c2f0067d8</td>\n",
       "      <td>2-Aug-02</td>\n",
       "      <td>2</td>\n",
       "      <td>1.0</td>\n",
       "      <td>0</td>\n",
       "      <td>2</td>\n",
       "      <td>1</td>\n",
       "      <td>1</td>\n",
       "      <td>0</td>\n",
       "      <td>0</td>\n",
       "      <td>31-Oct-02</td>\n",
       "      <td>30000.0</td>\n",
       "      <td>NaN</td>\n",
       "    </tr>\n",
       "    <tr>\n",
       "      <th>7046</th>\n",
       "      <td>279c7d23eb7</td>\n",
       "      <td>14-Nov-08</td>\n",
       "      <td>5</td>\n",
       "      <td>2.0</td>\n",
       "      <td>0</td>\n",
       "      <td>5</td>\n",
       "      <td>0</td>\n",
       "      <td>1</td>\n",
       "      <td>0</td>\n",
       "      <td>0</td>\n",
       "      <td>31-Dec-08</td>\n",
       "      <td>18.0</td>\n",
       "      <td>NaN</td>\n",
       "    </tr>\n",
       "    <tr>\n",
       "      <th>7047</th>\n",
       "      <td>d67af0ec109</td>\n",
       "      <td>23-Jun-06</td>\n",
       "      <td>1</td>\n",
       "      <td>1.0</td>\n",
       "      <td>0</td>\n",
       "      <td>1</td>\n",
       "      <td>0</td>\n",
       "      <td>2</td>\n",
       "      <td>1</td>\n",
       "      <td>0</td>\n",
       "      <td>31-Aug-06</td>\n",
       "      <td>23762.0</td>\n",
       "      <td>NaN</td>\n",
       "    </tr>\n",
       "    <tr>\n",
       "      <th>7048</th>\n",
       "      <td>7d2e8114e9a</td>\n",
       "      <td>20-Jun-05</td>\n",
       "      <td>2</td>\n",
       "      <td>1.0</td>\n",
       "      <td>0</td>\n",
       "      <td>2</td>\n",
       "      <td>1</td>\n",
       "      <td>1</td>\n",
       "      <td>1</td>\n",
       "      <td>0</td>\n",
       "      <td>31-Mar-08</td>\n",
       "      <td>30000.0</td>\n",
       "      <td>NaN</td>\n",
       "    </tr>\n",
       "    <tr>\n",
       "      <th>7049</th>\n",
       "      <td>f479ed04b66</td>\n",
       "      <td>3-Nov-05</td>\n",
       "      <td>1</td>\n",
       "      <td>2.0</td>\n",
       "      <td>0</td>\n",
       "      <td>1</td>\n",
       "      <td>0</td>\n",
       "      <td>1</td>\n",
       "      <td>1</td>\n",
       "      <td>0</td>\n",
       "      <td>30-Nov-05</td>\n",
       "      <td>25247.0</td>\n",
       "      <td>NaN</td>\n",
       "    </tr>\n",
       "  </tbody>\n",
       "</table>\n",
       "<p>47435 rows × 13 columns</p>\n",
       "</div>"
      ],
      "text/plain": [
       "               id ApprovalDate  NoEmp  NewExist  CreateJob  RetainedJob  \\\n",
       "0     b353a0b461c    21-Dec-88     20       1.0          0            0   \n",
       "1     cca24bbcc48    23-Mar-07      3       1.0          1            4   \n",
       "2     e60644381ce     9-Jan-03      5       1.0          0            5   \n",
       "3     ffca41a2760    10-Nov-93     25       1.0          0            0   \n",
       "4     79e48255003    14-Aug-03      6       1.0          0            0   \n",
       "...           ...          ...    ...       ...        ...          ...   \n",
       "7045  78c2f0067d8     2-Aug-02      2       1.0          0            2   \n",
       "7046  279c7d23eb7    14-Nov-08      5       2.0          0            5   \n",
       "7047  d67af0ec109    23-Jun-06      1       1.0          0            1   \n",
       "7048  7d2e8114e9a    20-Jun-05      2       1.0          0            2   \n",
       "7049  f479ed04b66     3-Nov-05      1       2.0          0            1   \n",
       "\n",
       "      FranchiseCode  UrbanRural  RevLineCr  LowDoc DisbursementDate  \\\n",
       "0                 0           0          0       0        30-Apr-89   \n",
       "1                 0           2          0       0        30-Apr-07   \n",
       "2                 1           1          0       0        31-Jan-03   \n",
       "3                 1           0          0       0        31-Jan-94   \n",
       "4                 1           1          0       0        30-Sep-03   \n",
       "...             ...         ...        ...     ...              ...   \n",
       "7045              1           1          0       0        31-Oct-02   \n",
       "7046              0           1          0       0        31-Dec-08   \n",
       "7047              0           2          1       0        31-Aug-06   \n",
       "7048              1           1          1       0        31-Mar-08   \n",
       "7049              0           1          1       0        30-Nov-05   \n",
       "\n",
       "      DisbursementGross  Accept  \n",
       "0              350000.0     1.0  \n",
       "1               35000.0     1.0  \n",
       "2               50000.0     1.0  \n",
       "3              190000.0     1.0  \n",
       "4               30000.0     1.0  \n",
       "...                 ...     ...  \n",
       "7045            30000.0     NaN  \n",
       "7046               18.0     NaN  \n",
       "7047            23762.0     NaN  \n",
       "7048            30000.0     NaN  \n",
       "7049            25247.0     NaN  \n",
       "\n",
       "[47435 rows x 13 columns]"
      ]
     },
     "execution_count": 205,
     "metadata": {},
     "output_type": "execute_result"
    }
   ],
   "source": [
    "df.info()\n",
    "df.isnull().any()\n",
    "df"
   ]
  },
  {
   "cell_type": "code",
   "execution_count": 206,
   "id": "b8931cc8",
   "metadata": {},
   "outputs": [
    {
     "data": {
      "image/png": "[encoded data removed]",
      "text/plain": [
       "<Figure size 720x720 with 12 Axes>"
      ]
     },
     "metadata": {
      "needs_background": "light"
     },
     "output_type": "display_data"
    }
   ],
   "source": [
    "%matplotlib inline\n",
    "df.hist(figsize=(10,10))\n",
    "plt.show()"
   ]
  },
  {
   "cell_type": "markdown",
   "id": "a8d848e4",
   "metadata": {},
   "source": [
    "# 3º Paso: Algoritmo ML\n",
    "El algoritmo secreto es Bernoulli Naive Bayes\n",
    "\n",
    "## Train and test splitting"
   ]
  },
  {
   "cell_type": "code",
   "execution_count": 222,
   "id": "c6fec0e9",
   "metadata": {},
   "outputs": [],
   "source": [
    "# Features of the model\n",
    "features = ['NoEmp', 'NewExist', 'CreateJob', 'RetainedJob', 'FranchiseCode', 'UrbanRural', 'RevLineCr','LowDoc','DisbursementGross']\n",
    "# Transform dataframe in numpy arrays and split\n",
    "train_data = df.iloc[:40385,:]\n",
    "X_train = train_data[features].values\n",
    "y_train = train_data['Accept'].values\n",
    "\n",
    "test_data = df.iloc[40385:,:]\n",
    "ids = test_data['id'].values\n",
    "X_test = test_data[features].values\n",
    "\n",
    "sample_submission = pd.read_csv('data_reto_1/sample_submission.csv')\n",
    "y_test = sample_submission['Accept'].values\n",
    "\n",
    "#ids_train, ids_test, X_train, X_test, y_train, y_test = train_test_split(ids, X, y, test_size=7050, random_state=33)"
   ]
  },
  {
   "cell_type": "markdown",
   "id": "71564302",
   "metadata": {},
   "source": [
    "## Define model"
   ]
  },
  {
   "cell_type": "code",
   "execution_count": 261,
   "id": "8d481fff",
   "metadata": {},
   "outputs": [],
   "source": [
    "alpha = 0.01\n",
    "binarize = 0.0\n",
    "fit_prior = False\n",
    "class_prior = None\n",
    "model = BernoulliNB(alpha=alpha, binarize=binarize, fit_prior=fit_prior, class_prior=class_prior)"
   ]
  },
  {
   "cell_type": "markdown",
   "id": "e725ff3d",
   "metadata": {},
   "source": [
    "## Train and evaluate"
   ]
  },
  {
   "cell_type": "code",
   "execution_count": 262,
   "id": "6f055199",
   "metadata": {},
   "outputs": [],
   "source": [
    "#This step will take some time\n",
    "\n",
    "model.fit(X_train, y_train)\n",
    "\n",
    "predicted = model.predict(X_test)\n",
    "expected = y_test"
   ]
  },
  {
   "cell_type": "code",
   "execution_count": 263,
   "id": "2396dfd2",
   "metadata": {},
   "outputs": [
    {
     "data": {
      "text/plain": [
       "0.4998581560283688"
      ]
     },
     "execution_count": 263,
     "metadata": {},
     "output_type": "execute_result"
    }
   ],
   "source": [
    "# Accuracy\n",
    "metrics.accuracy_score(expected, predicted)"
   ]
  },
  {
   "cell_type": "code",
   "execution_count": 264,
   "id": "e876b10b",
   "metadata": {},
   "outputs": [
    {
     "data": {
      "text/plain": [
       "1    3575\n",
       "0    3475\n",
       "dtype: int64"
      ]
     },
     "execution_count": 264,
     "metadata": {},
     "output_type": "execute_result"
    }
   ],
   "source": [
    "# Count number of samples per class\n",
    "s_y_test = Series(y_test)\n",
    "s_y_test.value_counts()"
   ]
  },
  {
   "cell_type": "code",
   "execution_count": 265,
   "id": "e5d2454f",
   "metadata": {},
   "outputs": [
    {
     "name": "stdout",
     "output_type": "stream",
     "text": [
      "[[2121 1354]\n",
      " [2172 1403]]\n"
     ]
    }
   ],
   "source": [
    "# Confusion matrix\n",
    "print(metrics.confusion_matrix(expected, predicted))"
   ]
  },
  {
   "cell_type": "code",
   "execution_count": 266,
   "id": "acb58ef3",
   "metadata": {},
   "outputs": [
    {
     "name": "stdout",
     "output_type": "stream",
     "text": [
      "              precision    recall  f1-score   support\n",
      "\n",
      "           0       0.49      0.61      0.55      3475\n",
      "           1       0.51      0.39      0.44      3575\n",
      "\n",
      "    accuracy                           0.50      7050\n",
      "   macro avg       0.50      0.50      0.49      7050\n",
      "weighted avg       0.50      0.50      0.49      7050\n",
      "\n"
     ]
    }
   ],
   "source": [
    "# Report\n",
    "print(classification_report(expected, predicted))"
   ]
  },
  {
   "cell_type": "markdown",
   "id": "639872f1",
   "metadata": {},
   "source": [
    "## 4º Paso: Entrega"
   ]
  },
  {
   "cell_type": "code",
   "execution_count": 267,
   "id": "0835be0c",
   "metadata": {},
   "outputs": [],
   "source": [
    "submission = pd.DataFrame(predicted.astype(int), index=ids, columns=['Accept'])\n",
    "submission.index.name=\"id\"\n",
    "submission.to_csv(r'C:\\Users\\Usuario\\OneDrive - Universidad Politécnica de Madrid\\Clases\\2 Cuatrimestre\\ABID\\KaggleChallenge\\notebook\\submission.csv', index=True)"
   ]
  },
  {
   "cell_type": "code",
   "execution_count": 216,
   "id": "a633c533",
   "metadata": {},
   "outputs": [
    {
     "data": {
      "text/plain": [
       "7050"
      ]
     },
     "execution_count": 216,
     "metadata": {},
     "output_type": "execute_result"
    }
   ],
   "source": [
    "len(ids)"
   ]
  }
 ],
 "metadata": {
  "kernelspec": {
   "display_name": "Python 3",
   "language": "python",
   "name": "python3"
  },
  "language_info": {
   "codemirror_mode": {
    "name": "ipython",
    "version": 3
   },
   "file_extension": ".py",
   "mimetype": "text/x-python",
   "name": "python",
   "nbconvert_exporter": "python",
   "pygments_lexer": "ipython3",
   "version": "3.8.8"
  }
 },
 "nbformat": 4,
 "nbformat_minor": 5
}
