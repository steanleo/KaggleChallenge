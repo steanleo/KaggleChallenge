{
 "cells": [
  {
   "cell_type": "markdown",
   "metadata": {},
   "source": [
    "![](images/EscUpmPolit_p.gif \"UPM\")"
   ]
  },
  {
   "cell_type": "markdown",
   "metadata": {},
   "source": [
    "# Kaggle Challenge\n",
    "## Loan Approval Prediction - New York\n",
    "El reto consiste en aplicar algoritmos de Machine Learning para predecir la emisión de créditos a un cliente en función de un dataset de entrada para el entrenamiento correspondiente.\n",
    "\n",
    "El dataset está formado por los siguientes campos:\n",
    "\n",
    "- id # Text # Identifier of the data instance\n",
    "- LoanNr_ChkDgt # Text # Identifier of the loan petition\n",
    "- Name # Text # Borrower name\n",
    "- City # Text # Borrower city\n",
    "- State # Text # Borrower state\n",
    "- Bank # Text # Bank name\n",
    "- BankState # Text # Bank state\n",
    "- ApprovalDate # Date/Time # Date SBA commitment issued\n",
    "- ApprovalFY # Text # Fiscal year of commitment\n",
    "- NoEmp # Number # Number of business employees\n",
    "- NewExist # Text # 1 = Existing business, 2 = New business\n",
    "- CreateJob # Number # Number of jobs created\n",
    "- RetainedJob # Number # Number of jobs retained\n",
    "- FranchiseCode # Text # Franchise code, (00000 or 00001) = No franchise\n",
    "- UrbanRural # Text # 1 = Urban, 2 = rural, 0 = undefined\n",
    "- RevLineCr # Text # Revolving line of credit: Y = Yes, N = No\n",
    "- LowDoc # Text # LowDoc Loan Program: Y = Yes, N = No\n",
    "- DisbursementDate # Date/Time # Disbursement date\n",
    "- DisbursementGross # Currency # Amount disbursed\n",
    "- BalanceGross # Currency # Gross amount outstanding\n",
    "- Accept # Text # Loan approval status. 0 = not approved, 1 = approved\n"
   ]
  },
  {
   "cell_type": "markdown",
   "metadata": {},
   "source": [
    "## 1. Importar datos\n",
    "\n",
    "Para iniciar, se establecen las librerias a utilizar y luego se importan los datos desde el csv usando pandas. Se definen tres dataframes:\n",
    "- train, contiene la información para el entrenamiento\n",
    "- test, contiene la información para la predicción"
   ]
  },
  {
   "cell_type": "code",
   "execution_count": 156,
   "metadata": {
    "execution": {
     "iopub.execute_input": "2022-04-13T11:32:22.853478Z",
     "iopub.status.busy": "2022-04-13T11:32:22.85259Z",
     "iopub.status.idle": "2022-04-13T11:32:24.18097Z",
     "shell.execute_reply": "2022-04-13T11:32:24.179873Z",
     "shell.execute_reply.started": "2022-04-13T11:32:22.853351Z"
    }
   },
   "outputs": [],
   "source": [
    "from datetime import datetime\n",
    "import numpy as np\n",
    "import pandas as pd\n",
    "from pandas import Series, DataFrame\n",
    "\n",
    "# Training and test spliting\n",
    "from sklearn.model_selection import train_test_split, KFold\n",
    "\n",
    "# Estimators\n",
    "from sklearn.svm import SVC, LinearSVC\n",
    "from sklearn.neighbors import KNeighborsClassifier\n",
    "from sklearn.ensemble import RandomForestClassifier\n",
    "from sklearn.naive_bayes import BernoulliNB\n",
    "\n",
    "# Evaluation\n",
    "from sklearn import metrics\n",
    "from sklearn.metrics import confusion_matrix, classification_report, f1_score, accuracy_score\n",
    "from sklearn.metrics import roc_curve\n",
    "from sklearn.metrics import roc_auc_score\n",
    "\n",
    "# Optimization\n",
    "from sklearn.model_selection import GridSearchCV\n",
    "\n",
    "# Visualisation\n",
    "import seaborn as sns\n",
    "import matplotlib.pyplot as plt\n",
    "sns.set(color_codes=True)"
   ]
  },
  {
   "cell_type": "code",
   "execution_count": 157,
   "metadata": {
    "execution": {
     "iopub.execute_input": "2022-04-13T11:32:25.787966Z",
     "iopub.status.busy": "2022-04-13T11:32:25.787542Z",
     "iopub.status.idle": "2022-04-13T11:32:26.216371Z",
     "shell.execute_reply": "2022-04-13T11:32:26.215718Z",
     "shell.execute_reply.started": "2022-04-13T11:32:25.787942Z"
    }
   },
   "outputs": [
    {
     "name": "stderr",
     "output_type": "stream",
     "text": [
      "C:\\Users\\leotoast\\Anaconda3\\lib\\site-packages\\IPython\\core\\interactiveshell.py:3444: DtypeWarning: Columns (8) have mixed types.Specify dtype option on import or set low_memory=False.\n",
      "  exec(code_obj, self.user_global_ns, self.user_ns)\n"
     ]
    },
    {
     "data": {
      "text/html": [
       "<div>\n",
       "<style scoped>\n",
       "    .dataframe tbody tr th:only-of-type {\n",
       "        vertical-align: middle;\n",
       "    }\n",
       "\n",
       "    .dataframe tbody tr th {\n",
       "        vertical-align: top;\n",
       "    }\n",
       "\n",
       "    .dataframe thead th {\n",
       "        text-align: right;\n",
       "    }\n",
       "</style>\n",
       "<table border=\"1\" class=\"dataframe\">\n",
       "  <thead>\n",
       "    <tr style=\"text-align: right;\">\n",
       "      <th></th>\n",
       "      <th>id</th>\n",
       "      <th>LoanNr_ChkDgt</th>\n",
       "      <th>Name</th>\n",
       "      <th>City</th>\n",
       "      <th>State</th>\n",
       "      <th>Bank</th>\n",
       "      <th>BankState</th>\n",
       "      <th>ApprovalDate</th>\n",
       "      <th>ApprovalFY</th>\n",
       "      <th>NoEmp</th>\n",
       "      <th>...</th>\n",
       "      <th>CreateJob</th>\n",
       "      <th>RetainedJob</th>\n",
       "      <th>FranchiseCode</th>\n",
       "      <th>UrbanRural</th>\n",
       "      <th>RevLineCr</th>\n",
       "      <th>LowDoc</th>\n",
       "      <th>DisbursementDate</th>\n",
       "      <th>DisbursementGross</th>\n",
       "      <th>BalanceGross</th>\n",
       "      <th>Accept</th>\n",
       "    </tr>\n",
       "  </thead>\n",
       "  <tbody>\n",
       "    <tr>\n",
       "      <th>0</th>\n",
       "      <td>b353a0b461c</td>\n",
       "      <td>3354343008</td>\n",
       "      <td>TOGETHER GARGOYLES, INC.</td>\n",
       "      <td>BROOKLYN</td>\n",
       "      <td>NY</td>\n",
       "      <td>JPMORGAN CHASE BANK NATL ASSOC</td>\n",
       "      <td>NY</td>\n",
       "      <td>21-Dec-88</td>\n",
       "      <td>1989</td>\n",
       "      <td>20</td>\n",
       "      <td>...</td>\n",
       "      <td>0</td>\n",
       "      <td>0</td>\n",
       "      <td>0</td>\n",
       "      <td>0</td>\n",
       "      <td>N</td>\n",
       "      <td>N</td>\n",
       "      <td>30-Apr-89</td>\n",
       "      <td>$350,000.00</td>\n",
       "      <td>$0.00</td>\n",
       "      <td>1</td>\n",
       "    </tr>\n",
       "    <tr>\n",
       "      <th>1</th>\n",
       "      <td>cca24bbcc48</td>\n",
       "      <td>2349745003</td>\n",
       "      <td>LAWRENCE K. ALTHISER DBA LARRY</td>\n",
       "      <td>HARTWICK</td>\n",
       "      <td>NY</td>\n",
       "      <td>CITIZENS BANK NATL ASSOC</td>\n",
       "      <td>RI</td>\n",
       "      <td>23-Mar-07</td>\n",
       "      <td>2007</td>\n",
       "      <td>3</td>\n",
       "      <td>...</td>\n",
       "      <td>1</td>\n",
       "      <td>4</td>\n",
       "      <td>0</td>\n",
       "      <td>2</td>\n",
       "      <td>N</td>\n",
       "      <td>N</td>\n",
       "      <td>30-Apr-07</td>\n",
       "      <td>$35,000.00</td>\n",
       "      <td>$0.00</td>\n",
       "      <td>1</td>\n",
       "    </tr>\n",
       "    <tr>\n",
       "      <th>2</th>\n",
       "      <td>e60644381ce</td>\n",
       "      <td>6007284009</td>\n",
       "      <td>TAAMEER CONSTRUCTION INC</td>\n",
       "      <td>BROOKLYN (BOROUGH OF NEW YORK)</td>\n",
       "      <td>NY</td>\n",
       "      <td>JPMORGAN CHASE BANK NATL ASSOC</td>\n",
       "      <td>IL</td>\n",
       "      <td>9-Jan-03</td>\n",
       "      <td>2003</td>\n",
       "      <td>5</td>\n",
       "      <td>...</td>\n",
       "      <td>0</td>\n",
       "      <td>5</td>\n",
       "      <td>1</td>\n",
       "      <td>1</td>\n",
       "      <td>0</td>\n",
       "      <td>N</td>\n",
       "      <td>31-Jan-03</td>\n",
       "      <td>$50,000.00</td>\n",
       "      <td>$0.00</td>\n",
       "      <td>1</td>\n",
       "    </tr>\n",
       "    <tr>\n",
       "      <th>3</th>\n",
       "      <td>ffca41a2760</td>\n",
       "      <td>6047703002</td>\n",
       "      <td>CENTRAL CONTROL SYSTEMS, INC.</td>\n",
       "      <td>SYRACUSE</td>\n",
       "      <td>NY</td>\n",
       "      <td>MANUFACTURERS &amp; TRADERS TR CO</td>\n",
       "      <td>NY</td>\n",
       "      <td>10-Nov-93</td>\n",
       "      <td>1994</td>\n",
       "      <td>25</td>\n",
       "      <td>...</td>\n",
       "      <td>0</td>\n",
       "      <td>0</td>\n",
       "      <td>1</td>\n",
       "      <td>0</td>\n",
       "      <td>N</td>\n",
       "      <td>N</td>\n",
       "      <td>31-Jan-94</td>\n",
       "      <td>$190,000.00</td>\n",
       "      <td>$0.00</td>\n",
       "      <td>1</td>\n",
       "    </tr>\n",
       "    <tr>\n",
       "      <th>4</th>\n",
       "      <td>79e48255003</td>\n",
       "      <td>6590164004</td>\n",
       "      <td>METRO SALON</td>\n",
       "      <td>ROCHESTER</td>\n",
       "      <td>NY</td>\n",
       "      <td>MANUFACTURERS &amp; TRADERS TR CO</td>\n",
       "      <td>NY</td>\n",
       "      <td>14-Aug-03</td>\n",
       "      <td>2003</td>\n",
       "      <td>6</td>\n",
       "      <td>...</td>\n",
       "      <td>0</td>\n",
       "      <td>0</td>\n",
       "      <td>1</td>\n",
       "      <td>1</td>\n",
       "      <td>0</td>\n",
       "      <td>Y</td>\n",
       "      <td>30-Sep-03</td>\n",
       "      <td>$30,000.00</td>\n",
       "      <td>$0.00</td>\n",
       "      <td>1</td>\n",
       "    </tr>\n",
       "  </tbody>\n",
       "</table>\n",
       "<p>5 rows × 21 columns</p>\n",
       "</div>"
      ],
      "text/plain": [
       "            id  LoanNr_ChkDgt                            Name  \\\n",
       "0  b353a0b461c     3354343008        TOGETHER GARGOYLES, INC.   \n",
       "1  cca24bbcc48     2349745003  LAWRENCE K. ALTHISER DBA LARRY   \n",
       "2  e60644381ce     6007284009        TAAMEER CONSTRUCTION INC   \n",
       "3  ffca41a2760     6047703002   CENTRAL CONTROL SYSTEMS, INC.   \n",
       "4  79e48255003     6590164004                     METRO SALON   \n",
       "\n",
       "                             City State                            Bank  \\\n",
       "0                        BROOKLYN    NY  JPMORGAN CHASE BANK NATL ASSOC   \n",
       "1                        HARTWICK    NY        CITIZENS BANK NATL ASSOC   \n",
       "2  BROOKLYN (BOROUGH OF NEW YORK)    NY  JPMORGAN CHASE BANK NATL ASSOC   \n",
       "3                        SYRACUSE    NY   MANUFACTURERS & TRADERS TR CO   \n",
       "4                       ROCHESTER    NY   MANUFACTURERS & TRADERS TR CO   \n",
       "\n",
       "  BankState ApprovalDate ApprovalFY  NoEmp  ...  CreateJob  RetainedJob  \\\n",
       "0        NY    21-Dec-88       1989     20  ...          0            0   \n",
       "1        RI    23-Mar-07       2007      3  ...          1            4   \n",
       "2        IL     9-Jan-03       2003      5  ...          0            5   \n",
       "3        NY    10-Nov-93       1994     25  ...          0            0   \n",
       "4        NY    14-Aug-03       2003      6  ...          0            0   \n",
       "\n",
       "   FranchiseCode  UrbanRural  RevLineCr LowDoc DisbursementDate  \\\n",
       "0              0           0          N      N        30-Apr-89   \n",
       "1              0           2          N      N        30-Apr-07   \n",
       "2              1           1          0      N        31-Jan-03   \n",
       "3              1           0          N      N        31-Jan-94   \n",
       "4              1           1          0      Y        30-Sep-03   \n",
       "\n",
       "  DisbursementGross BalanceGross Accept  \n",
       "0      $350,000.00        $0.00       1  \n",
       "1       $35,000.00        $0.00       1  \n",
       "2       $50,000.00        $0.00       1  \n",
       "3      $190,000.00        $0.00       1  \n",
       "4       $30,000.00        $0.00       1  \n",
       "\n",
       "[5 rows x 21 columns]"
      ]
     },
     "execution_count": 157,
     "metadata": {},
     "output_type": "execute_result"
    }
   ],
   "source": [
    "train = pd.read_csv('data/train.csv')\n",
    "test = pd.read_csv('data/test_nolabel.csv')\n",
    "#data = pd.concat([train, test])\n",
    "train.head()"
   ]
  },
  {
   "cell_type": "markdown",
   "metadata": {},
   "source": [
    "De acuerdo a los datos mostrados, se intentará intuir las variables asociadas a la predicción de la aceptación de conseción del crédito teniendo en cuenta lo siguiente:\n",
    "- ApprovalDate y DisbursementDate, ambas determinan la fecha en que la SBA ha aceptado la solicitud y la fecha en que ha concedido el préstamo. Se podría calcular la diferencia entre ellas.\n",
    "- NoEmp, la cantidad de empleados puede determinar que tan grande o pequeña es la empresa.\n",
    "- NewExist, si es una empresa que recién esta empezando su actividad podría afectar la concesión del préstamo.\n",
    "- CreateJob, si se han creado fuentes de empleo puede ser un indicador del crecimiento de la empresa.\n",
    "- RetainedJob, representa la cantidad de empleos a tiempo completo existentes al momento de hacer la solicitud y que se mantendrán en caso de conseguir la aprobación.\n",
    "- RevLineCr, representa el hecho de que tan pronto como se pague la deuda, la empresa puede volver a pedir prestado hasta su límite de crédito sin pasar por otro proceso de aprobación de préstamo.\n",
    "- LowDoc, de ser verdadero significa que el SBA promete un procesamiento rápido (para montos inferiores a $150,000).\n",
    "- DisbursementGross, la cantidad que se esta solicitando es importante en conjunto con el resto de parámetros para poder determinar la aprobación del préstamo.\n",
    "- Accept, el campo más importante porque indica si se ha cedido o no el préstamo.\n",
    "\n",
    "En la siguiente sección, se revisa cada columna para determinar su utilidad o no para la predicción."
   ]
  },
  {
   "cell_type": "markdown",
   "metadata": {},
   "source": [
    "##  2. Limpieza de datos\n",
    "\n",
    "Se debe eliminar campos irrelevantes o no necesarios. Para esto se analizan los datos numéricos, revisando si hay datos faltantes o nulos, para así completarlos, y/o eliminar columnas no necesarias. Luego se efectúa el mismo procedimiento con los no numéricos."
   ]
  },
  {
   "cell_type": "code",
   "execution_count": 158,
   "metadata": {
    "execution": {
     "iopub.execute_input": "2022-04-13T11:32:32.208525Z",
     "iopub.status.busy": "2022-04-13T11:32:32.208178Z",
     "iopub.status.idle": "2022-04-13T11:32:32.311505Z",
     "shell.execute_reply": "2022-04-13T11:32:32.310853Z",
     "shell.execute_reply.started": "2022-04-13T11:32:32.208497Z"
    },
    "scrolled": true
   },
   "outputs": [
    {
     "name": "stdout",
     "output_type": "stream",
     "text": [
      "<class 'pandas.core.frame.DataFrame'>\n",
      "RangeIndex: 40385 entries, 0 to 40384\n",
      "Data columns (total 21 columns):\n",
      " #   Column             Non-Null Count  Dtype  \n",
      "---  ------             --------------  -----  \n",
      " 0   id                 40385 non-null  object \n",
      " 1   LoanNr_ChkDgt      40385 non-null  int64  \n",
      " 2   Name               40382 non-null  object \n",
      " 3   City               40385 non-null  object \n",
      " 4   State              40385 non-null  object \n",
      " 5   Bank               40340 non-null  object \n",
      " 6   BankState          40338 non-null  object \n",
      " 7   ApprovalDate       40385 non-null  object \n",
      " 8   ApprovalFY         40385 non-null  object \n",
      " 9   NoEmp              40385 non-null  int64  \n",
      " 10  NewExist           40378 non-null  float64\n",
      " 11  CreateJob          40385 non-null  int64  \n",
      " 12  RetainedJob        40385 non-null  int64  \n",
      " 13  FranchiseCode      40385 non-null  int64  \n",
      " 14  UrbanRural         40385 non-null  int64  \n",
      " 15  RevLineCr          40250 non-null  object \n",
      " 16  LowDoc             40330 non-null  object \n",
      " 17  DisbursementDate   40254 non-null  object \n",
      " 18  DisbursementGross  40385 non-null  object \n",
      " 19  BalanceGross       40385 non-null  object \n",
      " 20  Accept             40385 non-null  int64  \n",
      "dtypes: float64(1), int64(7), object(13)\n",
      "memory usage: 6.5+ MB\n",
      "*****************************************************\n",
      "False\n"
     ]
    }
   ],
   "source": [
    "train.info()\n",
    "\n",
    "# Revisando duplicados\n",
    "print(\"*****************************************************\")\n",
    "print(train.duplicated().any())"
   ]
  },
  {
   "cell_type": "markdown",
   "metadata": {},
   "source": [
    "Se observa que la mayoría de columnas son no numéricas y no se tienen duplicados, por lo que no se elimina ninguna fila. Por otro lado, existen 40385 filas pero en ciertas columnas hay datos con información nula."
   ]
  },
  {
   "cell_type": "code",
   "execution_count": 159,
   "metadata": {
    "execution": {
     "iopub.execute_input": "2022-04-13T11:32:41.428488Z",
     "iopub.status.busy": "2022-04-13T11:32:41.428145Z",
     "iopub.status.idle": "2022-04-13T11:32:42.586919Z",
     "shell.execute_reply": "2022-04-13T11:32:42.586228Z",
     "shell.execute_reply.started": "2022-04-13T11:32:41.428461Z"
    }
   },
   "outputs": [
    {
     "data": {
      "image/png": "[encoded data removed]",
      "text/plain": [
       "<Figure size 720x720 with 9 Axes>"
      ]
     },
     "metadata": {},
     "output_type": "display_data"
    }
   ],
   "source": [
    "# Ver la distribución de cada columna\n",
    "train.hist(figsize=(10,10))\n",
    "plt.show()"
   ]
  },
  {
   "cell_type": "markdown",
   "metadata": {
    "execution": {
     "iopub.execute_input": "2022-04-13T09:45:05.921754Z",
     "iopub.status.busy": "2022-04-13T09:45:05.920429Z",
     "iopub.status.idle": "2022-04-13T09:45:05.955154Z",
     "shell.execute_reply": "2022-04-13T09:45:05.954418Z",
     "shell.execute_reply.started": "2022-04-13T09:45:05.921702Z"
    }
   },
   "source": [
    "A primera vista, parece ser que se tienen sesgos en algunas de las columnas, como NoEmp, RetainedJob, CreateJob, entre otros. Se analizará más adelante este comportamiento."
   ]
  },
  {
   "cell_type": "markdown",
   "metadata": {},
   "source": [
    "### 2.1. Revisión de datos cuantitativos"
   ]
  },
  {
   "cell_type": "code",
   "execution_count": 160,
   "metadata": {
    "execution": {
     "iopub.execute_input": "2022-04-13T09:45:09.921657Z",
     "iopub.status.busy": "2022-04-13T09:45:09.920447Z",
     "iopub.status.idle": "2022-04-13T09:45:09.976192Z",
     "shell.execute_reply": "2022-04-13T09:45:09.97503Z",
     "shell.execute_reply.started": "2022-04-13T09:45:09.921597Z"
    }
   },
   "outputs": [
    {
     "data": {
      "text/html": [
       "<div>\n",
       "<style scoped>\n",
       "    .dataframe tbody tr th:only-of-type {\n",
       "        vertical-align: middle;\n",
       "    }\n",
       "\n",
       "    .dataframe tbody tr th {\n",
       "        vertical-align: top;\n",
       "    }\n",
       "\n",
       "    .dataframe thead th {\n",
       "        text-align: right;\n",
       "    }\n",
       "</style>\n",
       "<table border=\"1\" class=\"dataframe\">\n",
       "  <thead>\n",
       "    <tr style=\"text-align: right;\">\n",
       "      <th></th>\n",
       "      <th>LoanNr_ChkDgt</th>\n",
       "      <th>NoEmp</th>\n",
       "      <th>NewExist</th>\n",
       "      <th>CreateJob</th>\n",
       "      <th>RetainedJob</th>\n",
       "      <th>FranchiseCode</th>\n",
       "      <th>UrbanRural</th>\n",
       "      <th>Accept</th>\n",
       "    </tr>\n",
       "  </thead>\n",
       "  <tbody>\n",
       "    <tr>\n",
       "      <th>count</th>\n",
       "      <td>4.038500e+04</td>\n",
       "      <td>40385.000000</td>\n",
       "      <td>40378.000000</td>\n",
       "      <td>40385.000000</td>\n",
       "      <td>40385.000000</td>\n",
       "      <td>40385.000000</td>\n",
       "      <td>40385.00000</td>\n",
       "      <td>40385.000000</td>\n",
       "    </tr>\n",
       "    <tr>\n",
       "      <th>mean</th>\n",
       "      <td>4.459565e+09</td>\n",
       "      <td>9.485750</td>\n",
       "      <td>1.279013</td>\n",
       "      <td>4.273666</td>\n",
       "      <td>7.128191</td>\n",
       "      <td>1218.894342</td>\n",
       "      <td>0.76885</td>\n",
       "      <td>0.796360</td>\n",
       "    </tr>\n",
       "    <tr>\n",
       "      <th>std</th>\n",
       "      <td>2.539048e+09</td>\n",
       "      <td>54.872591</td>\n",
       "      <td>0.451107</td>\n",
       "      <td>151.989529</td>\n",
       "      <td>152.156119</td>\n",
       "      <td>8647.991363</td>\n",
       "      <td>0.59020</td>\n",
       "      <td>0.402709</td>\n",
       "    </tr>\n",
       "    <tr>\n",
       "      <th>min</th>\n",
       "      <td>1.000655e+09</td>\n",
       "      <td>0.000000</td>\n",
       "      <td>0.000000</td>\n",
       "      <td>0.000000</td>\n",
       "      <td>0.000000</td>\n",
       "      <td>0.000000</td>\n",
       "      <td>0.00000</td>\n",
       "      <td>0.000000</td>\n",
       "    </tr>\n",
       "    <tr>\n",
       "      <th>25%</th>\n",
       "      <td>2.276314e+09</td>\n",
       "      <td>2.000000</td>\n",
       "      <td>1.000000</td>\n",
       "      <td>0.000000</td>\n",
       "      <td>0.000000</td>\n",
       "      <td>0.000000</td>\n",
       "      <td>0.00000</td>\n",
       "      <td>1.000000</td>\n",
       "    </tr>\n",
       "    <tr>\n",
       "      <th>50%</th>\n",
       "      <td>3.804294e+09</td>\n",
       "      <td>4.000000</td>\n",
       "      <td>1.000000</td>\n",
       "      <td>0.000000</td>\n",
       "      <td>1.000000</td>\n",
       "      <td>1.000000</td>\n",
       "      <td>1.00000</td>\n",
       "      <td>1.000000</td>\n",
       "    </tr>\n",
       "    <tr>\n",
       "      <th>75%</th>\n",
       "      <td>6.409913e+09</td>\n",
       "      <td>9.000000</td>\n",
       "      <td>2.000000</td>\n",
       "      <td>1.000000</td>\n",
       "      <td>5.000000</td>\n",
       "      <td>1.000000</td>\n",
       "      <td>1.00000</td>\n",
       "      <td>1.000000</td>\n",
       "    </tr>\n",
       "    <tr>\n",
       "      <th>max</th>\n",
       "      <td>9.995413e+09</td>\n",
       "      <td>9999.000000</td>\n",
       "      <td>2.000000</td>\n",
       "      <td>8800.000000</td>\n",
       "      <td>8800.000000</td>\n",
       "      <td>91110.000000</td>\n",
       "      <td>2.00000</td>\n",
       "      <td>1.000000</td>\n",
       "    </tr>\n",
       "  </tbody>\n",
       "</table>\n",
       "</div>"
      ],
      "text/plain": [
       "       LoanNr_ChkDgt         NoEmp      NewExist     CreateJob   RetainedJob  \\\n",
       "count   4.038500e+04  40385.000000  40378.000000  40385.000000  40385.000000   \n",
       "mean    4.459565e+09      9.485750      1.279013      4.273666      7.128191   \n",
       "std     2.539048e+09     54.872591      0.451107    151.989529    152.156119   \n",
       "min     1.000655e+09      0.000000      0.000000      0.000000      0.000000   \n",
       "25%     2.276314e+09      2.000000      1.000000      0.000000      0.000000   \n",
       "50%     3.804294e+09      4.000000      1.000000      0.000000      1.000000   \n",
       "75%     6.409913e+09      9.000000      2.000000      1.000000      5.000000   \n",
       "max     9.995413e+09   9999.000000      2.000000   8800.000000   8800.000000   \n",
       "\n",
       "       FranchiseCode   UrbanRural        Accept  \n",
       "count   40385.000000  40385.00000  40385.000000  \n",
       "mean     1218.894342      0.76885      0.796360  \n",
       "std      8647.991363      0.59020      0.402709  \n",
       "min         0.000000      0.00000      0.000000  \n",
       "25%         0.000000      0.00000      1.000000  \n",
       "50%         1.000000      1.00000      1.000000  \n",
       "75%         1.000000      1.00000      1.000000  \n",
       "max     91110.000000      2.00000      1.000000  "
      ]
     },
     "execution_count": 160,
     "metadata": {},
     "output_type": "execute_result"
    }
   ],
   "source": [
    "# Ver las estadísticas de las columnas numéricas\n",
    "train.describe()"
   ]
  },
  {
   "cell_type": "code",
   "execution_count": 161,
   "metadata": {
    "execution": {
     "iopub.execute_input": "2022-04-13T09:45:17.990725Z",
     "iopub.status.busy": "2022-04-13T09:45:17.990233Z",
     "iopub.status.idle": "2022-04-13T09:45:18.003596Z",
     "shell.execute_reply": "2022-04-13T09:45:18.002809Z",
     "shell.execute_reply.started": "2022-04-13T09:45:17.990689Z"
    }
   },
   "outputs": [
    {
     "data": {
      "text/plain": [
       "LoanNr_ChkDgt    0\n",
       "NoEmp            0\n",
       "NewExist         7\n",
       "CreateJob        0\n",
       "RetainedJob      0\n",
       "FranchiseCode    0\n",
       "UrbanRural       0\n",
       "Accept           0\n",
       "dtype: int64"
      ]
     },
     "execution_count": 161,
     "metadata": {},
     "output_type": "execute_result"
    }
   ],
   "source": [
    "# Ver aquellos atributos numéricos con valores nulos\n",
    "train.select_dtypes(include=['float64', 'int64']).isnull().sum()"
   ]
  },
  {
   "cell_type": "markdown",
   "metadata": {},
   "source": [
    "Se tiene que la única columna con valores nulos es **NoEmp** y se confirman los sesgos en **NoEmp, CreateJob, RetainedJob y FranchiseCode** ya que el 75% de sus datos se acumulan en valores muy por debajo de sus valores máximos."
   ]
  },
  {
   "cell_type": "markdown",
   "metadata": {},
   "source": [
    "### Columna LoanNr_ChkDgt\n",
    "\n",
    "Se revisa el atributo y se determina que al ser un identificador, no aporta a la predicción. Además, se verifica obteniendo la cantidad de valores únicos, siendo este el total de filas del dataframe. Por lo tanto, se elimina esta columna."
   ]
  },
  {
   "cell_type": "code",
   "execution_count": 162,
   "metadata": {
    "execution": {
     "iopub.execute_input": "2022-04-13T11:32:50.377363Z",
     "iopub.status.busy": "2022-04-13T11:32:50.377093Z",
     "iopub.status.idle": "2022-04-13T11:32:50.389533Z",
     "shell.execute_reply": "2022-04-13T11:32:50.388877Z",
     "shell.execute_reply.started": "2022-04-13T11:32:50.377335Z"
    }
   },
   "outputs": [
    {
     "name": "stdout",
     "output_type": "stream",
     "text": [
      "Valores únicos del atributo LoanNr_ChkDgt: 40385\n"
     ]
    }
   ],
   "source": [
    "print(\"Valores únicos del atributo LoanNr_ChkDgt:\", len(train.LoanNr_ChkDgt.unique()))\n",
    "train.drop(['LoanNr_ChkDgt'], axis=1, inplace=True)"
   ]
  },
  {
   "cell_type": "markdown",
   "metadata": {},
   "source": [
    "### Columna NoEmp\n",
    "\n",
    "Se nota que este atributo se encuentra sesgado ya que la mayor parte de sus valores se acumulan en nueve empleados, lo que se corrobora con sus estadísticas, donde el 75% de sus filas acumulan esta cantidad de empleados. Por lo tanto, se reemplazan los outliers por un valor de diez que representa que todos aquellos datos tienen más de nueve empleados."
   ]
  },
  {
   "cell_type": "code",
   "execution_count": 163,
   "metadata": {
    "execution": {
     "iopub.execute_input": "2022-04-13T09:46:20.562775Z",
     "iopub.status.busy": "2022-04-13T09:46:20.561694Z",
     "iopub.status.idle": "2022-04-13T09:46:20.919162Z",
     "shell.execute_reply": "2022-04-13T09:46:20.918033Z",
     "shell.execute_reply.started": "2022-04-13T09:46:20.562711Z"
    }
   },
   "outputs": [
    {
     "name": "stdout",
     "output_type": "stream",
     "text": [
      "*****************************************************\n",
      "La cantidad de valores mayores a nueve empleados es: 9542\n",
      "La mediana es: 4.0\n",
      "*****************************************************\n"
     ]
    },
    {
     "data": {
      "text/plain": [
       "count    40385.000000\n",
       "mean         9.485750\n",
       "std         54.872591\n",
       "min          0.000000\n",
       "25%          2.000000\n",
       "50%          4.000000\n",
       "75%          9.000000\n",
       "max       9999.000000\n",
       "Name: NoEmp, dtype: float64"
      ]
     },
     "execution_count": 163,
     "metadata": {},
     "output_type": "execute_result"
    },
    {
     "data": {
      "image/png": "[encoded data removed]",
      "text/plain": [
       "<Figure size 432x288 with 1 Axes>"
      ]
     },
     "metadata": {},
     "output_type": "display_data"
    }
   ],
   "source": [
    "train['NoEmp'].hist(bins=30, range=(0, train['NoEmp'].max()))\n",
    "print(\"*****************************************************\")\n",
    "print(\"La cantidad de valores mayores a nueve empleados es:\", train.NoEmp.loc[train.NoEmp > 9].count())\n",
    "print(\"La mediana es:\", train.NoEmp.median())\n",
    "print(\"*****************************************************\")\n",
    "train.NoEmp.describe()"
   ]
  },
  {
   "cell_type": "code",
   "execution_count": 164,
   "metadata": {},
   "outputs": [
    {
     "name": "stdout",
     "output_type": "stream",
     "text": [
      "*****************************************************\n",
      "Después del cambio, la media es: 4.905583756345178\n",
      "*****************************************************\n"
     ]
    },
    {
     "data": {
      "text/plain": [
       "<AxesSubplot:>"
      ]
     },
     "execution_count": 164,
     "metadata": {},
     "output_type": "execute_result"
    },
    {
     "data": {
      "image/png": "[encoded data removed]",
      "text/plain": [
       "<Figure size 432x288 with 1 Axes>"
      ]
     },
     "metadata": {},
     "output_type": "display_data"
    }
   ],
   "source": [
    "train.loc[train['NoEmp'] > 9, 'NoEmp'] = 10\n",
    "print(\"*****************************************************\")\n",
    "print(\"Después del cambio, la media es:\", train.NoEmp.mean())\n",
    "print(\"*****************************************************\")\n",
    "train['NoEmp'].hist(bins=30, range=(0, train['NoEmp'].max()))"
   ]
  },
  {
   "cell_type": "code",
   "execution_count": 165,
   "metadata": {
    "execution": {
     "iopub.execute_input": "2022-04-13T09:46:24.548797Z",
     "iopub.status.busy": "2022-04-13T09:46:24.548467Z",
     "iopub.status.idle": "2022-04-13T09:46:24.849553Z",
     "shell.execute_reply": "2022-04-13T09:46:24.848983Z",
     "shell.execute_reply.started": "2022-04-13T09:46:24.548765Z"
    }
   },
   "outputs": [],
   "source": [
    "#df_train.boxplot(column='NoEmp', by = 'NewExist', return_type='axes', sym='k.') \n",
    "#train.boxplot(column='NoEmp')"
   ]
  },
  {
   "cell_type": "code",
   "execution_count": 166,
   "metadata": {
    "execution": {
     "iopub.execute_input": "2022-04-13T09:46:50.351228Z",
     "iopub.status.busy": "2022-04-13T09:46:50.350663Z",
     "iopub.status.idle": "2022-04-13T09:47:01.410728Z",
     "shell.execute_reply": "2022-04-13T09:47:01.409835Z",
     "shell.execute_reply.started": "2022-04-13T09:46:50.351182Z"
    }
   },
   "outputs": [],
   "source": [
    "#sns.barplot(x='NoEmp', y='Accept', data=df_train)"
   ]
  },
  {
   "cell_type": "markdown",
   "metadata": {},
   "source": [
    "### Columna NewExist\n",
    "\n",
    "Tal como se observó en el train.describe(), este atributo posee valores nulos, se decide reemplazarlos con la mediana ya que es una buena práctica."
   ]
  },
  {
   "cell_type": "code",
   "execution_count": 167,
   "metadata": {
    "execution": {
     "iopub.execute_input": "2022-04-13T11:32:55.21751Z",
     "iopub.status.busy": "2022-04-13T11:32:55.216881Z",
     "iopub.status.idle": "2022-04-13T11:32:55.221724Z",
     "shell.execute_reply": "2022-04-13T11:32:55.221352Z",
     "shell.execute_reply.started": "2022-04-13T11:32:55.217473Z"
    }
   },
   "outputs": [],
   "source": [
    "train['NewExist'].fillna(train.NewExist.median(), inplace=True)"
   ]
  },
  {
   "cell_type": "code",
   "execution_count": 168,
   "metadata": {
    "execution": {
     "iopub.execute_input": "2022-04-13T09:45:29.191175Z",
     "iopub.status.busy": "2022-04-13T09:45:29.190683Z",
     "iopub.status.idle": "2022-04-13T09:45:29.502213Z",
     "shell.execute_reply": "2022-04-13T09:45:29.501175Z",
     "shell.execute_reply.started": "2022-04-13T09:45:29.191138Z"
    }
   },
   "outputs": [
    {
     "data": {
      "text/plain": [
       "NewExist\n",
       "0.0       47\n",
       "1.0    29025\n",
       "2.0    11313\n",
       "dtype: int64"
      ]
     },
     "execution_count": 168,
     "metadata": {},
     "output_type": "execute_result"
    },
    {
     "data": {
      "image/png": "[encoded data removed]",
      "text/plain": [
       "<Figure size 432x288 with 1 Axes>"
      ]
     },
     "metadata": {},
     "output_type": "display_data"
    }
   ],
   "source": [
    "train['NewExist'].hist(bins=30, range=(0, train['NewExist'].max()))\n",
    "train.groupby('NewExist').size()"
   ]
  },
  {
   "cell_type": "markdown",
   "metadata": {},
   "source": [
    "Al ver los resultados anteriores, se tienen datos erróneos, ya que para el atributo en cuestión se estableció que unicamente puede tomar los valores 1 y 2; entonces, se reemplazan los valores donde existe el 0 por lel que más se repite, en este caso por 1."
   ]
  },
  {
   "cell_type": "code",
   "execution_count": 169,
   "metadata": {
    "execution": {
     "iopub.execute_input": "2022-04-13T11:33:06.83849Z",
     "iopub.status.busy": "2022-04-13T11:33:06.838269Z",
     "iopub.status.idle": "2022-04-13T11:33:06.842904Z",
     "shell.execute_reply": "2022-04-13T11:33:06.842242Z",
     "shell.execute_reply.started": "2022-04-13T11:33:06.838465Z"
    }
   },
   "outputs": [
    {
     "data": {
      "text/plain": [
       "<AxesSubplot:>"
      ]
     },
     "execution_count": 169,
     "metadata": {},
     "output_type": "execute_result"
    },
    {
     "data": {
      "image/png": "[encoded data removed]",
      "text/plain": [
       "<Figure size 432x288 with 1 Axes>"
      ]
     },
     "metadata": {},
     "output_type": "display_data"
    }
   ],
   "source": [
    "train.loc[train['NewExist'] == 0, 'NewExist'] = train.NewExist.mode()[0]\n",
    "train['NewExist'].hist()"
   ]
  },
  {
   "cell_type": "code",
   "execution_count": 170,
   "metadata": {
    "execution": {
     "iopub.execute_input": "2022-04-13T09:45:34.960207Z",
     "iopub.status.busy": "2022-04-13T09:45:34.959836Z",
     "iopub.status.idle": "2022-04-13T09:45:35.767526Z",
     "shell.execute_reply": "2022-04-13T09:45:35.766062Z",
     "shell.execute_reply.started": "2022-04-13T09:45:34.960169Z"
    }
   },
   "outputs": [],
   "source": [
    "#sns.barplot(x='NewExist', y='Accept', data=train)"
   ]
  },
  {
   "cell_type": "markdown",
   "metadata": {},
   "source": [
    "### Columna CreateJob\n",
    "\n",
    "A pesar de que se tienen mayormente valores en cero, y hay una alta varianza, se deja intacto hasta revisar el análisis con el resto de columnas."
   ]
  },
  {
   "cell_type": "code",
   "execution_count": 171,
   "metadata": {
    "execution": {
     "iopub.execute_input": "2022-04-13T09:47:10.031275Z",
     "iopub.status.busy": "2022-04-13T09:47:10.030904Z",
     "iopub.status.idle": "2022-04-13T09:47:10.307384Z",
     "shell.execute_reply": "2022-04-13T09:47:10.306065Z",
     "shell.execute_reply.started": "2022-04-13T09:47:10.031237Z"
    }
   },
   "outputs": [
    {
     "name": "stdout",
     "output_type": "stream",
     "text": [
      "*****************************************************\n",
      "La cantidad de valores con ceros es: 28279\n",
      "La cantidad de valores con unos es: 3656\n",
      "La cantidad de valores diferentes de cero y uno es: 8450\n",
      "*****************************************************\n"
     ]
    },
    {
     "data": {
      "text/plain": [
       "count    40385.000000\n",
       "mean         4.273666\n",
       "std        151.989529\n",
       "min          0.000000\n",
       "25%          0.000000\n",
       "50%          0.000000\n",
       "75%          1.000000\n",
       "max       8800.000000\n",
       "Name: CreateJob, dtype: float64"
      ]
     },
     "execution_count": 171,
     "metadata": {},
     "output_type": "execute_result"
    },
    {
     "data": {
      "image/png": "[encoded data removed]",
      "text/plain": [
       "<Figure size 432x288 with 1 Axes>"
      ]
     },
     "metadata": {},
     "output_type": "display_data"
    }
   ],
   "source": [
    "train['CreateJob'].hist()\n",
    "print(\"*****************************************************\")\n",
    "print(\"La cantidad de valores con ceros es:\", train.CreateJob.loc[train.CreateJob == 0].count())\n",
    "print(\"La cantidad de valores con unos es:\", train.CreateJob.loc[train.CreateJob == 1].count())\n",
    "print(\"La cantidad de valores diferentes de cero y uno es:\", train.CreateJob.loc[train.CreateJob > 1].count())\n",
    "print(\"*****************************************************\")\n",
    "train['CreateJob'].describe()"
   ]
  },
  {
   "cell_type": "code",
   "execution_count": 172,
   "metadata": {
    "execution": {
     "iopub.execute_input": "2022-04-13T09:47:20.190936Z",
     "iopub.status.busy": "2022-04-13T09:47:20.190589Z",
     "iopub.status.idle": "2022-04-13T09:47:20.242245Z",
     "shell.execute_reply": "2022-04-13T09:47:20.241148Z",
     "shell.execute_reply.started": "2022-04-13T09:47:20.190894Z"
    }
   },
   "outputs": [
    {
     "data": {
      "text/plain": [
       "3390     8800\n",
       "2863     8800\n",
       "25406    8800\n",
       "31013    8800\n",
       "8190     8800\n",
       "12042    8800\n",
       "12052    8800\n",
       "34453    8800\n",
       "20921    8800\n",
       "24703    8800\n",
       "35966    8800\n",
       "2884     8800\n",
       "40189    1027\n",
       "22676    1011\n",
       "38644     456\n",
       "8227      452\n",
       "38934     450\n",
       "21131     264\n",
       "30679     250\n",
       "10668     250\n",
       "21575     206\n",
       "21602     200\n",
       "33949     200\n",
       "8266      200\n",
       "4191      168\n",
       "Name: CreateJob, dtype: int64"
      ]
     },
     "execution_count": 172,
     "metadata": {},
     "output_type": "execute_result"
    }
   ],
   "source": [
    "# Ver los valores más altos\n",
    "train.sort_values('CreateJob', ascending=False).CreateJob.head(25)"
   ]
  },
  {
   "cell_type": "markdown",
   "metadata": {},
   "source": [
    "### Columna RetainedJob\n",
    "\n",
    "Ocurre algo parecido al caso anterior, hay una alta varianza y el 75% de sus valores es menor o igual a 5 (un valor muy pequeño comparado con el resto), sin embargo, se deja intacto hasta revisar el análisis con el resto de columnas."
   ]
  },
  {
   "cell_type": "code",
   "execution_count": 173,
   "metadata": {},
   "outputs": [
    {
     "name": "stdout",
     "output_type": "stream",
     "text": [
      "*****************************************************\n",
      "La cantidad de valores con ceros es: 15833\n",
      "La cantidad de valores con unos es: 4482\n",
      "La cantidad de valores diferentes de cero y uno es: 20070\n",
      "*****************************************************\n"
     ]
    },
    {
     "data": {
      "text/plain": [
       "count    40385.000000\n",
       "mean         7.128191\n",
       "std        152.156119\n",
       "min          0.000000\n",
       "25%          0.000000\n",
       "50%          1.000000\n",
       "75%          5.000000\n",
       "max       8800.000000\n",
       "Name: RetainedJob, dtype: float64"
      ]
     },
     "execution_count": 173,
     "metadata": {},
     "output_type": "execute_result"
    },
    {
     "data": {
      "image/png": "[encoded data removed]",
      "text/plain": [
       "<Figure size 432x288 with 1 Axes>"
      ]
     },
     "metadata": {},
     "output_type": "display_data"
    }
   ],
   "source": [
    "train['RetainedJob'].hist()\n",
    "print(\"*****************************************************\")\n",
    "print(\"La cantidad de valores con ceros es:\", train.RetainedJob.loc[train.RetainedJob == 0].count())\n",
    "print(\"La cantidad de valores con unos es:\", train.RetainedJob.loc[train.RetainedJob == 1].count())\n",
    "print(\"La cantidad de valores diferentes de cero y uno es:\", train.RetainedJob.loc[train.RetainedJob > 1].count())\n",
    "print(\"*****************************************************\")\n",
    "train['RetainedJob'].describe()"
   ]
  },
  {
   "cell_type": "code",
   "execution_count": 174,
   "metadata": {},
   "outputs": [
    {
     "data": {
      "text/plain": [
       "20921    8800\n",
       "2863     8800\n",
       "31013    8800\n",
       "12042    8800\n",
       "8190     8800\n",
       "2884     8800\n",
       "35966    8800\n",
       "25406    8800\n",
       "24703    8800\n",
       "34453    8800\n",
       "3390     8800\n",
       "12052    8800\n",
       "31154     815\n",
       "10668     550\n",
       "8266      500\n",
       "18400     472\n",
       "38644     450\n",
       "16333     350\n",
       "15390     350\n",
       "25353     315\n",
       "34790     300\n",
       "25636     295\n",
       "36174     275\n",
       "39786     263\n",
       "21222     251\n",
       "Name: RetainedJob, dtype: int64"
      ]
     },
     "execution_count": 174,
     "metadata": {},
     "output_type": "execute_result"
    }
   ],
   "source": [
    "# Ver los valores más altos\n",
    "train.sort_values('RetainedJob', ascending=False).RetainedJob.head(25)"
   ]
  },
  {
   "cell_type": "code",
   "execution_count": null,
   "metadata": {
    "execution": {
     "iopub.execute_input": "2022-04-13T09:47:14.550374Z",
     "iopub.status.busy": "2022-04-13T09:47:14.550051Z",
     "iopub.status.idle": "2022-04-13T09:47:14.802947Z",
     "shell.execute_reply": "2022-04-13T09:47:14.802233Z",
     "shell.execute_reply.started": "2022-04-13T09:47:14.550342Z"
    }
   },
   "outputs": [],
   "source": [
    "df_train.boxplot(column='CreateJob', by = 'NewExist', return_type='axes', sym='k.')"
   ]
  },
  {
   "cell_type": "code",
   "execution_count": null,
   "metadata": {
    "execution": {
     "iopub.execute_input": "2022-04-13T09:50:09.101733Z",
     "iopub.status.busy": "2022-04-13T09:50:09.100752Z",
     "iopub.status.idle": "2022-04-13T09:50:09.824123Z",
     "shell.execute_reply": "2022-04-13T09:50:09.823064Z",
     "shell.execute_reply.started": "2022-04-13T09:50:09.101683Z"
    }
   },
   "outputs": [],
   "source": [
    "sns.FacetGrid(df_train, hue=\"Accept\", height=5).map(sns.kdeplot, \"CreateJob\").add_legend()"
   ]
  },
  {
   "cell_type": "code",
   "execution_count": null,
   "metadata": {
    "execution": {
     "iopub.execute_input": "2022-04-13T09:50:12.570267Z",
     "iopub.status.busy": "2022-04-13T09:50:12.569897Z",
     "iopub.status.idle": "2022-04-13T09:50:12.881273Z",
     "shell.execute_reply": "2022-04-13T09:50:12.880176Z",
     "shell.execute_reply.started": "2022-04-13T09:50:12.570227Z"
    }
   },
   "outputs": [],
   "source": [
    "df_train['RetainedJob'].hist(bins=30, range=(0, df_train['RetainedJob'].max()))"
   ]
  },
  {
   "cell_type": "code",
   "execution_count": null,
   "metadata": {
    "execution": {
     "iopub.execute_input": "2022-04-13T09:50:15.79004Z",
     "iopub.status.busy": "2022-04-13T09:50:15.789694Z",
     "iopub.status.idle": "2022-04-13T09:50:16.593529Z",
     "shell.execute_reply": "2022-04-13T09:50:16.591984Z",
     "shell.execute_reply.started": "2022-04-13T09:50:15.790003Z"
    }
   },
   "outputs": [],
   "source": [
    "sns.FacetGrid(df_train, hue=\"Accept\", height=5).map(sns.kdeplot, \"RetainedJob\").add_legend()"
   ]
  },
  {
   "cell_type": "code",
   "execution_count": null,
   "metadata": {
    "execution": {
     "iopub.execute_input": "2022-04-13T09:50:19.440847Z",
     "iopub.status.busy": "2022-04-13T09:50:19.439661Z",
     "iopub.status.idle": "2022-04-13T09:50:24.704165Z",
     "shell.execute_reply": "2022-04-13T09:50:24.703185Z",
     "shell.execute_reply.started": "2022-04-13T09:50:19.440802Z"
    }
   },
   "outputs": [],
   "source": [
    "df_train.boxplot(column='CreateJob', by = 'RetainedJob', return_type='axes', sym='k.')"
   ]
  },
  {
   "cell_type": "markdown",
   "metadata": {},
   "source": [
    "### Columna FranchiseCode\n",
    "\n",
    "Tal como muestra el resultado de train.describe(), esta columna no tiene valores nulos ni duplicados. Además, tiene un sesgo muy marcado al tener la mayor parte de sus valores entre 0 y 1 como se observa en la gráfica y en sus estadísticas."
   ]
  },
  {
   "cell_type": "code",
   "execution_count": 175,
   "metadata": {
    "execution": {
     "iopub.execute_input": "2022-04-13T09:45:39.3607Z",
     "iopub.status.busy": "2022-04-13T09:45:39.35982Z",
     "iopub.status.idle": "2022-04-13T09:45:39.665041Z",
     "shell.execute_reply": "2022-04-13T09:45:39.66406Z",
     "shell.execute_reply.started": "2022-04-13T09:45:39.360644Z"
    }
   },
   "outputs": [
    {
     "name": "stdout",
     "output_type": "stream",
     "text": [
      "*****************************************************\n",
      "La cantidad de valores con ceros es: 12084\n",
      "La cantidad de valores con unos es: 27310\n",
      "La cantidad de valores diferentes de cero y uno es: 991\n",
      "*****************************************************\n"
     ]
    },
    {
     "data": {
      "text/plain": [
       "count    40385.000000\n",
       "mean      1218.894342\n",
       "std       8647.991363\n",
       "min          0.000000\n",
       "25%          0.000000\n",
       "50%          1.000000\n",
       "75%          1.000000\n",
       "max      91110.000000\n",
       "Name: FranchiseCode, dtype: float64"
      ]
     },
     "execution_count": 175,
     "metadata": {},
     "output_type": "execute_result"
    },
    {
     "data": {
      "image/png": "[encoded data removed]",
      "text/plain": [
       "<Figure size 432x288 with 1 Axes>"
      ]
     },
     "metadata": {},
     "output_type": "display_data"
    }
   ],
   "source": [
    "train['FranchiseCode'].hist(bins=30, range=(0, train['FranchiseCode'].max()))\n",
    "print(\"*****************************************************\")\n",
    "print(\"La cantidad de valores con ceros es:\", train.FranchiseCode.loc[train.FranchiseCode == 0].count())\n",
    "print(\"La cantidad de valores con unos es:\", train.FranchiseCode.loc[train.FranchiseCode == 1].count())\n",
    "print(\"La cantidad de valores diferentes de cero y uno es:\", train.FranchiseCode.loc[train.FranchiseCode > 1].count())\n",
    "print(\"*****************************************************\")\n",
    "train.FranchiseCode.describe()"
   ]
  },
  {
   "cell_type": "markdown",
   "metadata": {},
   "source": [
    "Entonces, se procede a cambiar los valores para eliminar el sesgo dado que esta columna es un codigo asociado al préstamo."
   ]
  },
  {
   "cell_type": "code",
   "execution_count": 176,
   "metadata": {
    "execution": {
     "iopub.execute_input": "2022-04-13T11:33:13.227591Z",
     "iopub.status.busy": "2022-04-13T11:33:13.227304Z",
     "iopub.status.idle": "2022-04-13T11:33:14.444296Z",
     "shell.execute_reply": "2022-04-13T11:33:14.443741Z",
     "shell.execute_reply.started": "2022-04-13T11:33:13.22756Z"
    }
   },
   "outputs": [
    {
     "data": {
      "text/plain": [
       "<AxesSubplot:>"
      ]
     },
     "execution_count": 176,
     "metadata": {},
     "output_type": "execute_result"
    },
    {
     "data": {
      "image/png": "[encoded data removed]",
      "text/plain": [
       "<Figure size 432x288 with 1 Axes>"
      ]
     },
     "metadata": {},
     "output_type": "display_data"
    }
   ],
   "source": [
    "train.loc[train.FranchiseCode > 1, 'FranchiseCode'] = train.FranchiseCode.median()\n",
    "train['FranchiseCode'].hist()\n",
    "#Parece ser que FranchiseCode está relacionado con Accept\n",
    "#sns.barplot(x='FranchiseCode', y='Accept', data=df_train)"
   ]
  },
  {
   "cell_type": "markdown",
   "metadata": {},
   "source": [
    "### Columna UrbanRural\n",
    "\n",
    "En este caso, se observa claramente en el histograma que se tienen tres categorías, y al no tener valores nulos ni duplicados se deja intacta."
   ]
  },
  {
   "cell_type": "code",
   "execution_count": 177,
   "metadata": {
    "execution": {
     "iopub.execute_input": "2022-04-13T09:45:57.170999Z",
     "iopub.status.busy": "2022-04-13T09:45:57.170652Z",
     "iopub.status.idle": "2022-04-13T09:45:57.523663Z",
     "shell.execute_reply": "2022-04-13T09:45:57.522687Z",
     "shell.execute_reply.started": "2022-04-13T09:45:57.170945Z"
    }
   },
   "outputs": [
    {
     "data": {
      "text/plain": [
       "<AxesSubplot:>"
      ]
     },
     "execution_count": 177,
     "metadata": {},
     "output_type": "execute_result"
    },
    {
     "data": {
      "image/png": "[encoded data removed]",
      "text/plain": [
       "<Figure size 432x288 with 1 Axes>"
      ]
     },
     "metadata": {},
     "output_type": "display_data"
    }
   ],
   "source": [
    "train['UrbanRural'].hist(bins=30, range=(0, train['UrbanRural'].max()))"
   ]
  },
  {
   "cell_type": "code",
   "execution_count": null,
   "metadata": {
    "execution": {
     "iopub.execute_input": "2022-04-13T09:46:11.070793Z",
     "iopub.status.busy": "2022-04-13T09:46:11.070493Z",
     "iopub.status.idle": "2022-04-13T09:46:11.765354Z",
     "shell.execute_reply": "2022-04-13T09:46:11.764237Z",
     "shell.execute_reply.started": "2022-04-13T09:46:11.070761Z"
    }
   },
   "outputs": [],
   "source": [
    "sns.barplot(x='UrbanRural', y='Accept', data=df_train)"
   ]
  },
  {
   "cell_type": "markdown",
   "metadata": {},
   "source": [
    "### 2.2. Revisión de datos cualitativos"
   ]
  },
  {
   "cell_type": "code",
   "execution_count": 178,
   "metadata": {},
   "outputs": [
    {
     "data": {
      "text/html": [
       "<div>\n",
       "<style scoped>\n",
       "    .dataframe tbody tr th:only-of-type {\n",
       "        vertical-align: middle;\n",
       "    }\n",
       "\n",
       "    .dataframe tbody tr th {\n",
       "        vertical-align: top;\n",
       "    }\n",
       "\n",
       "    .dataframe thead th {\n",
       "        text-align: right;\n",
       "    }\n",
       "</style>\n",
       "<table border=\"1\" class=\"dataframe\">\n",
       "  <thead>\n",
       "    <tr style=\"text-align: right;\">\n",
       "      <th></th>\n",
       "      <th>id</th>\n",
       "      <th>Name</th>\n",
       "      <th>City</th>\n",
       "      <th>State</th>\n",
       "      <th>Bank</th>\n",
       "      <th>BankState</th>\n",
       "      <th>ApprovalDate</th>\n",
       "      <th>ApprovalFY</th>\n",
       "      <th>RevLineCr</th>\n",
       "      <th>LowDoc</th>\n",
       "      <th>DisbursementDate</th>\n",
       "      <th>DisbursementGross</th>\n",
       "      <th>BalanceGross</th>\n",
       "    </tr>\n",
       "  </thead>\n",
       "  <tbody>\n",
       "    <tr>\n",
       "      <th>count</th>\n",
       "      <td>40385</td>\n",
       "      <td>40382</td>\n",
       "      <td>40385</td>\n",
       "      <td>40385</td>\n",
       "      <td>40340</td>\n",
       "      <td>40338</td>\n",
       "      <td>40385</td>\n",
       "      <td>40385</td>\n",
       "      <td>40250</td>\n",
       "      <td>40330</td>\n",
       "      <td>40254</td>\n",
       "      <td>40385</td>\n",
       "      <td>40385</td>\n",
       "    </tr>\n",
       "    <tr>\n",
       "      <th>unique</th>\n",
       "      <td>40385</td>\n",
       "      <td>37615</td>\n",
       "      <td>2552</td>\n",
       "      <td>1</td>\n",
       "      <td>311</td>\n",
       "      <td>37</td>\n",
       "      <td>6189</td>\n",
       "      <td>87</td>\n",
       "      <td>4</td>\n",
       "      <td>7</td>\n",
       "      <td>2387</td>\n",
       "      <td>11206</td>\n",
       "      <td>1</td>\n",
       "    </tr>\n",
       "    <tr>\n",
       "      <th>top</th>\n",
       "      <td>b353a0b461c</td>\n",
       "      <td>SUBWAY</td>\n",
       "      <td>NEW YORK</td>\n",
       "      <td>NY</td>\n",
       "      <td>JPMORGAN CHASE BANK NATL ASSOC</td>\n",
       "      <td>NY</td>\n",
       "      <td>8-Nov-04</td>\n",
       "      <td>2005</td>\n",
       "      <td>N</td>\n",
       "      <td>N</td>\n",
       "      <td>31-Oct-05</td>\n",
       "      <td>$50,000.00</td>\n",
       "      <td>$0.00</td>\n",
       "    </tr>\n",
       "    <tr>\n",
       "      <th>freq</th>\n",
       "      <td>1</td>\n",
       "      <td>69</td>\n",
       "      <td>5440</td>\n",
       "      <td>40385</td>\n",
       "      <td>6244</td>\n",
       "      <td>19924</td>\n",
       "      <td>44</td>\n",
       "      <td>3528</td>\n",
       "      <td>17540</td>\n",
       "      <td>36575</td>\n",
       "      <td>512</td>\n",
       "      <td>2907</td>\n",
       "      <td>40385</td>\n",
       "    </tr>\n",
       "  </tbody>\n",
       "</table>\n",
       "</div>"
      ],
      "text/plain": [
       "                 id    Name      City  State                            Bank  \\\n",
       "count         40385   40382     40385  40385                           40340   \n",
       "unique        40385   37615      2552      1                             311   \n",
       "top     b353a0b461c  SUBWAY  NEW YORK     NY  JPMORGAN CHASE BANK NATL ASSOC   \n",
       "freq              1      69      5440  40385                            6244   \n",
       "\n",
       "       BankState ApprovalDate ApprovalFY RevLineCr LowDoc DisbursementDate  \\\n",
       "count      40338        40385      40385     40250  40330            40254   \n",
       "unique        37         6189         87         4      7             2387   \n",
       "top           NY     8-Nov-04       2005         N      N        31-Oct-05   \n",
       "freq       19924           44       3528     17540  36575              512   \n",
       "\n",
       "       DisbursementGross BalanceGross  \n",
       "count              40385        40385  \n",
       "unique             11206            1  \n",
       "top          $50,000.00        $0.00   \n",
       "freq                2907        40385  "
      ]
     },
     "execution_count": 178,
     "metadata": {},
     "output_type": "execute_result"
    }
   ],
   "source": [
    "train.select_dtypes(include=['object']).describe()"
   ]
  },
  {
   "cell_type": "code",
   "execution_count": 179,
   "metadata": {
    "execution": {
     "iopub.execute_input": "2022-04-13T09:50:42.55408Z",
     "iopub.status.busy": "2022-04-13T09:50:42.55358Z",
     "iopub.status.idle": "2022-04-13T09:50:42.592193Z",
     "shell.execute_reply": "2022-04-13T09:50:42.591491Z",
     "shell.execute_reply.started": "2022-04-13T09:50:42.554042Z"
    }
   },
   "outputs": [
    {
     "data": {
      "text/plain": [
       "id                     0\n",
       "Name                   3\n",
       "City                   0\n",
       "State                  0\n",
       "Bank                  45\n",
       "BankState             47\n",
       "ApprovalDate           0\n",
       "ApprovalFY             0\n",
       "RevLineCr            135\n",
       "LowDoc                55\n",
       "DisbursementDate     131\n",
       "DisbursementGross      0\n",
       "BalanceGross           0\n",
       "dtype: int64"
      ]
     },
     "execution_count": 179,
     "metadata": {},
     "output_type": "execute_result"
    }
   ],
   "source": [
    "# Visualizar los valores nulos de los atributos que quedan\n",
    "train.select_dtypes(include=['object']).isnull().sum()"
   ]
  },
  {
   "cell_type": "markdown",
   "metadata": {},
   "source": [
    "Al revisar los datos no numéricos, se considera que las siguientes columnas no son relevantes al momento de determinar el riesgo ya que aportan solamente información complementaria de la solicitud:\n",
    "- Name, representa el nombre del usuario. Se tienen 37615 valores únicos con alta complejidad de categorizar.\n",
    "- City, representa el nombre de la ciudad y al igual que Name, sus 2552 valores únicos no tendrían un alto impacto al categorizarlos.\n",
    "- State, se tiene un único valor (NY) que tampoco aportaría mayor información a la predicción.\n",
    "- Bank, en este caso se tienen menos variabilidad pero al ser un nombre propio no aporta información relevante.\n",
    "- BankState, el mismo caso que State.\n",
    "- BalanceGross, al igual que State, se tiene un único valor ($0.00) que no aportaría relevancia en la predicción.\n",
    "\n",
    "Finalmente, se tiene valores nulos en algunas columnas, por lo que se rellenarán más adelante."
   ]
  },
  {
   "cell_type": "code",
   "execution_count": 180,
   "metadata": {
    "execution": {
     "iopub.execute_input": "2022-04-13T11:33:27.449894Z",
     "iopub.status.busy": "2022-04-13T11:33:27.44935Z",
     "iopub.status.idle": "2022-04-13T11:33:27.459995Z",
     "shell.execute_reply": "2022-04-13T11:33:27.459284Z",
     "shell.execute_reply.started": "2022-04-13T11:33:27.449864Z"
    }
   },
   "outputs": [],
   "source": [
    "train.drop(['Name', 'City', 'State', 'Bank', 'BankState', 'BalanceGross'], axis=1, inplace=True)"
   ]
  },
  {
   "cell_type": "markdown",
   "metadata": {},
   "source": [
    "### Columna RevLineCr"
   ]
  },
  {
   "cell_type": "code",
   "execution_count": 181,
   "metadata": {
    "execution": {
     "iopub.execute_input": "2022-04-13T09:50:46.960496Z",
     "iopub.status.busy": "2022-04-13T09:50:46.960108Z",
     "iopub.status.idle": "2022-04-13T09:50:47.243325Z",
     "shell.execute_reply": "2022-04-13T09:50:47.242381Z",
     "shell.execute_reply.started": "2022-04-13T09:50:46.960457Z"
    }
   },
   "outputs": [
    {
     "data": {
      "text/plain": [
       "<AxesSubplot:xlabel='RevLineCr', ylabel='count'>"
      ]
     },
     "execution_count": 181,
     "metadata": {},
     "output_type": "execute_result"
    },
    {
     "data": {
      "image/png": "[encoded data removed]",
      "text/plain": [
       "<Figure size 432x288 with 1 Axes>"
      ]
     },
     "metadata": {},
     "output_type": "display_data"
    }
   ],
   "source": [
    "sns.countplot(x='RevLineCr', data=train)"
   ]
  },
  {
   "cell_type": "markdown",
   "metadata": {},
   "source": [
    "Se observa que para RevLineCr solo se pueden dar dos posibles valores (Y o N) pero se tienen otros (0 y T). Asumiremos, que aquellos que tienen 0 es un N y aquellos con T es un Y. Una vez hecho esto, se rellenan los nulos con el que más se repita, es decir N de acuerdo a lo mostrado por el describe()."
   ]
  },
  {
   "cell_type": "code",
   "execution_count": 182,
   "metadata": {
    "execution": {
     "iopub.execute_input": "2022-04-13T11:33:31.85712Z",
     "iopub.status.busy": "2022-04-13T11:33:31.856446Z",
     "iopub.status.idle": "2022-04-13T11:33:31.885403Z",
     "shell.execute_reply": "2022-04-13T11:33:31.884652Z",
     "shell.execute_reply.started": "2022-04-13T11:33:31.857088Z"
    }
   },
   "outputs": [
    {
     "data": {
      "text/plain": [
       "<AxesSubplot:xlabel='RevLineCr', ylabel='count'>"
      ]
     },
     "execution_count": 182,
     "metadata": {},
     "output_type": "execute_result"
    },
    {
     "data": {
      "image/png": "[encoded data removed]",
      "text/plain": [
       "<Figure size 432x288 with 1 Axes>"
      ]
     },
     "metadata": {},
     "output_type": "display_data"
    }
   ],
   "source": [
    "train.loc[train[\"RevLineCr\"] == \"0\", \"RevLineCr\"] = 'N'\n",
    "train.loc[train[\"RevLineCr\"] == \"T\", \"RevLineCr\"] = 'Y'\n",
    "train['RevLineCr'].fillna('N', inplace=True)\n",
    "sns.countplot(x='RevLineCr', data=train)\n",
    "#sns.barplot(x='RevLineCr', y='Accept', data=df_train)"
   ]
  },
  {
   "cell_type": "markdown",
   "metadata": {},
   "source": [
    "### Columna LowDoc"
   ]
  },
  {
   "cell_type": "code",
   "execution_count": 183,
   "metadata": {
    "execution": {
     "iopub.execute_input": "2022-04-13T09:50:57.520643Z",
     "iopub.status.busy": "2022-04-13T09:50:57.519798Z",
     "iopub.status.idle": "2022-04-13T09:50:57.808469Z",
     "shell.execute_reply": "2022-04-13T09:50:57.807563Z",
     "shell.execute_reply.started": "2022-04-13T09:50:57.520592Z"
    }
   },
   "outputs": [
    {
     "data": {
      "text/plain": [
       "<AxesSubplot:xlabel='LowDoc', ylabel='count'>"
      ]
     },
     "execution_count": 183,
     "metadata": {},
     "output_type": "execute_result"
    },
    {
     "data": {
      "image/png": "[encoded data removed]",
      "text/plain": [
       "<Figure size 432x288 with 1 Axes>"
      ]
     },
     "metadata": {},
     "output_type": "display_data"
    }
   ],
   "source": [
    "sns.countplot(x='LowDoc', data=train)"
   ]
  },
  {
   "cell_type": "markdown",
   "metadata": {},
   "source": [
    "Un caso similar ocurre con LowDoc, sin embargo, no podemos asumir cual es Y y N. Por lo tanto, simplemente reemplazamos todos aquellos que no correspondan por el que más se repite."
   ]
  },
  {
   "cell_type": "code",
   "execution_count": 184,
   "metadata": {
    "execution": {
     "iopub.execute_input": "2022-04-13T11:33:36.944996Z",
     "iopub.status.busy": "2022-04-13T11:33:36.944706Z",
     "iopub.status.idle": "2022-04-13T11:33:36.998687Z",
     "shell.execute_reply": "2022-04-13T11:33:36.997617Z",
     "shell.execute_reply.started": "2022-04-13T11:33:36.944962Z"
    }
   },
   "outputs": [
    {
     "data": {
      "text/plain": [
       "<AxesSubplot:xlabel='LowDoc', ylabel='count'>"
      ]
     },
     "execution_count": 184,
     "metadata": {},
     "output_type": "execute_result"
    },
    {
     "data": {
      "image/png": "[encoded data removed]",
      "text/plain": [
       "<Figure size 432x288 with 1 Axes>"
      ]
     },
     "metadata": {},
     "output_type": "display_data"
    }
   ],
   "source": [
    "train['LowDoc'].fillna('N', inplace=True)\n",
    "train.loc[train[\"LowDoc\"] == \"0\", \"LowDoc\"] = 'N'\n",
    "train.loc[train[\"LowDoc\"] == \"A\", \"LowDoc\"] = 'N'\n",
    "train.loc[train[\"LowDoc\"] == \"C\", \"LowDoc\"] = 'N'\n",
    "train.loc[train[\"LowDoc\"] == \"R\", \"LowDoc\"] = 'N'\n",
    "train.loc[train[\"LowDoc\"] == \"S\", \"LowDoc\"] = 'N'\n",
    "sns.countplot(x='LowDoc', data=train)"
   ]
  },
  {
   "cell_type": "code",
   "execution_count": null,
   "metadata": {
    "execution": {
     "iopub.execute_input": "2022-04-13T09:51:07.230189Z",
     "iopub.status.busy": "2022-04-13T09:51:07.22961Z",
     "iopub.status.idle": "2022-04-13T09:51:07.92573Z",
     "shell.execute_reply": "2022-04-13T09:51:07.924715Z",
     "shell.execute_reply.started": "2022-04-13T09:51:07.230147Z"
    }
   },
   "outputs": [],
   "source": [
    "sns.barplot(x='LowDoc', y='Accept', data=df_train)"
   ]
  },
  {
   "cell_type": "markdown",
   "metadata": {},
   "source": [
    "### Columna DisbursementGross"
   ]
  },
  {
   "cell_type": "markdown",
   "metadata": {},
   "source": [
    "Este atributo representa el monto del préstamo por lo que lo convertimos a numérico para su análisis."
   ]
  },
  {
   "cell_type": "code",
   "execution_count": 185,
   "metadata": {
    "execution": {
     "iopub.execute_input": "2022-04-13T11:33:45.836923Z",
     "iopub.status.busy": "2022-04-13T11:33:45.836569Z",
     "iopub.status.idle": "2022-04-13T11:33:46.104001Z",
     "shell.execute_reply": "2022-04-13T11:33:46.103095Z",
     "shell.execute_reply.started": "2022-04-13T11:33:45.836892Z"
    }
   },
   "outputs": [
    {
     "data": {
      "text/plain": [
       "count    4.038500e+04\n",
       "mean     1.469873e+05\n",
       "std      2.181362e+05\n",
       "min      0.000000e+00\n",
       "25%      3.500000e+04\n",
       "50%      7.500000e+04\n",
       "75%      1.550000e+05\n",
       "max      5.000000e+06\n",
       "Name: DisbursementGross, dtype: float64"
      ]
     },
     "execution_count": 185,
     "metadata": {},
     "output_type": "execute_result"
    }
   ],
   "source": [
    "train[\"DisbursementGross\"] = train[\"DisbursementGross\"].apply(lambda x: x[1:])\n",
    "train[\"DisbursementGross\"] = train[\"DisbursementGross\"].apply(lambda s: s.strip())\n",
    "train[\"DisbursementGross\"] = train[\"DisbursementGross\"].replace({',':''}, regex=True)\n",
    "train.loc[train[\"DisbursementGross\"] == \"\", \"DisbursementGross\"] = 0\n",
    "train[\"DisbursementGross\"] = train[\"DisbursementGross\"].astype(float)\n",
    "train.DisbursementGross.describe()"
   ]
  },
  {
   "cell_type": "code",
   "execution_count": 186,
   "metadata": {},
   "outputs": [
    {
     "data": {
      "text/plain": [
       "<AxesSubplot:>"
      ]
     },
     "execution_count": 186,
     "metadata": {},
     "output_type": "execute_result"
    },
    {
     "data": {
      "image/png": "[encoded data removed]",
      "text/plain": [
       "<Figure size 432x288 with 1 Axes>"
      ]
     },
     "metadata": {},
     "output_type": "display_data"
    }
   ],
   "source": [
    "train.DisbursementGross.hist()"
   ]
  },
  {
   "cell_type": "markdown",
   "metadata": {},
   "source": [
    "Se ve que para el 75%, los valores son menores o iguales a 155000.00. Sin embargo, no se modifica hasta observar su relación con el resto de atributos."
   ]
  },
  {
   "cell_type": "markdown",
   "metadata": {},
   "source": [
    "### Columna ApprovalFY\n",
    "\n",
    "Estos valores representan años, entonces se lo convierte en numérico para su análisis, pero al intentarlo, salta un error debido a que se tienen valores con caracteres. Se corrigen estos valores."
   ]
  },
  {
   "cell_type": "code",
   "execution_count": 205,
   "metadata": {},
   "outputs": [
    {
     "ename": "ValueError",
     "evalue": "invalid literal for int() with base 10: '1976A'",
     "output_type": "error",
     "traceback": [
      "\u001b[1;31m---------------------------------------------------------------------------\u001b[0m",
      "\u001b[1;31mValueError\u001b[0m                                Traceback (most recent call last)",
      "\u001b[1;32m~\\AppData\\Local\\Temp/ipykernel_21628/2184938822.py\u001b[0m in \u001b[0;36m<module>\u001b[1;34m\u001b[0m\n\u001b[0;32m      1\u001b[0m \u001b[1;31m# Se realiza una copia por si saltan errores\u001b[0m\u001b[1;33m\u001b[0m\u001b[1;33m\u001b[0m\u001b[0m\n\u001b[0;32m      2\u001b[0m \u001b[0mtrain_cp\u001b[0m \u001b[1;33m=\u001b[0m \u001b[0mtrain\u001b[0m\u001b[1;33m.\u001b[0m\u001b[0mcopy\u001b[0m\u001b[1;33m(\u001b[0m\u001b[1;33m)\u001b[0m\u001b[1;33m\u001b[0m\u001b[1;33m\u001b[0m\u001b[0m\n\u001b[1;32m----> 3\u001b[1;33m \u001b[0mtrain_cp\u001b[0m\u001b[1;33m[\u001b[0m\u001b[1;34m\"ApprovalFY\"\u001b[0m\u001b[1;33m]\u001b[0m \u001b[1;33m=\u001b[0m \u001b[0mtrain_cp\u001b[0m\u001b[1;33m[\u001b[0m\u001b[1;34m\"ApprovalFY\"\u001b[0m\u001b[1;33m]\u001b[0m\u001b[1;33m.\u001b[0m\u001b[0mastype\u001b[0m\u001b[1;33m(\u001b[0m\u001b[0mnp\u001b[0m\u001b[1;33m.\u001b[0m\u001b[0mint64\u001b[0m\u001b[1;33m)\u001b[0m\u001b[1;33m\u001b[0m\u001b[1;33m\u001b[0m\u001b[0m\n\u001b[0m",
      "\u001b[1;32m~\\Anaconda3\\lib\\site-packages\\pandas\\core\\generic.py\u001b[0m in \u001b[0;36mastype\u001b[1;34m(self, dtype, copy, errors)\u001b[0m\n\u001b[0;32m   5813\u001b[0m         \u001b[1;32melse\u001b[0m\u001b[1;33m:\u001b[0m\u001b[1;33m\u001b[0m\u001b[1;33m\u001b[0m\u001b[0m\n\u001b[0;32m   5814\u001b[0m             \u001b[1;31m# else, only a single dtype is given\u001b[0m\u001b[1;33m\u001b[0m\u001b[1;33m\u001b[0m\u001b[0m\n\u001b[1;32m-> 5815\u001b[1;33m             \u001b[0mnew_data\u001b[0m \u001b[1;33m=\u001b[0m \u001b[0mself\u001b[0m\u001b[1;33m.\u001b[0m\u001b[0m_mgr\u001b[0m\u001b[1;33m.\u001b[0m\u001b[0mastype\u001b[0m\u001b[1;33m(\u001b[0m\u001b[0mdtype\u001b[0m\u001b[1;33m=\u001b[0m\u001b[0mdtype\u001b[0m\u001b[1;33m,\u001b[0m \u001b[0mcopy\u001b[0m\u001b[1;33m=\u001b[0m\u001b[0mcopy\u001b[0m\u001b[1;33m,\u001b[0m \u001b[0merrors\u001b[0m\u001b[1;33m=\u001b[0m\u001b[0merrors\u001b[0m\u001b[1;33m)\u001b[0m\u001b[1;33m\u001b[0m\u001b[1;33m\u001b[0m\u001b[0m\n\u001b[0m\u001b[0;32m   5816\u001b[0m             \u001b[1;32mreturn\u001b[0m \u001b[0mself\u001b[0m\u001b[1;33m.\u001b[0m\u001b[0m_constructor\u001b[0m\u001b[1;33m(\u001b[0m\u001b[0mnew_data\u001b[0m\u001b[1;33m)\u001b[0m\u001b[1;33m.\u001b[0m\u001b[0m__finalize__\u001b[0m\u001b[1;33m(\u001b[0m\u001b[0mself\u001b[0m\u001b[1;33m,\u001b[0m \u001b[0mmethod\u001b[0m\u001b[1;33m=\u001b[0m\u001b[1;34m\"astype\"\u001b[0m\u001b[1;33m)\u001b[0m\u001b[1;33m\u001b[0m\u001b[1;33m\u001b[0m\u001b[0m\n\u001b[0;32m   5817\u001b[0m \u001b[1;33m\u001b[0m\u001b[0m\n",
      "\u001b[1;32m~\\Anaconda3\\lib\\site-packages\\pandas\\core\\internals\\managers.py\u001b[0m in \u001b[0;36mastype\u001b[1;34m(self, dtype, copy, errors)\u001b[0m\n\u001b[0;32m    416\u001b[0m \u001b[1;33m\u001b[0m\u001b[0m\n\u001b[0;32m    417\u001b[0m     \u001b[1;32mdef\u001b[0m \u001b[0mastype\u001b[0m\u001b[1;33m(\u001b[0m\u001b[0mself\u001b[0m\u001b[1;33m:\u001b[0m \u001b[0mT\u001b[0m\u001b[1;33m,\u001b[0m \u001b[0mdtype\u001b[0m\u001b[1;33m,\u001b[0m \u001b[0mcopy\u001b[0m\u001b[1;33m:\u001b[0m \u001b[0mbool\u001b[0m \u001b[1;33m=\u001b[0m \u001b[1;32mFalse\u001b[0m\u001b[1;33m,\u001b[0m \u001b[0merrors\u001b[0m\u001b[1;33m:\u001b[0m \u001b[0mstr\u001b[0m \u001b[1;33m=\u001b[0m \u001b[1;34m\"raise\"\u001b[0m\u001b[1;33m)\u001b[0m \u001b[1;33m->\u001b[0m \u001b[0mT\u001b[0m\u001b[1;33m:\u001b[0m\u001b[1;33m\u001b[0m\u001b[1;33m\u001b[0m\u001b[0m\n\u001b[1;32m--> 418\u001b[1;33m         \u001b[1;32mreturn\u001b[0m \u001b[0mself\u001b[0m\u001b[1;33m.\u001b[0m\u001b[0mapply\u001b[0m\u001b[1;33m(\u001b[0m\u001b[1;34m\"astype\"\u001b[0m\u001b[1;33m,\u001b[0m \u001b[0mdtype\u001b[0m\u001b[1;33m=\u001b[0m\u001b[0mdtype\u001b[0m\u001b[1;33m,\u001b[0m \u001b[0mcopy\u001b[0m\u001b[1;33m=\u001b[0m\u001b[0mcopy\u001b[0m\u001b[1;33m,\u001b[0m \u001b[0merrors\u001b[0m\u001b[1;33m=\u001b[0m\u001b[0merrors\u001b[0m\u001b[1;33m)\u001b[0m\u001b[1;33m\u001b[0m\u001b[1;33m\u001b[0m\u001b[0m\n\u001b[0m\u001b[0;32m    419\u001b[0m \u001b[1;33m\u001b[0m\u001b[0m\n\u001b[0;32m    420\u001b[0m     def convert(\n",
      "\u001b[1;32m~\\Anaconda3\\lib\\site-packages\\pandas\\core\\internals\\managers.py\u001b[0m in \u001b[0;36mapply\u001b[1;34m(self, f, align_keys, ignore_failures, **kwargs)\u001b[0m\n\u001b[0;32m    325\u001b[0m                     \u001b[0mapplied\u001b[0m \u001b[1;33m=\u001b[0m \u001b[0mb\u001b[0m\u001b[1;33m.\u001b[0m\u001b[0mapply\u001b[0m\u001b[1;33m(\u001b[0m\u001b[0mf\u001b[0m\u001b[1;33m,\u001b[0m \u001b[1;33m**\u001b[0m\u001b[0mkwargs\u001b[0m\u001b[1;33m)\u001b[0m\u001b[1;33m\u001b[0m\u001b[1;33m\u001b[0m\u001b[0m\n\u001b[0;32m    326\u001b[0m                 \u001b[1;32melse\u001b[0m\u001b[1;33m:\u001b[0m\u001b[1;33m\u001b[0m\u001b[1;33m\u001b[0m\u001b[0m\n\u001b[1;32m--> 327\u001b[1;33m                     \u001b[0mapplied\u001b[0m \u001b[1;33m=\u001b[0m \u001b[0mgetattr\u001b[0m\u001b[1;33m(\u001b[0m\u001b[0mb\u001b[0m\u001b[1;33m,\u001b[0m \u001b[0mf\u001b[0m\u001b[1;33m)\u001b[0m\u001b[1;33m(\u001b[0m\u001b[1;33m**\u001b[0m\u001b[0mkwargs\u001b[0m\u001b[1;33m)\u001b[0m\u001b[1;33m\u001b[0m\u001b[1;33m\u001b[0m\u001b[0m\n\u001b[0m\u001b[0;32m    328\u001b[0m             \u001b[1;32mexcept\u001b[0m \u001b[1;33m(\u001b[0m\u001b[0mTypeError\u001b[0m\u001b[1;33m,\u001b[0m \u001b[0mNotImplementedError\u001b[0m\u001b[1;33m)\u001b[0m\u001b[1;33m:\u001b[0m\u001b[1;33m\u001b[0m\u001b[1;33m\u001b[0m\u001b[0m\n\u001b[0;32m    329\u001b[0m                 \u001b[1;32mif\u001b[0m \u001b[1;32mnot\u001b[0m \u001b[0mignore_failures\u001b[0m\u001b[1;33m:\u001b[0m\u001b[1;33m\u001b[0m\u001b[1;33m\u001b[0m\u001b[0m\n",
      "\u001b[1;32m~\\Anaconda3\\lib\\site-packages\\pandas\\core\\internals\\blocks.py\u001b[0m in \u001b[0;36mastype\u001b[1;34m(self, dtype, copy, errors)\u001b[0m\n\u001b[0;32m    589\u001b[0m         \u001b[0mvalues\u001b[0m \u001b[1;33m=\u001b[0m \u001b[0mself\u001b[0m\u001b[1;33m.\u001b[0m\u001b[0mvalues\u001b[0m\u001b[1;33m\u001b[0m\u001b[1;33m\u001b[0m\u001b[0m\n\u001b[0;32m    590\u001b[0m \u001b[1;33m\u001b[0m\u001b[0m\n\u001b[1;32m--> 591\u001b[1;33m         \u001b[0mnew_values\u001b[0m \u001b[1;33m=\u001b[0m \u001b[0mastype_array_safe\u001b[0m\u001b[1;33m(\u001b[0m\u001b[0mvalues\u001b[0m\u001b[1;33m,\u001b[0m \u001b[0mdtype\u001b[0m\u001b[1;33m,\u001b[0m \u001b[0mcopy\u001b[0m\u001b[1;33m=\u001b[0m\u001b[0mcopy\u001b[0m\u001b[1;33m,\u001b[0m \u001b[0merrors\u001b[0m\u001b[1;33m=\u001b[0m\u001b[0merrors\u001b[0m\u001b[1;33m)\u001b[0m\u001b[1;33m\u001b[0m\u001b[1;33m\u001b[0m\u001b[0m\n\u001b[0m\u001b[0;32m    592\u001b[0m \u001b[1;33m\u001b[0m\u001b[0m\n\u001b[0;32m    593\u001b[0m         \u001b[0mnew_values\u001b[0m \u001b[1;33m=\u001b[0m \u001b[0mmaybe_coerce_values\u001b[0m\u001b[1;33m(\u001b[0m\u001b[0mnew_values\u001b[0m\u001b[1;33m)\u001b[0m\u001b[1;33m\u001b[0m\u001b[1;33m\u001b[0m\u001b[0m\n",
      "\u001b[1;32m~\\Anaconda3\\lib\\site-packages\\pandas\\core\\dtypes\\cast.py\u001b[0m in \u001b[0;36mastype_array_safe\u001b[1;34m(values, dtype, copy, errors)\u001b[0m\n\u001b[0;32m   1307\u001b[0m \u001b[1;33m\u001b[0m\u001b[0m\n\u001b[0;32m   1308\u001b[0m     \u001b[1;32mtry\u001b[0m\u001b[1;33m:\u001b[0m\u001b[1;33m\u001b[0m\u001b[1;33m\u001b[0m\u001b[0m\n\u001b[1;32m-> 1309\u001b[1;33m         \u001b[0mnew_values\u001b[0m \u001b[1;33m=\u001b[0m \u001b[0mastype_array\u001b[0m\u001b[1;33m(\u001b[0m\u001b[0mvalues\u001b[0m\u001b[1;33m,\u001b[0m \u001b[0mdtype\u001b[0m\u001b[1;33m,\u001b[0m \u001b[0mcopy\u001b[0m\u001b[1;33m=\u001b[0m\u001b[0mcopy\u001b[0m\u001b[1;33m)\u001b[0m\u001b[1;33m\u001b[0m\u001b[1;33m\u001b[0m\u001b[0m\n\u001b[0m\u001b[0;32m   1310\u001b[0m     \u001b[1;32mexcept\u001b[0m \u001b[1;33m(\u001b[0m\u001b[0mValueError\u001b[0m\u001b[1;33m,\u001b[0m \u001b[0mTypeError\u001b[0m\u001b[1;33m)\u001b[0m\u001b[1;33m:\u001b[0m\u001b[1;33m\u001b[0m\u001b[1;33m\u001b[0m\u001b[0m\n\u001b[0;32m   1311\u001b[0m         \u001b[1;31m# e.g. astype_nansafe can fail on object-dtype of strings\u001b[0m\u001b[1;33m\u001b[0m\u001b[1;33m\u001b[0m\u001b[0m\n",
      "\u001b[1;32m~\\Anaconda3\\lib\\site-packages\\pandas\\core\\dtypes\\cast.py\u001b[0m in \u001b[0;36mastype_array\u001b[1;34m(values, dtype, copy)\u001b[0m\n\u001b[0;32m   1255\u001b[0m \u001b[1;33m\u001b[0m\u001b[0m\n\u001b[0;32m   1256\u001b[0m     \u001b[1;32melse\u001b[0m\u001b[1;33m:\u001b[0m\u001b[1;33m\u001b[0m\u001b[1;33m\u001b[0m\u001b[0m\n\u001b[1;32m-> 1257\u001b[1;33m         \u001b[0mvalues\u001b[0m \u001b[1;33m=\u001b[0m \u001b[0mastype_nansafe\u001b[0m\u001b[1;33m(\u001b[0m\u001b[0mvalues\u001b[0m\u001b[1;33m,\u001b[0m \u001b[0mdtype\u001b[0m\u001b[1;33m,\u001b[0m \u001b[0mcopy\u001b[0m\u001b[1;33m=\u001b[0m\u001b[0mcopy\u001b[0m\u001b[1;33m)\u001b[0m\u001b[1;33m\u001b[0m\u001b[1;33m\u001b[0m\u001b[0m\n\u001b[0m\u001b[0;32m   1258\u001b[0m \u001b[1;33m\u001b[0m\u001b[0m\n\u001b[0;32m   1259\u001b[0m     \u001b[1;31m# in pandas we don't store numpy str dtypes, so convert to object\u001b[0m\u001b[1;33m\u001b[0m\u001b[1;33m\u001b[0m\u001b[0m\n",
      "\u001b[1;32m~\\Anaconda3\\lib\\site-packages\\pandas\\core\\dtypes\\cast.py\u001b[0m in \u001b[0;36mastype_nansafe\u001b[1;34m(arr, dtype, copy, skipna)\u001b[0m\n\u001b[0;32m   1172\u001b[0m         \u001b[1;31m# work around NumPy brokenness, #1987\u001b[0m\u001b[1;33m\u001b[0m\u001b[1;33m\u001b[0m\u001b[0m\n\u001b[0;32m   1173\u001b[0m         \u001b[1;32mif\u001b[0m \u001b[0mnp\u001b[0m\u001b[1;33m.\u001b[0m\u001b[0missubdtype\u001b[0m\u001b[1;33m(\u001b[0m\u001b[0mdtype\u001b[0m\u001b[1;33m.\u001b[0m\u001b[0mtype\u001b[0m\u001b[1;33m,\u001b[0m \u001b[0mnp\u001b[0m\u001b[1;33m.\u001b[0m\u001b[0minteger\u001b[0m\u001b[1;33m)\u001b[0m\u001b[1;33m:\u001b[0m\u001b[1;33m\u001b[0m\u001b[1;33m\u001b[0m\u001b[0m\n\u001b[1;32m-> 1174\u001b[1;33m             \u001b[1;32mreturn\u001b[0m \u001b[0mlib\u001b[0m\u001b[1;33m.\u001b[0m\u001b[0mastype_intsafe\u001b[0m\u001b[1;33m(\u001b[0m\u001b[0marr\u001b[0m\u001b[1;33m,\u001b[0m \u001b[0mdtype\u001b[0m\u001b[1;33m)\u001b[0m\u001b[1;33m\u001b[0m\u001b[1;33m\u001b[0m\u001b[0m\n\u001b[0m\u001b[0;32m   1175\u001b[0m \u001b[1;33m\u001b[0m\u001b[0m\n\u001b[0;32m   1176\u001b[0m         \u001b[1;31m# if we have a datetime/timedelta array of objects\u001b[0m\u001b[1;33m\u001b[0m\u001b[1;33m\u001b[0m\u001b[0m\n",
      "\u001b[1;32m~\\Anaconda3\\lib\\site-packages\\pandas\\_libs\\lib.pyx\u001b[0m in \u001b[0;36mpandas._libs.lib.astype_intsafe\u001b[1;34m()\u001b[0m\n",
      "\u001b[1;31mValueError\u001b[0m: invalid literal for int() with base 10: '1976A'"
     ]
    }
   ],
   "source": [
    "# Se realiza una copia por si saltan errores\n",
    "train_cp = train.copy()\n",
    "train_cp[\"ApprovalFY\"] = train_cp[\"ApprovalFY\"].astype(np.int64)"
   ]
  },
  {
   "cell_type": "code",
   "execution_count": 222,
   "metadata": {},
   "outputs": [
    {
     "data": {
      "text/plain": [
       "count    40385.000000\n",
       "mean      2001.670125\n",
       "std          5.782541\n",
       "min       1965.000000\n",
       "25%       1997.000000\n",
       "50%       2003.000000\n",
       "75%       2006.000000\n",
       "max       2014.000000\n",
       "Name: ApprovalFY, dtype: float64"
      ]
     },
     "execution_count": 222,
     "metadata": {},
     "output_type": "execute_result"
    }
   ],
   "source": [
    "train_cp = train.copy()\n",
    "train_cp[\"ApprovalFY\"] = train_cp[\"ApprovalFY\"].astype(str)\n",
    "train_cp[\"ApprovalFY\"] = train_cp[\"ApprovalFY\"].apply(lambda x: x[:4])\n",
    "train_cp[\"ApprovalFY\"] = train_cp[\"ApprovalFY\"].astype(np.int64)\n",
    "train = train_cp\n",
    "train.ApprovalFY.describe()"
   ]
  },
  {
   "cell_type": "code",
   "execution_count": 223,
   "metadata": {},
   "outputs": [
    {
     "data": {
      "text/plain": [
       "<AxesSubplot:>"
      ]
     },
     "execution_count": 223,
     "metadata": {},
     "output_type": "execute_result"
    },
    {
     "data": {
      "image/png": "[encoded data removed]",
      "text/plain": [
       "<Figure size 432x288 with 1 Axes>"
      ]
     },
     "metadata": {},
     "output_type": "display_data"
    }
   ],
   "source": [
    "train.ApprovalFY.hist()"
   ]
  },
  {
   "cell_type": "code",
   "execution_count": 224,
   "metadata": {},
   "outputs": [
    {
     "data": {
      "text/plain": [
       "<AxesSubplot:>"
      ]
     },
     "execution_count": 224,
     "metadata": {},
     "output_type": "execute_result"
    },
    {
     "data": {
      "image/png": "[encoded data removed]",
      "text/plain": [
       "<Figure size 432x288 with 1 Axes>"
      ]
     },
     "metadata": {},
     "output_type": "display_data"
    }
   ],
   "source": [
    "train.boxplot(column='ApprovalFY')"
   ]
  },
  {
   "cell_type": "code",
   "execution_count": 225,
   "metadata": {},
   "outputs": [
    {
     "data": {
      "text/plain": [
       "300"
      ]
     },
     "execution_count": 225,
     "metadata": {},
     "output_type": "execute_result"
    }
   ],
   "source": [
    "train.loc[train_cp.ApprovalFY <= 1985].ApprovalFY.count()"
   ]
  },
  {
   "cell_type": "markdown",
   "metadata": {},
   "source": [
    "Una vez aplicado el cambio, aunque se tiene una distribución asimétrica, no se hace ninguna alteración ya que se considera que esta no afectaría a la predicción al tenerse una alta cantidad (300 valores) de outliers."
   ]
  },
  {
   "cell_type": "markdown",
   "metadata": {},
   "source": [
    "### Columnas ApprovalDate y DisbursementDate\n",
    "\n",
    "Estos atributos representan las fechas de aprobación y conseción del préstamo, respectivamente. Se transforman al tipo de dato fecha para su análisis."
   ]
  },
  {
   "cell_type": "code",
   "execution_count": null,
   "metadata": {
    "execution": {
     "iopub.execute_input": "2022-04-13T09:51:24.198671Z",
     "iopub.status.busy": "2022-04-13T09:51:24.197835Z",
     "iopub.status.idle": "2022-04-13T09:51:24.402555Z",
     "shell.execute_reply": "2022-04-13T09:51:24.401413Z",
     "shell.execute_reply.started": "2022-04-13T09:51:24.198624Z"
    }
   },
   "outputs": [],
   "source": [
    "#sns.boxplot(data=df_train.iloc[:40385,-2:-1])"
   ]
  },
  {
   "cell_type": "code",
   "execution_count": null,
   "metadata": {
    "execution": {
     "iopub.execute_input": "2022-04-13T09:51:31.617894Z",
     "iopub.status.busy": "2022-04-13T09:51:31.617579Z",
     "iopub.status.idle": "2022-04-13T09:51:31.930786Z",
     "shell.execute_reply": "2022-04-13T09:51:31.930078Z",
     "shell.execute_reply.started": "2022-04-13T09:51:31.617861Z"
    }
   },
   "outputs": [],
   "source": [
    "#df_train.boxplot(column='DisbursementGross', by = 'NewExist', return_type='axes', sym='k.')"
   ]
  },
  {
   "cell_type": "code",
   "execution_count": null,
   "metadata": {
    "execution": {
     "iopub.execute_input": "2022-04-13T09:51:36.348651Z",
     "iopub.status.busy": "2022-04-13T09:51:36.347762Z",
     "iopub.status.idle": "2022-04-13T09:51:37.164421Z",
     "shell.execute_reply": "2022-04-13T09:51:37.163557Z",
     "shell.execute_reply.started": "2022-04-13T09:51:36.348599Z"
    }
   },
   "outputs": [],
   "source": [
    "#sns.barplot(x='RevLineCr', y='DisbursementGross', hue='Accept', data=df_train)"
   ]
  },
  {
   "cell_type": "code",
   "execution_count": null,
   "metadata": {
    "execution": {
     "iopub.execute_input": "2022-04-13T09:51:41.250709Z",
     "iopub.status.busy": "2022-04-13T09:51:41.249678Z",
     "iopub.status.idle": "2022-04-13T09:51:42.06456Z",
     "shell.execute_reply": "2022-04-13T09:51:42.063701Z",
     "shell.execute_reply.started": "2022-04-13T09:51:41.25065Z"
    }
   },
   "outputs": [],
   "source": [
    "#sns.barplot(x='NewExist', y='DisbursementGross', hue='Accept', data=df_train)"
   ]
  },
  {
   "cell_type": "code",
   "execution_count": null,
   "metadata": {
    "execution": {
     "iopub.execute_input": "2022-04-13T09:52:07.820826Z",
     "iopub.status.busy": "2022-04-13T09:52:07.820494Z",
     "iopub.status.idle": "2022-04-13T09:52:08.779456Z",
     "shell.execute_reply": "2022-04-13T09:52:08.77859Z",
     "shell.execute_reply.started": "2022-04-13T09:52:07.820786Z"
    }
   },
   "outputs": [],
   "source": [
    "#sns.barplot(x=\"UrbanRural\", y='DisbursementGross', hue='NewExist', data=df_train)"
   ]
  },
  {
   "cell_type": "code",
   "execution_count": 151,
   "metadata": {
    "execution": {
     "iopub.execute_input": "2022-04-13T11:57:43.277714Z",
     "iopub.status.busy": "2022-04-13T11:57:43.277463Z",
     "iopub.status.idle": "2022-04-13T11:57:43.30462Z",
     "shell.execute_reply": "2022-04-13T11:57:43.304151Z",
     "shell.execute_reply.started": "2022-04-13T11:57:43.277685Z"
    }
   },
   "outputs": [],
   "source": [
    "#df = df_train.copy()\n",
    "#df.drop(['RetainedJob', 'CreateJob'], axis=1, inplace=True)\n",
    "#df.info()"
   ]
  },
  {
   "cell_type": "markdown",
   "metadata": {},
   "source": [
    "Previo al análisis bivariable, se categoriza cada columna no numérica como se muestra a continuación."
   ]
  },
  {
   "cell_type": "code",
   "execution_count": 14,
   "metadata": {
    "execution": {
     "iopub.execute_input": "2022-04-13T11:57:53.976967Z",
     "iopub.status.busy": "2022-04-13T11:57:53.976601Z",
     "iopub.status.idle": "2022-04-13T11:57:54.042437Z",
     "shell.execute_reply": "2022-04-13T11:57:54.041624Z",
     "shell.execute_reply.started": "2022-04-13T11:57:53.976939Z"
    }
   },
   "outputs": [
    {
     "data": {
      "text/html": [
       "<div>\n",
       "<style scoped>\n",
       "    .dataframe tbody tr th:only-of-type {\n",
       "        vertical-align: middle;\n",
       "    }\n",
       "\n",
       "    .dataframe tbody tr th {\n",
       "        vertical-align: top;\n",
       "    }\n",
       "\n",
       "    .dataframe thead th {\n",
       "        text-align: right;\n",
       "    }\n",
       "</style>\n",
       "<table border=\"1\" class=\"dataframe\">\n",
       "  <thead>\n",
       "    <tr style=\"text-align: right;\">\n",
       "      <th></th>\n",
       "      <th>id</th>\n",
       "      <th>NoEmp</th>\n",
       "      <th>NewExist</th>\n",
       "      <th>CreateJob</th>\n",
       "      <th>RetainedJob</th>\n",
       "      <th>FranchiseCode</th>\n",
       "      <th>UrbanRural</th>\n",
       "      <th>RevLineCr</th>\n",
       "      <th>LowDoc</th>\n",
       "      <th>DisbursementGross</th>\n",
       "      <th>Accept</th>\n",
       "    </tr>\n",
       "  </thead>\n",
       "  <tbody>\n",
       "    <tr>\n",
       "      <th>0</th>\n",
       "      <td>b353a0b461c</td>\n",
       "      <td>20</td>\n",
       "      <td>1.0</td>\n",
       "      <td>0</td>\n",
       "      <td>0</td>\n",
       "      <td>0</td>\n",
       "      <td>0</td>\n",
       "      <td>0</td>\n",
       "      <td>0</td>\n",
       "      <td>350000.0</td>\n",
       "      <td>1.0</td>\n",
       "    </tr>\n",
       "    <tr>\n",
       "      <th>1</th>\n",
       "      <td>cca24bbcc48</td>\n",
       "      <td>3</td>\n",
       "      <td>1.0</td>\n",
       "      <td>1</td>\n",
       "      <td>4</td>\n",
       "      <td>0</td>\n",
       "      <td>2</td>\n",
       "      <td>0</td>\n",
       "      <td>0</td>\n",
       "      <td>35000.0</td>\n",
       "      <td>1.0</td>\n",
       "    </tr>\n",
       "    <tr>\n",
       "      <th>2</th>\n",
       "      <td>e60644381ce</td>\n",
       "      <td>5</td>\n",
       "      <td>1.0</td>\n",
       "      <td>0</td>\n",
       "      <td>5</td>\n",
       "      <td>0</td>\n",
       "      <td>1</td>\n",
       "      <td>0</td>\n",
       "      <td>0</td>\n",
       "      <td>50000.0</td>\n",
       "      <td>1.0</td>\n",
       "    </tr>\n",
       "    <tr>\n",
       "      <th>3</th>\n",
       "      <td>ffca41a2760</td>\n",
       "      <td>25</td>\n",
       "      <td>1.0</td>\n",
       "      <td>0</td>\n",
       "      <td>0</td>\n",
       "      <td>0</td>\n",
       "      <td>0</td>\n",
       "      <td>0</td>\n",
       "      <td>0</td>\n",
       "      <td>190000.0</td>\n",
       "      <td>1.0</td>\n",
       "    </tr>\n",
       "    <tr>\n",
       "      <th>4</th>\n",
       "      <td>79e48255003</td>\n",
       "      <td>6</td>\n",
       "      <td>1.0</td>\n",
       "      <td>0</td>\n",
       "      <td>0</td>\n",
       "      <td>0</td>\n",
       "      <td>1</td>\n",
       "      <td>0</td>\n",
       "      <td>1</td>\n",
       "      <td>30000.0</td>\n",
       "      <td>1.0</td>\n",
       "    </tr>\n",
       "  </tbody>\n",
       "</table>\n",
       "</div>"
      ],
      "text/plain": [
       "            id  NoEmp  NewExist  CreateJob  RetainedJob  FranchiseCode  \\\n",
       "0  b353a0b461c     20       1.0          0            0              0   \n",
       "1  cca24bbcc48      3       1.0          1            4              0   \n",
       "2  e60644381ce      5       1.0          0            5              0   \n",
       "3  ffca41a2760     25       1.0          0            0              0   \n",
       "4  79e48255003      6       1.0          0            0              0   \n",
       "\n",
       "   UrbanRural  RevLineCr  LowDoc  DisbursementGross  Accept  \n",
       "0           0          0       0           350000.0     1.0  \n",
       "1           2          0       0            35000.0     1.0  \n",
       "2           1          0       0            50000.0     1.0  \n",
       "3           0          0       0           190000.0     1.0  \n",
       "4           1          0       1            30000.0     1.0  "
      ]
     },
     "execution_count": 14,
     "metadata": {},
     "output_type": "execute_result"
    }
   ],
   "source": [
    "#df[\"NewExist\"] = df[\"NewExist\"].astype(str)\n",
    "#df[\"FranchiseCode\"] = df[\"FranchiseCode\"].astype(str)\n",
    "#df[\"UrbanRural\"] = df[\"UrbanRural\"].astype(str)\n",
    "#df = pd.get_dummies(df, columns=['NewExist', 'FranchiseCode', 'UrbanRural', 'RevLineCr', 'LowDoc'])\n",
    "\n",
    "train.loc[train[\"RevLineCr\"] == \"N\", \"RevLineCr\"] = 0\n",
    "train.loc[train[\"RevLineCr\"] == \"Y\", \"RevLineCr\"] = 1\n",
    "train.loc[train[\"LowDoc\"] == \"N\", \"LowDoc\"] = 0\n",
    "train.loc[train[\"LowDoc\"] == \"Y\", \"LowDoc\"] = 1\n",
    "train[\"RevLineCr\"] = train[\"RevLineCr\"].astype(np.int64)\n",
    "train[\"LowDoc\"] = train[\"LowDoc\"].astype(np.int64)\n",
    "train[\"DisbursementGross\"] = train[\"DisbursementGross\"].astype(np.int64)\n",
    "train.head()"
   ]
  },
  {
   "cell_type": "code",
   "execution_count": null,
   "metadata": {
    "execution": {
     "iopub.execute_input": "2022-04-13T10:17:15.631337Z",
     "iopub.status.busy": "2022-04-13T10:17:15.630553Z",
     "iopub.status.idle": "2022-04-13T10:17:15.665785Z",
     "shell.execute_reply": "2022-04-13T10:17:15.665001Z",
     "shell.execute_reply.started": "2022-04-13T10:17:15.63129Z"
    }
   },
   "outputs": [],
   "source": [
    "df"
   ]
  },
  {
   "cell_type": "code",
   "execution_count": null,
   "metadata": {
    "execution": {
     "iopub.execute_input": "2022-04-13T10:17:37.13363Z",
     "iopub.status.busy": "2022-04-13T10:17:37.132757Z",
     "iopub.status.idle": "2022-04-13T10:17:37.149064Z",
     "shell.execute_reply": "2022-04-13T10:17:37.148316Z",
     "shell.execute_reply.started": "2022-04-13T10:17:37.133586Z"
    }
   },
   "outputs": [],
   "source": [
    "df.isnull().any()"
   ]
  },
  {
   "cell_type": "code",
   "execution_count": 15,
   "metadata": {
    "execution": {
     "iopub.execute_input": "2022-04-13T11:58:03.998379Z",
     "iopub.status.busy": "2022-04-13T11:58:03.998132Z",
     "iopub.status.idle": "2022-04-13T11:58:04.047606Z",
     "shell.execute_reply": "2022-04-13T11:58:04.046835Z",
     "shell.execute_reply.started": "2022-04-13T11:58:03.998352Z"
    }
   },
   "outputs": [
    {
     "data": {
      "text/html": [
       "<div>\n",
       "<style scoped>\n",
       "    .dataframe tbody tr th:only-of-type {\n",
       "        vertical-align: middle;\n",
       "    }\n",
       "\n",
       "    .dataframe tbody tr th {\n",
       "        vertical-align: top;\n",
       "    }\n",
       "\n",
       "    .dataframe thead th {\n",
       "        text-align: right;\n",
       "    }\n",
       "</style>\n",
       "<table border=\"1\" class=\"dataframe\">\n",
       "  <thead>\n",
       "    <tr style=\"text-align: right;\">\n",
       "      <th></th>\n",
       "      <th>NoEmp</th>\n",
       "      <th>NewExist</th>\n",
       "      <th>CreateJob</th>\n",
       "      <th>RetainedJob</th>\n",
       "      <th>FranchiseCode</th>\n",
       "      <th>UrbanRural</th>\n",
       "      <th>RevLineCr</th>\n",
       "      <th>LowDoc</th>\n",
       "      <th>DisbursementGross</th>\n",
       "      <th>Accept</th>\n",
       "    </tr>\n",
       "  </thead>\n",
       "  <tbody>\n",
       "    <tr>\n",
       "      <th>count</th>\n",
       "      <td>40385.000000</td>\n",
       "      <td>40385.000000</td>\n",
       "      <td>40385.000000</td>\n",
       "      <td>40385.000000</td>\n",
       "      <td>40385.000000</td>\n",
       "      <td>40385.00000</td>\n",
       "      <td>40385.000000</td>\n",
       "      <td>40385.000000</td>\n",
       "      <td>4.038500e+04</td>\n",
       "      <td>40385.000000</td>\n",
       "    </tr>\n",
       "    <tr>\n",
       "      <th>mean</th>\n",
       "      <td>9.485750</td>\n",
       "      <td>1.280129</td>\n",
       "      <td>4.273666</td>\n",
       "      <td>7.128191</td>\n",
       "      <td>0.024539</td>\n",
       "      <td>0.76885</td>\n",
       "      <td>0.347629</td>\n",
       "      <td>0.091717</td>\n",
       "      <td>1.469873e+05</td>\n",
       "      <td>0.796360</td>\n",
       "    </tr>\n",
       "    <tr>\n",
       "      <th>std</th>\n",
       "      <td>54.872591</td>\n",
       "      <td>0.449068</td>\n",
       "      <td>151.989529</td>\n",
       "      <td>152.156119</td>\n",
       "      <td>0.154717</td>\n",
       "      <td>0.59020</td>\n",
       "      <td>0.476223</td>\n",
       "      <td>0.288630</td>\n",
       "      <td>2.181362e+05</td>\n",
       "      <td>0.402709</td>\n",
       "    </tr>\n",
       "    <tr>\n",
       "      <th>min</th>\n",
       "      <td>0.000000</td>\n",
       "      <td>1.000000</td>\n",
       "      <td>0.000000</td>\n",
       "      <td>0.000000</td>\n",
       "      <td>0.000000</td>\n",
       "      <td>0.00000</td>\n",
       "      <td>0.000000</td>\n",
       "      <td>0.000000</td>\n",
       "      <td>0.000000e+00</td>\n",
       "      <td>0.000000</td>\n",
       "    </tr>\n",
       "    <tr>\n",
       "      <th>25%</th>\n",
       "      <td>2.000000</td>\n",
       "      <td>1.000000</td>\n",
       "      <td>0.000000</td>\n",
       "      <td>0.000000</td>\n",
       "      <td>0.000000</td>\n",
       "      <td>0.00000</td>\n",
       "      <td>0.000000</td>\n",
       "      <td>0.000000</td>\n",
       "      <td>3.500000e+04</td>\n",
       "      <td>1.000000</td>\n",
       "    </tr>\n",
       "    <tr>\n",
       "      <th>50%</th>\n",
       "      <td>4.000000</td>\n",
       "      <td>1.000000</td>\n",
       "      <td>0.000000</td>\n",
       "      <td>1.000000</td>\n",
       "      <td>0.000000</td>\n",
       "      <td>1.00000</td>\n",
       "      <td>0.000000</td>\n",
       "      <td>0.000000</td>\n",
       "      <td>7.500000e+04</td>\n",
       "      <td>1.000000</td>\n",
       "    </tr>\n",
       "    <tr>\n",
       "      <th>75%</th>\n",
       "      <td>9.000000</td>\n",
       "      <td>2.000000</td>\n",
       "      <td>1.000000</td>\n",
       "      <td>5.000000</td>\n",
       "      <td>0.000000</td>\n",
       "      <td>1.00000</td>\n",
       "      <td>1.000000</td>\n",
       "      <td>0.000000</td>\n",
       "      <td>1.550000e+05</td>\n",
       "      <td>1.000000</td>\n",
       "    </tr>\n",
       "    <tr>\n",
       "      <th>max</th>\n",
       "      <td>9999.000000</td>\n",
       "      <td>2.000000</td>\n",
       "      <td>8800.000000</td>\n",
       "      <td>8800.000000</td>\n",
       "      <td>1.000000</td>\n",
       "      <td>2.00000</td>\n",
       "      <td>1.000000</td>\n",
       "      <td>1.000000</td>\n",
       "      <td>5.000000e+06</td>\n",
       "      <td>1.000000</td>\n",
       "    </tr>\n",
       "  </tbody>\n",
       "</table>\n",
       "</div>"
      ],
      "text/plain": [
       "              NoEmp      NewExist     CreateJob   RetainedJob  FranchiseCode  \\\n",
       "count  40385.000000  40385.000000  40385.000000  40385.000000   40385.000000   \n",
       "mean       9.485750      1.280129      4.273666      7.128191       0.024539   \n",
       "std       54.872591      0.449068    151.989529    152.156119       0.154717   \n",
       "min        0.000000      1.000000      0.000000      0.000000       0.000000   \n",
       "25%        2.000000      1.000000      0.000000      0.000000       0.000000   \n",
       "50%        4.000000      1.000000      0.000000      1.000000       0.000000   \n",
       "75%        9.000000      2.000000      1.000000      5.000000       0.000000   \n",
       "max     9999.000000      2.000000   8800.000000   8800.000000       1.000000   \n",
       "\n",
       "        UrbanRural     RevLineCr        LowDoc  DisbursementGross  \\\n",
       "count  40385.00000  40385.000000  40385.000000       4.038500e+04   \n",
       "mean       0.76885      0.347629      0.091717       1.469873e+05   \n",
       "std        0.59020      0.476223      0.288630       2.181362e+05   \n",
       "min        0.00000      0.000000      0.000000       0.000000e+00   \n",
       "25%        0.00000      0.000000      0.000000       3.500000e+04   \n",
       "50%        1.00000      0.000000      0.000000       7.500000e+04   \n",
       "75%        1.00000      1.000000      0.000000       1.550000e+05   \n",
       "max        2.00000      1.000000      1.000000       5.000000e+06   \n",
       "\n",
       "             Accept  \n",
       "count  40385.000000  \n",
       "mean       0.796360  \n",
       "std        0.402709  \n",
       "min        0.000000  \n",
       "25%        1.000000  \n",
       "50%        1.000000  \n",
       "75%        1.000000  \n",
       "max        1.000000  "
      ]
     },
     "execution_count": 15,
     "metadata": {},
     "output_type": "execute_result"
    }
   ],
   "source": [
    "df.iloc[:40385,:].describe()"
   ]
  },
  {
   "cell_type": "code",
   "execution_count": 16,
   "metadata": {
    "execution": {
     "iopub.execute_input": "2022-04-13T11:58:10.186595Z",
     "iopub.status.busy": "2022-04-13T11:58:10.186369Z",
     "iopub.status.idle": "2022-04-13T11:58:10.923466Z",
     "shell.execute_reply": "2022-04-13T11:58:10.922575Z",
     "shell.execute_reply.started": "2022-04-13T11:58:10.186568Z"
    }
   },
   "outputs": [
    {
     "data": {
      "text/plain": [
       "<AxesSubplot:>"
      ]
     },
     "execution_count": 16,
     "metadata": {},
     "output_type": "execute_result"
    },
    {
     "data": {
      "image/png": "[encoded data removed]",
      "text/plain": [
       "<Figure size 720x432 with 2 Axes>"
      ]
     },
     "metadata": {},
     "output_type": "display_data"
    }
   ],
   "source": [
    "plt.figure(figsize=(10,6))\n",
    "sns.heatmap(df.iloc[:40385,:].corr(), annot=True)"
   ]
  },
  {
   "cell_type": "markdown",
   "metadata": {},
   "source": [
    "# 3. Algoritmo ML\n",
    "El algoritmo secreto es Bernoulli Naive Bayes\n",
    "\n",
    "## 3.1. Train and test splitting"
   ]
  },
  {
   "cell_type": "code",
   "execution_count": 42,
   "metadata": {
    "execution": {
     "iopub.execute_input": "2022-04-13T11:58:15.936971Z",
     "iopub.status.busy": "2022-04-13T11:58:15.936573Z",
     "iopub.status.idle": "2022-04-13T11:58:15.942399Z",
     "shell.execute_reply": "2022-04-13T11:58:15.940968Z",
     "shell.execute_reply.started": "2022-04-13T11:58:15.936932Z"
    }
   },
   "outputs": [],
   "source": [
    "train_data = df.iloc[:40385,:]\n",
    "test_data = df.iloc[40385:,:]"
   ]
  },
  {
   "cell_type": "code",
   "execution_count": 44,
   "metadata": {
    "execution": {
     "iopub.execute_input": "2022-04-13T11:58:20.324948Z",
     "iopub.status.busy": "2022-04-13T11:58:20.324476Z",
     "iopub.status.idle": "2022-04-13T11:58:20.469583Z",
     "shell.execute_reply": "2022-04-13T11:58:20.468705Z",
     "shell.execute_reply.started": "2022-04-13T11:58:20.324911Z"
    }
   },
   "outputs": [
    {
     "name": "stdout",
     "output_type": "stream",
     "text": [
      "Accept\n",
      "0.0     8224\n",
      "1.0    12161\n",
      "dtype: int64\n"
     ]
    },
    {
     "data": {
      "image/png": "[encoded data removed]",
      "text/plain": [
       "<Figure size 432x288 with 1 Axes>"
      ]
     },
     "metadata": {},
     "output_type": "display_data"
    }
   ],
   "source": [
    "sns.countplot(x='Accept', data=train_data)\n",
    "print(train_data.groupby('Accept').size())"
   ]
  },
  {
   "cell_type": "code",
   "execution_count": 43,
   "metadata": {},
   "outputs": [
    {
     "data": {
      "text/html": [
       "<div>\n",
       "<style scoped>\n",
       "    .dataframe tbody tr th:only-of-type {\n",
       "        vertical-align: middle;\n",
       "    }\n",
       "\n",
       "    .dataframe tbody tr th {\n",
       "        vertical-align: top;\n",
       "    }\n",
       "\n",
       "    .dataframe thead th {\n",
       "        text-align: right;\n",
       "    }\n",
       "</style>\n",
       "<table border=\"1\" class=\"dataframe\">\n",
       "  <thead>\n",
       "    <tr style=\"text-align: right;\">\n",
       "      <th></th>\n",
       "      <th>NoEmp</th>\n",
       "      <th>NewExist</th>\n",
       "      <th>CreateJob</th>\n",
       "      <th>RetainedJob</th>\n",
       "      <th>FranchiseCode</th>\n",
       "      <th>UrbanRural</th>\n",
       "      <th>RevLineCr</th>\n",
       "      <th>LowDoc</th>\n",
       "      <th>DisbursementGross</th>\n",
       "      <th>Accept</th>\n",
       "    </tr>\n",
       "  </thead>\n",
       "  <tbody>\n",
       "    <tr>\n",
       "      <th>count</th>\n",
       "      <td>20385.000000</td>\n",
       "      <td>20385.000000</td>\n",
       "      <td>20385.000000</td>\n",
       "      <td>20385.000000</td>\n",
       "      <td>20385.000000</td>\n",
       "      <td>20385.000000</td>\n",
       "      <td>20385.000000</td>\n",
       "      <td>20385.000000</td>\n",
       "      <td>2.038500e+04</td>\n",
       "      <td>20385.000000</td>\n",
       "    </tr>\n",
       "    <tr>\n",
       "      <th>mean</th>\n",
       "      <td>9.041011</td>\n",
       "      <td>1.271376</td>\n",
       "      <td>4.587147</td>\n",
       "      <td>7.567770</td>\n",
       "      <td>0.022615</td>\n",
       "      <td>0.808339</td>\n",
       "      <td>0.377532</td>\n",
       "      <td>0.077655</td>\n",
       "      <td>1.355435e+05</td>\n",
       "      <td>0.596566</td>\n",
       "    </tr>\n",
       "    <tr>\n",
       "      <th>std</th>\n",
       "      <td>74.061986</td>\n",
       "      <td>0.444681</td>\n",
       "      <td>163.509066</td>\n",
       "      <td>163.451392</td>\n",
       "      <td>0.148675</td>\n",
       "      <td>0.561389</td>\n",
       "      <td>0.484782</td>\n",
       "      <td>0.267635</td>\n",
       "      <td>1.986437e+05</td>\n",
       "      <td>0.490598</td>\n",
       "    </tr>\n",
       "    <tr>\n",
       "      <th>min</th>\n",
       "      <td>0.000000</td>\n",
       "      <td>1.000000</td>\n",
       "      <td>0.000000</td>\n",
       "      <td>0.000000</td>\n",
       "      <td>0.000000</td>\n",
       "      <td>0.000000</td>\n",
       "      <td>0.000000</td>\n",
       "      <td>0.000000</td>\n",
       "      <td>0.000000e+00</td>\n",
       "      <td>0.000000</td>\n",
       "    </tr>\n",
       "    <tr>\n",
       "      <th>25%</th>\n",
       "      <td>2.000000</td>\n",
       "      <td>1.000000</td>\n",
       "      <td>0.000000</td>\n",
       "      <td>0.000000</td>\n",
       "      <td>0.000000</td>\n",
       "      <td>0.000000</td>\n",
       "      <td>0.000000</td>\n",
       "      <td>0.000000</td>\n",
       "      <td>3.500000e+04</td>\n",
       "      <td>0.000000</td>\n",
       "    </tr>\n",
       "    <tr>\n",
       "      <th>50%</th>\n",
       "      <td>4.000000</td>\n",
       "      <td>1.000000</td>\n",
       "      <td>0.000000</td>\n",
       "      <td>2.000000</td>\n",
       "      <td>0.000000</td>\n",
       "      <td>1.000000</td>\n",
       "      <td>0.000000</td>\n",
       "      <td>0.000000</td>\n",
       "      <td>7.326100e+04</td>\n",
       "      <td>1.000000</td>\n",
       "    </tr>\n",
       "    <tr>\n",
       "      <th>75%</th>\n",
       "      <td>8.000000</td>\n",
       "      <td>2.000000</td>\n",
       "      <td>1.000000</td>\n",
       "      <td>5.000000</td>\n",
       "      <td>0.000000</td>\n",
       "      <td>1.000000</td>\n",
       "      <td>1.000000</td>\n",
       "      <td>0.000000</td>\n",
       "      <td>1.500000e+05</td>\n",
       "      <td>1.000000</td>\n",
       "    </tr>\n",
       "    <tr>\n",
       "      <th>max</th>\n",
       "      <td>9999.000000</td>\n",
       "      <td>2.000000</td>\n",
       "      <td>8800.000000</td>\n",
       "      <td>8800.000000</td>\n",
       "      <td>1.000000</td>\n",
       "      <td>2.000000</td>\n",
       "      <td>1.000000</td>\n",
       "      <td>1.000000</td>\n",
       "      <td>5.000000e+06</td>\n",
       "      <td>1.000000</td>\n",
       "    </tr>\n",
       "  </tbody>\n",
       "</table>\n",
       "</div>"
      ],
      "text/plain": [
       "              NoEmp      NewExist     CreateJob   RetainedJob  FranchiseCode  \\\n",
       "count  20385.000000  20385.000000  20385.000000  20385.000000   20385.000000   \n",
       "mean       9.041011      1.271376      4.587147      7.567770       0.022615   \n",
       "std       74.061986      0.444681    163.509066    163.451392       0.148675   \n",
       "min        0.000000      1.000000      0.000000      0.000000       0.000000   \n",
       "25%        2.000000      1.000000      0.000000      0.000000       0.000000   \n",
       "50%        4.000000      1.000000      0.000000      2.000000       0.000000   \n",
       "75%        8.000000      2.000000      1.000000      5.000000       0.000000   \n",
       "max     9999.000000      2.000000   8800.000000   8800.000000       1.000000   \n",
       "\n",
       "         UrbanRural     RevLineCr        LowDoc  DisbursementGross  \\\n",
       "count  20385.000000  20385.000000  20385.000000       2.038500e+04   \n",
       "mean       0.808339      0.377532      0.077655       1.355435e+05   \n",
       "std        0.561389      0.484782      0.267635       1.986437e+05   \n",
       "min        0.000000      0.000000      0.000000       0.000000e+00   \n",
       "25%        0.000000      0.000000      0.000000       3.500000e+04   \n",
       "50%        1.000000      0.000000      0.000000       7.326100e+04   \n",
       "75%        1.000000      1.000000      0.000000       1.500000e+05   \n",
       "max        2.000000      1.000000      1.000000       5.000000e+06   \n",
       "\n",
       "             Accept  \n",
       "count  20385.000000  \n",
       "mean       0.596566  \n",
       "std        0.490598  \n",
       "min        0.000000  \n",
       "25%        0.000000  \n",
       "50%        1.000000  \n",
       "75%        1.000000  \n",
       "max        1.000000  "
      ]
     },
     "execution_count": 43,
     "metadata": {},
     "output_type": "execute_result"
    }
   ],
   "source": [
    "train_data = train_data.drop(train_data.sort_values('Accept', ascending=True).tail(20000).index)\n",
    "train_data.describe()"
   ]
  },
  {
   "cell_type": "code",
   "execution_count": 33,
   "metadata": {},
   "outputs": [
    {
     "data": {
      "text/html": [
       "<div>\n",
       "<style scoped>\n",
       "    .dataframe tbody tr th:only-of-type {\n",
       "        vertical-align: middle;\n",
       "    }\n",
       "\n",
       "    .dataframe tbody tr th {\n",
       "        vertical-align: top;\n",
       "    }\n",
       "\n",
       "    .dataframe thead th {\n",
       "        text-align: right;\n",
       "    }\n",
       "</style>\n",
       "<table border=\"1\" class=\"dataframe\">\n",
       "  <thead>\n",
       "    <tr style=\"text-align: right;\">\n",
       "      <th></th>\n",
       "      <th>NoEmp</th>\n",
       "      <th>NewExist</th>\n",
       "      <th>CreateJob</th>\n",
       "      <th>RetainedJob</th>\n",
       "      <th>FranchiseCode</th>\n",
       "      <th>UrbanRural</th>\n",
       "      <th>RevLineCr</th>\n",
       "      <th>LowDoc</th>\n",
       "      <th>DisbursementGross</th>\n",
       "    </tr>\n",
       "  </thead>\n",
       "  <tbody>\n",
       "    <tr>\n",
       "      <th>0</th>\n",
       "      <td>20</td>\n",
       "      <td>1.0</td>\n",
       "      <td>0</td>\n",
       "      <td>0</td>\n",
       "      <td>0</td>\n",
       "      <td>0</td>\n",
       "      <td>0</td>\n",
       "      <td>0</td>\n",
       "      <td>350000.0</td>\n",
       "    </tr>\n",
       "    <tr>\n",
       "      <th>1</th>\n",
       "      <td>3</td>\n",
       "      <td>1.0</td>\n",
       "      <td>1</td>\n",
       "      <td>4</td>\n",
       "      <td>0</td>\n",
       "      <td>2</td>\n",
       "      <td>0</td>\n",
       "      <td>0</td>\n",
       "      <td>35000.0</td>\n",
       "    </tr>\n",
       "    <tr>\n",
       "      <th>2</th>\n",
       "      <td>5</td>\n",
       "      <td>1.0</td>\n",
       "      <td>0</td>\n",
       "      <td>5</td>\n",
       "      <td>0</td>\n",
       "      <td>1</td>\n",
       "      <td>0</td>\n",
       "      <td>0</td>\n",
       "      <td>50000.0</td>\n",
       "    </tr>\n",
       "    <tr>\n",
       "      <th>3</th>\n",
       "      <td>25</td>\n",
       "      <td>1.0</td>\n",
       "      <td>0</td>\n",
       "      <td>0</td>\n",
       "      <td>0</td>\n",
       "      <td>0</td>\n",
       "      <td>0</td>\n",
       "      <td>0</td>\n",
       "      <td>190000.0</td>\n",
       "    </tr>\n",
       "    <tr>\n",
       "      <th>4</th>\n",
       "      <td>6</td>\n",
       "      <td>1.0</td>\n",
       "      <td>0</td>\n",
       "      <td>0</td>\n",
       "      <td>0</td>\n",
       "      <td>1</td>\n",
       "      <td>0</td>\n",
       "      <td>1</td>\n",
       "      <td>30000.0</td>\n",
       "    </tr>\n",
       "    <tr>\n",
       "      <th>...</th>\n",
       "      <td>...</td>\n",
       "      <td>...</td>\n",
       "      <td>...</td>\n",
       "      <td>...</td>\n",
       "      <td>...</td>\n",
       "      <td>...</td>\n",
       "      <td>...</td>\n",
       "      <td>...</td>\n",
       "      <td>...</td>\n",
       "    </tr>\n",
       "    <tr>\n",
       "      <th>40380</th>\n",
       "      <td>25</td>\n",
       "      <td>2.0</td>\n",
       "      <td>0</td>\n",
       "      <td>0</td>\n",
       "      <td>0</td>\n",
       "      <td>0</td>\n",
       "      <td>0</td>\n",
       "      <td>1</td>\n",
       "      <td>50000.0</td>\n",
       "    </tr>\n",
       "    <tr>\n",
       "      <th>40381</th>\n",
       "      <td>100</td>\n",
       "      <td>1.0</td>\n",
       "      <td>10</td>\n",
       "      <td>100</td>\n",
       "      <td>0</td>\n",
       "      <td>1</td>\n",
       "      <td>0</td>\n",
       "      <td>0</td>\n",
       "      <td>1666600.0</td>\n",
       "    </tr>\n",
       "    <tr>\n",
       "      <th>40382</th>\n",
       "      <td>1</td>\n",
       "      <td>2.0</td>\n",
       "      <td>0</td>\n",
       "      <td>1</td>\n",
       "      <td>0</td>\n",
       "      <td>1</td>\n",
       "      <td>0</td>\n",
       "      <td>0</td>\n",
       "      <td>25000.0</td>\n",
       "    </tr>\n",
       "    <tr>\n",
       "      <th>40383</th>\n",
       "      <td>1</td>\n",
       "      <td>2.0</td>\n",
       "      <td>0</td>\n",
       "      <td>1</td>\n",
       "      <td>0</td>\n",
       "      <td>1</td>\n",
       "      <td>1</td>\n",
       "      <td>0</td>\n",
       "      <td>73363.0</td>\n",
       "    </tr>\n",
       "    <tr>\n",
       "      <th>40384</th>\n",
       "      <td>3</td>\n",
       "      <td>1.0</td>\n",
       "      <td>0</td>\n",
       "      <td>0</td>\n",
       "      <td>0</td>\n",
       "      <td>1</td>\n",
       "      <td>1</td>\n",
       "      <td>0</td>\n",
       "      <td>50000.0</td>\n",
       "    </tr>\n",
       "  </tbody>\n",
       "</table>\n",
       "<p>40385 rows × 9 columns</p>\n",
       "</div>"
      ],
      "text/plain": [
       "       NoEmp  NewExist  CreateJob  RetainedJob  FranchiseCode  UrbanRural  \\\n",
       "0         20       1.0          0            0              0           0   \n",
       "1          3       1.0          1            4              0           2   \n",
       "2          5       1.0          0            5              0           1   \n",
       "3         25       1.0          0            0              0           0   \n",
       "4          6       1.0          0            0              0           1   \n",
       "...      ...       ...        ...          ...            ...         ...   \n",
       "40380     25       2.0          0            0              0           0   \n",
       "40381    100       1.0         10          100              0           1   \n",
       "40382      1       2.0          0            1              0           1   \n",
       "40383      1       2.0          0            1              0           1   \n",
       "40384      3       1.0          0            0              0           1   \n",
       "\n",
       "       RevLineCr  LowDoc  DisbursementGross  \n",
       "0              0       0           350000.0  \n",
       "1              0       0            35000.0  \n",
       "2              0       0            50000.0  \n",
       "3              0       0           190000.0  \n",
       "4              0       1            30000.0  \n",
       "...          ...     ...                ...  \n",
       "40380          0       1            50000.0  \n",
       "40381          0       0          1666600.0  \n",
       "40382          0       0            25000.0  \n",
       "40383          1       0            73363.0  \n",
       "40384          1       0            50000.0  \n",
       "\n",
       "[40385 rows x 9 columns]"
      ]
     },
     "execution_count": 33,
     "metadata": {},
     "output_type": "execute_result"
    }
   ],
   "source": [
    "x_train_1.values\n",
    "train_data.drop(['Accept', 'id'], axis=1)"
   ]
  },
  {
   "cell_type": "code",
   "execution_count": 45,
   "metadata": {
    "execution": {
     "iopub.execute_input": "2022-04-13T11:58:25.59759Z",
     "iopub.status.busy": "2022-04-13T11:58:25.596827Z",
     "iopub.status.idle": "2022-04-13T11:58:25.621856Z",
     "shell.execute_reply": "2022-04-13T11:58:25.6213Z",
     "shell.execute_reply.started": "2022-04-13T11:58:25.597556Z"
    }
   },
   "outputs": [],
   "source": [
    "from sklearn.preprocessing import StandardScaler\n",
    "\n",
    "x_train_1 = train_data.drop(['Accept', 'id'], axis=1)\n",
    "x_train = x_train_1.values\n",
    "y_train = train_data['Accept'].values\n",
    "\n",
    "X_train, X_test, Y_train, Y_test = train_test_split(x_train, y_train, test_size=0.25)\n",
    "\n",
    "scaler = StandardScaler()\n",
    "X_train_scale = scaler.fit_transform(X_train)\n",
    "X_test_scale = scaler.transform(X_test)"
   ]
  },
  {
   "cell_type": "markdown",
   "metadata": {},
   "source": [
    "## 3.2. Definir modelos"
   ]
  },
  {
   "cell_type": "code",
   "execution_count": 46,
   "metadata": {
    "execution": {
     "iopub.execute_input": "2022-04-13T11:58:31.514892Z",
     "iopub.status.busy": "2022-04-13T11:58:31.51448Z",
     "iopub.status.idle": "2022-04-13T11:58:31.51955Z",
     "shell.execute_reply": "2022-04-13T11:58:31.519037Z",
     "shell.execute_reply.started": "2022-04-13T11:58:31.514852Z"
    }
   },
   "outputs": [],
   "source": [
    "models = {\"Linear SVC\": LinearSVC(random_state=42, max_iter=8000), \\\n",
    "          \"Nearest Neighbors\": KNeighborsClassifier(), \\\n",
    "          #\"Perceptron\": MLPClassifier(hidden_layer_sizes=(150,), activation='tanh', solver='lbfgs', alpha=0.03, max_iter=2000), \\\n",
    "          #\"Random Forest\": RandomForestClassifier(n_estimators=100), \\\n",
    "          \"Bernoulli\": BernoulliNB()#, \\\n",
    "          #\"SVC\": SVC(kernel='poly', degree=2, gamma=\"auto\")\n",
    "         }"
   ]
  },
  {
   "cell_type": "markdown",
   "metadata": {},
   "source": [
    "## 3.3. Entrenar y evaluar"
   ]
  },
  {
   "cell_type": "code",
   "execution_count": 47,
   "metadata": {
    "execution": {
     "iopub.execute_input": "2022-04-13T11:58:34.568601Z",
     "iopub.status.busy": "2022-04-13T11:58:34.568258Z",
     "iopub.status.idle": "2022-04-13T11:58:48.850043Z",
     "shell.execute_reply": "2022-04-13T11:58:48.849429Z",
     "shell.execute_reply.started": "2022-04-13T11:58:34.568573Z"
    },
    "scrolled": true
   },
   "outputs": [
    {
     "name": "stdout",
     "output_type": "stream",
     "text": [
      "Start training models of Linear SVC\n"
     ]
    },
    {
     "name": "stderr",
     "output_type": "stream",
     "text": [
      "C:\\Users\\Usuario\\anaconda3\\lib\\site-packages\\sklearn\\svm\\_base.py:985: ConvergenceWarning: Liblinear failed to converge, increase the number of iterations.\n",
      "  warnings.warn(\"Liblinear failed to converge, increase \"\n"
     ]
    },
    {
     "name": "stdout",
     "output_type": "stream",
     "text": [
      "[[2051    4]\n",
      " [3034    8]]\n",
      "              precision    recall  f1-score   support\n",
      "\n",
      "         0.0       0.40      1.00      0.57      2055\n",
      "         1.0       0.67      0.00      0.01      3042\n",
      "\n",
      "    accuracy                           0.40      5097\n",
      "   macro avg       0.54      0.50      0.29      5097\n",
      "weighted avg       0.56      0.40      0.23      5097\n",
      "\n",
      "F1_score of Linear SVC is 0.005239030779305829\n",
      "Accuracy of Linear SVC is 0.4039631155581715\n",
      "*************************************************************\n",
      "Start training models of Nearest Neighbors\n",
      "[[ 930 1125]\n",
      " [ 839 2203]]\n",
      "              precision    recall  f1-score   support\n",
      "\n",
      "         0.0       0.53      0.45      0.49      2055\n",
      "         1.0       0.66      0.72      0.69      3042\n",
      "\n",
      "    accuracy                           0.61      5097\n",
      "   macro avg       0.59      0.59      0.59      5097\n",
      "weighted avg       0.61      0.61      0.61      5097\n",
      "\n",
      "F1_score of Nearest Neighbors is 0.691679748822606\n",
      "Accuracy of Nearest Neighbors is 0.6146752991956053\n",
      "*************************************************************\n",
      "Start training models of Bernoulli\n",
      "[[1252  803]\n",
      " [1197 1845]]\n",
      "              precision    recall  f1-score   support\n",
      "\n",
      "         0.0       0.51      0.61      0.56      2055\n",
      "         1.0       0.70      0.61      0.65      3042\n",
      "\n",
      "    accuracy                           0.61      5097\n",
      "   macro avg       0.60      0.61      0.60      5097\n",
      "weighted avg       0.62      0.61      0.61      5097\n",
      "\n",
      "F1_score of Bernoulli is 0.6485061511423551\n",
      "Accuracy of Bernoulli is 0.6076123209731215\n",
      "*************************************************************\n",
      "Global: f1=0.4485\n",
      "\n"
     ]
    }
   ],
   "source": [
    "i = 0\n",
    "f1_global = []\n",
    "for name in models:\n",
    "    print(\"Start training models of {}\".format(name))\n",
    "    clf = models[name]\n",
    "    clf.fit(X_train, Y_train)\n",
    "    predicted = clf.predict(X_test)\n",
    "    f1_global.append(f1_score(Y_test, predicted))\n",
    "    print(confusion_matrix(Y_test, predicted))\n",
    "    print(classification_report(Y_test, predicted))\n",
    "    print(\"F1_score of %s is %s\"%(name, f1_global[i]))\n",
    "    print(\"Accuracy of %s is %s\"%(name, accuracy_score(Y_test, predicted)))\n",
    "    i+=1\n",
    "    print(\"*************************************************************\")\n",
    "print(\"Global: f1={:.4f}\\n\".format(np.average(f1_global)))"
   ]
  },
  {
   "cell_type": "code",
   "execution_count": 48,
   "metadata": {
    "execution": {
     "iopub.execute_input": "2022-04-13T11:38:29.548449Z",
     "iopub.status.busy": "2022-04-13T11:38:29.547784Z",
     "iopub.status.idle": "2022-04-13T11:38:46.318755Z",
     "shell.execute_reply": "2022-04-13T11:38:46.317874Z",
     "shell.execute_reply.started": "2022-04-13T11:38:29.548411Z"
    },
    "scrolled": true
   },
   "outputs": [
    {
     "name": "stdout",
     "output_type": "stream",
     "text": [
      "Start training models of Linear SVC\n"
     ]
    },
    {
     "name": "stderr",
     "output_type": "stream",
     "text": [
      "C:\\Users\\Usuario\\anaconda3\\lib\\site-packages\\sklearn\\svm\\_base.py:985: ConvergenceWarning: Liblinear failed to converge, increase the number of iterations.\n",
      "  warnings.warn(\"Liblinear failed to converge, increase \"\n"
     ]
    },
    {
     "name": "stdout",
     "output_type": "stream",
     "text": [
      "[[ 761 1294]\n",
      " [ 747 2295]]\n",
      "              precision    recall  f1-score   support\n",
      "\n",
      "         0.0       0.50      0.37      0.43      2055\n",
      "         1.0       0.64      0.75      0.69      3042\n",
      "\n",
      "    accuracy                           0.60      5097\n",
      "   macro avg       0.57      0.56      0.56      5097\n",
      "weighted avg       0.59      0.60      0.59      5097\n",
      "\n",
      "F1_score of Linear SVC is 0.6922032875885991\n",
      "Accuracy of Linear SVC is 0.5995683735530705\n",
      "*************************************************************\n",
      "Start training models of Nearest Neighbors\n",
      "[[1041 1014]\n",
      " [ 818 2224]]\n",
      "              precision    recall  f1-score   support\n",
      "\n",
      "         0.0       0.56      0.51      0.53      2055\n",
      "         1.0       0.69      0.73      0.71      3042\n",
      "\n",
      "    accuracy                           0.64      5097\n",
      "   macro avg       0.62      0.62      0.62      5097\n",
      "weighted avg       0.64      0.64      0.64      5097\n",
      "\n",
      "F1_score of Nearest Neighbors is 0.70828025477707\n",
      "Accuracy of Nearest Neighbors is 0.6405728860113793\n",
      "*************************************************************\n",
      "Start training models of Bernoulli\n",
      "[[1414  641]\n",
      " [1160 1882]]\n",
      "              precision    recall  f1-score   support\n",
      "\n",
      "         0.0       0.55      0.69      0.61      2055\n",
      "         1.0       0.75      0.62      0.68      3042\n",
      "\n",
      "    accuracy                           0.65      5097\n",
      "   macro avg       0.65      0.65      0.64      5097\n",
      "weighted avg       0.67      0.65      0.65      5097\n",
      "\n",
      "F1_score of Bernoulli is 0.6763701707097933\n",
      "Accuracy of Bernoulli is 0.6466548950362958\n",
      "*************************************************************\n",
      "Global: f1=0.6923\n",
      "\n"
     ]
    }
   ],
   "source": [
    "#Con datos normalizados\n",
    "i = 0\n",
    "f1_global = []\n",
    "for name in models:\n",
    "    print(\"Start training models of {}\".format(name))\n",
    "    clf = models[name]\n",
    "    clf.fit(X_train_scale, Y_train)\n",
    "    predicted = clf.predict(X_test_scale)\n",
    "    f1_global.append(f1_score(Y_test, predicted))\n",
    "    print(confusion_matrix(Y_test, predicted))\n",
    "    print(classification_report(Y_test, predicted))\n",
    "    print(\"F1_score of %s is %s\"%(name, f1_global[i]))\n",
    "    print(\"Accuracy of %s is %s\"%(name, accuracy_score(Y_test, predicted)))\n",
    "    i+=1\n",
    "    print(\"*************************************************************\")\n",
    "    #plt.figure(figsize=(10,7))\n",
    "    #plot_decision_surface(X, y, models[name])\n",
    "print(\"Global: f1={:.4f}\\n\".format(np.average(f1_global)))"
   ]
  },
  {
   "cell_type": "code",
   "execution_count": 54,
   "metadata": {},
   "outputs": [
    {
     "data": {
      "image/png": "[encoded data removed]",
      "text/plain": [
       "<Figure size 432x288 with 1 Axes>"
      ]
     },
     "metadata": {},
     "output_type": "display_data"
    }
   ],
   "source": [
    "plt.scatter(X_train[:, 4], X_train[:, 0], c=Y_train, s=50, cmap='RdBu')\n",
    "l = plt.axis()\n",
    "plt.scatter(X_test[:, 4], X_test[:, 0], c=predicted, s=30, cmap='RdBu', alpha=1)\n",
    "plt.axis(l);"
   ]
  },
  {
   "cell_type": "markdown",
   "metadata": {},
   "source": [
    "## Mejorar modelo\n",
    "Encontrar los mejores hiperparámetros."
   ]
  },
  {
   "cell_type": "code",
   "execution_count": 60,
   "metadata": {
    "execution": {
     "iopub.execute_input": "2022-04-13T11:39:54.234472Z",
     "iopub.status.busy": "2022-04-13T11:39:54.234253Z",
     "iopub.status.idle": "2022-04-13T11:39:54.319544Z",
     "shell.execute_reply": "2022-04-13T11:39:54.318984Z",
     "shell.execute_reply.started": "2022-04-13T11:39:54.234445Z"
    }
   },
   "outputs": [
    {
     "ename": "ModuleNotFoundError",
     "evalue": "No module named 'skopt'",
     "output_type": "error",
     "traceback": [
      "\u001b[1;31m---------------------------------------------------------------------------\u001b[0m",
      "\u001b[1;31mModuleNotFoundError\u001b[0m                       Traceback (most recent call last)",
      "\u001b[1;32m<ipython-input-60-bcc16cf56a6e>\u001b[0m in \u001b[0;36m<module>\u001b[1;34m\u001b[0m\n\u001b[1;32m----> 1\u001b[1;33m \u001b[1;32mfrom\u001b[0m \u001b[0mskopt\u001b[0m \u001b[1;32mimport\u001b[0m \u001b[0mBayesSearchCV\u001b[0m\u001b[1;33m\u001b[0m\u001b[1;33m\u001b[0m\u001b[0m\n\u001b[0m\u001b[0;32m      2\u001b[0m \u001b[1;32mfrom\u001b[0m \u001b[0msklearn\u001b[0m\u001b[1;33m.\u001b[0m\u001b[0mmodel_selection\u001b[0m \u001b[1;32mimport\u001b[0m \u001b[0mRepeatedStratifiedKFold\u001b[0m\u001b[1;33m\u001b[0m\u001b[1;33m\u001b[0m\u001b[0m\n\u001b[0;32m      3\u001b[0m \u001b[1;33m\u001b[0m\u001b[0m\n\u001b[0;32m      4\u001b[0m optBNB = BayesSearchCV(\n\u001b[0;32m      5\u001b[0m     \u001b[0mBernoulliNB\u001b[0m\u001b[1;33m(\u001b[0m\u001b[1;33m)\u001b[0m\u001b[1;33m,\u001b[0m\u001b[1;33m\u001b[0m\u001b[1;33m\u001b[0m\u001b[0m\n",
      "\u001b[1;31mModuleNotFoundError\u001b[0m: No module named 'skopt'"
     ]
    }
   ],
   "source": [
    "from skopt import BayesSearchCV\n",
    "from sklearn.model_selection import RepeatedStratifiedKFold\n",
    "\n",
    "optBNB = BayesSearchCV(\n",
    "    BernoulliNB(),\n",
    "    {\n",
    "        'alpha': (1e-6, 1e+6, 'log-uniform'),\n",
    "        'binarize': (1e-6, 1e+1, 'log-uniform'),\n",
    "        'fit_prior': [True, False]\n",
    "    },\n",
    "    n_iter=35,\n",
    "    cv=RepeatedStratifiedKFold(n_splits=10, n_repeats=3, random_state=1)\n",
    ")"
   ]
  },
  {
   "cell_type": "code",
   "execution_count": null,
   "metadata": {
    "execution": {
     "iopub.execute_input": "2022-04-13T11:40:06.915604Z",
     "iopub.status.busy": "2022-04-13T11:40:06.915338Z",
     "iopub.status.idle": "2022-04-13T11:41:07.473528Z",
     "shell.execute_reply": "2022-04-13T11:41:07.472974Z",
     "shell.execute_reply.started": "2022-04-13T11:40:06.915576Z"
    }
   },
   "outputs": [],
   "source": [
    "optBNB.fit(X_train, Y_train)\n",
    "print(\"********************************************\")\n",
    "print(\"Results for Bernoulli\")\n",
    "print(\"val. score: %s\" % optBNB.best_score_)\n",
    "print(\"test score: %s\" % optBNB.score(X_test, Y_test))\n",
    "print(\"best params: %s\" % str(optBNB.best_params_))"
   ]
  },
  {
   "cell_type": "code",
   "execution_count": null,
   "metadata": {
    "execution": {
     "iopub.execute_input": "2022-04-13T11:45:20.758288Z",
     "iopub.status.busy": "2022-04-13T11:45:20.758033Z",
     "iopub.status.idle": "2022-04-13T11:45:20.836977Z",
     "shell.execute_reply": "2022-04-13T11:45:20.836282Z",
     "shell.execute_reply.started": "2022-04-13T11:45:20.758265Z"
    }
   },
   "outputs": [],
   "source": [
    "#Probar modelo\n",
    "best_clf = BernoulliNB(alpha=1000000, binarize=1e-06, fit_prior=False)\n",
    "best_clf.fit(X_train, Y_train)\n",
    "predicted = clf.predict(X_test)\n",
    "print(confusion_matrix(Y_test, predicted))\n",
    "print(classification_report(Y_test, predicted))\n",
    "print(\"F1_score of is %s\"%(f1_score(Y_test, predicted)))\n",
    "print(\"Accuracy of is %s\"%(accuracy_score(Y_test, predicted)))"
   ]
  },
  {
   "cell_type": "code",
   "execution_count": null,
   "metadata": {
    "execution": {
     "iopub.execute_input": "2022-04-13T11:49:36.328826Z",
     "iopub.status.busy": "2022-04-13T11:49:36.328583Z",
     "iopub.status.idle": "2022-04-13T11:50:37.589488Z",
     "shell.execute_reply": "2022-04-13T11:50:37.588932Z",
     "shell.execute_reply.started": "2022-04-13T11:49:36.328789Z"
    }
   },
   "outputs": [],
   "source": [
    "#Encontrar el mejor modelo usando los datos normalizados\n",
    "optBNB.fit(X_train_scale, Y_train)\n",
    "print(\"********************************************\")\n",
    "print(\"Results for Bernoulli\")\n",
    "print(\"val. score: %s\" % optBNB.best_score_)\n",
    "print(\"test score: %s\" % optBNB.score(X_test_scale, Y_test))\n",
    "print(\"best params: %s\" % str(optBNB.best_params_))"
   ]
  },
  {
   "cell_type": "code",
   "execution_count": null,
   "metadata": {
    "execution": {
     "iopub.execute_input": "2022-04-13T11:53:36.409302Z",
     "iopub.status.busy": "2022-04-13T11:53:36.409016Z",
     "iopub.status.idle": "2022-04-13T11:53:36.488241Z",
     "shell.execute_reply": "2022-04-13T11:53:36.487664Z",
     "shell.execute_reply.started": "2022-04-13T11:53:36.409268Z"
    }
   },
   "outputs": [],
   "source": [
    "#Probar modelo\n",
    "best_clf = BernoulliNB(alpha=1000000, binarize=1e-06, fit_prior=True)\n",
    "best_clf.fit(X_train_scale, Y_train)\n",
    "predicted = clf.predict(X_test)\n",
    "print(confusion_matrix(Y_test, predicted))\n",
    "print(classification_report(Y_test, predicted))\n",
    "print(\"F1_score of is %s\"%(f1_score(Y_test, predicted)))\n",
    "print(\"Accuracy of is %s\"%(accuracy_score(Y_test, predicted)))"
   ]
  },
  {
   "cell_type": "markdown",
   "metadata": {},
   "source": [
    "## 3.4. Predecir  datos"
   ]
  },
  {
   "cell_type": "code",
   "execution_count": null,
   "metadata": {},
   "outputs": [],
   "source": [
    "#clf = BernoulliNB(alpha=0.012531777548068519, binarize=0.09769641421711688, fit_prior=True)\n",
    "#clf = make_pipeline(BernoulliNB(alpha=0.012531777548068519, binarize=1.0634979669005702, fit_prior=True))\n",
    "#clf.fit(x_train, y_train)"
   ]
  },
  {
   "cell_type": "code",
   "execution_count": null,
   "metadata": {},
   "outputs": [],
   "source": [
    "#ids = test_data['id'].values\n",
    "#x_test_1 = test_data.drop(['Accept', 'id'], axis=1)\n",
    "#x_test = x_test_1.values\n",
    "#predicted = clf.predict(x_test)"
   ]
  },
  {
   "cell_type": "code",
   "execution_count": null,
   "metadata": {
    "execution": {
     "iopub.execute_input": "2022-04-13T11:52:42.586062Z",
     "iopub.status.busy": "2022-04-13T11:52:42.585828Z",
     "iopub.status.idle": "2022-04-13T11:52:42.625386Z",
     "shell.execute_reply": "2022-04-13T11:52:42.6248Z",
     "shell.execute_reply.started": "2022-04-13T11:52:42.586036Z"
    }
   },
   "outputs": [],
   "source": [
    "#Con normalizacion\n",
    "#clf = LinearSVC(tol=1e-02, C=100, max_iter=10000)\n",
    "#clf = BernoulliNB(alpha=16.162353806896395, binarize=5.631651608138002, fit_prior=False)\n",
    "x_train_scale = StandardScaler().fit_transform(x_train)\n",
    "best_clf.fit(x_train_scale, y_train)"
   ]
  },
  {
   "cell_type": "markdown",
   "metadata": {},
   "source": [
    "## 4. Entrega"
   ]
  },
  {
   "cell_type": "code",
   "execution_count": null,
   "metadata": {
    "execution": {
     "iopub.execute_input": "2022-04-13T11:54:06.008446Z",
     "iopub.status.busy": "2022-04-13T11:54:06.00821Z",
     "iopub.status.idle": "2022-04-13T11:54:06.018542Z",
     "shell.execute_reply": "2022-04-13T11:54:06.018035Z",
     "shell.execute_reply.started": "2022-04-13T11:54:06.008419Z"
    }
   },
   "outputs": [],
   "source": [
    "ids = test_data['id'].values\n",
    "x_test_1 = test_data.drop(['Accept', 'id'], axis=1)\n",
    "x_test = x_test_1.values\n",
    "x_test_scale = StandardScaler().fit_transform(x_test)\n",
    "predicted = best_clf.predict(x_test_scale)"
   ]
  },
  {
   "cell_type": "code",
   "execution_count": null,
   "metadata": {
    "execution": {
     "iopub.execute_input": "2022-04-13T11:54:10.626903Z",
     "iopub.status.busy": "2022-04-13T11:54:10.626345Z",
     "iopub.status.idle": "2022-04-13T11:54:10.640749Z",
     "shell.execute_reply": "2022-04-13T11:54:10.639988Z",
     "shell.execute_reply.started": "2022-04-13T11:54:10.626861Z"
    }
   },
   "outputs": [],
   "source": [
    "submission = pd.DataFrame(predicted.astype(int), index=ids, columns=['Accept'])\n",
    "submission.index.name=\"id\"\n",
    "submission.to_csv(r'./submission.csv', index=True)"
   ]
  }
 ],
 "metadata": {
  "kernelspec": {
   "display_name": "Python 3 (ipykernel)",
   "language": "python",
   "name": "python3"
  },
  "language_info": {
   "codemirror_mode": {
    "name": "ipython",
    "version": 3
   },
   "file_extension": ".py",
   "mimetype": "text/x-python",
   "name": "python",
   "nbconvert_exporter": "python",
   "pygments_lexer": "ipython3",
   "version": "3.9.7"
  }
 },
 "nbformat": 4,
 "nbformat_minor": 4
}
