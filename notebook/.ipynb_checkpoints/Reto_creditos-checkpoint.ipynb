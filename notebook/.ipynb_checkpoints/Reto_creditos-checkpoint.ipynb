{
 "cells": [
  {
   "cell_type": "markdown",
   "id": "fe6ed63d",
   "metadata": {},
   "source": [
    "![](images/EscUpmPolit_p.gif \"UPM\")"
   ]
  },
  {
   "cell_type": "markdown",
   "id": "ddcdfca7",
   "metadata": {},
   "source": [
    "# Kaggle Challenge\n",
    "## Loan Approval Prediction - New York\n",
    "El reto consiste en aplicar algoritmos de Machine Learning para predecir la emisión de créditos a un cliente en función de un dataset de entrada para el entrenamiento correspondiente.\n",
    "\n",
    "El dataset está formado por los siguientes campos:\n",
    "\n",
    "- id # Text # Identifier of the data instance\n",
    "- LoanNr_ChkDgt # Text # Identifier of the loan petition\n",
    "- Name # Text # Borrower name\n",
    "- City # Text # Borrower city\n",
    "- State # Text # Borrower state\n",
    "- Bank # Text # Bank name\n",
    "- BankState # Text # Bank state\n",
    "- ApprovalDate # Date/Time # Date SBA commitment issued\n",
    "- ApprovalFY # Text # Fiscal year of commitment\n",
    "- NoEmp # Number # Number of business employees\n",
    "- NewExist # Text # 1 = Existing business, 2 = New business\n",
    "- CreateJob # Number # Number of jobs created\n",
    "- RetainedJob # Number # Number of jobs retained\n",
    "- FranchiseCode # Text # Franchise code, (00000 or 00001) = No franchise\n",
    "- UrbanRural # Text # 1 = Urban, 2 = rural, 0 = undefined\n",
    "- RevLineCr # Text # Revolving line of credit: Y = Yes, N = No\n",
    "- LowDoc # Text # LowDoc Loan Program: Y = Yes, N = No\n",
    "- DisbursementDate # Date/Time # Disbursement date\n",
    "- DisbursementGross # Currency # Amount disbursed\n",
    "- BalanceGross # Currency # Gross amount outstanding\n",
    "- Accept # Text # Loan approval status. 0 = not approved, 1 = approved\n"
   ]
  },
  {
   "cell_type": "markdown",
   "id": "38e299da",
   "metadata": {},
   "source": [
    "## 1º Paso: Importar datos"
   ]
  },
  {
   "cell_type": "code",
   "execution_count": 75,
   "id": "8c9c62c6",
   "metadata": {},
   "outputs": [],
   "source": [
    "from datetime import datetime\n",
    "import numpy as np\n",
    "import pandas as pd\n",
    "from pandas import Series, DataFrame\n",
    "\n",
    "# Training and test spliting\n",
    "from sklearn.model_selection import train_test_split, KFold, GridSearchCV\n",
    "from sklearn import preprocessing\n",
    "from skfeature.function.similarity_based import fisher_score\n",
    "\n",
    "# Estimators\n",
    "from sklearn.svm import SVC\n",
    "from sklearn.neighbors import KNeighborsClassifier\n",
    "from sklearn.linear_model import LogisticRegression\n",
    "from sklearn.tree import DecisionTreeClassifier\n",
    "from sklearn.ensemble import RandomForestClassifier\n",
    "from sklearn.neural_network import MLPClassifier\n",
    "#from sklearn.model_selection import cross_val_score, KFold, StratifiedKFold\n",
    "from sklearn.naive_bayes import BernoulliNB\n",
    "\n",
    "# Evaluation\n",
    "from sklearn import metrics\n",
    "from sklearn.metrics import confusion_matrix, classification_report, f1_score, accuracy_score\n",
    "from sklearn.metrics import roc_curve\n",
    "from sklearn.metrics import roc_auc_score\n",
    "\n",
    "# Optimization\n",
    "#from sklearn.model_selection import GridSearchCV\n",
    "\n",
    "# Visualisation\n",
    "import seaborn as sns\n",
    "import matplotlib.pyplot as plt\n",
    "sns.set(color_codes=True)"
   ]
  },
  {
   "cell_type": "code",
   "execution_count": 76,
   "id": "c5ab3559",
   "metadata": {},
   "outputs": [
    {
     "name": "stderr",
     "output_type": "stream",
     "text": [
      "C:\\Users\\Usuario\\anaconda3\\lib\\site-packages\\IPython\\core\\interactiveshell.py:3165: DtypeWarning: Columns (8) have mixed types.Specify dtype option on import or set low_memory=False.\n",
      "  has_raised = await self.run_ast_nodes(code_ast.body, cell_name,\n"
     ]
    },
    {
     "data": {
      "text/html": [
       "<div>\n",
       "<style scoped>\n",
       "    .dataframe tbody tr th:only-of-type {\n",
       "        vertical-align: middle;\n",
       "    }\n",
       "\n",
       "    .dataframe tbody tr th {\n",
       "        vertical-align: top;\n",
       "    }\n",
       "\n",
       "    .dataframe thead th {\n",
       "        text-align: right;\n",
       "    }\n",
       "</style>\n",
       "<table border=\"1\" class=\"dataframe\">\n",
       "  <thead>\n",
       "    <tr style=\"text-align: right;\">\n",
       "      <th></th>\n",
       "      <th>id</th>\n",
       "      <th>LoanNr_ChkDgt</th>\n",
       "      <th>Name</th>\n",
       "      <th>City</th>\n",
       "      <th>State</th>\n",
       "      <th>Bank</th>\n",
       "      <th>BankState</th>\n",
       "      <th>ApprovalDate</th>\n",
       "      <th>ApprovalFY</th>\n",
       "      <th>NoEmp</th>\n",
       "      <th>...</th>\n",
       "      <th>CreateJob</th>\n",
       "      <th>RetainedJob</th>\n",
       "      <th>FranchiseCode</th>\n",
       "      <th>UrbanRural</th>\n",
       "      <th>RevLineCr</th>\n",
       "      <th>LowDoc</th>\n",
       "      <th>DisbursementDate</th>\n",
       "      <th>DisbursementGross</th>\n",
       "      <th>BalanceGross</th>\n",
       "      <th>Accept</th>\n",
       "    </tr>\n",
       "  </thead>\n",
       "  <tbody>\n",
       "    <tr>\n",
       "      <th>0</th>\n",
       "      <td>b353a0b461c</td>\n",
       "      <td>3354343008</td>\n",
       "      <td>TOGETHER GARGOYLES, INC.</td>\n",
       "      <td>BROOKLYN</td>\n",
       "      <td>NY</td>\n",
       "      <td>JPMORGAN CHASE BANK NATL ASSOC</td>\n",
       "      <td>NY</td>\n",
       "      <td>21-Dec-88</td>\n",
       "      <td>1989</td>\n",
       "      <td>20</td>\n",
       "      <td>...</td>\n",
       "      <td>0</td>\n",
       "      <td>0</td>\n",
       "      <td>0</td>\n",
       "      <td>0</td>\n",
       "      <td>N</td>\n",
       "      <td>N</td>\n",
       "      <td>30-Apr-89</td>\n",
       "      <td>$350,000.00</td>\n",
       "      <td>$0.00</td>\n",
       "      <td>1</td>\n",
       "    </tr>\n",
       "    <tr>\n",
       "      <th>1</th>\n",
       "      <td>cca24bbcc48</td>\n",
       "      <td>2349745003</td>\n",
       "      <td>LAWRENCE K. ALTHISER DBA LARRY</td>\n",
       "      <td>HARTWICK</td>\n",
       "      <td>NY</td>\n",
       "      <td>CITIZENS BANK NATL ASSOC</td>\n",
       "      <td>RI</td>\n",
       "      <td>23-Mar-07</td>\n",
       "      <td>2007</td>\n",
       "      <td>3</td>\n",
       "      <td>...</td>\n",
       "      <td>1</td>\n",
       "      <td>4</td>\n",
       "      <td>0</td>\n",
       "      <td>2</td>\n",
       "      <td>N</td>\n",
       "      <td>N</td>\n",
       "      <td>30-Apr-07</td>\n",
       "      <td>$35,000.00</td>\n",
       "      <td>$0.00</td>\n",
       "      <td>1</td>\n",
       "    </tr>\n",
       "    <tr>\n",
       "      <th>2</th>\n",
       "      <td>e60644381ce</td>\n",
       "      <td>6007284009</td>\n",
       "      <td>TAAMEER CONSTRUCTION INC</td>\n",
       "      <td>BROOKLYN (BOROUGH OF NEW YORK)</td>\n",
       "      <td>NY</td>\n",
       "      <td>JPMORGAN CHASE BANK NATL ASSOC</td>\n",
       "      <td>IL</td>\n",
       "      <td>9-Jan-03</td>\n",
       "      <td>2003</td>\n",
       "      <td>5</td>\n",
       "      <td>...</td>\n",
       "      <td>0</td>\n",
       "      <td>5</td>\n",
       "      <td>1</td>\n",
       "      <td>1</td>\n",
       "      <td>0</td>\n",
       "      <td>N</td>\n",
       "      <td>31-Jan-03</td>\n",
       "      <td>$50,000.00</td>\n",
       "      <td>$0.00</td>\n",
       "      <td>1</td>\n",
       "    </tr>\n",
       "    <tr>\n",
       "      <th>3</th>\n",
       "      <td>ffca41a2760</td>\n",
       "      <td>6047703002</td>\n",
       "      <td>CENTRAL CONTROL SYSTEMS, INC.</td>\n",
       "      <td>SYRACUSE</td>\n",
       "      <td>NY</td>\n",
       "      <td>MANUFACTURERS &amp; TRADERS TR CO</td>\n",
       "      <td>NY</td>\n",
       "      <td>10-Nov-93</td>\n",
       "      <td>1994</td>\n",
       "      <td>25</td>\n",
       "      <td>...</td>\n",
       "      <td>0</td>\n",
       "      <td>0</td>\n",
       "      <td>1</td>\n",
       "      <td>0</td>\n",
       "      <td>N</td>\n",
       "      <td>N</td>\n",
       "      <td>31-Jan-94</td>\n",
       "      <td>$190,000.00</td>\n",
       "      <td>$0.00</td>\n",
       "      <td>1</td>\n",
       "    </tr>\n",
       "    <tr>\n",
       "      <th>4</th>\n",
       "      <td>79e48255003</td>\n",
       "      <td>6590164004</td>\n",
       "      <td>METRO SALON</td>\n",
       "      <td>ROCHESTER</td>\n",
       "      <td>NY</td>\n",
       "      <td>MANUFACTURERS &amp; TRADERS TR CO</td>\n",
       "      <td>NY</td>\n",
       "      <td>14-Aug-03</td>\n",
       "      <td>2003</td>\n",
       "      <td>6</td>\n",
       "      <td>...</td>\n",
       "      <td>0</td>\n",
       "      <td>0</td>\n",
       "      <td>1</td>\n",
       "      <td>1</td>\n",
       "      <td>0</td>\n",
       "      <td>Y</td>\n",
       "      <td>30-Sep-03</td>\n",
       "      <td>$30,000.00</td>\n",
       "      <td>$0.00</td>\n",
       "      <td>1</td>\n",
       "    </tr>\n",
       "    <tr>\n",
       "      <th>...</th>\n",
       "      <td>...</td>\n",
       "      <td>...</td>\n",
       "      <td>...</td>\n",
       "      <td>...</td>\n",
       "      <td>...</td>\n",
       "      <td>...</td>\n",
       "      <td>...</td>\n",
       "      <td>...</td>\n",
       "      <td>...</td>\n",
       "      <td>...</td>\n",
       "      <td>...</td>\n",
       "      <td>...</td>\n",
       "      <td>...</td>\n",
       "      <td>...</td>\n",
       "      <td>...</td>\n",
       "      <td>...</td>\n",
       "      <td>...</td>\n",
       "      <td>...</td>\n",
       "      <td>...</td>\n",
       "      <td>...</td>\n",
       "      <td>...</td>\n",
       "    </tr>\n",
       "    <tr>\n",
       "      <th>40380</th>\n",
       "      <td>8db591edafe</td>\n",
       "      <td>1238924005</td>\n",
       "      <td>NBFD, INC.</td>\n",
       "      <td>OLEAN</td>\n",
       "      <td>NY</td>\n",
       "      <td>COMMUNITY BANK NATL ASSOC</td>\n",
       "      <td>NY</td>\n",
       "      <td>15-May-97</td>\n",
       "      <td>1997</td>\n",
       "      <td>25</td>\n",
       "      <td>...</td>\n",
       "      <td>0</td>\n",
       "      <td>0</td>\n",
       "      <td>1</td>\n",
       "      <td>0</td>\n",
       "      <td>N</td>\n",
       "      <td>Y</td>\n",
       "      <td>3-Jun-97</td>\n",
       "      <td>$50,000.00</td>\n",
       "      <td>$0.00</td>\n",
       "      <td>1</td>\n",
       "    </tr>\n",
       "    <tr>\n",
       "      <th>40381</th>\n",
       "      <td>e1e96f4af51</td>\n",
       "      <td>3681885006</td>\n",
       "      <td>Altman Stage Lighting Co.</td>\n",
       "      <td>YONKERS</td>\n",
       "      <td>NY</td>\n",
       "      <td>EH NATIONAL BANK</td>\n",
       "      <td>CA</td>\n",
       "      <td>7-Oct-09</td>\n",
       "      <td>2010</td>\n",
       "      <td>100</td>\n",
       "      <td>...</td>\n",
       "      <td>10</td>\n",
       "      <td>100</td>\n",
       "      <td>0</td>\n",
       "      <td>1</td>\n",
       "      <td>N</td>\n",
       "      <td>N</td>\n",
       "      <td>7-Oct-09</td>\n",
       "      <td>$1,666,600.00</td>\n",
       "      <td>$0.00</td>\n",
       "      <td>1</td>\n",
       "    </tr>\n",
       "    <tr>\n",
       "      <th>40382</th>\n",
       "      <td>29aabac46d9</td>\n",
       "      <td>1497375007</td>\n",
       "      <td>Paws &amp; Claws Pet Boutique LLC</td>\n",
       "      <td>SEAFORD</td>\n",
       "      <td>NY</td>\n",
       "      <td>HSBC BK USA NATL ASSOC</td>\n",
       "      <td>NY</td>\n",
       "      <td>13-Oct-05</td>\n",
       "      <td>2006</td>\n",
       "      <td>1</td>\n",
       "      <td>...</td>\n",
       "      <td>0</td>\n",
       "      <td>1</td>\n",
       "      <td>0</td>\n",
       "      <td>1</td>\n",
       "      <td>N</td>\n",
       "      <td>N</td>\n",
       "      <td>30-Apr-06</td>\n",
       "      <td>$25,000.00</td>\n",
       "      <td>$0.00</td>\n",
       "      <td>1</td>\n",
       "    </tr>\n",
       "    <tr>\n",
       "      <th>40383</th>\n",
       "      <td>2ed947e57f5</td>\n",
       "      <td>1757175003</td>\n",
       "      <td>Bay Medical Supplies Inc</td>\n",
       "      <td>BROOKLYN</td>\n",
       "      <td>NY</td>\n",
       "      <td>HSBC BK USA NATL ASSOC</td>\n",
       "      <td>NY</td>\n",
       "      <td>10-Apr-06</td>\n",
       "      <td>2006</td>\n",
       "      <td>1</td>\n",
       "      <td>...</td>\n",
       "      <td>0</td>\n",
       "      <td>1</td>\n",
       "      <td>0</td>\n",
       "      <td>1</td>\n",
       "      <td>Y</td>\n",
       "      <td>N</td>\n",
       "      <td>31-May-06</td>\n",
       "      <td>$73,363.00</td>\n",
       "      <td>$0.00</td>\n",
       "      <td>1</td>\n",
       "    </tr>\n",
       "    <tr>\n",
       "      <th>40384</th>\n",
       "      <td>3725b629d32</td>\n",
       "      <td>2649655002</td>\n",
       "      <td>Miyaki, Inc.</td>\n",
       "      <td>ITHACA</td>\n",
       "      <td>NY</td>\n",
       "      <td>JPMORGAN CHASE BANK NATL ASSOC</td>\n",
       "      <td>IL</td>\n",
       "      <td>21-Aug-07</td>\n",
       "      <td>2007</td>\n",
       "      <td>3</td>\n",
       "      <td>...</td>\n",
       "      <td>0</td>\n",
       "      <td>0</td>\n",
       "      <td>0</td>\n",
       "      <td>1</td>\n",
       "      <td>Y</td>\n",
       "      <td>N</td>\n",
       "      <td>31-Oct-07</td>\n",
       "      <td>$50,000.00</td>\n",
       "      <td>$0.00</td>\n",
       "      <td>1</td>\n",
       "    </tr>\n",
       "  </tbody>\n",
       "</table>\n",
       "<p>40385 rows × 21 columns</p>\n",
       "</div>"
      ],
      "text/plain": [
       "                id  LoanNr_ChkDgt                            Name  \\\n",
       "0      b353a0b461c     3354343008        TOGETHER GARGOYLES, INC.   \n",
       "1      cca24bbcc48     2349745003  LAWRENCE K. ALTHISER DBA LARRY   \n",
       "2      e60644381ce     6007284009        TAAMEER CONSTRUCTION INC   \n",
       "3      ffca41a2760     6047703002   CENTRAL CONTROL SYSTEMS, INC.   \n",
       "4      79e48255003     6590164004                     METRO SALON   \n",
       "...            ...            ...                             ...   \n",
       "40380  8db591edafe     1238924005                      NBFD, INC.   \n",
       "40381  e1e96f4af51     3681885006       Altman Stage Lighting Co.   \n",
       "40382  29aabac46d9     1497375007   Paws & Claws Pet Boutique LLC   \n",
       "40383  2ed947e57f5     1757175003        Bay Medical Supplies Inc   \n",
       "40384  3725b629d32     2649655002                    Miyaki, Inc.   \n",
       "\n",
       "                                 City State                            Bank  \\\n",
       "0                            BROOKLYN    NY  JPMORGAN CHASE BANK NATL ASSOC   \n",
       "1                            HARTWICK    NY        CITIZENS BANK NATL ASSOC   \n",
       "2      BROOKLYN (BOROUGH OF NEW YORK)    NY  JPMORGAN CHASE BANK NATL ASSOC   \n",
       "3                            SYRACUSE    NY   MANUFACTURERS & TRADERS TR CO   \n",
       "4                           ROCHESTER    NY   MANUFACTURERS & TRADERS TR CO   \n",
       "...                               ...   ...                             ...   \n",
       "40380                           OLEAN    NY       COMMUNITY BANK NATL ASSOC   \n",
       "40381                         YONKERS    NY                EH NATIONAL BANK   \n",
       "40382                         SEAFORD    NY          HSBC BK USA NATL ASSOC   \n",
       "40383                        BROOKLYN    NY          HSBC BK USA NATL ASSOC   \n",
       "40384                          ITHACA    NY  JPMORGAN CHASE BANK NATL ASSOC   \n",
       "\n",
       "      BankState ApprovalDate ApprovalFY  NoEmp  ...  CreateJob  RetainedJob  \\\n",
       "0            NY    21-Dec-88       1989     20  ...          0            0   \n",
       "1            RI    23-Mar-07       2007      3  ...          1            4   \n",
       "2            IL     9-Jan-03       2003      5  ...          0            5   \n",
       "3            NY    10-Nov-93       1994     25  ...          0            0   \n",
       "4            NY    14-Aug-03       2003      6  ...          0            0   \n",
       "...         ...          ...        ...    ...  ...        ...          ...   \n",
       "40380        NY    15-May-97       1997     25  ...          0            0   \n",
       "40381        CA     7-Oct-09       2010    100  ...         10          100   \n",
       "40382        NY    13-Oct-05       2006      1  ...          0            1   \n",
       "40383        NY    10-Apr-06       2006      1  ...          0            1   \n",
       "40384        IL    21-Aug-07       2007      3  ...          0            0   \n",
       "\n",
       "       FranchiseCode  UrbanRural  RevLineCr LowDoc DisbursementDate  \\\n",
       "0                  0           0          N      N        30-Apr-89   \n",
       "1                  0           2          N      N        30-Apr-07   \n",
       "2                  1           1          0      N        31-Jan-03   \n",
       "3                  1           0          N      N        31-Jan-94   \n",
       "4                  1           1          0      Y        30-Sep-03   \n",
       "...              ...         ...        ...    ...              ...   \n",
       "40380              1           0          N      Y         3-Jun-97   \n",
       "40381              0           1          N      N         7-Oct-09   \n",
       "40382              0           1          N      N        30-Apr-06   \n",
       "40383              0           1          Y      N        31-May-06   \n",
       "40384              0           1          Y      N        31-Oct-07   \n",
       "\n",
       "      DisbursementGross BalanceGross Accept  \n",
       "0          $350,000.00        $0.00       1  \n",
       "1           $35,000.00        $0.00       1  \n",
       "2           $50,000.00        $0.00       1  \n",
       "3          $190,000.00        $0.00       1  \n",
       "4           $30,000.00        $0.00       1  \n",
       "...                 ...          ...    ...  \n",
       "40380       $50,000.00        $0.00       1  \n",
       "40381    $1,666,600.00        $0.00       1  \n",
       "40382       $25,000.00        $0.00       1  \n",
       "40383       $73,363.00        $0.00       1  \n",
       "40384       $50,000.00        $0.00       1  \n",
       "\n",
       "[40385 rows x 21 columns]"
      ]
     },
     "execution_count": 76,
     "metadata": {},
     "output_type": "execute_result"
    }
   ],
   "source": [
    "train = pd.read_csv('data_reto_1/train.csv')\n",
    "train"
   ]
  },
  {
   "cell_type": "markdown",
   "id": "5e5035a6",
   "metadata": {},
   "source": [
    "De acuerdo a los datos mostrados, se puede intuir que las variables asociadas a la prediccion del riesgo son:\n",
    "- ApprovalDate y DisbursementDate, ambas determinan la fecha en que la SBA ha aceptado la solicitud y la fecha en que ha concedido el préstamo. Se podría calcular la diferencia entre ellas.\n",
    "- NoEmp, la cantidad de empleados puede determinar que tan grande o pequeña es la empresa.\n",
    "- NewExist, si es una empresa que recién esta empezando su actividad podría afectar la concesión del préstamo.\n",
    "- CreateJob, si se han creado fuentes de empleo puede ser un indicador del crecimiento de la empresa.\n",
    "- RetainedJob, representa la cantidad de empleos a tiempo completo existentes al momento de hacer la solicitud y que se mantendrán en caso de conseguir la aprobación.\n",
    "- RevLineCr, representa el hecho de que tan pronto como se pague la deuda, la empresa puede volver a pedir prestado hasta su límite de crédito sin pasar por otro proceso de aprobación de préstamo.\n",
    "- LowDoc, de ser verdadero significa que el SBA promete un procesamiento rápido (para montos inferiores a $150,000).\n",
    "- DisbursementGross, la cantidad que se esta solicitando es importante en conjunto con el resto de parámetros para poder determinar la aprobación del préstamo.\n",
    "- Accept, el campo más importante porque indica si se ha cedido o no el préstamo.\n",
    "\n",
    "Sin embargo, revisaremos cada columna para comprobarlo."
   ]
  },
  {
   "cell_type": "markdown",
   "id": "137b3800",
   "metadata": {},
   "source": [
    "##  2º Paso: Limpieza de datos\n",
    "\n",
    "Se eliminarán campos irrelevantes o no necesarios. Para esto se debe analizar los datos numéricos, revisar si hay datos faltantes o nulos y completarlos, y eliminar columnas no necesarias. Luego hacer lo mismo con los no numéricos e incluso cambiar el tipo de dato si así se considera."
   ]
  },
  {
   "cell_type": "code",
   "execution_count": 77,
   "id": "d1968628",
   "metadata": {
    "scrolled": true
   },
   "outputs": [
    {
     "name": "stdout",
     "output_type": "stream",
     "text": [
      "<class 'pandas.core.frame.DataFrame'>\n",
      "RangeIndex: 40385 entries, 0 to 40384\n",
      "Data columns (total 21 columns):\n",
      " #   Column             Non-Null Count  Dtype  \n",
      "---  ------             --------------  -----  \n",
      " 0   id                 40385 non-null  object \n",
      " 1   LoanNr_ChkDgt      40385 non-null  int64  \n",
      " 2   Name               40382 non-null  object \n",
      " 3   City               40385 non-null  object \n",
      " 4   State              40385 non-null  object \n",
      " 5   Bank               40340 non-null  object \n",
      " 6   BankState          40338 non-null  object \n",
      " 7   ApprovalDate       40385 non-null  object \n",
      " 8   ApprovalFY         40385 non-null  object \n",
      " 9   NoEmp              40385 non-null  int64  \n",
      " 10  NewExist           40378 non-null  float64\n",
      " 11  CreateJob          40385 non-null  int64  \n",
      " 12  RetainedJob        40385 non-null  int64  \n",
      " 13  FranchiseCode      40385 non-null  int64  \n",
      " 14  UrbanRural         40385 non-null  int64  \n",
      " 15  RevLineCr          40250 non-null  object \n",
      " 16  LowDoc             40330 non-null  object \n",
      " 17  DisbursementDate   40254 non-null  object \n",
      " 18  DisbursementGross  40385 non-null  object \n",
      " 19  BalanceGross       40385 non-null  object \n",
      " 20  Accept             40385 non-null  int64  \n",
      "dtypes: float64(1), int64(7), object(13)\n",
      "memory usage: 6.5+ MB\n"
     ]
    }
   ],
   "source": [
    "#Dataframe information from each column\n",
    "df_train = train.copy()\n",
    "df_train.info()"
   ]
  },
  {
   "cell_type": "code",
   "execution_count": 78,
   "id": "12be99bc",
   "metadata": {},
   "outputs": [
    {
     "data": {
      "text/plain": [
       "False"
      ]
     },
     "execution_count": 78,
     "metadata": {},
     "output_type": "execute_result"
    }
   ],
   "source": [
    "#Let's see if there's any duplicate\n",
    "df_train.duplicated().any()"
   ]
  },
  {
   "cell_type": "code",
   "execution_count": 79,
   "id": "3611a1f0",
   "metadata": {},
   "outputs": [
    {
     "data": {
      "text/html": [
       "<div>\n",
       "<style scoped>\n",
       "    .dataframe tbody tr th:only-of-type {\n",
       "        vertical-align: middle;\n",
       "    }\n",
       "\n",
       "    .dataframe tbody tr th {\n",
       "        vertical-align: top;\n",
       "    }\n",
       "\n",
       "    .dataframe thead th {\n",
       "        text-align: right;\n",
       "    }\n",
       "</style>\n",
       "<table border=\"1\" class=\"dataframe\">\n",
       "  <thead>\n",
       "    <tr style=\"text-align: right;\">\n",
       "      <th></th>\n",
       "      <th>LoanNr_ChkDgt</th>\n",
       "      <th>NoEmp</th>\n",
       "      <th>NewExist</th>\n",
       "      <th>CreateJob</th>\n",
       "      <th>RetainedJob</th>\n",
       "      <th>FranchiseCode</th>\n",
       "      <th>UrbanRural</th>\n",
       "      <th>Accept</th>\n",
       "    </tr>\n",
       "  </thead>\n",
       "  <tbody>\n",
       "    <tr>\n",
       "      <th>count</th>\n",
       "      <td>4.038500e+04</td>\n",
       "      <td>40385.000000</td>\n",
       "      <td>40378.000000</td>\n",
       "      <td>40385.000000</td>\n",
       "      <td>40385.000000</td>\n",
       "      <td>40385.000000</td>\n",
       "      <td>40385.00000</td>\n",
       "      <td>40385.000000</td>\n",
       "    </tr>\n",
       "    <tr>\n",
       "      <th>mean</th>\n",
       "      <td>4.459565e+09</td>\n",
       "      <td>9.485750</td>\n",
       "      <td>1.279013</td>\n",
       "      <td>4.273666</td>\n",
       "      <td>7.128191</td>\n",
       "      <td>1218.894342</td>\n",
       "      <td>0.76885</td>\n",
       "      <td>0.796360</td>\n",
       "    </tr>\n",
       "    <tr>\n",
       "      <th>std</th>\n",
       "      <td>2.539048e+09</td>\n",
       "      <td>54.872591</td>\n",
       "      <td>0.451107</td>\n",
       "      <td>151.989529</td>\n",
       "      <td>152.156119</td>\n",
       "      <td>8647.991363</td>\n",
       "      <td>0.59020</td>\n",
       "      <td>0.402709</td>\n",
       "    </tr>\n",
       "    <tr>\n",
       "      <th>min</th>\n",
       "      <td>1.000655e+09</td>\n",
       "      <td>0.000000</td>\n",
       "      <td>0.000000</td>\n",
       "      <td>0.000000</td>\n",
       "      <td>0.000000</td>\n",
       "      <td>0.000000</td>\n",
       "      <td>0.00000</td>\n",
       "      <td>0.000000</td>\n",
       "    </tr>\n",
       "    <tr>\n",
       "      <th>25%</th>\n",
       "      <td>2.276314e+09</td>\n",
       "      <td>2.000000</td>\n",
       "      <td>1.000000</td>\n",
       "      <td>0.000000</td>\n",
       "      <td>0.000000</td>\n",
       "      <td>0.000000</td>\n",
       "      <td>0.00000</td>\n",
       "      <td>1.000000</td>\n",
       "    </tr>\n",
       "    <tr>\n",
       "      <th>50%</th>\n",
       "      <td>3.804294e+09</td>\n",
       "      <td>4.000000</td>\n",
       "      <td>1.000000</td>\n",
       "      <td>0.000000</td>\n",
       "      <td>1.000000</td>\n",
       "      <td>1.000000</td>\n",
       "      <td>1.00000</td>\n",
       "      <td>1.000000</td>\n",
       "    </tr>\n",
       "    <tr>\n",
       "      <th>75%</th>\n",
       "      <td>6.409913e+09</td>\n",
       "      <td>9.000000</td>\n",
       "      <td>2.000000</td>\n",
       "      <td>1.000000</td>\n",
       "      <td>5.000000</td>\n",
       "      <td>1.000000</td>\n",
       "      <td>1.00000</td>\n",
       "      <td>1.000000</td>\n",
       "    </tr>\n",
       "    <tr>\n",
       "      <th>max</th>\n",
       "      <td>9.995413e+09</td>\n",
       "      <td>9999.000000</td>\n",
       "      <td>2.000000</td>\n",
       "      <td>8800.000000</td>\n",
       "      <td>8800.000000</td>\n",
       "      <td>91110.000000</td>\n",
       "      <td>2.00000</td>\n",
       "      <td>1.000000</td>\n",
       "    </tr>\n",
       "  </tbody>\n",
       "</table>\n",
       "</div>"
      ],
      "text/plain": [
       "       LoanNr_ChkDgt         NoEmp      NewExist     CreateJob   RetainedJob  \\\n",
       "count   4.038500e+04  40385.000000  40378.000000  40385.000000  40385.000000   \n",
       "mean    4.459565e+09      9.485750      1.279013      4.273666      7.128191   \n",
       "std     2.539048e+09     54.872591      0.451107    151.989529    152.156119   \n",
       "min     1.000655e+09      0.000000      0.000000      0.000000      0.000000   \n",
       "25%     2.276314e+09      2.000000      1.000000      0.000000      0.000000   \n",
       "50%     3.804294e+09      4.000000      1.000000      0.000000      1.000000   \n",
       "75%     6.409913e+09      9.000000      2.000000      1.000000      5.000000   \n",
       "max     9.995413e+09   9999.000000      2.000000   8800.000000   8800.000000   \n",
       "\n",
       "       FranchiseCode   UrbanRural        Accept  \n",
       "count   40385.000000  40385.00000  40385.000000  \n",
       "mean     1218.894342      0.76885      0.796360  \n",
       "std      8647.991363      0.59020      0.402709  \n",
       "min         0.000000      0.00000      0.000000  \n",
       "25%         0.000000      0.00000      1.000000  \n",
       "50%         1.000000      1.00000      1.000000  \n",
       "75%         1.000000      1.00000      1.000000  \n",
       "max     91110.000000      2.00000      1.000000  "
      ]
     },
     "execution_count": 79,
     "metadata": {},
     "output_type": "execute_result"
    }
   ],
   "source": [
    "#statistics from numeric columns\n",
    "df_train.describe()"
   ]
  },
  {
   "cell_type": "markdown",
   "id": "4396089e",
   "metadata": {},
   "source": [
    "Observando el resultado anterior, se puede determinar que el atributo LoanNr_ChkDgt es un identificador que no aporta a la predicción."
   ]
  },
  {
   "cell_type": "code",
   "execution_count": 80,
   "id": "8ed8870d",
   "metadata": {},
   "outputs": [],
   "source": [
    "df_train.drop(['LoanNr_ChkDgt'], axis=1, inplace=True)"
   ]
  },
  {
   "cell_type": "code",
   "execution_count": 81,
   "id": "69807d06",
   "metadata": {},
   "outputs": [
    {
     "data": {
      "text/plain": [
       "id                     0\n",
       "Name                   3\n",
       "City                   0\n",
       "State                  0\n",
       "Bank                  45\n",
       "BankState             47\n",
       "ApprovalDate           0\n",
       "ApprovalFY             0\n",
       "NoEmp                  0\n",
       "NewExist               7\n",
       "CreateJob              0\n",
       "RetainedJob            0\n",
       "FranchiseCode          0\n",
       "UrbanRural             0\n",
       "RevLineCr            135\n",
       "LowDoc                55\n",
       "DisbursementDate     131\n",
       "DisbursementGross      0\n",
       "BalanceGross           0\n",
       "Accept                 0\n",
       "dtype: int64"
      ]
     },
     "execution_count": 81,
     "metadata": {},
     "output_type": "execute_result"
    }
   ],
   "source": [
    "#Let`s see null or missing values for numeric atributes\n",
    "df_train.isnull().sum()"
   ]
  },
  {
   "cell_type": "markdown",
   "id": "9bc80335",
   "metadata": {},
   "source": [
    "La columna NewExist posee valores nulos, por lo que se reemplazan con aquel que más se repite."
   ]
  },
  {
   "cell_type": "code",
   "execution_count": 82,
   "id": "247a96a6",
   "metadata": {},
   "outputs": [
    {
     "data": {
      "text/plain": [
       "NewExist\n",
       "0.0       47\n",
       "1.0    29018\n",
       "2.0    11313\n",
       "dtype: int64"
      ]
     },
     "execution_count": 82,
     "metadata": {},
     "output_type": "execute_result"
    }
   ],
   "source": [
    "df_train.groupby('NewExist').size()"
   ]
  },
  {
   "cell_type": "code",
   "execution_count": 83,
   "id": "e1c3d5a1",
   "metadata": {},
   "outputs": [],
   "source": [
    "df_train['NewExist'].fillna(1.0, inplace=True)\n",
    "df_train.loc[df_train[\"NewExist\"] == 0.0, \"NewExist\"] = 1.0"
   ]
  },
  {
   "cell_type": "markdown",
   "id": "633d2ce6",
   "metadata": {},
   "source": [
    "Al revisar los datos no numéricos, se considera que las siguientes columnas no son relevantes al momento de determinar el riesgo ya que aportan solamente información complementaria de la solicitud:\n",
    "- Name\n",
    "- City\n",
    "- State\n",
    "- Bank\n",
    "- BankState\n",
    "- ApprovalFY\n",
    "\n",
    "Por otro lado, se revisan las columnas que contengan valores nulos para reemplazarlos y/o rellenarlos."
   ]
  },
  {
   "cell_type": "code",
   "execution_count": 84,
   "id": "060d6928",
   "metadata": {},
   "outputs": [],
   "source": [
    "df_train.drop(['Name', 'City', 'State', 'Bank', 'BankState', 'ApprovalFY'], axis=1, inplace=True)"
   ]
  },
  {
   "cell_type": "markdown",
   "id": "b663e8ad",
   "metadata": {},
   "source": [
    "Se observa que para RevLineCr solo se pueden dar dos posibles valores (Y o N) pero se tienen otros (0 y T). Asumiremos, que aquellos que tienen 0 es un N y aquellos con T es un Y. Una vez hecho esto, se rellenan los nulos con el que más se repita."
   ]
  },
  {
   "cell_type": "code",
   "execution_count": 85,
   "id": "7cea37fc",
   "metadata": {
    "scrolled": true
   },
   "outputs": [
    {
     "data": {
      "text/plain": [
       "RevLineCr\n",
       "0     8671\n",
       "N    17540\n",
       "T      744\n",
       "Y    13295\n",
       "dtype: int64"
      ]
     },
     "execution_count": 85,
     "metadata": {},
     "output_type": "execute_result"
    }
   ],
   "source": [
    "df_train.groupby('RevLineCr').size()"
   ]
  },
  {
   "cell_type": "code",
   "execution_count": 86,
   "id": "d27c3284",
   "metadata": {},
   "outputs": [
    {
     "data": {
      "text/plain": [
       "RevLineCr\n",
       "N    26211\n",
       "Y    14039\n",
       "dtype: int64"
      ]
     },
     "execution_count": 86,
     "metadata": {},
     "output_type": "execute_result"
    }
   ],
   "source": [
    "df_train.loc[df_train[\"RevLineCr\"] == \"0\", \"RevLineCr\"] = 'N'\n",
    "df_train.loc[df_train[\"RevLineCr\"] == \"T\", \"RevLineCr\"] = 'Y'\n",
    "df_train.groupby('RevLineCr').size()"
   ]
  },
  {
   "cell_type": "code",
   "execution_count": 87,
   "id": "1b927936",
   "metadata": {},
   "outputs": [],
   "source": [
    "df_train['RevLineCr'].fillna('N', inplace=True)"
   ]
  },
  {
   "cell_type": "markdown",
   "id": "f65243dd",
   "metadata": {},
   "source": [
    "Un caso similar ocurre con LowDoc, sin embargo, no podemos asumir cual es Y y N. Por lo tanto, simplemente reemplazamos todos aquellos que no correspondan por el que más se repite."
   ]
  },
  {
   "cell_type": "code",
   "execution_count": 88,
   "id": "d5ecd8fc",
   "metadata": {},
   "outputs": [
    {
     "data": {
      "text/plain": [
       "LowDoc\n",
       "0       13\n",
       "A       11\n",
       "C       16\n",
       "N    36575\n",
       "R        1\n",
       "S       10\n",
       "Y     3704\n",
       "dtype: int64"
      ]
     },
     "execution_count": 88,
     "metadata": {},
     "output_type": "execute_result"
    }
   ],
   "source": [
    "df_train.groupby('LowDoc').size()"
   ]
  },
  {
   "cell_type": "code",
   "execution_count": 89,
   "id": "b288447e",
   "metadata": {},
   "outputs": [],
   "source": [
    "df_train['LowDoc'].fillna('N', inplace=True)\n",
    "df_train.loc[df_train[\"LowDoc\"] == \"0\", \"LowDoc\"] = 'N'\n",
    "df_train.loc[df_train[\"LowDoc\"] == \"A\", \"LowDoc\"] = 'N'\n",
    "df_train.loc[df_train[\"LowDoc\"] == \"C\", \"LowDoc\"] = 'N'\n",
    "df_train.loc[df_train[\"LowDoc\"] == \"R\", \"LowDoc\"] = 'N'\n",
    "df_train.loc[df_train[\"LowDoc\"] == \"S\", \"LowDoc\"] = 'N'"
   ]
  },
  {
   "cell_type": "markdown",
   "id": "ef1809a6",
   "metadata": {},
   "source": [
    "Revisamos la columna BalanceGross y notamos que todos sus valores son iguales, por lo que no representaría relevancia en la predicción."
   ]
  },
  {
   "cell_type": "code",
   "execution_count": 90,
   "id": "9f82ce15",
   "metadata": {},
   "outputs": [
    {
     "data": {
      "text/plain": [
       "BalanceGross\n",
       "$0.00     40385\n",
       "dtype: int64"
      ]
     },
     "execution_count": 90,
     "metadata": {},
     "output_type": "execute_result"
    }
   ],
   "source": [
    "df_train.groupby('BalanceGross').size()"
   ]
  },
  {
   "cell_type": "code",
   "execution_count": 91,
   "id": "0cf5402c",
   "metadata": {},
   "outputs": [],
   "source": [
    "df_train.drop(['BalanceGross'], axis=1, inplace=True)"
   ]
  },
  {
   "cell_type": "markdown",
   "id": "30e64487",
   "metadata": {},
   "source": [
    "Luego, categorizamos y convertimos el tipo de dato de cada columna como se muestra a continuación:\n",
    "- id, object -> string\n",
    "- ApprovalDate y DisbursementDate, object -> string\n",
    "- NewExists, float64 -> int64\n",
    "- RevLineCr, object -> int64\n",
    "- LowDoc, object -> int64\n",
    "- DisbursementGross, object -> float64\n",
    "\n",
    "Además, calculamos el periodo de tiempo (en días) desde que se solicita hasta que se aprueba el préstamo."
   ]
  },
  {
   "cell_type": "code",
   "execution_count": 92,
   "id": "4c90d9b0",
   "metadata": {},
   "outputs": [],
   "source": [
    "df_train['id'] = df_train['id'].astype(str)\n",
    "df_train['ApprovalDate'] = df_train['ApprovalDate'].astype(str)\n",
    "df_train['DisbursementDate'] = df_train['DisbursementDate'].astype(str)\n",
    "df_train['NewExist'] = df_train['NewExist'].astype(np.int64)\n",
    "\n",
    "df_train.loc[df_train[\"RevLineCr\"] == \"N\", \"RevLineCr\"] = 0\n",
    "df_train.loc[df_train[\"RevLineCr\"] == \"Y\", \"RevLineCr\"] = 1\n",
    "df_train['RevLineCr'] = df_train['RevLineCr'].astype(np.int64)\n",
    "\n",
    "df_train.loc[df_train[\"LowDoc\"] == \"N\", \"LowDoc\"] = 0\n",
    "df_train.loc[df_train[\"LowDoc\"] == \"Y\", \"LowDoc\"] = 1\n",
    "df_train['LowDoc'] = df_train['LowDoc'].astype(np.int64)\n",
    "\n",
    "df_train[\"DisbursementGross\"] = df_train[\"DisbursementGross\"].astype(str)\n",
    "df_train[\"DisbursementGross\"] = df_train[\"DisbursementGross\"].apply(lambda x: x[1:])\n",
    "df_train[\"DisbursementGross\"] = df_train[\"DisbursementGross\"].apply(lambda s: s.strip())\n",
    "df_train[\"DisbursementGross\"] = df_train[\"DisbursementGross\"].replace({',':''}, regex=True)\n",
    "df_train.loc[df_train[\"DisbursementGross\"] == \"\", \"DisbursementGross\"] = 0\n",
    "df_train[\"DisbursementGross\"] = df_train[\"DisbursementGross\"].astype(float)\n",
    "\n",
    "#Para calcular el periodo de aprobación, hay que obtener las fechas y restarlas\n",
    "df_train[\"ApprovalDate\"] = df_train[\"ApprovalDate\"].apply(lambda date: datetime.strptime(date, \"%d-%b-%y\"))\n",
    "#En DisbursementDate hay valores sin fecha, los dejaremos en blanco\n",
    "df_train[\"DisbursementDate\"] = df_train[\"DisbursementDate\"].apply(lambda date: datetime.strptime(date, \"%d-%b-%y\") if (date!=\"nan\") else '')\n",
    "df_train.insert(1, 'ApprovalPeriod', df_train[\"DisbursementDate\"] - df_train[\"ApprovalDate\"])\n",
    "#Rellenamos los valores en blanco con el promedio ApprovalPeriod\n",
    "df_train['ApprovalPeriod'].fillna(df_train['ApprovalPeriod'].mean(), inplace=True)\n",
    "df_train[\"ApprovalPeriod\"] = df_train[\"ApprovalPeriod\"].apply(lambda t: t/np.timedelta64(1, 'D'))\n",
    "df_train[\"ApprovalPeriod\"] = df_train[\"ApprovalPeriod\"].astype(np.int64)\n",
    "df_train.drop(['ApprovalDate', 'DisbursementDate'], axis=1, inplace=True)"
   ]
  },
  {
   "cell_type": "code",
   "execution_count": 93,
   "id": "df969924",
   "metadata": {},
   "outputs": [
    {
     "data": {
      "text/plain": [
       "count    40385.000000\n",
       "mean       128.843432\n",
       "std        206.586043\n",
       "min        -99.000000\n",
       "25%         31.000000\n",
       "50%         62.000000\n",
       "75%        133.000000\n",
       "max       4126.000000\n",
       "Name: ApprovalPeriod, dtype: float64"
      ]
     },
     "execution_count": 93,
     "metadata": {},
     "output_type": "execute_result"
    }
   ],
   "source": [
    "df_train.ApprovalPeriod.describe()"
   ]
  },
  {
   "cell_type": "markdown",
   "id": "3cf9ac06",
   "metadata": {},
   "source": [
    "Tal parece que ApprovalPeriod tiene valores negativos, esto puede mejorarse. Lo cambiaremos por la media."
   ]
  },
  {
   "cell_type": "code",
   "execution_count": 94,
   "id": "0829465b",
   "metadata": {},
   "outputs": [
    {
     "data": {
      "text/plain": [
       "count    40385.000000\n",
       "mean       128.958718\n",
       "std        206.545857\n",
       "min          0.000000\n",
       "25%         31.000000\n",
       "50%         63.000000\n",
       "75%        133.000000\n",
       "max       4126.000000\n",
       "Name: ApprovalPeriod, dtype: float64"
      ]
     },
     "execution_count": 94,
     "metadata": {},
     "output_type": "execute_result"
    }
   ],
   "source": [
    "df_train.loc[df_train[\"ApprovalPeriod\"] < 0, \"ApprovalPeriod\"] = df_train['ApprovalPeriod'].mean()\n",
    "df_train.ApprovalPeriod.describe()"
   ]
  },
  {
   "cell_type": "code",
   "execution_count": 95,
   "id": "e6ee1208",
   "metadata": {},
   "outputs": [
    {
     "name": "stdout",
     "output_type": "stream",
     "text": [
      "<class 'pandas.core.frame.DataFrame'>\n",
      "RangeIndex: 40385 entries, 0 to 40384\n",
      "Data columns (total 12 columns):\n",
      " #   Column             Non-Null Count  Dtype  \n",
      "---  ------             --------------  -----  \n",
      " 0   id                 40385 non-null  object \n",
      " 1   ApprovalPeriod     40385 non-null  float64\n",
      " 2   NoEmp              40385 non-null  int64  \n",
      " 3   NewExist           40385 non-null  int64  \n",
      " 4   CreateJob          40385 non-null  int64  \n",
      " 5   RetainedJob        40385 non-null  int64  \n",
      " 6   FranchiseCode      40385 non-null  int64  \n",
      " 7   UrbanRural         40385 non-null  int64  \n",
      " 8   RevLineCr          40385 non-null  int64  \n",
      " 9   LowDoc             40385 non-null  int64  \n",
      " 10  DisbursementGross  40385 non-null  float64\n",
      " 11  Accept             40385 non-null  int64  \n",
      "dtypes: float64(2), int64(9), object(1)\n",
      "memory usage: 3.7+ MB\n"
     ]
    }
   ],
   "source": [
    "df_train.info()"
   ]
  },
  {
   "cell_type": "code",
   "execution_count": 96,
   "id": "68e34f7b",
   "metadata": {},
   "outputs": [
    {
     "data": {
      "text/plain": [
       "id                   False\n",
       "ApprovalPeriod       False\n",
       "NoEmp                False\n",
       "NewExist             False\n",
       "CreateJob            False\n",
       "RetainedJob          False\n",
       "FranchiseCode        False\n",
       "UrbanRural           False\n",
       "RevLineCr            False\n",
       "LowDoc               False\n",
       "DisbursementGross    False\n",
       "Accept               False\n",
       "dtype: bool"
      ]
     },
     "execution_count": 96,
     "metadata": {},
     "output_type": "execute_result"
    }
   ],
   "source": [
    "df_train.isnull().any()"
   ]
  },
  {
   "cell_type": "code",
   "execution_count": 97,
   "id": "90c3e1e2",
   "metadata": {},
   "outputs": [
    {
     "data": {
      "text/html": [
       "<div>\n",
       "<style scoped>\n",
       "    .dataframe tbody tr th:only-of-type {\n",
       "        vertical-align: middle;\n",
       "    }\n",
       "\n",
       "    .dataframe tbody tr th {\n",
       "        vertical-align: top;\n",
       "    }\n",
       "\n",
       "    .dataframe thead th {\n",
       "        text-align: right;\n",
       "    }\n",
       "</style>\n",
       "<table border=\"1\" class=\"dataframe\">\n",
       "  <thead>\n",
       "    <tr style=\"text-align: right;\">\n",
       "      <th></th>\n",
       "      <th>id</th>\n",
       "      <th>ApprovalPeriod</th>\n",
       "      <th>NoEmp</th>\n",
       "      <th>NewExist</th>\n",
       "      <th>CreateJob</th>\n",
       "      <th>RetainedJob</th>\n",
       "      <th>FranchiseCode</th>\n",
       "      <th>UrbanRural</th>\n",
       "      <th>RevLineCr</th>\n",
       "      <th>LowDoc</th>\n",
       "      <th>DisbursementGross</th>\n",
       "      <th>Accept</th>\n",
       "    </tr>\n",
       "  </thead>\n",
       "  <tbody>\n",
       "    <tr>\n",
       "      <th>0</th>\n",
       "      <td>b353a0b461c</td>\n",
       "      <td>130.0</td>\n",
       "      <td>20</td>\n",
       "      <td>1</td>\n",
       "      <td>0</td>\n",
       "      <td>0</td>\n",
       "      <td>0</td>\n",
       "      <td>0</td>\n",
       "      <td>0</td>\n",
       "      <td>0</td>\n",
       "      <td>350000.0</td>\n",
       "      <td>1</td>\n",
       "    </tr>\n",
       "    <tr>\n",
       "      <th>1</th>\n",
       "      <td>cca24bbcc48</td>\n",
       "      <td>38.0</td>\n",
       "      <td>3</td>\n",
       "      <td>1</td>\n",
       "      <td>1</td>\n",
       "      <td>4</td>\n",
       "      <td>0</td>\n",
       "      <td>2</td>\n",
       "      <td>0</td>\n",
       "      <td>0</td>\n",
       "      <td>35000.0</td>\n",
       "      <td>1</td>\n",
       "    </tr>\n",
       "    <tr>\n",
       "      <th>2</th>\n",
       "      <td>e60644381ce</td>\n",
       "      <td>22.0</td>\n",
       "      <td>5</td>\n",
       "      <td>1</td>\n",
       "      <td>0</td>\n",
       "      <td>5</td>\n",
       "      <td>1</td>\n",
       "      <td>1</td>\n",
       "      <td>0</td>\n",
       "      <td>0</td>\n",
       "      <td>50000.0</td>\n",
       "      <td>1</td>\n",
       "    </tr>\n",
       "    <tr>\n",
       "      <th>3</th>\n",
       "      <td>ffca41a2760</td>\n",
       "      <td>82.0</td>\n",
       "      <td>25</td>\n",
       "      <td>1</td>\n",
       "      <td>0</td>\n",
       "      <td>0</td>\n",
       "      <td>1</td>\n",
       "      <td>0</td>\n",
       "      <td>0</td>\n",
       "      <td>0</td>\n",
       "      <td>190000.0</td>\n",
       "      <td>1</td>\n",
       "    </tr>\n",
       "    <tr>\n",
       "      <th>4</th>\n",
       "      <td>79e48255003</td>\n",
       "      <td>47.0</td>\n",
       "      <td>6</td>\n",
       "      <td>1</td>\n",
       "      <td>0</td>\n",
       "      <td>0</td>\n",
       "      <td>1</td>\n",
       "      <td>1</td>\n",
       "      <td>0</td>\n",
       "      <td>1</td>\n",
       "      <td>30000.0</td>\n",
       "      <td>1</td>\n",
       "    </tr>\n",
       "    <tr>\n",
       "      <th>...</th>\n",
       "      <td>...</td>\n",
       "      <td>...</td>\n",
       "      <td>...</td>\n",
       "      <td>...</td>\n",
       "      <td>...</td>\n",
       "      <td>...</td>\n",
       "      <td>...</td>\n",
       "      <td>...</td>\n",
       "      <td>...</td>\n",
       "      <td>...</td>\n",
       "      <td>...</td>\n",
       "      <td>...</td>\n",
       "    </tr>\n",
       "    <tr>\n",
       "      <th>40380</th>\n",
       "      <td>8db591edafe</td>\n",
       "      <td>19.0</td>\n",
       "      <td>25</td>\n",
       "      <td>2</td>\n",
       "      <td>0</td>\n",
       "      <td>0</td>\n",
       "      <td>1</td>\n",
       "      <td>0</td>\n",
       "      <td>0</td>\n",
       "      <td>1</td>\n",
       "      <td>50000.0</td>\n",
       "      <td>1</td>\n",
       "    </tr>\n",
       "    <tr>\n",
       "      <th>40381</th>\n",
       "      <td>e1e96f4af51</td>\n",
       "      <td>0.0</td>\n",
       "      <td>100</td>\n",
       "      <td>1</td>\n",
       "      <td>10</td>\n",
       "      <td>100</td>\n",
       "      <td>0</td>\n",
       "      <td>1</td>\n",
       "      <td>0</td>\n",
       "      <td>0</td>\n",
       "      <td>1666600.0</td>\n",
       "      <td>1</td>\n",
       "    </tr>\n",
       "    <tr>\n",
       "      <th>40382</th>\n",
       "      <td>29aabac46d9</td>\n",
       "      <td>199.0</td>\n",
       "      <td>1</td>\n",
       "      <td>2</td>\n",
       "      <td>0</td>\n",
       "      <td>1</td>\n",
       "      <td>0</td>\n",
       "      <td>1</td>\n",
       "      <td>0</td>\n",
       "      <td>0</td>\n",
       "      <td>25000.0</td>\n",
       "      <td>1</td>\n",
       "    </tr>\n",
       "    <tr>\n",
       "      <th>40383</th>\n",
       "      <td>2ed947e57f5</td>\n",
       "      <td>51.0</td>\n",
       "      <td>1</td>\n",
       "      <td>2</td>\n",
       "      <td>0</td>\n",
       "      <td>1</td>\n",
       "      <td>0</td>\n",
       "      <td>1</td>\n",
       "      <td>1</td>\n",
       "      <td>0</td>\n",
       "      <td>73363.0</td>\n",
       "      <td>1</td>\n",
       "    </tr>\n",
       "    <tr>\n",
       "      <th>40384</th>\n",
       "      <td>3725b629d32</td>\n",
       "      <td>71.0</td>\n",
       "      <td>3</td>\n",
       "      <td>1</td>\n",
       "      <td>0</td>\n",
       "      <td>0</td>\n",
       "      <td>0</td>\n",
       "      <td>1</td>\n",
       "      <td>1</td>\n",
       "      <td>0</td>\n",
       "      <td>50000.0</td>\n",
       "      <td>1</td>\n",
       "    </tr>\n",
       "  </tbody>\n",
       "</table>\n",
       "<p>40385 rows × 12 columns</p>\n",
       "</div>"
      ],
      "text/plain": [
       "                id  ApprovalPeriod  NoEmp  NewExist  CreateJob  RetainedJob  \\\n",
       "0      b353a0b461c           130.0     20         1          0            0   \n",
       "1      cca24bbcc48            38.0      3         1          1            4   \n",
       "2      e60644381ce            22.0      5         1          0            5   \n",
       "3      ffca41a2760            82.0     25         1          0            0   \n",
       "4      79e48255003            47.0      6         1          0            0   \n",
       "...            ...             ...    ...       ...        ...          ...   \n",
       "40380  8db591edafe            19.0     25         2          0            0   \n",
       "40381  e1e96f4af51             0.0    100         1         10          100   \n",
       "40382  29aabac46d9           199.0      1         2          0            1   \n",
       "40383  2ed947e57f5            51.0      1         2          0            1   \n",
       "40384  3725b629d32            71.0      3         1          0            0   \n",
       "\n",
       "       FranchiseCode  UrbanRural  RevLineCr  LowDoc  DisbursementGross  Accept  \n",
       "0                  0           0          0       0           350000.0       1  \n",
       "1                  0           2          0       0            35000.0       1  \n",
       "2                  1           1          0       0            50000.0       1  \n",
       "3                  1           0          0       0           190000.0       1  \n",
       "4                  1           1          0       1            30000.0       1  \n",
       "...              ...         ...        ...     ...                ...     ...  \n",
       "40380              1           0          0       1            50000.0       1  \n",
       "40381              0           1          0       0          1666600.0       1  \n",
       "40382              0           1          0       0            25000.0       1  \n",
       "40383              0           1          1       0            73363.0       1  \n",
       "40384              0           1          1       0            50000.0       1  \n",
       "\n",
       "[40385 rows x 12 columns]"
      ]
     },
     "execution_count": 97,
     "metadata": {},
     "output_type": "execute_result"
    }
   ],
   "source": [
    "df_train"
   ]
  },
  {
   "cell_type": "code",
   "execution_count": 98,
   "id": "b8931cc8",
   "metadata": {},
   "outputs": [
    {
     "data": {
      "image/png": "[encoded data removed]",
      "text/plain": [
       "<Figure size 720x720 with 12 Axes>"
      ]
     },
     "metadata": {
      "needs_background": "light"
     },
     "output_type": "display_data"
    }
   ],
   "source": [
    "%matplotlib inline\n",
    "df_train.hist(figsize=(10,10))\n",
    "plt.show()"
   ]
  },
  {
   "cell_type": "code",
   "execution_count": 99,
   "id": "b25e0fa7",
   "metadata": {},
   "outputs": [
    {
     "data": {
      "text/plain": [
       "<AxesSubplot:>"
      ]
     },
     "execution_count": 99,
     "metadata": {},
     "output_type": "execute_result"
    },
    {
     "data": {
      "image/png": "[encoded data removed]",
      "text/plain": [
       "<Figure size 720x432 with 2 Axes>"
      ]
     },
     "metadata": {
      "needs_background": "light"
     },
     "output_type": "display_data"
    }
   ],
   "source": [
    "plt.figure(figsize=(10,6))\n",
    "sns.heatmap(df_train.corr(), annot=True)"
   ]
  },
  {
   "cell_type": "markdown",
   "id": "a8d848e4",
   "metadata": {},
   "source": [
    "# 3º Paso: Algoritmo ML\n",
    "El algoritmo secreto es Bernoulli Naive Bayes\n",
    "\n",
    "## Train and test splitting"
   ]
  },
  {
   "cell_type": "code",
   "execution_count": 105,
   "id": "741143f1",
   "metadata": {},
   "outputs": [],
   "source": [
    "# Features of the model\n",
    "features = ['ApprovalPeriod', 'NoEmp', 'NewExist', 'CreateJob', 'RetainedJob', 'FranchiseCode', 'UrbanRural', 'RevLineCr','LowDoc','DisbursementGross']\n",
    "# Transform dataframe in numpy arrays and split\n",
    "#train_data = df.iloc[:40385,:]\n",
    "x_train = df_train[features].values\n",
    "y_train = df_train['Accept'].values\n",
    "\n",
    "#test_data = df.iloc[40385:,:]\n",
    "#ids = test_data['id'].values\n",
    "#x_test = test_data[features].values\n",
    "\n",
    "X_train, X_test, Y_train, Y_test = train_test_split(x_train, y_train, test_size=0.35, random_state=33)"
   ]
  },
  {
   "cell_type": "code",
   "execution_count": 106,
   "id": "303b4c33",
   "metadata": {},
   "outputs": [
    {
     "data": {
      "image/png": "[encoded data removed]",
      "text/plain": [
       "<Figure size 432x288 with 1 Axes>"
      ]
     },
     "metadata": {
      "needs_background": "light"
     },
     "output_type": "display_data"
    }
   ],
   "source": [
    "from sklearn.feature_selection import mutual_info_classif\n",
    "\n",
    "importances = mutual_info_classif(x_train, y_train)\n",
    "\n",
    "feat_importances = pd.Series(importances, df_train.columns[1:len(df_train.columns)-1])\n",
    "feat_importances.plot(kind='barh', color='teal')\n",
    "plt.show()"
   ]
  },
  {
   "cell_type": "markdown",
   "id": "ca8f6474",
   "metadata": {},
   "source": [
    "## Define models"
   ]
  },
  {
   "cell_type": "code",
   "execution_count": 107,
   "id": "8c61d32c",
   "metadata": {},
   "outputs": [],
   "source": [
    "models = {\"Logistic Regression\": LogisticRegression(multi_class=\"auto\", solver=\"lbfgs\", max_iter=2000), \\\n",
    "          \"Decision Tree\": DecisionTreeClassifier(), \\\n",
    "          \"Random Forest\": RandomForestClassifier(n_estimators=100), \\\n",
    "          \"Nearest Neighbors\": KNeighborsClassifier(n_neighbors=10, algorithm='ball_tree'), \\\n",
    "          \"Perceptron\": MLPClassifier(hidden_layer_sizes=(150,), activation='tanh', solver='lbfgs', alpha=0.03, max_iter=2000), \\\n",
    "          \"Bernoulli\": BernoulliNB(alpha=0.01, binarize=0.0, fit_prior=False, class_prior=None), \\\n",
    "          \"SVC\": SVC(C=5, kernel='rbf', gamma=0.01)}\n",
    "\n",
    "models_1 = {\"SVC_1\": SVC(), \\\n",
    "          \"SVC_2\": SVC(C=10, kernel='rbf', gamma=0.001), \\\n",
    "          \"SVC_3\": SVC(C=100, kernel='rbf', gamma=0.001), \\\n",
    "          \"SVC_4\": SVC(C=1000, kernel='rbf', gamma=0.001)}"
   ]
  },
  {
   "cell_type": "markdown",
   "id": "dd93a568",
   "metadata": {},
   "source": [
    "## Train and evaluate"
   ]
  },
  {
   "cell_type": "code",
   "execution_count": null,
   "id": "41035614",
   "metadata": {},
   "outputs": [
    {
     "name": "stdout",
     "output_type": "stream",
     "text": [
      "Start training models of SVC_1\n",
      "[[    0  2869]\n",
      " [    0 11266]]\n",
      "              precision    recall  f1-score   support\n",
      "\n",
      "           0       0.00      0.00      0.00      2869\n",
      "           1       0.80      1.00      0.89     11266\n",
      "\n",
      "    accuracy                           0.80     14135\n",
      "   macro avg       0.40      0.50      0.44     14135\n",
      "weighted avg       0.64      0.80      0.71     14135\n",
      "\n",
      "F1_score of SVC_1 is 0.7070056136848293\n",
      "Accuracy of SVC_1 is 0.7970286522815706\n",
      "*************************************************************\n",
      "Start training models of SVC_2\n"
     ]
    },
    {
     "name": "stderr",
     "output_type": "stream",
     "text": [
      "C:\\Users\\Usuario\\anaconda3\\lib\\site-packages\\sklearn\\metrics\\_classification.py:1245: UndefinedMetricWarning: Precision and F-score are ill-defined and being set to 0.0 in labels with no predicted samples. Use `zero_division` parameter to control this behavior.\n",
      "  _warn_prf(average, modifier, msg_start, len(result))\n",
      "C:\\Users\\Usuario\\anaconda3\\lib\\site-packages\\sklearn\\metrics\\_classification.py:1245: UndefinedMetricWarning: Precision and F-score are ill-defined and being set to 0.0 in labels with no predicted samples. Use `zero_division` parameter to control this behavior.\n",
      "  _warn_prf(average, modifier, msg_start, len(result))\n",
      "C:\\Users\\Usuario\\anaconda3\\lib\\site-packages\\sklearn\\metrics\\_classification.py:1245: UndefinedMetricWarning: Precision and F-score are ill-defined and being set to 0.0 in labels with no predicted samples. Use `zero_division` parameter to control this behavior.\n",
      "  _warn_prf(average, modifier, msg_start, len(result))\n"
     ]
    },
    {
     "name": "stdout",
     "output_type": "stream",
     "text": [
      "[[  367  2502]\n",
      " [  672 10594]]\n",
      "              precision    recall  f1-score   support\n",
      "\n",
      "           0       0.35      0.13      0.19      2869\n",
      "           1       0.81      0.94      0.87     11266\n",
      "\n",
      "    accuracy                           0.78     14135\n",
      "   macro avg       0.58      0.53      0.53     14135\n",
      "weighted avg       0.72      0.78      0.73     14135\n",
      "\n",
      "F1_score of SVC_2 is 0.7313099274725092\n",
      "Accuracy of SVC_2 is 0.775451008135833\n",
      "*************************************************************\n",
      "Start training models of SVC_3\n",
      "[[  468  2401]\n",
      " [  922 10344]]\n",
      "              precision    recall  f1-score   support\n",
      "\n",
      "           0       0.34      0.16      0.22      2869\n",
      "           1       0.81      0.92      0.86     11266\n",
      "\n",
      "    accuracy                           0.76     14135\n",
      "   macro avg       0.57      0.54      0.54     14135\n",
      "weighted avg       0.72      0.76      0.73     14135\n",
      "\n",
      "F1_score of SVC_3 is 0.7313309423852774\n",
      "Accuracy of SVC_3 is 0.7649097983728333\n",
      "*************************************************************\n",
      "Start training models of SVC_4\n"
     ]
    }
   ],
   "source": [
    "i = 0\n",
    "f1_global = []\n",
    "for name in models_1:\n",
    "    print(\"Start training models of {}\".format(name))\n",
    "    model = models_1[name].fit(X_train, Y_train)\n",
    "    predicted = model.predict(X_test)\n",
    "    f1_global.append(f1_score(Y_test, predicted, average=\"weighted\"))\n",
    "    print(confusion_matrix(Y_test, predicted))\n",
    "    print(classification_report(Y_test, predicted))\n",
    "    print(\"F1_score of %s is %s\"%(name, f1_global[i]))\n",
    "    print(\"Accuracy of %s is %s\"%(name, accuracy_score(Y_test, predicted)))\n",
    "    i+=1\n",
    "    print(\"*************************************************************\")\n",
    "print(\"Global: f1={:.4f}\\n\".format(np.average(f1_global)))"
   ]
  },
  {
   "cell_type": "code",
   "execution_count": 29,
   "id": "378840a9",
   "metadata": {},
   "outputs": [
    {
     "data": {
      "text/plain": [
       "SVC(C=5, gamma=0.01)"
      ]
     },
     "execution_count": 29,
     "metadata": {},
     "output_type": "execute_result"
    }
   ],
   "source": [
    "#Choose the best\n",
    "clf = models['SVC']\n",
    "clf.fit(x_train, y_train)"
   ]
  },
  {
   "cell_type": "code",
   "execution_count": 37,
   "id": "39220a42",
   "metadata": {},
   "outputs": [
    {
     "data": {
      "text/plain": [
       "MLPClassifier(activation='tanh', alpha=0.03, hidden_layer_sizes=(150,),\n",
       "              max_iter=2000, solver='lbfgs')"
      ]
     },
     "execution_count": 37,
     "metadata": {},
     "output_type": "execute_result"
    }
   ],
   "source": [
    "clf = models['Perceptron']\n",
    "clf.fit(x_train, y_train)"
   ]
  },
  {
   "cell_type": "code",
   "execution_count": null,
   "id": "0232316f",
   "metadata": {},
   "outputs": [
    {
     "name": "stdout",
     "output_type": "stream",
     "text": [
      "# Tuning hyper-parameters for precision\n",
      "\n"
     ]
    }
   ],
   "source": [
    "from sklearn.model_selection import GridSearchCV\n",
    "# Set the parameters by cross-validation\n",
    "tuned_parameters = [\n",
    "    {\"kernel\": [\"rbf\"], \"gamma\": [1e-3, 1e-4], \"C\": [1, 10, 100, 1000]},\n",
    "    {\"kernel\": [\"linear\"], \"C\": [1, 10, 100, 1000]},\n",
    "]\n",
    "\n",
    "scores = [\"precision\", \"recall\"]\n",
    "\n",
    "for score in scores:\n",
    "    print(\"# Tuning hyper-parameters for %s\" % score)\n",
    "    print()\n",
    "\n",
    "    clf = GridSearchCV(SVC(), tuned_parameters, scoring=\"%s_macro\" % score)\n",
    "    clf.fit(X_train, Y_train)\n",
    "\n",
    "    print(\"Best parameters set found on development set:\")\n",
    "    print()\n",
    "    print(clf.best_params_)\n",
    "    print()\n",
    "    print(\"Grid scores on development set:\")\n",
    "    print()\n",
    "    means = clf.cv_results_[\"mean_test_score\"]\n",
    "    stds = clf.cv_results_[\"std_test_score\"]\n",
    "    for mean, std, params in zip(means, stds, clf.cv_results_[\"params\"]):\n",
    "        print(\"%0.3f (+/-%0.03f) for %r\" % (mean, std * 2, params))\n",
    "    print()\n",
    "\n",
    "    print(\"Detailed classification report:\")\n",
    "    print()\n",
    "    print(\"The model is trained on the full development set.\")\n",
    "    print(\"The scores are computed on the full evaluation set.\")\n",
    "    print()\n",
    "    y_true, y_pred = Y_test, clf.predict(X_test)\n",
    "    print(classification_report(y_true, y_pred))\n",
    "    print()"
   ]
  },
  {
   "cell_type": "markdown",
   "id": "67904c41",
   "metadata": {},
   "source": [
    "## Prepare test data"
   ]
  },
  {
   "cell_type": "code",
   "execution_count": 30,
   "id": "da814eb5",
   "metadata": {},
   "outputs": [],
   "source": [
    "df_test = pd.read_csv('data_reto_1/test_nolabel.csv')\n",
    "df_test.drop(['Name', 'City', 'State', 'Bank', 'BankState', 'ApprovalFY', 'LoanNr_ChkDgt', 'BalanceGross'], axis=1, inplace=True)\n",
    "df_test['NewExist'].fillna(1.0, inplace=True)\n",
    "df_test.loc[df_test[\"NewExist\"] == 0.0, \"NewExist\"] = 1.0\n",
    "df_test.loc[df_test[\"RevLineCr\"] == \"0\", \"RevLineCr\"] = 'N'\n",
    "df_test.loc[df_test[\"RevLineCr\"] == \"T\", \"RevLineCr\"] = 'Y'\n",
    "df_test['RevLineCr'].fillna('N', inplace=True)\n",
    "df_test['LowDoc'].fillna('N', inplace=True)\n",
    "df_test.loc[df_test[\"LowDoc\"] == \"0\", \"LowDoc\"] = 'N'\n",
    "df_test.loc[df_test[\"LowDoc\"] == \"A\", \"LowDoc\"] = 'N'\n",
    "df_test.loc[df_test[\"LowDoc\"] == \"C\", \"LowDoc\"] = 'N'\n",
    "df_test.loc[df_test[\"LowDoc\"] == \"R\", \"LowDoc\"] = 'N'\n",
    "df_test.loc[df_test[\"LowDoc\"] == \"S\", \"LowDoc\"] = 'N'"
   ]
  },
  {
   "cell_type": "code",
   "execution_count": 31,
   "id": "d3404265",
   "metadata": {},
   "outputs": [],
   "source": [
    "df_test['id'] = df_test['id'].astype(str)\n",
    "df_test['ApprovalDate'] = df_test['ApprovalDate'].astype(str)\n",
    "df_test['DisbursementDate'] = df_test['DisbursementDate'].astype(str)\n",
    "df_test['NewExist'] = df_test['NewExist'].astype(np.int64)\n",
    "\n",
    "df_test.loc[df_test[\"RevLineCr\"] == \"N\", \"RevLineCr\"] = 0\n",
    "df_test.loc[df_test[\"RevLineCr\"] == \"Y\", \"RevLineCr\"] = 1\n",
    "df_test['RevLineCr'] = df_test['RevLineCr'].astype(np.int64)\n",
    "\n",
    "df_test.loc[df_test[\"LowDoc\"] == \"N\", \"LowDoc\"] = 0\n",
    "df_test.loc[df_test[\"LowDoc\"] == \"Y\", \"LowDoc\"] = 1\n",
    "df_test['LowDoc'] = df_test['LowDoc'].astype(np.int64)\n",
    "\n",
    "df_test[\"DisbursementGross\"] = df_test[\"DisbursementGross\"].astype(str)\n",
    "df_test[\"DisbursementGross\"] = df_test[\"DisbursementGross\"].apply(lambda x: x[1:])\n",
    "df_test[\"DisbursementGross\"] = df_test[\"DisbursementGross\"].apply(lambda s: s.strip())\n",
    "df_test[\"DisbursementGross\"] = df_test[\"DisbursementGross\"].replace({',':''}, regex=True)\n",
    "df_test.loc[df_test[\"DisbursementGross\"] == \"\", \"DisbursementGross\"] = 0\n",
    "df_test[\"DisbursementGross\"] = df_test[\"DisbursementGross\"].astype(float)\n",
    "\n",
    "#Para calcular el periodo de aprobación, hay que obtener las fechas y restarlas\n",
    "df_test[\"ApprovalDate\"] = df_test[\"ApprovalDate\"].apply(lambda date: datetime.strptime(date, \"%d-%b-%y\"))\n",
    "#En DisbursementDate hay valores sin fecha, los dejaremos en blanco\n",
    "df_test[\"DisbursementDate\"] = df_test[\"DisbursementDate\"].apply(lambda date: datetime.strptime(date, \"%d-%b-%y\") if (date!=\"nan\") else '')\n",
    "df_test.insert(1, 'ApprovalPeriod', df_test[\"DisbursementDate\"] - df_test[\"ApprovalDate\"])\n",
    "#Rellenamos los valores en blanco con el promedio ApprovalPeriod\n",
    "df_test['ApprovalPeriod'].fillna(df_test['ApprovalPeriod'].mean(), inplace=True)\n",
    "df_test[\"ApprovalPeriod\"] = df_test[\"ApprovalPeriod\"].apply(lambda t: t/np.timedelta64(1, 'D'))\n",
    "df_test[\"ApprovalPeriod\"] = df_test[\"ApprovalPeriod\"].astype(np.int64)\n",
    "df_test.drop(['ApprovalDate', 'DisbursementDate'], axis=1, inplace=True)\n",
    "df_test.loc[df_test[\"ApprovalPeriod\"] < 0, \"ApprovalPeriod\"] = df_test['ApprovalPeriod'].mean()"
   ]
  },
  {
   "cell_type": "code",
   "execution_count": 32,
   "id": "82a79f05",
   "metadata": {},
   "outputs": [
    {
     "name": "stdout",
     "output_type": "stream",
     "text": [
      "<class 'pandas.core.frame.DataFrame'>\n",
      "RangeIndex: 7050 entries, 0 to 7049\n",
      "Data columns (total 11 columns):\n",
      " #   Column             Non-Null Count  Dtype  \n",
      "---  ------             --------------  -----  \n",
      " 0   id                 7050 non-null   object \n",
      " 1   NoEmp              7050 non-null   int64  \n",
      " 2   NewExist           7050 non-null   float64\n",
      " 3   CreateJob          7050 non-null   int64  \n",
      " 4   RetainedJob        7050 non-null   int64  \n",
      " 5   FranchiseCode      7050 non-null   int64  \n",
      " 6   UrbanRural         7050 non-null   int64  \n",
      " 7   RevLineCr          7050 non-null   int64  \n",
      " 8   LowDoc             7050 non-null   int64  \n",
      " 9   DisbursementGross  7050 non-null   float64\n",
      " 10  ApprovalPeriod     7050 non-null   int64  \n",
      "dtypes: float64(2), int64(8), object(1)\n",
      "memory usage: 606.0+ KB\n"
     ]
    }
   ],
   "source": [
    "df_test.info()"
   ]
  },
  {
   "cell_type": "code",
   "execution_count": 38,
   "id": "dd0916d8",
   "metadata": {},
   "outputs": [
    {
     "data": {
      "text/html": [
       "<div>\n",
       "<style scoped>\n",
       "    .dataframe tbody tr th:only-of-type {\n",
       "        vertical-align: middle;\n",
       "    }\n",
       "\n",
       "    .dataframe tbody tr th {\n",
       "        vertical-align: top;\n",
       "    }\n",
       "\n",
       "    .dataframe thead th {\n",
       "        text-align: right;\n",
       "    }\n",
       "</style>\n",
       "<table border=\"1\" class=\"dataframe\">\n",
       "  <thead>\n",
       "    <tr style=\"text-align: right;\">\n",
       "      <th></th>\n",
       "      <th>id</th>\n",
       "      <th>NoEmp</th>\n",
       "      <th>NewExist</th>\n",
       "      <th>CreateJob</th>\n",
       "      <th>RetainedJob</th>\n",
       "      <th>FranchiseCode</th>\n",
       "      <th>UrbanRural</th>\n",
       "      <th>RevLineCr</th>\n",
       "      <th>LowDoc</th>\n",
       "      <th>DisbursementGross</th>\n",
       "      <th>ApprovalPeriod</th>\n",
       "    </tr>\n",
       "  </thead>\n",
       "  <tbody>\n",
       "    <tr>\n",
       "      <th>0</th>\n",
       "      <td>63ef5dfc62f</td>\n",
       "      <td>1</td>\n",
       "      <td>2.0</td>\n",
       "      <td>0</td>\n",
       "      <td>0</td>\n",
       "      <td>1</td>\n",
       "      <td>0</td>\n",
       "      <td>0</td>\n",
       "      <td>1</td>\n",
       "      <td>35000.0</td>\n",
       "      <td>77</td>\n",
       "    </tr>\n",
       "    <tr>\n",
       "      <th>1</th>\n",
       "      <td>65ee0569c05</td>\n",
       "      <td>81</td>\n",
       "      <td>1.0</td>\n",
       "      <td>0</td>\n",
       "      <td>0</td>\n",
       "      <td>1</td>\n",
       "      <td>0</td>\n",
       "      <td>0</td>\n",
       "      <td>0</td>\n",
       "      <td>145000.0</td>\n",
       "      <td>172</td>\n",
       "    </tr>\n",
       "    <tr>\n",
       "      <th>2</th>\n",
       "      <td>19058f4da52</td>\n",
       "      <td>4</td>\n",
       "      <td>1.0</td>\n",
       "      <td>1</td>\n",
       "      <td>5</td>\n",
       "      <td>1</td>\n",
       "      <td>1</td>\n",
       "      <td>1</td>\n",
       "      <td>0</td>\n",
       "      <td>52174.0</td>\n",
       "      <td>54</td>\n",
       "    </tr>\n",
       "    <tr>\n",
       "      <th>3</th>\n",
       "      <td>a0f1299afe4</td>\n",
       "      <td>6</td>\n",
       "      <td>2.0</td>\n",
       "      <td>3</td>\n",
       "      <td>6</td>\n",
       "      <td>0</td>\n",
       "      <td>1</td>\n",
       "      <td>1</td>\n",
       "      <td>0</td>\n",
       "      <td>194316.0</td>\n",
       "      <td>49</td>\n",
       "    </tr>\n",
       "    <tr>\n",
       "      <th>4</th>\n",
       "      <td>e47da0be9fc</td>\n",
       "      <td>3</td>\n",
       "      <td>1.0</td>\n",
       "      <td>0</td>\n",
       "      <td>3</td>\n",
       "      <td>1</td>\n",
       "      <td>1</td>\n",
       "      <td>1</td>\n",
       "      <td>0</td>\n",
       "      <td>75000.0</td>\n",
       "      <td>30</td>\n",
       "    </tr>\n",
       "    <tr>\n",
       "      <th>...</th>\n",
       "      <td>...</td>\n",
       "      <td>...</td>\n",
       "      <td>...</td>\n",
       "      <td>...</td>\n",
       "      <td>...</td>\n",
       "      <td>...</td>\n",
       "      <td>...</td>\n",
       "      <td>...</td>\n",
       "      <td>...</td>\n",
       "      <td>...</td>\n",
       "      <td>...</td>\n",
       "    </tr>\n",
       "    <tr>\n",
       "      <th>7045</th>\n",
       "      <td>78c2f0067d8</td>\n",
       "      <td>2</td>\n",
       "      <td>1.0</td>\n",
       "      <td>0</td>\n",
       "      <td>2</td>\n",
       "      <td>1</td>\n",
       "      <td>1</td>\n",
       "      <td>0</td>\n",
       "      <td>0</td>\n",
       "      <td>30000.0</td>\n",
       "      <td>90</td>\n",
       "    </tr>\n",
       "    <tr>\n",
       "      <th>7046</th>\n",
       "      <td>279c7d23eb7</td>\n",
       "      <td>5</td>\n",
       "      <td>2.0</td>\n",
       "      <td>0</td>\n",
       "      <td>5</td>\n",
       "      <td>0</td>\n",
       "      <td>1</td>\n",
       "      <td>0</td>\n",
       "      <td>0</td>\n",
       "      <td>18.0</td>\n",
       "      <td>47</td>\n",
       "    </tr>\n",
       "    <tr>\n",
       "      <th>7047</th>\n",
       "      <td>d67af0ec109</td>\n",
       "      <td>1</td>\n",
       "      <td>1.0</td>\n",
       "      <td>0</td>\n",
       "      <td>1</td>\n",
       "      <td>0</td>\n",
       "      <td>2</td>\n",
       "      <td>1</td>\n",
       "      <td>0</td>\n",
       "      <td>23762.0</td>\n",
       "      <td>69</td>\n",
       "    </tr>\n",
       "    <tr>\n",
       "      <th>7048</th>\n",
       "      <td>7d2e8114e9a</td>\n",
       "      <td>2</td>\n",
       "      <td>1.0</td>\n",
       "      <td>0</td>\n",
       "      <td>2</td>\n",
       "      <td>1</td>\n",
       "      <td>1</td>\n",
       "      <td>1</td>\n",
       "      <td>0</td>\n",
       "      <td>30000.0</td>\n",
       "      <td>1015</td>\n",
       "    </tr>\n",
       "    <tr>\n",
       "      <th>7049</th>\n",
       "      <td>f479ed04b66</td>\n",
       "      <td>1</td>\n",
       "      <td>2.0</td>\n",
       "      <td>0</td>\n",
       "      <td>1</td>\n",
       "      <td>0</td>\n",
       "      <td>1</td>\n",
       "      <td>1</td>\n",
       "      <td>0</td>\n",
       "      <td>25247.0</td>\n",
       "      <td>27</td>\n",
       "    </tr>\n",
       "  </tbody>\n",
       "</table>\n",
       "<p>7050 rows × 11 columns</p>\n",
       "</div>"
      ],
      "text/plain": [
       "               id  NoEmp  NewExist  CreateJob  RetainedJob  FranchiseCode  \\\n",
       "0     63ef5dfc62f      1       2.0          0            0              1   \n",
       "1     65ee0569c05     81       1.0          0            0              1   \n",
       "2     19058f4da52      4       1.0          1            5              1   \n",
       "3     a0f1299afe4      6       2.0          3            6              0   \n",
       "4     e47da0be9fc      3       1.0          0            3              1   \n",
       "...           ...    ...       ...        ...          ...            ...   \n",
       "7045  78c2f0067d8      2       1.0          0            2              1   \n",
       "7046  279c7d23eb7      5       2.0          0            5              0   \n",
       "7047  d67af0ec109      1       1.0          0            1              0   \n",
       "7048  7d2e8114e9a      2       1.0          0            2              1   \n",
       "7049  f479ed04b66      1       2.0          0            1              0   \n",
       "\n",
       "      UrbanRural  RevLineCr  LowDoc  DisbursementGross  ApprovalPeriod  \n",
       "0              0          0       1            35000.0              77  \n",
       "1              0          0       0           145000.0             172  \n",
       "2              1          1       0            52174.0              54  \n",
       "3              1          1       0           194316.0              49  \n",
       "4              1          1       0            75000.0              30  \n",
       "...          ...        ...     ...                ...             ...  \n",
       "7045           1          0       0            30000.0              90  \n",
       "7046           1          0       0               18.0              47  \n",
       "7047           2          1       0            23762.0              69  \n",
       "7048           1          1       0            30000.0            1015  \n",
       "7049           1          1       0            25247.0              27  \n",
       "\n",
       "[7050 rows x 11 columns]"
      ]
     },
     "execution_count": 38,
     "metadata": {},
     "output_type": "execute_result"
    }
   ],
   "source": [
    "df_test"
   ]
  },
  {
   "cell_type": "code",
   "execution_count": 40,
   "id": "5026dd8b",
   "metadata": {},
   "outputs": [],
   "source": [
    "ids = df_test['id'].values\n",
    "x_test = df_test[features].values\n",
    "predicted = clf.predict(x_test)"
   ]
  },
  {
   "cell_type": "markdown",
   "id": "639872f1",
   "metadata": {},
   "source": [
    "## 4º Paso: Entrega"
   ]
  },
  {
   "cell_type": "code",
   "execution_count": 41,
   "id": "0835be0c",
   "metadata": {},
   "outputs": [],
   "source": [
    "submission = pd.DataFrame(predicted.astype(int), index=ids, columns=['Accept'])\n",
    "submission.index.name=\"id\"\n",
    "submission.to_csv(r'C:\\Users\\Usuario\\OneDrive - Universidad Politécnica de Madrid\\Clases\\2 Cuatrimestre\\ABID\\KaggleChallenge\\notebook\\submission.csv', index=True)"
   ]
  }
 ],
 "metadata": {
  "kernelspec": {
   "display_name": "Python 3",
   "language": "python",
   "name": "python3"
  },
  "language_info": {
   "codemirror_mode": {
    "name": "ipython",
    "version": 3
   },
   "file_extension": ".py",
   "mimetype": "text/x-python",
   "name": "python",
   "nbconvert_exporter": "python",
   "pygments_lexer": "ipython3",
   "version": "3.8.8"
  }
 },
 "nbformat": 4,
 "nbformat_minor": 5
}
