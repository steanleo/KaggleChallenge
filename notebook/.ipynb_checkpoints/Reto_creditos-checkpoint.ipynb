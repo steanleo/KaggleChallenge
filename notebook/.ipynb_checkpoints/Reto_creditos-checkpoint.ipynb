{
 "cells": [
  {
   "cell_type": "markdown",
   "id": "fe6ed63d",
   "metadata": {},
   "source": [
    "![](images/EscUpmPolit_p.gif \"UPM\")"
   ]
  },
  {
   "cell_type": "markdown",
   "id": "ddcdfca7",
   "metadata": {},
   "source": [
    "# Kaggle Challenge\n",
    "## Loan Approval Prediction - New York\n",
    "El reto consiste en aplicar algoritmos de Machine Learning para predecir la emisión de créditos a un cliente en función de un dataset de entrada para el entrenamiento correspondiente.\n",
    "\n",
    "El dataset está formado por los siguientes campos:\n",
    "\n",
    "- id # Text # Identifier of the data instance\n",
    "- LoanNr_ChkDgt # Text # Identifier of the loan petition\n",
    "- Name # Text # Borrower name\n",
    "- City # Text # Borrower city\n",
    "- State # Text # Borrower state\n",
    "- Bank # Text # Bank name\n",
    "- BankState # Text # Bank state\n",
    "- ApprovalDate # Date/Time # Date SBA commitment issued\n",
    "- ApprovalFY # Text # Fiscal year of commitment\n",
    "- NoEmp # Number # Number of business employees\n",
    "- NewExist # Text # 1 = Existing business, 2 = New business\n",
    "- CreateJob # Number # Number of jobs created\n",
    "- RetainedJob # Number # Number of jobs retained\n",
    "- FranchiseCode # Text # Franchise code, (00000 or 00001) = No franchise\n",
    "- UrbanRural # Text # 1 = Urban, 2 = rural, 0 = undefined\n",
    "- RevLineCr # Text # Revolving line of credit: Y = Yes, N = No\n",
    "- LowDoc # Text # LowDoc Loan Program: Y = Yes, N = No\n",
    "- DisbursementDate # Date/Time # Disbursement date\n",
    "- DisbursementGross # Currency # Amount disbursed\n",
    "- BalanceGross # Currency # Gross amount outstanding\n",
    "- Accept # Text # Loan approval status. 0 = not approved, 1 = approved\n"
   ]
  },
  {
   "cell_type": "markdown",
   "id": "38e299da",
   "metadata": {},
   "source": [
    "## 1. Importar datos"
   ]
  },
  {
   "cell_type": "code",
   "execution_count": null,
   "id": "8c9c62c6",
   "metadata": {},
   "outputs": [],
   "source": [
    "from datetime import datetime\n",
    "import numpy as np\n",
    "import pandas as pd\n",
    "from pandas import Series, DataFrame\n",
    "\n",
    "# Training and test spliting\n",
    "from sklearn.model_selection import train_test_split, KFold, GridSearchCV\n",
    "from sklearn import preprocessing\n",
    "\n",
    "# Estimators\n",
    "from sklearn.svm import SVC, LinearSVC\n",
    "from sklearn.neighbors import KNeighborsClassifier\n",
    "from sklearn.ensemble import RandomForestClassifier\n",
    "from sklearn.naive_bayes import BernoulliNB\n",
    "\n",
    "# Evaluation\n",
    "from sklearn import metrics\n",
    "from sklearn.metrics import confusion_matrix, classification_report, f1_score, accuracy_score\n",
    "from sklearn.metrics import roc_curve\n",
    "from sklearn.metrics import roc_auc_score\n",
    "\n",
    "# Optimization\n",
    "#from sklearn.model_selection import GridSearchCV\n",
    "\n",
    "# Visualisation\n",
    "import seaborn as sns\n",
    "import matplotlib.pyplot as plt\n",
    "sns.set(color_codes=True)"
   ]
  },
  {
   "cell_type": "code",
   "execution_count": null,
   "id": "c5ab3559",
   "metadata": {},
   "outputs": [],
   "source": [
    "train = pd.read_csv('data_reto_1/train.csv')\n",
    "test = pd.read_csv('data_reto_1/test_nolabel.csv')\n",
    "data = pd.concat([train, test])\n",
    "train"
   ]
  },
  {
   "cell_type": "markdown",
   "id": "5e5035a6",
   "metadata": {},
   "source": [
    "De acuerdo a los datos mostrados, se puede intuir que las variables asociadas a la prediccion del riesgo son:\n",
    "- ApprovalDate y DisbursementDate, ambas determinan la fecha en que la SBA ha aceptado la solicitud y la fecha en que ha concedido el préstamo. Se podría calcular la diferencia entre ellas.\n",
    "- NoEmp, la cantidad de empleados puede determinar que tan grande o pequeña es la empresa.\n",
    "- NewExist, si es una empresa que recién esta empezando su actividad podría afectar la concesión del préstamo.\n",
    "- CreateJob, si se han creado fuentes de empleo puede ser un indicador del crecimiento de la empresa.\n",
    "- RetainedJob, representa la cantidad de empleos a tiempo completo existentes al momento de hacer la solicitud y que se mantendrán en caso de conseguir la aprobación.\n",
    "- RevLineCr, representa el hecho de que tan pronto como se pague la deuda, la empresa puede volver a pedir prestado hasta su límite de crédito sin pasar por otro proceso de aprobación de préstamo.\n",
    "- LowDoc, de ser verdadero significa que el SBA promete un procesamiento rápido (para montos inferiores a $150,000).\n",
    "- DisbursementGross, la cantidad que se esta solicitando es importante en conjunto con el resto de parámetros para poder determinar la aprobación del préstamo.\n",
    "- Accept, el campo más importante porque indica si se ha cedido o no el préstamo.\n",
    "\n",
    "Sin embargo, revisaremos cada columna para comprobarlo."
   ]
  },
  {
   "cell_type": "markdown",
   "id": "137b3800",
   "metadata": {},
   "source": [
    "##  2. Limpieza de datos\n",
    "\n",
    "Se eliminarán campos irrelevantes o no necesarios. Para esto se debe analizar los datos numéricos, revisar si hay datos faltantes o nulos y completarlos, y eliminar columnas no necesarias. Luego hacer lo mismo con los no numéricos e incluso cambiar el tipo de dato si así se considera."
   ]
  },
  {
   "cell_type": "code",
   "execution_count": 685,
   "id": "d1968628",
   "metadata": {
    "scrolled": true
   },
   "outputs": [
    {
     "name": "stdout",
     "output_type": "stream",
     "text": [
      "<class 'pandas.core.frame.DataFrame'>\n",
      "RangeIndex: 40385 entries, 0 to 40384\n",
      "Data columns (total 21 columns):\n",
      " #   Column             Non-Null Count  Dtype  \n",
      "---  ------             --------------  -----  \n",
      " 0   id                 40385 non-null  object \n",
      " 1   LoanNr_ChkDgt      40385 non-null  int64  \n",
      " 2   Name               40382 non-null  object \n",
      " 3   City               40385 non-null  object \n",
      " 4   State              40385 non-null  object \n",
      " 5   Bank               40340 non-null  object \n",
      " 6   BankState          40338 non-null  object \n",
      " 7   ApprovalDate       40385 non-null  object \n",
      " 8   ApprovalFY         40385 non-null  object \n",
      " 9   NoEmp              40385 non-null  int64  \n",
      " 10  NewExist           40378 non-null  float64\n",
      " 11  CreateJob          40385 non-null  int64  \n",
      " 12  RetainedJob        40385 non-null  int64  \n",
      " 13  FranchiseCode      40385 non-null  int64  \n",
      " 14  UrbanRural         40385 non-null  int64  \n",
      " 15  RevLineCr          40250 non-null  object \n",
      " 16  LowDoc             40330 non-null  object \n",
      " 17  DisbursementDate   40254 non-null  object \n",
      " 18  DisbursementGross  40385 non-null  object \n",
      " 19  BalanceGross       40385 non-null  object \n",
      " 20  Accept             40385 non-null  int64  \n",
      "dtypes: float64(1), int64(7), object(13)\n",
      "memory usage: 6.5+ MB\n"
     ]
    }
   ],
   "source": [
    "#Dataframe information from each column\n",
    "df_train = train.copy()\n",
    "df_train.info()"
   ]
  },
  {
   "cell_type": "code",
   "execution_count": 686,
   "id": "12be99bc",
   "metadata": {},
   "outputs": [
    {
     "data": {
      "text/plain": [
       "False"
      ]
     },
     "execution_count": 686,
     "metadata": {},
     "output_type": "execute_result"
    }
   ],
   "source": [
    "#Let's see if there's any duplicate\n",
    "df_train.duplicated().any()"
   ]
  },
  {
   "cell_type": "code",
   "execution_count": 687,
   "id": "f671bf06",
   "metadata": {},
   "outputs": [
    {
     "data": {
      "image/png": "[encoded data removed]",
      "text/plain": [
       "<Figure size 720x720 with 9 Axes>"
      ]
     },
     "metadata": {},
     "output_type": "display_data"
    }
   ],
   "source": [
    "# Analise distributon\n",
    "#df_train.hist(figsize=(10,10))\n",
    "data.hist(figsize=(10,10))\n",
    "plt.show()"
   ]
  },
  {
   "cell_type": "code",
   "execution_count": 688,
   "id": "fe991af0",
   "metadata": {},
   "outputs": [
    {
     "data": {
      "text/html": [
       "<div>\n",
       "<style scoped>\n",
       "    .dataframe tbody tr th:only-of-type {\n",
       "        vertical-align: middle;\n",
       "    }\n",
       "\n",
       "    .dataframe tbody tr th {\n",
       "        vertical-align: top;\n",
       "    }\n",
       "\n",
       "    .dataframe thead th {\n",
       "        text-align: right;\n",
       "    }\n",
       "</style>\n",
       "<table border=\"1\" class=\"dataframe\">\n",
       "  <thead>\n",
       "    <tr style=\"text-align: right;\">\n",
       "      <th></th>\n",
       "      <th>LoanNr_ChkDgt</th>\n",
       "      <th>NoEmp</th>\n",
       "      <th>NewExist</th>\n",
       "      <th>CreateJob</th>\n",
       "      <th>RetainedJob</th>\n",
       "      <th>FranchiseCode</th>\n",
       "      <th>UrbanRural</th>\n",
       "      <th>Accept</th>\n",
       "    </tr>\n",
       "  </thead>\n",
       "  <tbody>\n",
       "    <tr>\n",
       "      <th>LoanNr_ChkDgt</th>\n",
       "      <td>1.000000</td>\n",
       "      <td>0.018402</td>\n",
       "      <td>-0.078449</td>\n",
       "      <td>-0.009209</td>\n",
       "      <td>-0.012214</td>\n",
       "      <td>0.046121</td>\n",
       "      <td>-0.189975</td>\n",
       "      <td>0.180113</td>\n",
       "    </tr>\n",
       "    <tr>\n",
       "      <th>NoEmp</th>\n",
       "      <td>0.018402</td>\n",
       "      <td>1.000000</td>\n",
       "      <td>-0.043990</td>\n",
       "      <td>0.011228</td>\n",
       "      <td>0.025754</td>\n",
       "      <td>0.003007</td>\n",
       "      <td>-0.056435</td>\n",
       "      <td>0.020537</td>\n",
       "    </tr>\n",
       "    <tr>\n",
       "      <th>NewExist</th>\n",
       "      <td>-0.078449</td>\n",
       "      <td>-0.043990</td>\n",
       "      <td>1.000000</td>\n",
       "      <td>-0.003656</td>\n",
       "      <td>-0.012318</td>\n",
       "      <td>0.103388</td>\n",
       "      <td>0.010732</td>\n",
       "      <td>0.026183</td>\n",
       "    </tr>\n",
       "    <tr>\n",
       "      <th>CreateJob</th>\n",
       "      <td>-0.009209</td>\n",
       "      <td>0.011228</td>\n",
       "      <td>-0.003656</td>\n",
       "      <td>1.000000</td>\n",
       "      <td>0.995280</td>\n",
       "      <td>-0.000470</td>\n",
       "      <td>-0.019994</td>\n",
       "      <td>-0.004231</td>\n",
       "    </tr>\n",
       "    <tr>\n",
       "      <th>RetainedJob</th>\n",
       "      <td>-0.012214</td>\n",
       "      <td>0.025754</td>\n",
       "      <td>-0.012318</td>\n",
       "      <td>0.995280</td>\n",
       "      <td>1.000000</td>\n",
       "      <td>-0.002653</td>\n",
       "      <td>-0.012325</td>\n",
       "      <td>-0.004950</td>\n",
       "    </tr>\n",
       "    <tr>\n",
       "      <th>FranchiseCode</th>\n",
       "      <td>0.046121</td>\n",
       "      <td>0.003007</td>\n",
       "      <td>0.103388</td>\n",
       "      <td>-0.000470</td>\n",
       "      <td>-0.002653</td>\n",
       "      <td>1.000000</td>\n",
       "      <td>0.008642</td>\n",
       "      <td>0.017093</td>\n",
       "    </tr>\n",
       "    <tr>\n",
       "      <th>UrbanRural</th>\n",
       "      <td>-0.189975</td>\n",
       "      <td>-0.056435</td>\n",
       "      <td>0.010732</td>\n",
       "      <td>-0.019994</td>\n",
       "      <td>-0.012325</td>\n",
       "      <td>0.008642</td>\n",
       "      <td>1.000000</td>\n",
       "      <td>-0.163045</td>\n",
       "    </tr>\n",
       "    <tr>\n",
       "      <th>Accept</th>\n",
       "      <td>0.180113</td>\n",
       "      <td>0.020537</td>\n",
       "      <td>0.026183</td>\n",
       "      <td>-0.004231</td>\n",
       "      <td>-0.004950</td>\n",
       "      <td>0.017093</td>\n",
       "      <td>-0.163045</td>\n",
       "      <td>1.000000</td>\n",
       "    </tr>\n",
       "  </tbody>\n",
       "</table>\n",
       "</div>"
      ],
      "text/plain": [
       "               LoanNr_ChkDgt     NoEmp  NewExist  CreateJob  RetainedJob  \\\n",
       "LoanNr_ChkDgt       1.000000  0.018402 -0.078449  -0.009209    -0.012214   \n",
       "NoEmp               0.018402  1.000000 -0.043990   0.011228     0.025754   \n",
       "NewExist           -0.078449 -0.043990  1.000000  -0.003656    -0.012318   \n",
       "CreateJob          -0.009209  0.011228 -0.003656   1.000000     0.995280   \n",
       "RetainedJob        -0.012214  0.025754 -0.012318   0.995280     1.000000   \n",
       "FranchiseCode       0.046121  0.003007  0.103388  -0.000470    -0.002653   \n",
       "UrbanRural         -0.189975 -0.056435  0.010732  -0.019994    -0.012325   \n",
       "Accept              0.180113  0.020537  0.026183  -0.004231    -0.004950   \n",
       "\n",
       "               FranchiseCode  UrbanRural    Accept  \n",
       "LoanNr_ChkDgt       0.046121   -0.189975  0.180113  \n",
       "NoEmp               0.003007   -0.056435  0.020537  \n",
       "NewExist            0.103388    0.010732  0.026183  \n",
       "CreateJob          -0.000470   -0.019994 -0.004231  \n",
       "RetainedJob        -0.002653   -0.012325 -0.004950  \n",
       "FranchiseCode       1.000000    0.008642  0.017093  \n",
       "UrbanRural          0.008642    1.000000 -0.163045  \n",
       "Accept              0.017093   -0.163045  1.000000  "
      ]
     },
     "execution_count": 688,
     "metadata": {},
     "output_type": "execute_result"
    }
   ],
   "source": [
    "#df_train.corr()\n",
    "data.corr()"
   ]
  },
  {
   "cell_type": "markdown",
   "id": "ab67f7a5",
   "metadata": {},
   "source": [
    "### 2.1. Revisión de datos cuantitativos"
   ]
  },
  {
   "cell_type": "code",
   "execution_count": 689,
   "id": "3611a1f0",
   "metadata": {},
   "outputs": [
    {
     "data": {
      "text/html": [
       "<div>\n",
       "<style scoped>\n",
       "    .dataframe tbody tr th:only-of-type {\n",
       "        vertical-align: middle;\n",
       "    }\n",
       "\n",
       "    .dataframe tbody tr th {\n",
       "        vertical-align: top;\n",
       "    }\n",
       "\n",
       "    .dataframe thead th {\n",
       "        text-align: right;\n",
       "    }\n",
       "</style>\n",
       "<table border=\"1\" class=\"dataframe\">\n",
       "  <thead>\n",
       "    <tr style=\"text-align: right;\">\n",
       "      <th></th>\n",
       "      <th>LoanNr_ChkDgt</th>\n",
       "      <th>NoEmp</th>\n",
       "      <th>NewExist</th>\n",
       "      <th>CreateJob</th>\n",
       "      <th>RetainedJob</th>\n",
       "      <th>FranchiseCode</th>\n",
       "      <th>UrbanRural</th>\n",
       "      <th>Accept</th>\n",
       "    </tr>\n",
       "  </thead>\n",
       "  <tbody>\n",
       "    <tr>\n",
       "      <th>count</th>\n",
       "      <td>4.743500e+04</td>\n",
       "      <td>47435.000000</td>\n",
       "      <td>47427.000000</td>\n",
       "      <td>47435.000000</td>\n",
       "      <td>47435.000000</td>\n",
       "      <td>47435.000000</td>\n",
       "      <td>47435.000000</td>\n",
       "      <td>40385.000000</td>\n",
       "    </tr>\n",
       "    <tr>\n",
       "      <th>mean</th>\n",
       "      <td>4.419227e+09</td>\n",
       "      <td>9.223548</td>\n",
       "      <td>1.277353</td>\n",
       "      <td>3.843027</td>\n",
       "      <td>6.730895</td>\n",
       "      <td>1208.474881</td>\n",
       "      <td>0.780879</td>\n",
       "      <td>0.796360</td>\n",
       "    </tr>\n",
       "    <tr>\n",
       "      <th>std</th>\n",
       "      <td>2.535700e+09</td>\n",
       "      <td>51.034541</td>\n",
       "      <td>0.450420</td>\n",
       "      <td>140.256254</td>\n",
       "      <td>140.456054</td>\n",
       "      <td>8592.654575</td>\n",
       "      <td>0.583581</td>\n",
       "      <td>0.402709</td>\n",
       "    </tr>\n",
       "    <tr>\n",
       "      <th>min</th>\n",
       "      <td>1.000655e+09</td>\n",
       "      <td>0.000000</td>\n",
       "      <td>0.000000</td>\n",
       "      <td>0.000000</td>\n",
       "      <td>0.000000</td>\n",
       "      <td>0.000000</td>\n",
       "      <td>0.000000</td>\n",
       "      <td>0.000000</td>\n",
       "    </tr>\n",
       "    <tr>\n",
       "      <th>25%</th>\n",
       "      <td>2.255044e+09</td>\n",
       "      <td>2.000000</td>\n",
       "      <td>1.000000</td>\n",
       "      <td>0.000000</td>\n",
       "      <td>0.000000</td>\n",
       "      <td>0.000000</td>\n",
       "      <td>0.000000</td>\n",
       "      <td>1.000000</td>\n",
       "    </tr>\n",
       "    <tr>\n",
       "      <th>50%</th>\n",
       "      <td>3.716385e+09</td>\n",
       "      <td>4.000000</td>\n",
       "      <td>1.000000</td>\n",
       "      <td>0.000000</td>\n",
       "      <td>2.000000</td>\n",
       "      <td>1.000000</td>\n",
       "      <td>1.000000</td>\n",
       "      <td>1.000000</td>\n",
       "    </tr>\n",
       "    <tr>\n",
       "      <th>75%</th>\n",
       "      <td>6.356859e+09</td>\n",
       "      <td>8.000000</td>\n",
       "      <td>2.000000</td>\n",
       "      <td>1.000000</td>\n",
       "      <td>5.000000</td>\n",
       "      <td>1.000000</td>\n",
       "      <td>1.000000</td>\n",
       "      <td>1.000000</td>\n",
       "    </tr>\n",
       "    <tr>\n",
       "      <th>max</th>\n",
       "      <td>9.995413e+09</td>\n",
       "      <td>9999.000000</td>\n",
       "      <td>2.000000</td>\n",
       "      <td>8800.000000</td>\n",
       "      <td>8800.000000</td>\n",
       "      <td>91110.000000</td>\n",
       "      <td>2.000000</td>\n",
       "      <td>1.000000</td>\n",
       "    </tr>\n",
       "  </tbody>\n",
       "</table>\n",
       "</div>"
      ],
      "text/plain": [
       "       LoanNr_ChkDgt         NoEmp      NewExist     CreateJob   RetainedJob  \\\n",
       "count   4.743500e+04  47435.000000  47427.000000  47435.000000  47435.000000   \n",
       "mean    4.419227e+09      9.223548      1.277353      3.843027      6.730895   \n",
       "std     2.535700e+09     51.034541      0.450420    140.256254    140.456054   \n",
       "min     1.000655e+09      0.000000      0.000000      0.000000      0.000000   \n",
       "25%     2.255044e+09      2.000000      1.000000      0.000000      0.000000   \n",
       "50%     3.716385e+09      4.000000      1.000000      0.000000      2.000000   \n",
       "75%     6.356859e+09      8.000000      2.000000      1.000000      5.000000   \n",
       "max     9.995413e+09   9999.000000      2.000000   8800.000000   8800.000000   \n",
       "\n",
       "       FranchiseCode    UrbanRural        Accept  \n",
       "count   47435.000000  47435.000000  40385.000000  \n",
       "mean     1208.474881      0.780879      0.796360  \n",
       "std      8592.654575      0.583581      0.402709  \n",
       "min         0.000000      0.000000      0.000000  \n",
       "25%         0.000000      0.000000      1.000000  \n",
       "50%         1.000000      1.000000      1.000000  \n",
       "75%         1.000000      1.000000      1.000000  \n",
       "max     91110.000000      2.000000      1.000000  "
      ]
     },
     "execution_count": 689,
     "metadata": {},
     "output_type": "execute_result"
    }
   ],
   "source": [
    "#statistics from numeric columns\n",
    "#df_train.describe()\n",
    "data.describe()"
   ]
  },
  {
   "cell_type": "markdown",
   "id": "8757db84",
   "metadata": {},
   "source": [
    "Observando el resultado anterior, se puede determinar que el atributo **LoanNr_ChkDgt** es un identificador que no aporta a la predicción."
   ]
  },
  {
   "cell_type": "code",
   "execution_count": 690,
   "id": "b350693b",
   "metadata": {},
   "outputs": [],
   "source": [
    "#df_train.drop(['LoanNr_ChkDgt'], axis=1, inplace=True)\n",
    "data.drop(['LoanNr_ChkDgt'], axis=1, inplace=True)"
   ]
  },
  {
   "cell_type": "code",
   "execution_count": 691,
   "id": "11f3048c",
   "metadata": {},
   "outputs": [
    {
     "data": {
      "text/plain": [
       "NoEmp               0\n",
       "NewExist            8\n",
       "CreateJob           0\n",
       "RetainedJob         0\n",
       "FranchiseCode       0\n",
       "UrbanRural          0\n",
       "Accept           7050\n",
       "dtype: int64"
      ]
     },
     "execution_count": 691,
     "metadata": {},
     "output_type": "execute_result"
    }
   ],
   "source": [
    "#check for null values\n",
    "#df_train.select_dtypes(include=['float64', 'int64']).isnull().sum()\n",
    "data.select_dtypes(include=['float64', 'int64']).isnull().sum()"
   ]
  },
  {
   "cell_type": "markdown",
   "id": "c2604bb6",
   "metadata": {},
   "source": [
    "### Columna NewExist"
   ]
  },
  {
   "cell_type": "markdown",
   "id": "6a73ec0b",
   "metadata": {},
   "source": [
    "La columna **NewExist** posee valores nulos, por lo que se reemplaza con la mediana."
   ]
  },
  {
   "cell_type": "code",
   "execution_count": 692,
   "id": "247a96a6",
   "metadata": {},
   "outputs": [],
   "source": [
    "#df_train['NewExist'].fillna(df_train.NewExist.median(), inplace=True)\n",
    "data['NewExist'].fillna(data.NewExist.median(), inplace=True)"
   ]
  },
  {
   "cell_type": "code",
   "execution_count": 693,
   "id": "551258f7",
   "metadata": {},
   "outputs": [
    {
     "data": {
      "text/plain": [
       "<AxesSubplot:>"
      ]
     },
     "execution_count": 693,
     "metadata": {},
     "output_type": "execute_result"
    },
    {
     "data": {
      "image/png": "[encoded data removed]",
      "text/plain": [
       "<Figure size 432x288 with 1 Axes>"
      ]
     },
     "metadata": {},
     "output_type": "display_data"
    }
   ],
   "source": [
    "#df_train['NewExist'].hist(bins=30, range=(0, df_train['NewExist'].max()))\n",
    "data['NewExist'].hist(bins=30, range=(0, data['NewExist'].max()))"
   ]
  },
  {
   "cell_type": "markdown",
   "id": "f8f5b3ea",
   "metadata": {},
   "source": [
    "Como en los datos originales se establece que **NewExist** unicamente puede tomar los valores 1 y 2, se reemplaza el 0 por la mediana."
   ]
  },
  {
   "cell_type": "code",
   "execution_count": 694,
   "id": "5a505902",
   "metadata": {},
   "outputs": [],
   "source": [
    "#df_train.loc[df_train['NewExist'] == 0, 'NewExist'] = df_train.NewExist.median()\n",
    "data.loc[data['NewExist'] == 0, 'NewExist'] = data.NewExist.median()"
   ]
  },
  {
   "cell_type": "code",
   "execution_count": 695,
   "id": "114e2aa2",
   "metadata": {},
   "outputs": [
    {
     "data": {
      "text/plain": [
       "<AxesSubplot:xlabel='NewExist', ylabel='Accept'>"
      ]
     },
     "execution_count": 695,
     "metadata": {},
     "output_type": "execute_result"
    },
    {
     "data": {
      "image/png": "[encoded data removed]",
      "text/plain": [
       "<Figure size 432x288 with 1 Axes>"
      ]
     },
     "metadata": {},
     "output_type": "display_data"
    }
   ],
   "source": [
    "#sns.barplot(x='NewExist', y='Accept', data=df_train)\n",
    "sns.barplot(x='NewExist', y='Accept', data=data)"
   ]
  },
  {
   "cell_type": "markdown",
   "id": "56637c6f",
   "metadata": {},
   "source": [
    "### Columna FranchiseCode"
   ]
  },
  {
   "cell_type": "code",
   "execution_count": 696,
   "id": "2ace768a",
   "metadata": {},
   "outputs": [
    {
     "data": {
      "text/plain": [
       "<AxesSubplot:>"
      ]
     },
     "execution_count": 696,
     "metadata": {},
     "output_type": "execute_result"
    },
    {
     "data": {
      "image/png": "[encoded data removed]",
      "text/plain": [
       "<Figure size 432x288 with 1 Axes>"
      ]
     },
     "metadata": {},
     "output_type": "display_data"
    }
   ],
   "source": [
    "#df_train['FranchiseCode'].hist(bins=30, range=(0, df_train['FranchiseCode'].max()))\n",
    "data['FranchiseCode'].hist(bins=30, range=(0, data['FranchiseCode'].max()))"
   ]
  },
  {
   "cell_type": "code",
   "execution_count": 697,
   "id": "dd58299c",
   "metadata": {},
   "outputs": [],
   "source": [
    "sns.boxplot(data=df_train['FranchiseCode'])\n",
    "#sns.boxplot(data=data['FranchiseCode'])"
   ]
  },
  {
   "cell_type": "code",
   "execution_count": 556,
   "id": "e9125b9a",
   "metadata": {},
   "outputs": [
    {
     "data": {
      "text/plain": [
       "<AxesSubplot:xlabel='FranchiseCode', ylabel='Accept'>"
      ]
     },
     "execution_count": 556,
     "metadata": {},
     "output_type": "execute_result"
    },
    {
     "data": {
      "image/png": "[encoded data removed]",
      "text/plain": [
       "<Figure size 432x288 with 1 Axes>"
      ]
     },
     "metadata": {},
     "output_type": "display_data"
    }
   ],
   "source": [
    "sns.barplot(x='FranchiseCode', y='Accept', data=df_train)"
   ]
  },
  {
   "cell_type": "code",
   "execution_count": 698,
   "id": "d9039c1f",
   "metadata": {},
   "outputs": [
    {
     "data": {
      "text/plain": [
       "<AxesSubplot:xlabel='FranchiseCode', ylabel='Accept'>"
      ]
     },
     "execution_count": 698,
     "metadata": {},
     "output_type": "execute_result"
    },
    {
     "data": {
      "image/png": "[encoded data removed]",
      "text/plain": [
       "<Figure size 432x288 with 1 Axes>"
      ]
     },
     "metadata": {},
     "output_type": "display_data"
    }
   ],
   "source": [
    "#Parece ser que FranchiseCode está relacionado con Accept\n",
    "#df_train.loc[df_train.FranchiseCode == 1, 'FranchiseCode'] = 0\n",
    "#df_train.loc[df_train.FranchiseCode == 0, 'FranchiseCode'] = 0\n",
    "#df_train.loc[df_train.FranchiseCode > 1, 'FranchiseCode'] = 1\n",
    "\n",
    "#sns.barplot(x='FranchiseCode', y='Accept', data=df_train)\n",
    "\n",
    "data.loc[data.FranchiseCode == 1, 'FranchiseCode'] = 0\n",
    "data.loc[data.FranchiseCode == 0, 'FranchiseCode'] = 0\n",
    "data.loc[data.FranchiseCode > 1, 'FranchiseCode'] = 1\n",
    "\n",
    "sns.barplot(x='FranchiseCode', y='Accept', data=data)"
   ]
  },
  {
   "cell_type": "markdown",
   "id": "1f876521",
   "metadata": {},
   "source": [
    "### Columna UrbanRural"
   ]
  },
  {
   "cell_type": "code",
   "execution_count": 699,
   "id": "6c7bef73",
   "metadata": {},
   "outputs": [
    {
     "data": {
      "text/plain": [
       "<AxesSubplot:>"
      ]
     },
     "execution_count": 699,
     "metadata": {},
     "output_type": "execute_result"
    },
    {
     "data": {
      "image/png": "[encoded data removed]",
      "text/plain": [
       "<Figure size 432x288 with 1 Axes>"
      ]
     },
     "metadata": {},
     "output_type": "display_data"
    }
   ],
   "source": [
    "#df_train['UrbanRural'].hist(bins=30, range=(0, df_train['UrbanRural'].max()))\n",
    "data['UrbanRural'].hist(bins=30, range=(0, data['UrbanRural'].max()))"
   ]
  },
  {
   "cell_type": "code",
   "execution_count": 700,
   "id": "942efea0",
   "metadata": {},
   "outputs": [
    {
     "data": {
      "text/plain": [
       "<AxesSubplot:xlabel='UrbanRural', ylabel='Accept'>"
      ]
     },
     "execution_count": 700,
     "metadata": {},
     "output_type": "execute_result"
    },
    {
     "data": {
      "image/png": "[encoded data removed]",
      "text/plain": [
       "<Figure size 432x288 with 1 Axes>"
      ]
     },
     "metadata": {},
     "output_type": "display_data"
    }
   ],
   "source": [
    "sns.barplot(x='UrbanRural', y='Accept', data=df_train)\n",
    "#sns.barplot(x='UrbanRural', y='Accept', data=data)"
   ]
  },
  {
   "cell_type": "markdown",
   "id": "a51279e0",
   "metadata": {},
   "source": [
    "### Columna NoEmp"
   ]
  },
  {
   "cell_type": "code",
   "execution_count": null,
   "id": "278c0bbc",
   "metadata": {},
   "outputs": [],
   "source": [
    "#sns.boxplot(data=df_train['NoEmp'])\n",
    "sns.boxplot(data=data['NoEmp'])"
   ]
  },
  {
   "cell_type": "code",
   "execution_count": 588,
   "id": "0d65b1c1",
   "metadata": {},
   "outputs": [
    {
     "data": {
      "text/plain": [
       "NoEmp    AxesSubplot(0.1,0.15;0.8x0.75)\n",
       "dtype: object"
      ]
     },
     "execution_count": 588,
     "metadata": {},
     "output_type": "execute_result"
    },
    {
     "data": {
      "image/png": "[encoded data removed]",
      "text/plain": [
       "<Figure size 432x288 with 1 Axes>"
      ]
     },
     "metadata": {},
     "output_type": "display_data"
    }
   ],
   "source": [
    "#df_train.boxplot(column='NoEmp', by = 'NewExist', return_type='axes', sym='k.')\n",
    "data.boxplot(column='NoEmp', by = 'NewExist', return_type='axes', sym='k.')"
   ]
  },
  {
   "cell_type": "code",
   "execution_count": 589,
   "id": "1b4ce567",
   "metadata": {},
   "outputs": [
    {
     "data": {
      "text/html": [
       "<div>\n",
       "<style scoped>\n",
       "    .dataframe tbody tr th:only-of-type {\n",
       "        vertical-align: middle;\n",
       "    }\n",
       "\n",
       "    .dataframe tbody tr th {\n",
       "        vertical-align: top;\n",
       "    }\n",
       "\n",
       "    .dataframe thead th {\n",
       "        text-align: right;\n",
       "    }\n",
       "</style>\n",
       "<table border=\"1\" class=\"dataframe\">\n",
       "  <thead>\n",
       "    <tr style=\"text-align: right;\">\n",
       "      <th></th>\n",
       "      <th>id</th>\n",
       "      <th>Name</th>\n",
       "      <th>City</th>\n",
       "      <th>State</th>\n",
       "      <th>Bank</th>\n",
       "      <th>BankState</th>\n",
       "      <th>ApprovalDate</th>\n",
       "      <th>ApprovalFY</th>\n",
       "      <th>NoEmp</th>\n",
       "      <th>NewExist</th>\n",
       "      <th>CreateJob</th>\n",
       "      <th>RetainedJob</th>\n",
       "      <th>FranchiseCode</th>\n",
       "      <th>UrbanRural</th>\n",
       "      <th>RevLineCr</th>\n",
       "      <th>LowDoc</th>\n",
       "      <th>DisbursementDate</th>\n",
       "      <th>DisbursementGross</th>\n",
       "      <th>BalanceGross</th>\n",
       "      <th>Accept</th>\n",
       "    </tr>\n",
       "  </thead>\n",
       "  <tbody>\n",
       "    <tr>\n",
       "      <th>15476</th>\n",
       "      <td>dabc1f56760</td>\n",
       "      <td>BRADLEY I. &amp; LINDA M. AULIN</td>\n",
       "      <td>BATH</td>\n",
       "      <td>NY</td>\n",
       "      <td>FIVE STAR BANK</td>\n",
       "      <td>NY</td>\n",
       "      <td>9-Jul-98</td>\n",
       "      <td>1998</td>\n",
       "      <td>9999</td>\n",
       "      <td>1.0</td>\n",
       "      <td>0</td>\n",
       "      <td>0</td>\n",
       "      <td>0</td>\n",
       "      <td>0</td>\n",
       "      <td>N</td>\n",
       "      <td>N</td>\n",
       "      <td>30-Apr-00</td>\n",
       "      <td>$200,000.00</td>\n",
       "      <td>$0.00</td>\n",
       "      <td>0</td>\n",
       "    </tr>\n",
       "    <tr>\n",
       "      <th>28706</th>\n",
       "      <td>9892325b49c</td>\n",
       "      <td>ZAMIN, INC.</td>\n",
       "      <td>GREAT NECK</td>\n",
       "      <td>NY</td>\n",
       "      <td>CITIBANK, N.A.</td>\n",
       "      <td>SD</td>\n",
       "      <td>6-Apr-92</td>\n",
       "      <td>1992</td>\n",
       "      <td>1981</td>\n",
       "      <td>1.0</td>\n",
       "      <td>0</td>\n",
       "      <td>0</td>\n",
       "      <td>0</td>\n",
       "      <td>0</td>\n",
       "      <td>N</td>\n",
       "      <td>N</td>\n",
       "      <td>31-Jul-92</td>\n",
       "      <td>$318,750.00</td>\n",
       "      <td>$0.00</td>\n",
       "      <td>1</td>\n",
       "    </tr>\n",
       "  </tbody>\n",
       "</table>\n",
       "</div>"
      ],
      "text/plain": [
       "                id                         Name        City State  \\\n",
       "15476  dabc1f56760  BRADLEY I. & LINDA M. AULIN        BATH    NY   \n",
       "28706  9892325b49c                  ZAMIN, INC.  GREAT NECK    NY   \n",
       "\n",
       "                 Bank BankState ApprovalDate ApprovalFY  NoEmp  NewExist  \\\n",
       "15476  FIVE STAR BANK        NY     9-Jul-98       1998   9999       1.0   \n",
       "28706  CITIBANK, N.A.        SD     6-Apr-92       1992   1981       1.0   \n",
       "\n",
       "       CreateJob  RetainedJob  FranchiseCode  UrbanRural RevLineCr LowDoc  \\\n",
       "15476          0            0              0           0         N      N   \n",
       "28706          0            0              0           0         N      N   \n",
       "\n",
       "      DisbursementDate DisbursementGross BalanceGross  Accept  \n",
       "15476        30-Apr-00      $200,000.00        $0.00        0  \n",
       "28706        31-Jul-92      $318,750.00        $0.00        1  "
      ]
     },
     "execution_count": 589,
     "metadata": {},
     "output_type": "execute_result"
    }
   ],
   "source": [
    "#df_train[df_train.NoEmp > 1000]\n",
    "data[data.NoEmp > 1000]"
   ]
  },
  {
   "cell_type": "code",
   "execution_count": 590,
   "id": "03cfa19e",
   "metadata": {},
   "outputs": [
    {
     "data": {
      "text/html": [
       "<div>\n",
       "<style scoped>\n",
       "    .dataframe tbody tr th:only-of-type {\n",
       "        vertical-align: middle;\n",
       "    }\n",
       "\n",
       "    .dataframe tbody tr th {\n",
       "        vertical-align: top;\n",
       "    }\n",
       "\n",
       "    .dataframe thead th {\n",
       "        text-align: right;\n",
       "    }\n",
       "</style>\n",
       "<table border=\"1\" class=\"dataframe\">\n",
       "  <thead>\n",
       "    <tr style=\"text-align: right;\">\n",
       "      <th></th>\n",
       "      <th>id</th>\n",
       "      <th>Name</th>\n",
       "      <th>City</th>\n",
       "      <th>State</th>\n",
       "      <th>Bank</th>\n",
       "      <th>BankState</th>\n",
       "      <th>ApprovalDate</th>\n",
       "      <th>ApprovalFY</th>\n",
       "      <th>NoEmp</th>\n",
       "      <th>NewExist</th>\n",
       "      <th>CreateJob</th>\n",
       "      <th>RetainedJob</th>\n",
       "      <th>FranchiseCode</th>\n",
       "      <th>UrbanRural</th>\n",
       "      <th>RevLineCr</th>\n",
       "      <th>LowDoc</th>\n",
       "      <th>DisbursementDate</th>\n",
       "      <th>DisbursementGross</th>\n",
       "      <th>BalanceGross</th>\n",
       "      <th>Accept</th>\n",
       "    </tr>\n",
       "  </thead>\n",
       "  <tbody>\n",
       "    <tr>\n",
       "      <th>15476</th>\n",
       "      <td>dabc1f56760</td>\n",
       "      <td>BRADLEY I. &amp; LINDA M. AULIN</td>\n",
       "      <td>BATH</td>\n",
       "      <td>NY</td>\n",
       "      <td>FIVE STAR BANK</td>\n",
       "      <td>NY</td>\n",
       "      <td>9-Jul-98</td>\n",
       "      <td>1998</td>\n",
       "      <td>9999</td>\n",
       "      <td>1.0</td>\n",
       "      <td>0</td>\n",
       "      <td>0</td>\n",
       "      <td>0</td>\n",
       "      <td>0</td>\n",
       "      <td>N</td>\n",
       "      <td>N</td>\n",
       "      <td>30-Apr-00</td>\n",
       "      <td>$200,000.00</td>\n",
       "      <td>$0.00</td>\n",
       "      <td>0</td>\n",
       "    </tr>\n",
       "    <tr>\n",
       "      <th>28706</th>\n",
       "      <td>9892325b49c</td>\n",
       "      <td>ZAMIN, INC.</td>\n",
       "      <td>GREAT NECK</td>\n",
       "      <td>NY</td>\n",
       "      <td>CITIBANK, N.A.</td>\n",
       "      <td>SD</td>\n",
       "      <td>6-Apr-92</td>\n",
       "      <td>1992</td>\n",
       "      <td>1981</td>\n",
       "      <td>1.0</td>\n",
       "      <td>0</td>\n",
       "      <td>0</td>\n",
       "      <td>0</td>\n",
       "      <td>0</td>\n",
       "      <td>N</td>\n",
       "      <td>N</td>\n",
       "      <td>31-Jul-92</td>\n",
       "      <td>$318,750.00</td>\n",
       "      <td>$0.00</td>\n",
       "      <td>1</td>\n",
       "    </tr>\n",
       "    <tr>\n",
       "      <th>22648</th>\n",
       "      <td>7d96998cfb4</td>\n",
       "      <td>WAYNE'S GIFTS ,INC.</td>\n",
       "      <td>CANANDAIGUA</td>\n",
       "      <td>NY</td>\n",
       "      <td>MANUFACTURERS &amp; TRADERS TR CO</td>\n",
       "      <td>NY</td>\n",
       "      <td>13-Dec-95</td>\n",
       "      <td>1996</td>\n",
       "      <td>1000</td>\n",
       "      <td>2.0</td>\n",
       "      <td>0</td>\n",
       "      <td>0</td>\n",
       "      <td>0</td>\n",
       "      <td>0</td>\n",
       "      <td>N</td>\n",
       "      <td>Y</td>\n",
       "      <td>31-Jul-96</td>\n",
       "      <td>$100,000.00</td>\n",
       "      <td>$0.00</td>\n",
       "      <td>1</td>\n",
       "    </tr>\n",
       "    <tr>\n",
       "      <th>31154</th>\n",
       "      <td>4f4f3f0094e</td>\n",
       "      <td>JOHN C. MANDEL SECURITY BUREAU</td>\n",
       "      <td>BRONX</td>\n",
       "      <td>NY</td>\n",
       "      <td>BUSINESS INITIATIVE CORP OF NE</td>\n",
       "      <td>NY</td>\n",
       "      <td>22-Jun-00</td>\n",
       "      <td>2000</td>\n",
       "      <td>827</td>\n",
       "      <td>1.0</td>\n",
       "      <td>12</td>\n",
       "      <td>815</td>\n",
       "      <td>0</td>\n",
       "      <td>1</td>\n",
       "      <td>N</td>\n",
       "      <td>N</td>\n",
       "      <td>17-Oct-01</td>\n",
       "      <td>$394,000.00</td>\n",
       "      <td>$0.00</td>\n",
       "      <td>1</td>\n",
       "    </tr>\n",
       "    <tr>\n",
       "      <th>17427</th>\n",
       "      <td>1da084c41ed</td>\n",
       "      <td>AMERICAN CV LLC</td>\n",
       "      <td>GANSEVOORT</td>\n",
       "      <td>NY</td>\n",
       "      <td>MANUFACTURERS &amp; TRADERS TR CO</td>\n",
       "      <td>NY</td>\n",
       "      <td>2-Jul-01</td>\n",
       "      <td>2001</td>\n",
       "      <td>750</td>\n",
       "      <td>2.0</td>\n",
       "      <td>4</td>\n",
       "      <td>0</td>\n",
       "      <td>0</td>\n",
       "      <td>1</td>\n",
       "      <td>Y</td>\n",
       "      <td>N</td>\n",
       "      <td>31-Dec-01</td>\n",
       "      <td>$66,173.00</td>\n",
       "      <td>$0.00</td>\n",
       "      <td>1</td>\n",
       "    </tr>\n",
       "    <tr>\n",
       "      <th>8266</th>\n",
       "      <td>bd37d7cf9a2</td>\n",
       "      <td>VANGUARD COVERAGE</td>\n",
       "      <td>MASSAPEQUA</td>\n",
       "      <td>NY</td>\n",
       "      <td>LONG ISLAND DEVEL CORP</td>\n",
       "      <td>NY</td>\n",
       "      <td>18-Sep-92</td>\n",
       "      <td>1992</td>\n",
       "      <td>700</td>\n",
       "      <td>1.0</td>\n",
       "      <td>200</td>\n",
       "      <td>500</td>\n",
       "      <td>0</td>\n",
       "      <td>0</td>\n",
       "      <td>N</td>\n",
       "      <td>N</td>\n",
       "      <td>13-Jan-93</td>\n",
       "      <td>$299,000.00</td>\n",
       "      <td>$0.00</td>\n",
       "      <td>1</td>\n",
       "    </tr>\n",
       "    <tr>\n",
       "      <th>28499</th>\n",
       "      <td>a537bcf95f8</td>\n",
       "      <td>Aardvarks Answering Service, I</td>\n",
       "      <td>New York</td>\n",
       "      <td>NY</td>\n",
       "      <td>TD BANK, NATIONAL ASSOCIATION</td>\n",
       "      <td>DE</td>\n",
       "      <td>9-May-12</td>\n",
       "      <td>2012</td>\n",
       "      <td>600</td>\n",
       "      <td>1.0</td>\n",
       "      <td>0</td>\n",
       "      <td>0</td>\n",
       "      <td>0</td>\n",
       "      <td>1</td>\n",
       "      <td>N</td>\n",
       "      <td>N</td>\n",
       "      <td>1-Jul-12</td>\n",
       "      <td>$250,000.00</td>\n",
       "      <td>$0.00</td>\n",
       "      <td>1</td>\n",
       "    </tr>\n",
       "    <tr>\n",
       "      <th>34441</th>\n",
       "      <td>cbe884fcb03</td>\n",
       "      <td>South Shore Restaurant Group N</td>\n",
       "      <td>Woodside</td>\n",
       "      <td>NY</td>\n",
       "      <td>EMPIRE ST. CERT. DEVEL CORP</td>\n",
       "      <td>NY</td>\n",
       "      <td>4-Dec-11</td>\n",
       "      <td>2012</td>\n",
       "      <td>500</td>\n",
       "      <td>1.0</td>\n",
       "      <td>11</td>\n",
       "      <td>0</td>\n",
       "      <td>1</td>\n",
       "      <td>1</td>\n",
       "      <td>NaN</td>\n",
       "      <td>N</td>\n",
       "      <td>17-Oct-12</td>\n",
       "      <td>$655,000.00</td>\n",
       "      <td>$0.00</td>\n",
       "      <td>1</td>\n",
       "    </tr>\n",
       "    <tr>\n",
       "      <th>735</th>\n",
       "      <td>2203837e2d3</td>\n",
       "      <td>South Shore Restaurant Group I</td>\n",
       "      <td>Hempstead</td>\n",
       "      <td>NY</td>\n",
       "      <td>EMPIRE ST. CERT. DEVEL CORP</td>\n",
       "      <td>NY</td>\n",
       "      <td>9-Oct-12</td>\n",
       "      <td>2013</td>\n",
       "      <td>500</td>\n",
       "      <td>1.0</td>\n",
       "      <td>0</td>\n",
       "      <td>0</td>\n",
       "      <td>1</td>\n",
       "      <td>1</td>\n",
       "      <td>NaN</td>\n",
       "      <td>N</td>\n",
       "      <td>13-Feb-13</td>\n",
       "      <td>$566,000.00</td>\n",
       "      <td>$0.00</td>\n",
       "      <td>1</td>\n",
       "    </tr>\n",
       "    <tr>\n",
       "      <th>18400</th>\n",
       "      <td>f506119fa89</td>\n",
       "      <td>LARO MAINTENANCE CORP.</td>\n",
       "      <td>BAYSHORE</td>\n",
       "      <td>NY</td>\n",
       "      <td>LONG ISLAND DEVEL CORP</td>\n",
       "      <td>NY</td>\n",
       "      <td>9-Jun-94</td>\n",
       "      <td>1994</td>\n",
       "      <td>488</td>\n",
       "      <td>1.0</td>\n",
       "      <td>16</td>\n",
       "      <td>472</td>\n",
       "      <td>0</td>\n",
       "      <td>0</td>\n",
       "      <td>N</td>\n",
       "      <td>N</td>\n",
       "      <td>15-Feb-95</td>\n",
       "      <td>$245,000.00</td>\n",
       "      <td>$0.00</td>\n",
       "      <td>1</td>\n",
       "    </tr>\n",
       "  </tbody>\n",
       "</table>\n",
       "</div>"
      ],
      "text/plain": [
       "                id                            Name         City State  \\\n",
       "15476  dabc1f56760     BRADLEY I. & LINDA M. AULIN         BATH    NY   \n",
       "28706  9892325b49c                     ZAMIN, INC.   GREAT NECK    NY   \n",
       "22648  7d96998cfb4             WAYNE'S GIFTS ,INC.  CANANDAIGUA    NY   \n",
       "31154  4f4f3f0094e  JOHN C. MANDEL SECURITY BUREAU        BRONX    NY   \n",
       "17427  1da084c41ed                 AMERICAN CV LLC   GANSEVOORT    NY   \n",
       "8266   bd37d7cf9a2               VANGUARD COVERAGE   MASSAPEQUA    NY   \n",
       "28499  a537bcf95f8  Aardvarks Answering Service, I     New York    NY   \n",
       "34441  cbe884fcb03  South Shore Restaurant Group N     Woodside    NY   \n",
       "735    2203837e2d3  South Shore Restaurant Group I    Hempstead    NY   \n",
       "18400  f506119fa89          LARO MAINTENANCE CORP.     BAYSHORE    NY   \n",
       "\n",
       "                                 Bank BankState ApprovalDate ApprovalFY  \\\n",
       "15476                  FIVE STAR BANK        NY     9-Jul-98       1998   \n",
       "28706                  CITIBANK, N.A.        SD     6-Apr-92       1992   \n",
       "22648   MANUFACTURERS & TRADERS TR CO        NY    13-Dec-95       1996   \n",
       "31154  BUSINESS INITIATIVE CORP OF NE        NY    22-Jun-00       2000   \n",
       "17427   MANUFACTURERS & TRADERS TR CO        NY     2-Jul-01       2001   \n",
       "8266           LONG ISLAND DEVEL CORP        NY    18-Sep-92       1992   \n",
       "28499   TD BANK, NATIONAL ASSOCIATION        DE     9-May-12       2012   \n",
       "34441     EMPIRE ST. CERT. DEVEL CORP        NY     4-Dec-11       2012   \n",
       "735       EMPIRE ST. CERT. DEVEL CORP        NY     9-Oct-12       2013   \n",
       "18400          LONG ISLAND DEVEL CORP        NY     9-Jun-94       1994   \n",
       "\n",
       "       NoEmp  NewExist  CreateJob  RetainedJob  FranchiseCode  UrbanRural  \\\n",
       "15476   9999       1.0          0            0              0           0   \n",
       "28706   1981       1.0          0            0              0           0   \n",
       "22648   1000       2.0          0            0              0           0   \n",
       "31154    827       1.0         12          815              0           1   \n",
       "17427    750       2.0          4            0              0           1   \n",
       "8266     700       1.0        200          500              0           0   \n",
       "28499    600       1.0          0            0              0           1   \n",
       "34441    500       1.0         11            0              1           1   \n",
       "735      500       1.0          0            0              1           1   \n",
       "18400    488       1.0         16          472              0           0   \n",
       "\n",
       "      RevLineCr LowDoc DisbursementDate DisbursementGross BalanceGross  Accept  \n",
       "15476         N      N        30-Apr-00      $200,000.00        $0.00        0  \n",
       "28706         N      N        31-Jul-92      $318,750.00        $0.00        1  \n",
       "22648         N      Y        31-Jul-96      $100,000.00        $0.00        1  \n",
       "31154         N      N        17-Oct-01      $394,000.00        $0.00        1  \n",
       "17427         Y      N        31-Dec-01       $66,173.00        $0.00        1  \n",
       "8266          N      N        13-Jan-93      $299,000.00        $0.00        1  \n",
       "28499         N      N         1-Jul-12      $250,000.00        $0.00        1  \n",
       "34441       NaN      N        17-Oct-12      $655,000.00        $0.00        1  \n",
       "735         NaN      N        13-Feb-13      $566,000.00        $0.00        1  \n",
       "18400         N      N        15-Feb-95      $245,000.00        $0.00        1  "
      ]
     },
     "execution_count": 590,
     "metadata": {},
     "output_type": "execute_result"
    }
   ],
   "source": [
    "#Calculate hight values\n",
    "#df_train.sort_values('NoEmp', ascending=False).head(10)\n",
    "data.sort_values('NoEmp', ascending=False).head(10)"
   ]
  },
  {
   "cell_type": "code",
   "execution_count": 591,
   "id": "784d283a",
   "metadata": {},
   "outputs": [],
   "source": [
    "#df_train.loc[df_train.NoEmp > 500, 'NoEmp'] = 500\n",
    "data.loc[data.NoEmp > 500, 'NoEmp'] = 500"
   ]
  },
  {
   "cell_type": "code",
   "execution_count": null,
   "id": "5c134e46",
   "metadata": {},
   "outputs": [],
   "source": [
    "#sns.barplot(x='NoEmp', y='Accept', data=df_train)\n",
    "sns.barplot(x='NoEmp', y='Accept', data=data)"
   ]
  },
  {
   "cell_type": "markdown",
   "id": "e6861c56",
   "metadata": {},
   "source": [
    "### Columna CreateJob y RetainedJob"
   ]
  },
  {
   "cell_type": "code",
   "execution_count": 496,
   "id": "ea7c4a0b",
   "metadata": {},
   "outputs": [
    {
     "data": {
      "text/plain": [
       "<AxesSubplot:>"
      ]
     },
     "execution_count": 496,
     "metadata": {},
     "output_type": "execute_result"
    },
    {
     "data": {
      "image/png": "[encoded data removed]",
      "text/plain": [
       "<Figure size 432x288 with 1 Axes>"
      ]
     },
     "metadata": {},
     "output_type": "display_data"
    }
   ],
   "source": [
    "#df_train['CreateJob'].hist(bins=30, range=(0, df_train['CreateJob'].max()))\n",
    "data['CreateJob'].hist(bins=30, range=(0, data['CreateJob'].max()))"
   ]
  },
  {
   "cell_type": "code",
   "execution_count": 603,
   "id": "83f197c9",
   "metadata": {},
   "outputs": [
    {
     "data": {
      "text/plain": [
       "CreateJob    AxesSubplot(0.1,0.15;0.8x0.75)\n",
       "dtype: object"
      ]
     },
     "execution_count": 603,
     "metadata": {},
     "output_type": "execute_result"
    },
    {
     "data": {
      "image/png": "[encoded data removed]",
      "text/plain": [
       "<Figure size 432x288 with 1 Axes>"
      ]
     },
     "metadata": {},
     "output_type": "display_data"
    }
   ],
   "source": [
    "#df_train.boxplot(column='CreateJob', by = 'NewExist', return_type='axes', sym='k.')\n",
    "data.boxplot(column='CreateJob', by = 'NewExist', return_type='axes', sym='k.')"
   ]
  },
  {
   "cell_type": "code",
   "execution_count": 604,
   "id": "78e7a4bf",
   "metadata": {},
   "outputs": [
    {
     "data": {
      "text/html": [
       "<div>\n",
       "<style scoped>\n",
       "    .dataframe tbody tr th:only-of-type {\n",
       "        vertical-align: middle;\n",
       "    }\n",
       "\n",
       "    .dataframe tbody tr th {\n",
       "        vertical-align: top;\n",
       "    }\n",
       "\n",
       "    .dataframe thead th {\n",
       "        text-align: right;\n",
       "    }\n",
       "</style>\n",
       "<table border=\"1\" class=\"dataframe\">\n",
       "  <thead>\n",
       "    <tr style=\"text-align: right;\">\n",
       "      <th></th>\n",
       "      <th>id</th>\n",
       "      <th>Name</th>\n",
       "      <th>City</th>\n",
       "      <th>State</th>\n",
       "      <th>Bank</th>\n",
       "      <th>BankState</th>\n",
       "      <th>ApprovalDate</th>\n",
       "      <th>ApprovalFY</th>\n",
       "      <th>NoEmp</th>\n",
       "      <th>NewExist</th>\n",
       "      <th>CreateJob</th>\n",
       "      <th>RetainedJob</th>\n",
       "      <th>FranchiseCode</th>\n",
       "      <th>UrbanRural</th>\n",
       "      <th>RevLineCr</th>\n",
       "      <th>LowDoc</th>\n",
       "      <th>DisbursementDate</th>\n",
       "      <th>DisbursementGross</th>\n",
       "      <th>BalanceGross</th>\n",
       "      <th>Accept</th>\n",
       "    </tr>\n",
       "  </thead>\n",
       "  <tbody>\n",
       "    <tr>\n",
       "      <th>3390</th>\n",
       "      <td>6c2fa0caf63</td>\n",
       "      <td>NASSAU TURF VEHICLE CORP.</td>\n",
       "      <td>WESTBURY</td>\n",
       "      <td>NY</td>\n",
       "      <td>LONG ISLAND DEVEL CORP</td>\n",
       "      <td>NY</td>\n",
       "      <td>26-Jun-86</td>\n",
       "      <td>1986</td>\n",
       "      <td>26</td>\n",
       "      <td>1.0</td>\n",
       "      <td>8800</td>\n",
       "      <td>8800</td>\n",
       "      <td>0</td>\n",
       "      <td>0</td>\n",
       "      <td>N</td>\n",
       "      <td>N</td>\n",
       "      <td>6-Jan-88</td>\n",
       "      <td>$184,000.00</td>\n",
       "      <td>$0.00</td>\n",
       "      <td>1</td>\n",
       "    </tr>\n",
       "    <tr>\n",
       "      <th>2863</th>\n",
       "      <td>0508d733f06</td>\n",
       "      <td>CEDARWOOD FARMS</td>\n",
       "      <td>BALDWINSVILLE</td>\n",
       "      <td>NY</td>\n",
       "      <td>MANUFACTURERS &amp; TRADERS TR CO</td>\n",
       "      <td>NY</td>\n",
       "      <td>28-Aug-86</td>\n",
       "      <td>1986</td>\n",
       "      <td>29</td>\n",
       "      <td>1.0</td>\n",
       "      <td>8800</td>\n",
       "      <td>8800</td>\n",
       "      <td>0</td>\n",
       "      <td>0</td>\n",
       "      <td>N</td>\n",
       "      <td>N</td>\n",
       "      <td>31-Oct-86</td>\n",
       "      <td>$71,465.00</td>\n",
       "      <td>$0.00</td>\n",
       "      <td>0</td>\n",
       "    </tr>\n",
       "    <tr>\n",
       "      <th>25406</th>\n",
       "      <td>03d69c85556</td>\n",
       "      <td>RIVERSIDE BOAT SALES, INC.</td>\n",
       "      <td>ROCHESTER</td>\n",
       "      <td>NY</td>\n",
       "      <td>MANUFACTURERS &amp; TRADERS TR CO</td>\n",
       "      <td>NY</td>\n",
       "      <td>17-Sep-86</td>\n",
       "      <td>1986</td>\n",
       "      <td>8</td>\n",
       "      <td>1.0</td>\n",
       "      <td>8800</td>\n",
       "      <td>8800</td>\n",
       "      <td>0</td>\n",
       "      <td>0</td>\n",
       "      <td>N</td>\n",
       "      <td>N</td>\n",
       "      <td>23-Oct-86</td>\n",
       "      <td>$115,000.00</td>\n",
       "      <td>$0.00</td>\n",
       "      <td>0</td>\n",
       "    </tr>\n",
       "    <tr>\n",
       "      <th>31013</th>\n",
       "      <td>2a3adb0a419</td>\n",
       "      <td>FIORANO TILE IMPORTS INC.</td>\n",
       "      <td>ELMONT</td>\n",
       "      <td>NY</td>\n",
       "      <td>LONG ISLAND DEVEL CORP</td>\n",
       "      <td>NY</td>\n",
       "      <td>30-Sep-86</td>\n",
       "      <td>1986</td>\n",
       "      <td>41</td>\n",
       "      <td>1.0</td>\n",
       "      <td>8800</td>\n",
       "      <td>8800</td>\n",
       "      <td>0</td>\n",
       "      <td>0</td>\n",
       "      <td>N</td>\n",
       "      <td>N</td>\n",
       "      <td>11-Jan-89</td>\n",
       "      <td>$350,000.00</td>\n",
       "      <td>$0.00</td>\n",
       "      <td>1</td>\n",
       "    </tr>\n",
       "    <tr>\n",
       "      <th>8190</th>\n",
       "      <td>825e3a09a38</td>\n",
       "      <td>RAINFOURTH, LTD.</td>\n",
       "      <td>NIAGARA FALLS</td>\n",
       "      <td>NY</td>\n",
       "      <td>NFC DEVELOPMENT CORPORATION</td>\n",
       "      <td>NY</td>\n",
       "      <td>8-Sep-86</td>\n",
       "      <td>1986</td>\n",
       "      <td>20</td>\n",
       "      <td>2.0</td>\n",
       "      <td>8800</td>\n",
       "      <td>8800</td>\n",
       "      <td>0</td>\n",
       "      <td>0</td>\n",
       "      <td>N</td>\n",
       "      <td>N</td>\n",
       "      <td>17-Feb-88</td>\n",
       "      <td>$500,000.00</td>\n",
       "      <td>$0.00</td>\n",
       "      <td>1</td>\n",
       "    </tr>\n",
       "    <tr>\n",
       "      <th>12042</th>\n",
       "      <td>72cbbe741bf</td>\n",
       "      <td>TOWN &amp; COUNTRY RESTAURANT</td>\n",
       "      <td>DUNKIRK</td>\n",
       "      <td>NY</td>\n",
       "      <td>FIRST NIAGARA BANK NATL ASSOC</td>\n",
       "      <td>NY</td>\n",
       "      <td>24-Sep-86</td>\n",
       "      <td>1986</td>\n",
       "      <td>5</td>\n",
       "      <td>1.0</td>\n",
       "      <td>8800</td>\n",
       "      <td>8800</td>\n",
       "      <td>0</td>\n",
       "      <td>0</td>\n",
       "      <td>N</td>\n",
       "      <td>N</td>\n",
       "      <td>6-Nov-86</td>\n",
       "      <td>$135,000.00</td>\n",
       "      <td>$0.00</td>\n",
       "      <td>0</td>\n",
       "    </tr>\n",
       "    <tr>\n",
       "      <th>12052</th>\n",
       "      <td>0cbbcc83463</td>\n",
       "      <td>THE GOLD VAULT</td>\n",
       "      <td>ELMONT</td>\n",
       "      <td>NY</td>\n",
       "      <td>BANK OF AMERICA NATL ASSOC</td>\n",
       "      <td>NY</td>\n",
       "      <td>4-Sep-86</td>\n",
       "      <td>1986</td>\n",
       "      <td>5</td>\n",
       "      <td>1.0</td>\n",
       "      <td>8800</td>\n",
       "      <td>8800</td>\n",
       "      <td>0</td>\n",
       "      <td>0</td>\n",
       "      <td>N</td>\n",
       "      <td>N</td>\n",
       "      <td>7-Nov-86</td>\n",
       "      <td>$50,000.00</td>\n",
       "      <td>$0.00</td>\n",
       "      <td>0</td>\n",
       "    </tr>\n",
       "    <tr>\n",
       "      <th>34453</th>\n",
       "      <td>4d6a7762eb4</td>\n",
       "      <td>SUPERIOR LABEL</td>\n",
       "      <td>DEER PARK</td>\n",
       "      <td>NY</td>\n",
       "      <td>LONG ISLAND DEVEL CORP</td>\n",
       "      <td>NY</td>\n",
       "      <td>25-Sep-86</td>\n",
       "      <td>1986</td>\n",
       "      <td>35</td>\n",
       "      <td>1.0</td>\n",
       "      <td>8800</td>\n",
       "      <td>8800</td>\n",
       "      <td>0</td>\n",
       "      <td>0</td>\n",
       "      <td>N</td>\n",
       "      <td>N</td>\n",
       "      <td>17-Feb-88</td>\n",
       "      <td>$350,000.00</td>\n",
       "      <td>$0.00</td>\n",
       "      <td>1</td>\n",
       "    </tr>\n",
       "    <tr>\n",
       "      <th>20921</th>\n",
       "      <td>60c203bb4a0</td>\n",
       "      <td>ANCHOR OFFSET PREP INC</td>\n",
       "      <td>ROHKONKOMA</td>\n",
       "      <td>NY</td>\n",
       "      <td>LONG ISLAND DEVEL CORP</td>\n",
       "      <td>NY</td>\n",
       "      <td>8-Jul-86</td>\n",
       "      <td>1986</td>\n",
       "      <td>21</td>\n",
       "      <td>1.0</td>\n",
       "      <td>8800</td>\n",
       "      <td>8800</td>\n",
       "      <td>0</td>\n",
       "      <td>0</td>\n",
       "      <td>N</td>\n",
       "      <td>N</td>\n",
       "      <td>11-Feb-87</td>\n",
       "      <td>$106,000.00</td>\n",
       "      <td>$0.00</td>\n",
       "      <td>1</td>\n",
       "    </tr>\n",
       "    <tr>\n",
       "      <th>24703</th>\n",
       "      <td>f5638d5164d</td>\n",
       "      <td>XUM CORP &amp; K &amp; K EATON</td>\n",
       "      <td>BOHEMIA</td>\n",
       "      <td>NY</td>\n",
       "      <td>LONG ISLAND DEVEL CORP</td>\n",
       "      <td>NY</td>\n",
       "      <td>24-Sep-86</td>\n",
       "      <td>1986</td>\n",
       "      <td>53</td>\n",
       "      <td>1.0</td>\n",
       "      <td>8800</td>\n",
       "      <td>8800</td>\n",
       "      <td>0</td>\n",
       "      <td>0</td>\n",
       "      <td>N</td>\n",
       "      <td>N</td>\n",
       "      <td>15-Jun-88</td>\n",
       "      <td>$477,000.00</td>\n",
       "      <td>$0.00</td>\n",
       "      <td>1</td>\n",
       "    </tr>\n",
       "    <tr>\n",
       "      <th>35966</th>\n",
       "      <td>ef2d06c7d5a</td>\n",
       "      <td>R.H. CROWN CO., INC.</td>\n",
       "      <td>JOHNSTOWN</td>\n",
       "      <td>NY</td>\n",
       "      <td>EMPIRE ST. CERT. DEVEL CORP</td>\n",
       "      <td>NY</td>\n",
       "      <td>17-Sep-86</td>\n",
       "      <td>1986</td>\n",
       "      <td>53</td>\n",
       "      <td>1.0</td>\n",
       "      <td>8800</td>\n",
       "      <td>8800</td>\n",
       "      <td>0</td>\n",
       "      <td>0</td>\n",
       "      <td>N</td>\n",
       "      <td>N</td>\n",
       "      <td>17-Dec-86</td>\n",
       "      <td>$292,000.00</td>\n",
       "      <td>$0.00</td>\n",
       "      <td>1</td>\n",
       "    </tr>\n",
       "    <tr>\n",
       "      <th>2884</th>\n",
       "      <td>0c6808391e9</td>\n",
       "      <td>RICHARD A. &amp; ALICE R. CAPUTO</td>\n",
       "      <td>ALBANY</td>\n",
       "      <td>NY</td>\n",
       "      <td>EMPIRE ST. CERT. DEVEL CORP</td>\n",
       "      <td>NY</td>\n",
       "      <td>28-Jul-86</td>\n",
       "      <td>1986</td>\n",
       "      <td>18</td>\n",
       "      <td>2.0</td>\n",
       "      <td>8800</td>\n",
       "      <td>8800</td>\n",
       "      <td>0</td>\n",
       "      <td>0</td>\n",
       "      <td>N</td>\n",
       "      <td>N</td>\n",
       "      <td>14-Jan-87</td>\n",
       "      <td>$223,000.00</td>\n",
       "      <td>$0.00</td>\n",
       "      <td>1</td>\n",
       "    </tr>\n",
       "    <tr>\n",
       "      <th>40189</th>\n",
       "      <td>e5aab87a6f8</td>\n",
       "      <td>TAM COMMUNICATIONS GROUP, INC.</td>\n",
       "      <td>HAUPPAUGE</td>\n",
       "      <td>NY</td>\n",
       "      <td>LONG ISLAND DEVEL CORP</td>\n",
       "      <td>NY</td>\n",
       "      <td>3-Aug-95</td>\n",
       "      <td>1995</td>\n",
       "      <td>27</td>\n",
       "      <td>1.0</td>\n",
       "      <td>1027</td>\n",
       "      <td>0</td>\n",
       "      <td>0</td>\n",
       "      <td>0</td>\n",
       "      <td>N</td>\n",
       "      <td>N</td>\n",
       "      <td>15-Nov-95</td>\n",
       "      <td>$416,000.00</td>\n",
       "      <td>$0.00</td>\n",
       "      <td>1</td>\n",
       "    </tr>\n",
       "    <tr>\n",
       "      <th>22676</th>\n",
       "      <td>101c44f4b5e</td>\n",
       "      <td>SASO REALTY LLC AND SASO'S JAP</td>\n",
       "      <td>ALBANY</td>\n",
       "      <td>NY</td>\n",
       "      <td>BANK OF AMERICA NATL ASSOC</td>\n",
       "      <td>RI</td>\n",
       "      <td>23-May-00</td>\n",
       "      <td>2000</td>\n",
       "      <td>10</td>\n",
       "      <td>1.0</td>\n",
       "      <td>1011</td>\n",
       "      <td>0</td>\n",
       "      <td>0</td>\n",
       "      <td>1</td>\n",
       "      <td>0</td>\n",
       "      <td>N</td>\n",
       "      <td>31-Aug-00</td>\n",
       "      <td>$97,200.00</td>\n",
       "      <td>$0.00</td>\n",
       "      <td>1</td>\n",
       "    </tr>\n",
       "    <tr>\n",
       "      <th>38644</th>\n",
       "      <td>a0f7a18a728</td>\n",
       "      <td>ELITE 29 REALTY LLC</td>\n",
       "      <td>NEW YORK</td>\n",
       "      <td>NY</td>\n",
       "      <td>EMPIRE ST. CERT. DEVEL CORP</td>\n",
       "      <td>NY</td>\n",
       "      <td>14-Jun-96</td>\n",
       "      <td>1996</td>\n",
       "      <td>450</td>\n",
       "      <td>1.0</td>\n",
       "      <td>456</td>\n",
       "      <td>450</td>\n",
       "      <td>0</td>\n",
       "      <td>0</td>\n",
       "      <td>N</td>\n",
       "      <td>N</td>\n",
       "      <td>16-Oct-96</td>\n",
       "      <td>$203,000.00</td>\n",
       "      <td>$0.00</td>\n",
       "      <td>1</td>\n",
       "    </tr>\n",
       "    <tr>\n",
       "      <th>8227</th>\n",
       "      <td>2cfab2a4a17</td>\n",
       "      <td>On Site Doors Corp.</td>\n",
       "      <td>Brooklyn</td>\n",
       "      <td>NY</td>\n",
       "      <td>EAST WEST BANK</td>\n",
       "      <td>CA</td>\n",
       "      <td>28-Aug-07</td>\n",
       "      <td>2007</td>\n",
       "      <td>3</td>\n",
       "      <td>1.0</td>\n",
       "      <td>452</td>\n",
       "      <td>0</td>\n",
       "      <td>0</td>\n",
       "      <td>1</td>\n",
       "      <td>N</td>\n",
       "      <td>N</td>\n",
       "      <td>31-Aug-07</td>\n",
       "      <td>$50,000.00</td>\n",
       "      <td>$0.00</td>\n",
       "      <td>0</td>\n",
       "    </tr>\n",
       "    <tr>\n",
       "      <th>38934</th>\n",
       "      <td>ed006c8a47b</td>\n",
       "      <td>The Green Room NYC, Inc.</td>\n",
       "      <td>New York</td>\n",
       "      <td>NY</td>\n",
       "      <td>READYCAP LENDING, LLC</td>\n",
       "      <td>CA</td>\n",
       "      <td>20-Jun-07</td>\n",
       "      <td>2007</td>\n",
       "      <td>4</td>\n",
       "      <td>1.0</td>\n",
       "      <td>450</td>\n",
       "      <td>4</td>\n",
       "      <td>0</td>\n",
       "      <td>1</td>\n",
       "      <td>N</td>\n",
       "      <td>N</td>\n",
       "      <td>31-Jan-08</td>\n",
       "      <td>$235,000.00</td>\n",
       "      <td>$0.00</td>\n",
       "      <td>0</td>\n",
       "    </tr>\n",
       "    <tr>\n",
       "      <th>21131</th>\n",
       "      <td>b4441d10793</td>\n",
       "      <td>WATSON SERVICES, INC.</td>\n",
       "      <td>NEWBURGH</td>\n",
       "      <td>NY</td>\n",
       "      <td>EMPIRE ST. CERT. DEVEL CORP</td>\n",
       "      <td>NY</td>\n",
       "      <td>17-Oct-01</td>\n",
       "      <td>2002</td>\n",
       "      <td>102</td>\n",
       "      <td>1.0</td>\n",
       "      <td>264</td>\n",
       "      <td>162</td>\n",
       "      <td>0</td>\n",
       "      <td>1</td>\n",
       "      <td>N</td>\n",
       "      <td>N</td>\n",
       "      <td>4-Mar-02</td>\n",
       "      <td>$128,000.00</td>\n",
       "      <td>$0.00</td>\n",
       "      <td>1</td>\n",
       "    </tr>\n",
       "    <tr>\n",
       "      <th>30679</th>\n",
       "      <td>ea0623b7a53</td>\n",
       "      <td>EVERGREEN GROUP LLC</td>\n",
       "      <td>CORAM</td>\n",
       "      <td>NY</td>\n",
       "      <td>LONG ISLAND DEVEL CORP</td>\n",
       "      <td>NY</td>\n",
       "      <td>10-Apr-03</td>\n",
       "      <td>2003</td>\n",
       "      <td>5</td>\n",
       "      <td>2.0</td>\n",
       "      <td>250</td>\n",
       "      <td>0</td>\n",
       "      <td>0</td>\n",
       "      <td>1</td>\n",
       "      <td>N</td>\n",
       "      <td>N</td>\n",
       "      <td>16-Jul-03</td>\n",
       "      <td>$1,000,000.00</td>\n",
       "      <td>$0.00</td>\n",
       "      <td>1</td>\n",
       "    </tr>\n",
       "    <tr>\n",
       "      <th>10668</th>\n",
       "      <td>47948ee674c</td>\n",
       "      <td>4SUNKIDS HOLDING LLC</td>\n",
       "      <td>NEW YORK</td>\n",
       "      <td>NY</td>\n",
       "      <td>BNB HANA BANK NATL ASSOC</td>\n",
       "      <td>NJ</td>\n",
       "      <td>1-Feb-08</td>\n",
       "      <td>2008</td>\n",
       "      <td>300</td>\n",
       "      <td>2.0</td>\n",
       "      <td>250</td>\n",
       "      <td>550</td>\n",
       "      <td>0</td>\n",
       "      <td>1</td>\n",
       "      <td>0</td>\n",
       "      <td>N</td>\n",
       "      <td>31-Mar-08</td>\n",
       "      <td>$2,000,000.00</td>\n",
       "      <td>$0.00</td>\n",
       "      <td>1</td>\n",
       "    </tr>\n",
       "  </tbody>\n",
       "</table>\n",
       "</div>"
      ],
      "text/plain": [
       "                id                            Name           City State  \\\n",
       "3390   6c2fa0caf63       NASSAU TURF VEHICLE CORP.       WESTBURY    NY   \n",
       "2863   0508d733f06                 CEDARWOOD FARMS  BALDWINSVILLE    NY   \n",
       "25406  03d69c85556      RIVERSIDE BOAT SALES, INC.      ROCHESTER    NY   \n",
       "31013  2a3adb0a419       FIORANO TILE IMPORTS INC.         ELMONT    NY   \n",
       "8190   825e3a09a38                RAINFOURTH, LTD.  NIAGARA FALLS    NY   \n",
       "12042  72cbbe741bf       TOWN & COUNTRY RESTAURANT        DUNKIRK    NY   \n",
       "12052  0cbbcc83463                  THE GOLD VAULT         ELMONT    NY   \n",
       "34453  4d6a7762eb4                  SUPERIOR LABEL      DEER PARK    NY   \n",
       "20921  60c203bb4a0          ANCHOR OFFSET PREP INC     ROHKONKOMA    NY   \n",
       "24703  f5638d5164d          XUM CORP & K & K EATON        BOHEMIA    NY   \n",
       "35966  ef2d06c7d5a            R.H. CROWN CO., INC.      JOHNSTOWN    NY   \n",
       "2884   0c6808391e9    RICHARD A. & ALICE R. CAPUTO         ALBANY    NY   \n",
       "40189  e5aab87a6f8  TAM COMMUNICATIONS GROUP, INC.      HAUPPAUGE    NY   \n",
       "22676  101c44f4b5e  SASO REALTY LLC AND SASO'S JAP         ALBANY    NY   \n",
       "38644  a0f7a18a728             ELITE 29 REALTY LLC       NEW YORK    NY   \n",
       "8227   2cfab2a4a17             On Site Doors Corp.       Brooklyn    NY   \n",
       "38934  ed006c8a47b        The Green Room NYC, Inc.       New York    NY   \n",
       "21131  b4441d10793           WATSON SERVICES, INC.       NEWBURGH    NY   \n",
       "30679  ea0623b7a53             EVERGREEN GROUP LLC          CORAM    NY   \n",
       "10668  47948ee674c            4SUNKIDS HOLDING LLC       NEW YORK    NY   \n",
       "\n",
       "                                Bank BankState ApprovalDate ApprovalFY  NoEmp  \\\n",
       "3390          LONG ISLAND DEVEL CORP        NY    26-Jun-86       1986     26   \n",
       "2863   MANUFACTURERS & TRADERS TR CO        NY    28-Aug-86       1986     29   \n",
       "25406  MANUFACTURERS & TRADERS TR CO        NY    17-Sep-86       1986      8   \n",
       "31013         LONG ISLAND DEVEL CORP        NY    30-Sep-86       1986     41   \n",
       "8190     NFC DEVELOPMENT CORPORATION        NY     8-Sep-86       1986     20   \n",
       "12042  FIRST NIAGARA BANK NATL ASSOC        NY    24-Sep-86       1986      5   \n",
       "12052     BANK OF AMERICA NATL ASSOC        NY     4-Sep-86       1986      5   \n",
       "34453         LONG ISLAND DEVEL CORP        NY    25-Sep-86       1986     35   \n",
       "20921         LONG ISLAND DEVEL CORP        NY     8-Jul-86       1986     21   \n",
       "24703         LONG ISLAND DEVEL CORP        NY    24-Sep-86       1986     53   \n",
       "35966    EMPIRE ST. CERT. DEVEL CORP        NY    17-Sep-86       1986     53   \n",
       "2884     EMPIRE ST. CERT. DEVEL CORP        NY    28-Jul-86       1986     18   \n",
       "40189         LONG ISLAND DEVEL CORP        NY     3-Aug-95       1995     27   \n",
       "22676     BANK OF AMERICA NATL ASSOC        RI    23-May-00       2000     10   \n",
       "38644    EMPIRE ST. CERT. DEVEL CORP        NY    14-Jun-96       1996    450   \n",
       "8227                  EAST WEST BANK        CA    28-Aug-07       2007      3   \n",
       "38934          READYCAP LENDING, LLC        CA    20-Jun-07       2007      4   \n",
       "21131    EMPIRE ST. CERT. DEVEL CORP        NY    17-Oct-01       2002    102   \n",
       "30679         LONG ISLAND DEVEL CORP        NY    10-Apr-03       2003      5   \n",
       "10668       BNB HANA BANK NATL ASSOC        NJ     1-Feb-08       2008    300   \n",
       "\n",
       "       NewExist  CreateJob  RetainedJob  FranchiseCode  UrbanRural RevLineCr  \\\n",
       "3390        1.0       8800         8800              0           0         N   \n",
       "2863        1.0       8800         8800              0           0         N   \n",
       "25406       1.0       8800         8800              0           0         N   \n",
       "31013       1.0       8800         8800              0           0         N   \n",
       "8190        2.0       8800         8800              0           0         N   \n",
       "12042       1.0       8800         8800              0           0         N   \n",
       "12052       1.0       8800         8800              0           0         N   \n",
       "34453       1.0       8800         8800              0           0         N   \n",
       "20921       1.0       8800         8800              0           0         N   \n",
       "24703       1.0       8800         8800              0           0         N   \n",
       "35966       1.0       8800         8800              0           0         N   \n",
       "2884        2.0       8800         8800              0           0         N   \n",
       "40189       1.0       1027            0              0           0         N   \n",
       "22676       1.0       1011            0              0           1         0   \n",
       "38644       1.0        456          450              0           0         N   \n",
       "8227        1.0        452            0              0           1         N   \n",
       "38934       1.0        450            4              0           1         N   \n",
       "21131       1.0        264          162              0           1         N   \n",
       "30679       2.0        250            0              0           1         N   \n",
       "10668       2.0        250          550              0           1         0   \n",
       "\n",
       "      LowDoc DisbursementDate DisbursementGross BalanceGross  Accept  \n",
       "3390       N         6-Jan-88      $184,000.00        $0.00        1  \n",
       "2863       N        31-Oct-86       $71,465.00        $0.00        0  \n",
       "25406      N        23-Oct-86      $115,000.00        $0.00        0  \n",
       "31013      N        11-Jan-89      $350,000.00        $0.00        1  \n",
       "8190       N        17-Feb-88      $500,000.00        $0.00        1  \n",
       "12042      N         6-Nov-86      $135,000.00        $0.00        0  \n",
       "12052      N         7-Nov-86       $50,000.00        $0.00        0  \n",
       "34453      N        17-Feb-88      $350,000.00        $0.00        1  \n",
       "20921      N        11-Feb-87      $106,000.00        $0.00        1  \n",
       "24703      N        15-Jun-88      $477,000.00        $0.00        1  \n",
       "35966      N        17-Dec-86      $292,000.00        $0.00        1  \n",
       "2884       N        14-Jan-87      $223,000.00        $0.00        1  \n",
       "40189      N        15-Nov-95      $416,000.00        $0.00        1  \n",
       "22676      N        31-Aug-00       $97,200.00        $0.00        1  \n",
       "38644      N        16-Oct-96      $203,000.00        $0.00        1  \n",
       "8227       N        31-Aug-07       $50,000.00        $0.00        0  \n",
       "38934      N        31-Jan-08      $235,000.00        $0.00        0  \n",
       "21131      N         4-Mar-02      $128,000.00        $0.00        1  \n",
       "30679      N        16-Jul-03    $1,000,000.00        $0.00        1  \n",
       "10668      N        31-Mar-08    $2,000,000.00        $0.00        1  "
      ]
     },
     "execution_count": 604,
     "metadata": {},
     "output_type": "execute_result"
    }
   ],
   "source": [
    "#Calculate hight values\n",
    "#df_train.sort_values('CreateJob', ascending=False).head(20)\n",
    "data.sort_values('CreateJob', ascending=False).head(20)"
   ]
  },
  {
   "cell_type": "code",
   "execution_count": 602,
   "id": "b609e582",
   "metadata": {},
   "outputs": [
    {
     "data": {
      "text/plain": [
       "<seaborn.axisgrid.FacetGrid at 0x1de3166dd30>"
      ]
     },
     "execution_count": 602,
     "metadata": {},
     "output_type": "execute_result"
    },
    {
     "data": {
      "image/png": "[encoded data removed]",
      "text/plain": [
       "<Figure size 405.725x360 with 1 Axes>"
      ]
     },
     "metadata": {},
     "output_type": "display_data"
    }
   ],
   "source": [
    "sns.FacetGrid(df_train, hue=\"Accept\", height=5).map(sns.kdeplot, \"CreateJob\").add_legend()"
   ]
  },
  {
   "cell_type": "code",
   "execution_count": null,
   "id": "755a78f4",
   "metadata": {},
   "outputs": [],
   "source": [
    "#df_train['RetainedJob'].hist(bins=30, range=(0, df_train['RetainedJob'].max()))\n",
    "data['RetainedJob'].hist(bins=30, range=(0, data['RetainedJob'].max()))"
   ]
  },
  {
   "cell_type": "code",
   "execution_count": 612,
   "id": "3e723bee",
   "metadata": {},
   "outputs": [
    {
     "data": {
      "text/plain": [
       "<seaborn.axisgrid.FacetGrid at 0x1de31d15d00>"
      ]
     },
     "execution_count": 612,
     "metadata": {},
     "output_type": "execute_result"
    },
    {
     "data": {
      "image/png": "[encoded data removed]",
      "text/plain": [
       "<Figure size 405.725x360 with 1 Axes>"
      ]
     },
     "metadata": {},
     "output_type": "display_data"
    }
   ],
   "source": [
    "sns.FacetGrid(df_train, hue=\"Accept\", height=5).map(sns.kdeplot, \"RetainedJob\").add_legend()"
   ]
  },
  {
   "cell_type": "code",
   "execution_count": 500,
   "id": "a709db61",
   "metadata": {},
   "outputs": [],
   "source": [
    "#df_train.loc[df_train['CreateJob'] > 0, 'CreateJob'] = df_train.CreateJob.median()\n",
    "#df_train.loc[df_train['RetainedJob'] > 1, 'RetainedJob'] = df_train.RetainedJob.median()"
   ]
  },
  {
   "cell_type": "code",
   "execution_count": 613,
   "id": "9050dea6",
   "metadata": {},
   "outputs": [
    {
     "data": {
      "image/png": "[encoded data removed]",
      "text/plain": [
       "<Figure size 720x720 with 9 Axes>"
      ]
     },
     "metadata": {},
     "output_type": "display_data"
    }
   ],
   "source": [
    "#df_train.select_dtypes(include=['float64', 'int64']).hist(figsize=(10,10))\n",
    "data.select_dtypes(include=['float64', 'int64']).hist(figsize=(10,10))\n",
    "plt.show()"
   ]
  },
  {
   "cell_type": "code",
   "execution_count": 317,
   "id": "ba313f87",
   "metadata": {},
   "outputs": [],
   "source": [
    "#df_train.loc[df_train['NoEmp'] <= 9, 'NoEmp'] = 0\n",
    "#df_train.loc[df_train['NoEmp'] > 9, 'NoEmp'] = 1"
   ]
  },
  {
   "cell_type": "code",
   "execution_count": 318,
   "id": "1ed974a1",
   "metadata": {},
   "outputs": [],
   "source": [
    "#df_train.loc[df_train['CreateJob'] <= 4, 'CreateJob'] = 0\n",
    "#df_train.loc[df_train['CreateJob'] > 4, 'CreateJob'] = 1"
   ]
  },
  {
   "cell_type": "code",
   "execution_count": 319,
   "id": "c545fed4",
   "metadata": {},
   "outputs": [],
   "source": [
    "#df_train.loc[df_train['RetainedJob'] <= 7, 'RetainedJob'] = 0\n",
    "#df_train.loc[df_train['RetainedJob'] > 7, 'RetainedJob'] = 1"
   ]
  },
  {
   "cell_type": "code",
   "execution_count": 399,
   "id": "e5ac2043",
   "metadata": {},
   "outputs": [],
   "source": [
    "# import matplotlib.ticker as ticker\n",
    "\n",
    "# fig, axes = plt.subplots(nrows=3, ncols=2, figsize=(10, 10))\n",
    "# axes = axes.flat\n",
    "# columnas_numeric = df_train.select_dtypes(include=['float64', 'int64']).columns\n",
    "# columnas_numeric = columnas_numeric.drop('Accept')\n",
    "\n",
    "# for i, colum in enumerate(columnas_numeric):\n",
    "    # sns.regplot(\n",
    "        # x           = df_train[colum],\n",
    "        # y           = df_train['Accept'],\n",
    "        # color       = \"gray\",\n",
    "        # marker      = '.',\n",
    "        # scatter_kws = {\"alpha\":0.4},\n",
    "        # line_kws    = {\"color\":\"r\",\"alpha\":0.7},\n",
    "        # ax          = axes[i]\n",
    "    # )\n",
    "    # axes[i].set_title(f\"Accept vs {colum}\", fontsize = 7, fontweight = \"bold\")\n",
    "    # axes[i].yaxis.set_major_formatter(ticker.EngFormatter())\n",
    "    # axes[i].xaxis.set_major_formatter(ticker.EngFormatter())\n",
    "    # axes[i].tick_params(labelsize = 6)\n",
    "    # axes[i].set_xlabel(\"\")\n",
    "    # axes[i].set_ylabel(\"\")\n",
    "\n",
    "# # Se eliminan los axes vacíos\n",
    "# for i in [5]:\n",
    "    # fig.delaxes(axes[i])\n",
    "    \n",
    "# fig.tight_layout()\n",
    "# plt.subplots_adjust(top=0.9)\n",
    "# fig.suptitle('Correlación con Accept', fontsize = 10, fontweight = \"bold\");"
   ]
  },
  {
   "cell_type": "code",
   "execution_count": 400,
   "id": "04778ab7",
   "metadata": {},
   "outputs": [],
   "source": [
    "#g = sns.PairGrid(df_train.select_dtypes(include=['float64', 'int64']), hue=\"Accept\")\n",
    "#g.map_diag(plt.hist)\n",
    "#g.map_offdiag(plt.scatter)\n",
    "#g.add_legend()"
   ]
  },
  {
   "cell_type": "code",
   "execution_count": 401,
   "id": "147afdb3",
   "metadata": {},
   "outputs": [],
   "source": [
    "#plt.figure(figsize=(10,6))\n",
    "#sns.heatmap(df_train.select_dtypes(include=['float64', 'int64']).corr(), annot=True)"
   ]
  },
  {
   "cell_type": "markdown",
   "id": "5688b9ad",
   "metadata": {},
   "source": [
    "### 2.2. Revisión de datos cualitativos"
   ]
  },
  {
   "cell_type": "markdown",
   "id": "633d2ce6",
   "metadata": {},
   "source": [
    "Al revisar los datos no numéricos, se considera que las siguientes columnas no son relevantes al momento de determinar el riesgo ya que aportan solamente información complementaria de la solicitud:\n",
    "- Name\n",
    "- City\n",
    "- State\n",
    "- Bank\n",
    "- BankState\n",
    "- ApprovalFY\n",
    "\n",
    "Por otro lado, se encuentra el periodo de aprobación restando DisbursementDate de ApprovalDate por si se consigue algo interesante."
   ]
  },
  {
   "cell_type": "code",
   "execution_count": 614,
   "id": "060d6928",
   "metadata": {},
   "outputs": [],
   "source": [
    "#df_train.drop(['Name', 'City', 'State', 'Bank', 'BankState', 'ApprovalFY'], axis=1, inplace=True)\n",
    "#df_train.drop(['Name', 'City', 'State', 'Bank', 'BankState', 'ApprovalFY', 'DisbursementDate', 'ApprovalDate'], axis=1, inplace=True)\n",
    "data.drop(['Name', 'City', 'State', 'Bank', 'BankState', 'ApprovalFY', 'DisbursementDate', 'ApprovalDate'], axis=1, inplace=True)"
   ]
  },
  {
   "cell_type": "code",
   "execution_count": 326,
   "id": "cdb4457b",
   "metadata": {},
   "outputs": [],
   "source": [
    "# df_train['ApprovalDate'] = df_train['ApprovalDate'].astype(str)\n",
    "# df_train['DisbursementDate'] = df_train['DisbursementDate'].astype(str)\n",
    "# #Para calcular el periodo de aprobación, hay que obtener las fechas y restarlas\n",
    "# df_train[\"ApprovalDate\"] = df_train[\"ApprovalDate\"].apply(lambda date: datetime.strptime(date, \"%d-%b-%y\"))\n",
    "# #En DisbursementDate hay valores sin fecha, los dejaremos en blanco\n",
    "# df_train[\"DisbursementDate\"] = df_train[\"DisbursementDate\"].apply(lambda date: datetime.strptime(date, \"%d-%b-%y\") if (date!=\"nan\") else '')\n",
    "# df_train.insert(1, 'ApprovalPeriod', df_train[\"DisbursementDate\"] - df_train[\"ApprovalDate\"])\n",
    "# #Rellenamos los valores en blanco con el promedio ApprovalPeriod\n",
    "# df_train['ApprovalPeriod'].fillna(df_train['ApprovalPeriod'].mean(), inplace=True)\n",
    "# df_train[\"ApprovalPeriod\"] = df_train[\"ApprovalPeriod\"].apply(lambda t: t/np.timedelta64(1, 'D'))\n",
    "# df_train.drop(['ApprovalDate', 'DisbursementDate'], axis=1, inplace=True)"
   ]
  },
  {
   "cell_type": "code",
   "execution_count": 615,
   "id": "72d1cd59",
   "metadata": {},
   "outputs": [
    {
     "data": {
      "text/plain": [
       "id                     0\n",
       "RevLineCr            135\n",
       "LowDoc                55\n",
       "DisbursementGross      0\n",
       "BalanceGross           0\n",
       "dtype: int64"
      ]
     },
     "execution_count": 615,
     "metadata": {},
     "output_type": "execute_result"
    }
   ],
   "source": [
    "#df_train.select_dtypes(include=['object']).isnull().sum()\n",
    "data.select_dtypes(include=['object']).isnull().sum()"
   ]
  },
  {
   "cell_type": "markdown",
   "id": "10857d86",
   "metadata": {},
   "source": [
    "### Columna RevLineCr"
   ]
  },
  {
   "cell_type": "code",
   "execution_count": 616,
   "id": "5aafc138",
   "metadata": {},
   "outputs": [
    {
     "data": {
      "text/plain": [
       "<AxesSubplot:xlabel='RevLineCr', ylabel='count'>"
      ]
     },
     "execution_count": 616,
     "metadata": {},
     "output_type": "execute_result"
    },
    {
     "data": {
      "image/png": "[encoded data removed]",
      "text/plain": [
       "<Figure size 432x288 with 1 Axes>"
      ]
     },
     "metadata": {},
     "output_type": "display_data"
    }
   ],
   "source": [
    "sns.countplot(x='RevLineCr', data=df_train)"
   ]
  },
  {
   "cell_type": "markdown",
   "id": "a391729b",
   "metadata": {},
   "source": [
    "Se observa que para RevLineCr solo se pueden dar dos posibles valores (Y o N) pero se tienen otros (0 y T). Asumiremos, que aquellos que tienen 0 es un N y aquellos con T es un Y. Una vez hecho esto, se rellenan los nulos con el que más se repita."
   ]
  },
  {
   "cell_type": "code",
   "execution_count": 617,
   "id": "3d0015c2",
   "metadata": {},
   "outputs": [],
   "source": [
    "df_train.loc[df_train[\"RevLineCr\"] == \"0\", \"RevLineCr\"] = 'N'\n",
    "df_train.loc[df_train[\"RevLineCr\"] == \"T\", \"RevLineCr\"] = 'Y'\n",
    "df_train['RevLineCr'].fillna('N', inplace=True)"
   ]
  },
  {
   "cell_type": "code",
   "execution_count": 618,
   "id": "88de2037",
   "metadata": {},
   "outputs": [
    {
     "data": {
      "text/plain": [
       "<AxesSubplot:xlabel='RevLineCr', ylabel='Accept'>"
      ]
     },
     "execution_count": 618,
     "metadata": {},
     "output_type": "execute_result"
    },
    {
     "data": {
      "image/png": "[encoded data removed]",
      "text/plain": [
       "<Figure size 432x288 with 1 Axes>"
      ]
     },
     "metadata": {},
     "output_type": "display_data"
    }
   ],
   "source": [
    "sns.barplot(x='RevLineCr', y='Accept', data=df_train)"
   ]
  },
  {
   "cell_type": "markdown",
   "id": "773ee0e2",
   "metadata": {},
   "source": [
    "### Columna LowDoc"
   ]
  },
  {
   "cell_type": "code",
   "execution_count": 619,
   "id": "8d2295e7",
   "metadata": {},
   "outputs": [
    {
     "data": {
      "text/plain": [
       "<AxesSubplot:xlabel='LowDoc', ylabel='count'>"
      ]
     },
     "execution_count": 619,
     "metadata": {},
     "output_type": "execute_result"
    },
    {
     "data": {
      "image/png": "[encoded data removed]",
      "text/plain": [
       "<Figure size 432x288 with 1 Axes>"
      ]
     },
     "metadata": {},
     "output_type": "display_data"
    }
   ],
   "source": [
    "sns.countplot(x='LowDoc', data=df_train)"
   ]
  },
  {
   "cell_type": "markdown",
   "id": "cf5386d8",
   "metadata": {},
   "source": [
    "Un caso similar ocurre con LowDoc, sin embargo, no podemos asumir cual es Y y N. Por lo tanto, simplemente reemplazamos todos aquellos que no correspondan por el que más se repite."
   ]
  },
  {
   "cell_type": "code",
   "execution_count": 620,
   "id": "b288447e",
   "metadata": {},
   "outputs": [],
   "source": [
    "df_train['LowDoc'].fillna('N', inplace=True)\n",
    "df_train.loc[df_train[\"LowDoc\"] == \"0\", \"LowDoc\"] = 'N'\n",
    "df_train.loc[df_train[\"LowDoc\"] == \"A\", \"LowDoc\"] = 'N'\n",
    "df_train.loc[df_train[\"LowDoc\"] == \"C\", \"LowDoc\"] = 'N'\n",
    "df_train.loc[df_train[\"LowDoc\"] == \"R\", \"LowDoc\"] = 'N'\n",
    "df_train.loc[df_train[\"LowDoc\"] == \"S\", \"LowDoc\"] = 'N'"
   ]
  },
  {
   "cell_type": "code",
   "execution_count": 621,
   "id": "95f48350",
   "metadata": {},
   "outputs": [
    {
     "data": {
      "text/plain": [
       "<AxesSubplot:xlabel='LowDoc', ylabel='Accept'>"
      ]
     },
     "execution_count": 621,
     "metadata": {},
     "output_type": "execute_result"
    },
    {
     "data": {
      "image/png": "[encoded data removed]",
      "text/plain": [
       "<Figure size 432x288 with 1 Axes>"
      ]
     },
     "metadata": {},
     "output_type": "display_data"
    }
   ],
   "source": [
    "sns.barplot(x='LowDoc', y='Accept', data=df_train)"
   ]
  },
  {
   "cell_type": "markdown",
   "id": "d4553848",
   "metadata": {},
   "source": [
    "### Columna BalanceGross"
   ]
  },
  {
   "cell_type": "code",
   "execution_count": 622,
   "id": "10970119",
   "metadata": {},
   "outputs": [
    {
     "data": {
      "text/plain": [
       "array(['$0.00 '], dtype=object)"
      ]
     },
     "execution_count": 622,
     "metadata": {},
     "output_type": "execute_result"
    }
   ],
   "source": [
    "df_train.BalanceGross.unique()"
   ]
  },
  {
   "cell_type": "markdown",
   "id": "fe1fed01",
   "metadata": {},
   "source": [
    "Se observa que la columna BalanceGross contiene todos sus valores iguales y en cero, por lo que no representaría relevancia en la predicción."
   ]
  },
  {
   "cell_type": "code",
   "execution_count": 623,
   "id": "0cf5402c",
   "metadata": {},
   "outputs": [],
   "source": [
    "df_train.drop(['BalanceGross'], axis=1, inplace=True)"
   ]
  },
  {
   "cell_type": "markdown",
   "id": "5d9e757f",
   "metadata": {},
   "source": [
    "### Columna DisbursementGross"
   ]
  },
  {
   "cell_type": "markdown",
   "id": "797e4b3d",
   "metadata": {},
   "source": [
    "Por otro lado, DisbursementGross es una cantidad por lo que lo convertimos a numéricos para su análisis."
   ]
  },
  {
   "cell_type": "code",
   "execution_count": 624,
   "id": "89b16127",
   "metadata": {},
   "outputs": [],
   "source": [
    "df_train[\"DisbursementGross\"] = df_train[\"DisbursementGross\"].apply(lambda x: x[1:])\n",
    "df_train[\"DisbursementGross\"] = df_train[\"DisbursementGross\"].apply(lambda s: s.strip())\n",
    "df_train[\"DisbursementGross\"] = df_train[\"DisbursementGross\"].replace({',':''}, regex=True)\n",
    "df_train.loc[df_train[\"DisbursementGross\"] == \"\", \"DisbursementGross\"] = 0\n",
    "df_train[\"DisbursementGross\"] = df_train[\"DisbursementGross\"].astype(float)"
   ]
  },
  {
   "cell_type": "code",
   "execution_count": 627,
   "id": "5d368190",
   "metadata": {},
   "outputs": [
    {
     "data": {
      "text/plain": [
       "<AxesSubplot:>"
      ]
     },
     "execution_count": 627,
     "metadata": {},
     "output_type": "execute_result"
    },
    {
     "data": {
      "image/png": "[encoded data removed]",
      "text/plain": [
       "<Figure size 432x288 with 1 Axes>"
      ]
     },
     "metadata": {},
     "output_type": "display_data"
    }
   ],
   "source": [
    "sns.boxplot(data=df_train['DisbursementGross'])"
   ]
  },
  {
   "cell_type": "code",
   "execution_count": 632,
   "id": "80e9a911",
   "metadata": {},
   "outputs": [
    {
     "data": {
      "text/plain": [
       "DisbursementGross    AxesSubplot(0.1,0.15;0.8x0.75)\n",
       "dtype: object"
      ]
     },
     "execution_count": 632,
     "metadata": {},
     "output_type": "execute_result"
    },
    {
     "data": {
      "image/png": "[encoded data removed]",
      "text/plain": [
       "<Figure size 432x288 with 1 Axes>"
      ]
     },
     "metadata": {},
     "output_type": "display_data"
    }
   ],
   "source": [
    "df_train.boxplot(column='DisbursementGross', by = 'NewExist', return_type='axes', sym='k.')"
   ]
  },
  {
   "cell_type": "code",
   "execution_count": 637,
   "id": "82b49922",
   "metadata": {},
   "outputs": [
    {
     "data": {
      "text/plain": [
       "<AxesSubplot:xlabel='RevLineCr', ylabel='DisbursementGross'>"
      ]
     },
     "execution_count": 637,
     "metadata": {},
     "output_type": "execute_result"
    },
    {
     "data": {
      "image/png": "[encoded data removed]",
      "text/plain": [
       "<Figure size 432x288 with 1 Axes>"
      ]
     },
     "metadata": {},
     "output_type": "display_data"
    }
   ],
   "source": [
    "sns.barplot(x='RevLineCr', y='DisbursementGross', hue='Accept', data=df_train)"
   ]
  },
  {
   "cell_type": "code",
   "execution_count": 639,
   "id": "56e72ffa",
   "metadata": {},
   "outputs": [
    {
     "data": {
      "text/plain": [
       "<AxesSubplot:xlabel='NewExist', ylabel='DisbursementGross'>"
      ]
     },
     "execution_count": 639,
     "metadata": {},
     "output_type": "execute_result"
    },
    {
     "data": {
      "image/png": "[encoded data removed]",
      "text/plain": [
       "<Figure size 432x288 with 1 Axes>"
      ]
     },
     "metadata": {},
     "output_type": "display_data"
    }
   ],
   "source": [
    "sns.barplot(x='NewExist', y='DisbursementGross', hue='Accept', data=df_train)"
   ]
  },
  {
   "cell_type": "code",
   "execution_count": 641,
   "id": "de2b5e98",
   "metadata": {},
   "outputs": [
    {
     "data": {
      "text/plain": [
       "<AxesSubplot:xlabel='UrbanRural', ylabel='DisbursementGross'>"
      ]
     },
     "execution_count": 641,
     "metadata": {},
     "output_type": "execute_result"
    },
    {
     "data": {
      "image/png": "[encoded data removed]",
      "text/plain": [
       "<Figure size 432x288 with 1 Axes>"
      ]
     },
     "metadata": {},
     "output_type": "display_data"
    }
   ],
   "source": [
    "sns.barplot(x=\"UrbanRural\", y='DisbursementGross', hue='NewExist', data=df_train)"
   ]
  },
  {
   "cell_type": "code",
   "execution_count": 635,
   "id": "dc79dfe6",
   "metadata": {},
   "outputs": [
    {
     "name": "stdout",
     "output_type": "stream",
     "text": [
      "<class 'pandas.core.frame.DataFrame'>\n",
      "RangeIndex: 40385 entries, 0 to 40384\n",
      "Data columns (total 11 columns):\n",
      " #   Column             Non-Null Count  Dtype  \n",
      "---  ------             --------------  -----  \n",
      " 0   id                 40385 non-null  object \n",
      " 1   NoEmp              40385 non-null  int64  \n",
      " 2   NewExist           40385 non-null  float64\n",
      " 3   CreateJob          40385 non-null  int64  \n",
      " 4   RetainedJob        40385 non-null  int64  \n",
      " 5   FranchiseCode      40385 non-null  int64  \n",
      " 6   UrbanRural         40385 non-null  int64  \n",
      " 7   RevLineCr          40385 non-null  object \n",
      " 8   LowDoc             40385 non-null  object \n",
      " 9   DisbursementGross  40385 non-null  float64\n",
      " 10  Accept             40385 non-null  int64  \n",
      "dtypes: float64(2), int64(6), object(3)\n",
      "memory usage: 3.4+ MB\n"
     ]
    }
   ],
   "source": [
    "df = df_train.copy()\n",
    "df_train.info()"
   ]
  },
  {
   "cell_type": "markdown",
   "id": "30e64487",
   "metadata": {},
   "source": [
    "Luego, categorizamos cada columna como se muestra a continuación."
   ]
  },
  {
   "cell_type": "code",
   "execution_count": 642,
   "id": "8f48e959",
   "metadata": {},
   "outputs": [
    {
     "data": {
      "text/html": [
       "<div>\n",
       "<style scoped>\n",
       "    .dataframe tbody tr th:only-of-type {\n",
       "        vertical-align: middle;\n",
       "    }\n",
       "\n",
       "    .dataframe tbody tr th {\n",
       "        vertical-align: top;\n",
       "    }\n",
       "\n",
       "    .dataframe thead th {\n",
       "        text-align: right;\n",
       "    }\n",
       "</style>\n",
       "<table border=\"1\" class=\"dataframe\">\n",
       "  <thead>\n",
       "    <tr style=\"text-align: right;\">\n",
       "      <th></th>\n",
       "      <th>id</th>\n",
       "      <th>NoEmp</th>\n",
       "      <th>CreateJob</th>\n",
       "      <th>RetainedJob</th>\n",
       "      <th>DisbursementGross</th>\n",
       "      <th>Accept</th>\n",
       "      <th>NewExist_1.0</th>\n",
       "      <th>NewExist_2.0</th>\n",
       "      <th>FranchiseCode_0</th>\n",
       "      <th>FranchiseCode_1</th>\n",
       "      <th>UrbanRural_0</th>\n",
       "      <th>UrbanRural_1</th>\n",
       "      <th>UrbanRural_2</th>\n",
       "      <th>RevLineCr_N</th>\n",
       "      <th>RevLineCr_Y</th>\n",
       "      <th>LowDoc_N</th>\n",
       "      <th>LowDoc_Y</th>\n",
       "    </tr>\n",
       "  </thead>\n",
       "  <tbody>\n",
       "    <tr>\n",
       "      <th>0</th>\n",
       "      <td>b353a0b461c</td>\n",
       "      <td>20</td>\n",
       "      <td>0</td>\n",
       "      <td>0</td>\n",
       "      <td>350000.0</td>\n",
       "      <td>1</td>\n",
       "      <td>1</td>\n",
       "      <td>0</td>\n",
       "      <td>1</td>\n",
       "      <td>0</td>\n",
       "      <td>1</td>\n",
       "      <td>0</td>\n",
       "      <td>0</td>\n",
       "      <td>1</td>\n",
       "      <td>0</td>\n",
       "      <td>1</td>\n",
       "      <td>0</td>\n",
       "    </tr>\n",
       "    <tr>\n",
       "      <th>1</th>\n",
       "      <td>cca24bbcc48</td>\n",
       "      <td>3</td>\n",
       "      <td>1</td>\n",
       "      <td>4</td>\n",
       "      <td>35000.0</td>\n",
       "      <td>1</td>\n",
       "      <td>1</td>\n",
       "      <td>0</td>\n",
       "      <td>1</td>\n",
       "      <td>0</td>\n",
       "      <td>0</td>\n",
       "      <td>0</td>\n",
       "      <td>1</td>\n",
       "      <td>1</td>\n",
       "      <td>0</td>\n",
       "      <td>1</td>\n",
       "      <td>0</td>\n",
       "    </tr>\n",
       "    <tr>\n",
       "      <th>2</th>\n",
       "      <td>e60644381ce</td>\n",
       "      <td>5</td>\n",
       "      <td>0</td>\n",
       "      <td>5</td>\n",
       "      <td>50000.0</td>\n",
       "      <td>1</td>\n",
       "      <td>1</td>\n",
       "      <td>0</td>\n",
       "      <td>1</td>\n",
       "      <td>0</td>\n",
       "      <td>0</td>\n",
       "      <td>1</td>\n",
       "      <td>0</td>\n",
       "      <td>1</td>\n",
       "      <td>0</td>\n",
       "      <td>1</td>\n",
       "      <td>0</td>\n",
       "    </tr>\n",
       "    <tr>\n",
       "      <th>3</th>\n",
       "      <td>ffca41a2760</td>\n",
       "      <td>25</td>\n",
       "      <td>0</td>\n",
       "      <td>0</td>\n",
       "      <td>190000.0</td>\n",
       "      <td>1</td>\n",
       "      <td>1</td>\n",
       "      <td>0</td>\n",
       "      <td>1</td>\n",
       "      <td>0</td>\n",
       "      <td>1</td>\n",
       "      <td>0</td>\n",
       "      <td>0</td>\n",
       "      <td>1</td>\n",
       "      <td>0</td>\n",
       "      <td>1</td>\n",
       "      <td>0</td>\n",
       "    </tr>\n",
       "    <tr>\n",
       "      <th>4</th>\n",
       "      <td>79e48255003</td>\n",
       "      <td>6</td>\n",
       "      <td>0</td>\n",
       "      <td>0</td>\n",
       "      <td>30000.0</td>\n",
       "      <td>1</td>\n",
       "      <td>1</td>\n",
       "      <td>0</td>\n",
       "      <td>1</td>\n",
       "      <td>0</td>\n",
       "      <td>0</td>\n",
       "      <td>1</td>\n",
       "      <td>0</td>\n",
       "      <td>1</td>\n",
       "      <td>0</td>\n",
       "      <td>0</td>\n",
       "      <td>1</td>\n",
       "    </tr>\n",
       "  </tbody>\n",
       "</table>\n",
       "</div>"
      ],
      "text/plain": [
       "            id  NoEmp  CreateJob  RetainedJob  DisbursementGross  Accept  \\\n",
       "0  b353a0b461c     20          0            0           350000.0       1   \n",
       "1  cca24bbcc48      3          1            4            35000.0       1   \n",
       "2  e60644381ce      5          0            5            50000.0       1   \n",
       "3  ffca41a2760     25          0            0           190000.0       1   \n",
       "4  79e48255003      6          0            0            30000.0       1   \n",
       "\n",
       "   NewExist_1.0  NewExist_2.0  FranchiseCode_0  FranchiseCode_1  UrbanRural_0  \\\n",
       "0             1             0                1                0             1   \n",
       "1             1             0                1                0             0   \n",
       "2             1             0                1                0             0   \n",
       "3             1             0                1                0             1   \n",
       "4             1             0                1                0             0   \n",
       "\n",
       "   UrbanRural_1  UrbanRural_2  RevLineCr_N  RevLineCr_Y  LowDoc_N  LowDoc_Y  \n",
       "0             0             0            1            0         1         0  \n",
       "1             0             1            1            0         1         0  \n",
       "2             1             0            1            0         1         0  \n",
       "3             0             0            1            0         1         0  \n",
       "4             1             0            1            0         0         1  "
      ]
     },
     "execution_count": 642,
     "metadata": {},
     "output_type": "execute_result"
    }
   ],
   "source": [
    "df[\"NewExist\"] = df[\"NewExist\"].astype(str)\n",
    "df[\"FranchiseCode\"] = df[\"FranchiseCode\"].astype(str)\n",
    "df[\"UrbanRural\"] = df[\"UrbanRural\"].astype(str)\n",
    "\n",
    "df = pd.get_dummies(df, columns=['NewExist', 'FranchiseCode', 'UrbanRural', 'RevLineCr', 'LowDoc'])\n",
    "df.head()"
   ]
  },
  {
   "cell_type": "code",
   "execution_count": 357,
   "id": "01e9b2cc",
   "metadata": {},
   "outputs": [],
   "source": [
    "#df_train.loc[df_train[\"RevLineCr\"] == \"N\", \"RevLineCr\"] = 0\n",
    "#df_train.loc[df_train[\"RevLineCr\"] == \"Y\", \"RevLineCr\"] = 1\n",
    "#df_train.loc[df_train[\"LowDoc\"] == \"N\", \"LowDoc\"] = 0\n",
    "#df_train.loc[df_train[\"LowDoc\"] == \"Y\", \"LowDoc\"] = 1"
   ]
  },
  {
   "cell_type": "code",
   "execution_count": 424,
   "id": "fd531403",
   "metadata": {},
   "outputs": [],
   "source": [
    "#df_train.select_dtypes(include=['object']).describe()"
   ]
  },
  {
   "cell_type": "code",
   "execution_count": 633,
   "id": "730d2192",
   "metadata": {},
   "outputs": [],
   "source": [
    "#df_train.ApprovalPeriod.hist(figsize=(5,5))\n",
    "#df_train.DisbursementGross.hist(figsize=(10,10))\n",
    "#plt.show()\n",
    "#print(df_train.ApprovalPeriod.describe())\n",
    "#print(df_train.groupby('ApprovalPeriod').size())"
   ]
  },
  {
   "cell_type": "markdown",
   "id": "a614c404",
   "metadata": {},
   "source": [
    "Tal parece que ApprovalPeriod tiene valores negativos y un sesgo, esto puede mejorarse. Lo cambiaremos por la media."
   ]
  },
  {
   "cell_type": "code",
   "execution_count": 349,
   "id": "ccdaa2ba",
   "metadata": {},
   "outputs": [],
   "source": [
    "df_train.loc[df_train[\"ApprovalPeriod\"] < 0, \"ApprovalPeriod\"] = df_train['ApprovalPeriod'].mean()\n",
    "df_train.loc[df_train[\"ApprovalPeriod\"] <= 128, \"ApprovalPeriod\"] = 0\n",
    "df_train.loc[df_train[\"ApprovalPeriod\"] > 128, \"ApprovalPeriod\"] = 1"
   ]
  },
  {
   "cell_type": "code",
   "execution_count": 352,
   "id": "08aa3004",
   "metadata": {},
   "outputs": [],
   "source": [
    "df_train.loc[df_train[\"DisbursementGross\"] <= 500000, \"DisbursementGross\"] = 0\n",
    "df_train.loc[df_train[\"DisbursementGross\"] > 500000, \"DisbursementGross\"] = 1"
   ]
  },
  {
   "cell_type": "code",
   "execution_count": 225,
   "id": "4c90d9b0",
   "metadata": {},
   "outputs": [],
   "source": [
    "df_train['id'] = df_train['id'].astype(str)\n",
    "df_train['ApprovalDate'] = df_train['ApprovalDate'].astype(str)\n",
    "df_train['DisbursementDate'] = df_train['DisbursementDate'].astype(str)\n",
    "df_train['NewExist'] = df_train['NewExist'].astype(np.int64)\n",
    "\n",
    "df_train.loc[df_train[\"RevLineCr\"] == \"N\", \"RevLineCr\"] = 0\n",
    "df_train.loc[df_train[\"RevLineCr\"] == \"Y\", \"RevLineCr\"] = 1\n",
    "df_train['RevLineCr'] = df_train['RevLineCr'].astype(np.int64)\n",
    "\n",
    "df_train.loc[df_train[\"LowDoc\"] == \"N\", \"LowDoc\"] = 0\n",
    "df_train.loc[df_train[\"LowDoc\"] == \"Y\", \"LowDoc\"] = 1\n",
    "df_train['LowDoc'] = df_train['LowDoc'].astype(np.int64)\n",
    "\n",
    "df_train[\"DisbursementGross\"] = df_train[\"DisbursementGross\"].astype(str)\n",
    "df_train[\"DisbursementGross\"] = df_train[\"DisbursementGross\"].apply(lambda x: x[1:])\n",
    "df_train[\"DisbursementGross\"] = df_train[\"DisbursementGross\"].apply(lambda s: s.strip())\n",
    "df_train[\"DisbursementGross\"] = df_train[\"DisbursementGross\"].replace({',':''}, regex=True)\n",
    "df_train.loc[df_train[\"DisbursementGross\"] == \"\", \"DisbursementGross\"] = 0\n",
    "df_train[\"DisbursementGross\"] = df_train[\"DisbursementGross\"].astype(float)\n",
    "\n",
    "#Para calcular el periodo de aprobación, hay que obtener las fechas y restarlas\n",
    "df_train[\"ApprovalDate\"] = df_train[\"ApprovalDate\"].apply(lambda date: datetime.strptime(date, \"%d-%b-%y\"))\n",
    "#En DisbursementDate hay valores sin fecha, los dejaremos en blanco\n",
    "df_train[\"DisbursementDate\"] = df_train[\"DisbursementDate\"].apply(lambda date: datetime.strptime(date, \"%d-%b-%y\") if (date!=\"nan\") else '')\n",
    "df_train.insert(1, 'ApprovalPeriod', df_train[\"DisbursementDate\"] - df_train[\"ApprovalDate\"])\n",
    "#Rellenamos los valores en blanco con el promedio ApprovalPeriod\n",
    "df_train['ApprovalPeriod'].fillna(df_train['ApprovalPeriod'].mean(), inplace=True)\n",
    "df_train[\"ApprovalPeriod\"] = df_train[\"ApprovalPeriod\"].apply(lambda t: t/np.timedelta64(1, 'D'))\n",
    "df_train[\"ApprovalPeriod\"] = df_train[\"ApprovalPeriod\"].astype(np.int64)\n",
    "df_train.drop(['ApprovalDate', 'DisbursementDate'], axis=1, inplace=True)"
   ]
  },
  {
   "cell_type": "code",
   "execution_count": 643,
   "id": "e6ee1208",
   "metadata": {},
   "outputs": [
    {
     "name": "stdout",
     "output_type": "stream",
     "text": [
      "<class 'pandas.core.frame.DataFrame'>\n",
      "RangeIndex: 40385 entries, 0 to 40384\n",
      "Data columns (total 17 columns):\n",
      " #   Column             Non-Null Count  Dtype  \n",
      "---  ------             --------------  -----  \n",
      " 0   id                 40385 non-null  object \n",
      " 1   NoEmp              40385 non-null  int64  \n",
      " 2   CreateJob          40385 non-null  int64  \n",
      " 3   RetainedJob        40385 non-null  int64  \n",
      " 4   DisbursementGross  40385 non-null  float64\n",
      " 5   Accept             40385 non-null  int64  \n",
      " 6   NewExist_1.0       40385 non-null  uint8  \n",
      " 7   NewExist_2.0       40385 non-null  uint8  \n",
      " 8   FranchiseCode_0    40385 non-null  uint8  \n",
      " 9   FranchiseCode_1    40385 non-null  uint8  \n",
      " 10  UrbanRural_0       40385 non-null  uint8  \n",
      " 11  UrbanRural_1       40385 non-null  uint8  \n",
      " 12  UrbanRural_2       40385 non-null  uint8  \n",
      " 13  RevLineCr_N        40385 non-null  uint8  \n",
      " 14  RevLineCr_Y        40385 non-null  uint8  \n",
      " 15  LowDoc_N           40385 non-null  uint8  \n",
      " 16  LowDoc_Y           40385 non-null  uint8  \n",
      "dtypes: float64(1), int64(4), object(1), uint8(11)\n",
      "memory usage: 2.3+ MB\n"
     ]
    }
   ],
   "source": [
    "#df_train.info()\n",
    "df.info()"
   ]
  },
  {
   "cell_type": "code",
   "execution_count": 644,
   "id": "68e34f7b",
   "metadata": {},
   "outputs": [
    {
     "data": {
      "text/plain": [
       "id                   False\n",
       "NoEmp                False\n",
       "CreateJob            False\n",
       "RetainedJob          False\n",
       "DisbursementGross    False\n",
       "Accept               False\n",
       "NewExist_1.0         False\n",
       "NewExist_2.0         False\n",
       "FranchiseCode_0      False\n",
       "FranchiseCode_1      False\n",
       "UrbanRural_0         False\n",
       "UrbanRural_1         False\n",
       "UrbanRural_2         False\n",
       "RevLineCr_N          False\n",
       "RevLineCr_Y          False\n",
       "LowDoc_N             False\n",
       "LowDoc_Y             False\n",
       "dtype: bool"
      ]
     },
     "execution_count": 644,
     "metadata": {},
     "output_type": "execute_result"
    }
   ],
   "source": [
    "#df_train.isnull().any()\n",
    "df.isnull().any()"
   ]
  },
  {
   "cell_type": "code",
   "execution_count": 656,
   "id": "90c3e1e2",
   "metadata": {},
   "outputs": [
    {
     "data": {
      "text/html": [
       "<div>\n",
       "<style scoped>\n",
       "    .dataframe tbody tr th:only-of-type {\n",
       "        vertical-align: middle;\n",
       "    }\n",
       "\n",
       "    .dataframe tbody tr th {\n",
       "        vertical-align: top;\n",
       "    }\n",
       "\n",
       "    .dataframe thead th {\n",
       "        text-align: right;\n",
       "    }\n",
       "</style>\n",
       "<table border=\"1\" class=\"dataframe\">\n",
       "  <thead>\n",
       "    <tr style=\"text-align: right;\">\n",
       "      <th></th>\n",
       "      <th>id</th>\n",
       "      <th>NoEmp</th>\n",
       "      <th>CreateJob</th>\n",
       "      <th>RetainedJob</th>\n",
       "      <th>DisbursementGross</th>\n",
       "      <th>Accept</th>\n",
       "      <th>NewExist_1.0</th>\n",
       "      <th>NewExist_2.0</th>\n",
       "      <th>FranchiseCode_0</th>\n",
       "      <th>FranchiseCode_1</th>\n",
       "      <th>UrbanRural_0</th>\n",
       "      <th>UrbanRural_1</th>\n",
       "      <th>UrbanRural_2</th>\n",
       "      <th>RevLineCr_N</th>\n",
       "      <th>RevLineCr_Y</th>\n",
       "      <th>LowDoc_N</th>\n",
       "      <th>LowDoc_Y</th>\n",
       "    </tr>\n",
       "  </thead>\n",
       "  <tbody>\n",
       "    <tr>\n",
       "      <th>0</th>\n",
       "      <td>b353a0b461c</td>\n",
       "      <td>20</td>\n",
       "      <td>0</td>\n",
       "      <td>0</td>\n",
       "      <td>350000.0</td>\n",
       "      <td>1</td>\n",
       "      <td>1</td>\n",
       "      <td>0</td>\n",
       "      <td>1</td>\n",
       "      <td>0</td>\n",
       "      <td>1</td>\n",
       "      <td>0</td>\n",
       "      <td>0</td>\n",
       "      <td>1</td>\n",
       "      <td>0</td>\n",
       "      <td>1</td>\n",
       "      <td>0</td>\n",
       "    </tr>\n",
       "    <tr>\n",
       "      <th>1</th>\n",
       "      <td>cca24bbcc48</td>\n",
       "      <td>3</td>\n",
       "      <td>1</td>\n",
       "      <td>4</td>\n",
       "      <td>35000.0</td>\n",
       "      <td>1</td>\n",
       "      <td>1</td>\n",
       "      <td>0</td>\n",
       "      <td>1</td>\n",
       "      <td>0</td>\n",
       "      <td>0</td>\n",
       "      <td>0</td>\n",
       "      <td>1</td>\n",
       "      <td>1</td>\n",
       "      <td>0</td>\n",
       "      <td>1</td>\n",
       "      <td>0</td>\n",
       "    </tr>\n",
       "    <tr>\n",
       "      <th>2</th>\n",
       "      <td>e60644381ce</td>\n",
       "      <td>5</td>\n",
       "      <td>0</td>\n",
       "      <td>5</td>\n",
       "      <td>50000.0</td>\n",
       "      <td>1</td>\n",
       "      <td>1</td>\n",
       "      <td>0</td>\n",
       "      <td>1</td>\n",
       "      <td>0</td>\n",
       "      <td>0</td>\n",
       "      <td>1</td>\n",
       "      <td>0</td>\n",
       "      <td>1</td>\n",
       "      <td>0</td>\n",
       "      <td>1</td>\n",
       "      <td>0</td>\n",
       "    </tr>\n",
       "    <tr>\n",
       "      <th>3</th>\n",
       "      <td>ffca41a2760</td>\n",
       "      <td>25</td>\n",
       "      <td>0</td>\n",
       "      <td>0</td>\n",
       "      <td>190000.0</td>\n",
       "      <td>1</td>\n",
       "      <td>1</td>\n",
       "      <td>0</td>\n",
       "      <td>1</td>\n",
       "      <td>0</td>\n",
       "      <td>1</td>\n",
       "      <td>0</td>\n",
       "      <td>0</td>\n",
       "      <td>1</td>\n",
       "      <td>0</td>\n",
       "      <td>1</td>\n",
       "      <td>0</td>\n",
       "    </tr>\n",
       "    <tr>\n",
       "      <th>4</th>\n",
       "      <td>79e48255003</td>\n",
       "      <td>6</td>\n",
       "      <td>0</td>\n",
       "      <td>0</td>\n",
       "      <td>30000.0</td>\n",
       "      <td>1</td>\n",
       "      <td>1</td>\n",
       "      <td>0</td>\n",
       "      <td>1</td>\n",
       "      <td>0</td>\n",
       "      <td>0</td>\n",
       "      <td>1</td>\n",
       "      <td>0</td>\n",
       "      <td>1</td>\n",
       "      <td>0</td>\n",
       "      <td>0</td>\n",
       "      <td>1</td>\n",
       "    </tr>\n",
       "    <tr>\n",
       "      <th>...</th>\n",
       "      <td>...</td>\n",
       "      <td>...</td>\n",
       "      <td>...</td>\n",
       "      <td>...</td>\n",
       "      <td>...</td>\n",
       "      <td>...</td>\n",
       "      <td>...</td>\n",
       "      <td>...</td>\n",
       "      <td>...</td>\n",
       "      <td>...</td>\n",
       "      <td>...</td>\n",
       "      <td>...</td>\n",
       "      <td>...</td>\n",
       "      <td>...</td>\n",
       "      <td>...</td>\n",
       "      <td>...</td>\n",
       "      <td>...</td>\n",
       "    </tr>\n",
       "    <tr>\n",
       "      <th>40380</th>\n",
       "      <td>8db591edafe</td>\n",
       "      <td>25</td>\n",
       "      <td>0</td>\n",
       "      <td>0</td>\n",
       "      <td>50000.0</td>\n",
       "      <td>1</td>\n",
       "      <td>0</td>\n",
       "      <td>1</td>\n",
       "      <td>1</td>\n",
       "      <td>0</td>\n",
       "      <td>1</td>\n",
       "      <td>0</td>\n",
       "      <td>0</td>\n",
       "      <td>1</td>\n",
       "      <td>0</td>\n",
       "      <td>0</td>\n",
       "      <td>1</td>\n",
       "    </tr>\n",
       "    <tr>\n",
       "      <th>40381</th>\n",
       "      <td>e1e96f4af51</td>\n",
       "      <td>100</td>\n",
       "      <td>10</td>\n",
       "      <td>100</td>\n",
       "      <td>1666600.0</td>\n",
       "      <td>1</td>\n",
       "      <td>1</td>\n",
       "      <td>0</td>\n",
       "      <td>1</td>\n",
       "      <td>0</td>\n",
       "      <td>0</td>\n",
       "      <td>1</td>\n",
       "      <td>0</td>\n",
       "      <td>1</td>\n",
       "      <td>0</td>\n",
       "      <td>1</td>\n",
       "      <td>0</td>\n",
       "    </tr>\n",
       "    <tr>\n",
       "      <th>40382</th>\n",
       "      <td>29aabac46d9</td>\n",
       "      <td>1</td>\n",
       "      <td>0</td>\n",
       "      <td>1</td>\n",
       "      <td>25000.0</td>\n",
       "      <td>1</td>\n",
       "      <td>0</td>\n",
       "      <td>1</td>\n",
       "      <td>1</td>\n",
       "      <td>0</td>\n",
       "      <td>0</td>\n",
       "      <td>1</td>\n",
       "      <td>0</td>\n",
       "      <td>1</td>\n",
       "      <td>0</td>\n",
       "      <td>1</td>\n",
       "      <td>0</td>\n",
       "    </tr>\n",
       "    <tr>\n",
       "      <th>40383</th>\n",
       "      <td>2ed947e57f5</td>\n",
       "      <td>1</td>\n",
       "      <td>0</td>\n",
       "      <td>1</td>\n",
       "      <td>73363.0</td>\n",
       "      <td>1</td>\n",
       "      <td>0</td>\n",
       "      <td>1</td>\n",
       "      <td>1</td>\n",
       "      <td>0</td>\n",
       "      <td>0</td>\n",
       "      <td>1</td>\n",
       "      <td>0</td>\n",
       "      <td>0</td>\n",
       "      <td>1</td>\n",
       "      <td>1</td>\n",
       "      <td>0</td>\n",
       "    </tr>\n",
       "    <tr>\n",
       "      <th>40384</th>\n",
       "      <td>3725b629d32</td>\n",
       "      <td>3</td>\n",
       "      <td>0</td>\n",
       "      <td>0</td>\n",
       "      <td>50000.0</td>\n",
       "      <td>1</td>\n",
       "      <td>1</td>\n",
       "      <td>0</td>\n",
       "      <td>1</td>\n",
       "      <td>0</td>\n",
       "      <td>0</td>\n",
       "      <td>1</td>\n",
       "      <td>0</td>\n",
       "      <td>0</td>\n",
       "      <td>1</td>\n",
       "      <td>1</td>\n",
       "      <td>0</td>\n",
       "    </tr>\n",
       "  </tbody>\n",
       "</table>\n",
       "<p>40385 rows × 17 columns</p>\n",
       "</div>"
      ],
      "text/plain": [
       "                id  NoEmp  CreateJob  RetainedJob  DisbursementGross  Accept  \\\n",
       "0      b353a0b461c     20          0            0           350000.0       1   \n",
       "1      cca24bbcc48      3          1            4            35000.0       1   \n",
       "2      e60644381ce      5          0            5            50000.0       1   \n",
       "3      ffca41a2760     25          0            0           190000.0       1   \n",
       "4      79e48255003      6          0            0            30000.0       1   \n",
       "...            ...    ...        ...          ...                ...     ...   \n",
       "40380  8db591edafe     25          0            0            50000.0       1   \n",
       "40381  e1e96f4af51    100         10          100          1666600.0       1   \n",
       "40382  29aabac46d9      1          0            1            25000.0       1   \n",
       "40383  2ed947e57f5      1          0            1            73363.0       1   \n",
       "40384  3725b629d32      3          0            0            50000.0       1   \n",
       "\n",
       "       NewExist_1.0  NewExist_2.0  FranchiseCode_0  FranchiseCode_1  \\\n",
       "0                 1             0                1                0   \n",
       "1                 1             0                1                0   \n",
       "2                 1             0                1                0   \n",
       "3                 1             0                1                0   \n",
       "4                 1             0                1                0   \n",
       "...             ...           ...              ...              ...   \n",
       "40380             0             1                1                0   \n",
       "40381             1             0                1                0   \n",
       "40382             0             1                1                0   \n",
       "40383             0             1                1                0   \n",
       "40384             1             0                1                0   \n",
       "\n",
       "       UrbanRural_0  UrbanRural_1  UrbanRural_2  RevLineCr_N  RevLineCr_Y  \\\n",
       "0                 1             0             0            1            0   \n",
       "1                 0             0             1            1            0   \n",
       "2                 0             1             0            1            0   \n",
       "3                 1             0             0            1            0   \n",
       "4                 0             1             0            1            0   \n",
       "...             ...           ...           ...          ...          ...   \n",
       "40380             1             0             0            1            0   \n",
       "40381             0             1             0            1            0   \n",
       "40382             0             1             0            1            0   \n",
       "40383             0             1             0            0            1   \n",
       "40384             0             1             0            0            1   \n",
       "\n",
       "       LowDoc_N  LowDoc_Y  \n",
       "0             1         0  \n",
       "1             1         0  \n",
       "2             1         0  \n",
       "3             1         0  \n",
       "4             0         1  \n",
       "...         ...       ...  \n",
       "40380         0         1  \n",
       "40381         1         0  \n",
       "40382         1         0  \n",
       "40383         1         0  \n",
       "40384         1         0  \n",
       "\n",
       "[40385 rows x 17 columns]"
      ]
     },
     "execution_count": 656,
     "metadata": {},
     "output_type": "execute_result"
    }
   ],
   "source": [
    "#df_train\n",
    "df"
   ]
  },
  {
   "cell_type": "code",
   "execution_count": 645,
   "id": "b25e0fa7",
   "metadata": {},
   "outputs": [
    {
     "data": {
      "text/plain": [
       "<AxesSubplot:>"
      ]
     },
     "execution_count": 645,
     "metadata": {},
     "output_type": "execute_result"
    },
    {
     "data": {
      "image/png": "[encoded data removed]",
      "text/plain": [
       "<Figure size 720x432 with 2 Axes>"
      ]
     },
     "metadata": {},
     "output_type": "display_data"
    }
   ],
   "source": [
    "plt.figure(figsize=(10,6))\n",
    "#sns.heatmap(df_train.corr(), annot=True)\n",
    "sns.heatmap(df.corr(), annot=True)"
   ]
  },
  {
   "cell_type": "markdown",
   "id": "a8d848e4",
   "metadata": {},
   "source": [
    "# 3. Algoritmo ML\n",
    "El algoritmo secreto es Bernoulli Naive Bayes\n",
    "\n",
    "## 3.1. Train and test splitting"
   ]
  },
  {
   "cell_type": "code",
   "execution_count": 659,
   "id": "741143f1",
   "metadata": {},
   "outputs": [],
   "source": [
    "# Features of the model\n",
    "#features = ['ApprovalPeriod', 'NoEmp', 'NewExist', 'CreateJob', 'RetainedJob', 'FranchiseCode', 'UrbanRural', 'RevLineCr', 'LowDoc', 'DisbursementGross']\n",
    "#features = ['NoEmp', 'NewExist', 'CreateJob', 'RetainedJob', 'FranchiseCode', 'UrbanRural', 'RevLineCr','LowDoc','DisbursementGross']\n",
    "# Transform dataframe in numpy arrays and split\n",
    "#x_train = df_train_1[features].values\n",
    "#y_train = df_train_1['Accept'].values\n",
    "x_train_1 = df.drop(['Accept', 'id'], axis=1)\n",
    "x_train = x_train_1.values\n",
    "y_train = df['Accept'].values\n",
    "\n",
    "#test_data = df.iloc[40385:,:]\n",
    "#ids = test_data['id'].values\n",
    "#x_test = test_data[features].values\n",
    "\n",
    "X_train, X_test, Y_train, Y_test = train_test_split(x_train, y_train, test_size=0.5, random_state=33)\n",
    "\n",
    "#preprocessor = make_pipeline(StandardScaler())\n",
    "#X_train_prep = preprocessor.fit_transform(X_train)\n",
    "#X_test_prep  = preprocessor.transform(X_test)"
   ]
  },
  {
   "cell_type": "markdown",
   "id": "ca8f6474",
   "metadata": {},
   "source": [
    "## Define models"
   ]
  },
  {
   "cell_type": "code",
   "execution_count": 661,
   "id": "8c61d32c",
   "metadata": {},
   "outputs": [],
   "source": [
    "models = {\"Linear SVC\": LinearSVC(dual=False, max_iter=3000, tol=1e-3), \\\n",
    "          #\"Random Forest\": RandomForestClassifier(n_estimators=100), \\\n",
    "          \"Nearest Neighbors\": KNeighborsClassifier(n_neighbors=10, algorithm='ball_tree'), \\\n",
    "          #\"Perceptron\": MLPClassifier(hidden_layer_sizes=(150,), activation='tanh', solver='lbfgs', alpha=0.03, max_iter=2000), \\\n",
    "          \"Bernoulli\": BernoulliNB(alpha=0.001, binarize=0.0, fit_prior=False, class_prior=None), \\\n",
    "          \"SVC\": SVC(C=10, kernel='rbf', gamma=0.001)}"
   ]
  },
  {
   "cell_type": "markdown",
   "id": "dd93a568",
   "metadata": {},
   "source": [
    "## Train and evaluate"
   ]
  },
  {
   "cell_type": "code",
   "execution_count": 667,
   "id": "41035614",
   "metadata": {
    "scrolled": true
   },
   "outputs": [
    {
     "name": "stdout",
     "output_type": "stream",
     "text": [
      "Start training models of Linear SVC\n",
      "[[    0  4126]\n",
      " [    0 16067]]\n",
      "              precision    recall  f1-score   support\n",
      "\n",
      "           0       0.00      0.00      0.00      4126\n",
      "           1       0.80      1.00      0.89     16067\n",
      "\n",
      "    accuracy                           0.80     20193\n",
      "   macro avg       0.40      0.50      0.44     20193\n",
      "weighted avg       0.63      0.80      0.71     20193\n",
      "\n",
      "F1_score of Linear SVC is 0.8862107004964148\n",
      "*************************************************************\n",
      "Start training models of Nearest Neighbors\n"
     ]
    },
    {
     "name": "stderr",
     "output_type": "stream",
     "text": [
      "C:\\Users\\Usuario\\anaconda3\\lib\\site-packages\\sklearn\\metrics\\_classification.py:1245: UndefinedMetricWarning: Precision and F-score are ill-defined and being set to 0.0 in labels with no predicted samples. Use `zero_division` parameter to control this behavior.\n",
      "  _warn_prf(average, modifier, msg_start, len(result))\n",
      "C:\\Users\\Usuario\\anaconda3\\lib\\site-packages\\sklearn\\metrics\\_classification.py:1245: UndefinedMetricWarning: Precision and F-score are ill-defined and being set to 0.0 in labels with no predicted samples. Use `zero_division` parameter to control this behavior.\n",
      "  _warn_prf(average, modifier, msg_start, len(result))\n",
      "C:\\Users\\Usuario\\anaconda3\\lib\\site-packages\\sklearn\\metrics\\_classification.py:1245: UndefinedMetricWarning: Precision and F-score are ill-defined and being set to 0.0 in labels with no predicted samples. Use `zero_division` parameter to control this behavior.\n",
      "  _warn_prf(average, modifier, msg_start, len(result))\n"
     ]
    },
    {
     "name": "stdout",
     "output_type": "stream",
     "text": [
      "[[  768  3358]\n",
      " [ 1275 14792]]\n",
      "              precision    recall  f1-score   support\n",
      "\n",
      "           0       0.38      0.19      0.25      4126\n",
      "           1       0.81      0.92      0.86     16067\n",
      "\n",
      "    accuracy                           0.77     20193\n",
      "   macro avg       0.60      0.55      0.56     20193\n",
      "weighted avg       0.73      0.77      0.74     20193\n",
      "\n",
      "F1_score of Nearest Neighbors is 0.8645994681006518\n",
      "*************************************************************\n",
      "Start training models of Bernoulli\n",
      "[[3042 1084]\n",
      " [7108 8959]]\n",
      "              precision    recall  f1-score   support\n",
      "\n",
      "           0       0.30      0.74      0.43      4126\n",
      "           1       0.89      0.56      0.69     16067\n",
      "\n",
      "    accuracy                           0.59     20193\n",
      "   macro avg       0.60      0.65      0.56     20193\n",
      "weighted avg       0.77      0.59      0.63     20193\n",
      "\n",
      "F1_score of Bernoulli is 0.6862504787437763\n",
      "*************************************************************\n",
      "Start training models of SVC\n",
      "[[    0  4126]\n",
      " [    0 16067]]\n",
      "              precision    recall  f1-score   support\n",
      "\n",
      "           0       0.00      0.00      0.00      4126\n",
      "           1       0.80      1.00      0.89     16067\n",
      "\n",
      "    accuracy                           0.80     20193\n",
      "   macro avg       0.40      0.50      0.44     20193\n",
      "weighted avg       0.63      0.80      0.71     20193\n",
      "\n",
      "F1_score of SVC is 0.8862107004964148\n",
      "*************************************************************\n",
      "Global: f1=0.8308\n",
      "\n"
     ]
    },
    {
     "name": "stderr",
     "output_type": "stream",
     "text": [
      "C:\\Users\\Usuario\\anaconda3\\lib\\site-packages\\sklearn\\metrics\\_classification.py:1245: UndefinedMetricWarning: Precision and F-score are ill-defined and being set to 0.0 in labels with no predicted samples. Use `zero_division` parameter to control this behavior.\n",
      "  _warn_prf(average, modifier, msg_start, len(result))\n",
      "C:\\Users\\Usuario\\anaconda3\\lib\\site-packages\\sklearn\\metrics\\_classification.py:1245: UndefinedMetricWarning: Precision and F-score are ill-defined and being set to 0.0 in labels with no predicted samples. Use `zero_division` parameter to control this behavior.\n",
      "  _warn_prf(average, modifier, msg_start, len(result))\n",
      "C:\\Users\\Usuario\\anaconda3\\lib\\site-packages\\sklearn\\metrics\\_classification.py:1245: UndefinedMetricWarning: Precision and F-score are ill-defined and being set to 0.0 in labels with no predicted samples. Use `zero_division` parameter to control this behavior.\n",
      "  _warn_prf(average, modifier, msg_start, len(result))\n"
     ]
    }
   ],
   "source": [
    "from sklearn.pipeline import make_pipeline\n",
    "from sklearn.preprocessing import StandardScaler\n",
    "\n",
    "i = 0\n",
    "f1_global = []\n",
    "for name in models:\n",
    "    print(\"Start training models of {}\".format(name))\n",
    "    clf = make_pipeline(\n",
    "            #StandardScaler(), \n",
    "            models[name])\n",
    "    clf.fit(X_train, Y_train)\n",
    "    #clf.score(X_test, Y_test)\n",
    "    predicted = clf.predict(X_test)\n",
    "    f1_global.append(f1_score(Y_test, predicted))\n",
    "    print(confusion_matrix(Y_test, predicted))\n",
    "    print(classification_report(Y_test, predicted))\n",
    "    print(\"F1_score of %s is %s\"%(name, f1_global[i]))\n",
    "    #print(\"Accuracy of %s is %s\"%(name, accuracy_score(Y_test, predicted)))\n",
    "    i+=1\n",
    "    print(\"*************************************************************\")\n",
    "print(\"Global: f1={:.4f}\\n\".format(np.average(f1_global)))"
   ]
  },
  {
   "cell_type": "code",
   "execution_count": 369,
   "id": "378840a9",
   "metadata": {},
   "outputs": [
    {
     "data": {
      "text/plain": [
       "KNeighborsClassifier(algorithm='ball_tree', n_neighbors=10)"
      ]
     },
     "execution_count": 369,
     "metadata": {},
     "output_type": "execute_result"
    }
   ],
   "source": [
    "#Choose the best\n",
    "clf = models['Nearest Neighbors']\n",
    "clf.fit(x_train, y_train)"
   ]
  },
  {
   "cell_type": "markdown",
   "id": "9be1c740",
   "metadata": {},
   "source": [
    "## Mejorar modelo\n",
    "Encontrar los mejores hiperparámetros."
   ]
  },
  {
   "cell_type": "code",
   "execution_count": null,
   "id": "0232316f",
   "metadata": {},
   "outputs": [
    {
     "name": "stdout",
     "output_type": "stream",
     "text": [
      "# Tuning hyper-parameters for precision\n",
      "\n"
     ]
    }
   ],
   "source": [
    "from sklearn.model_selection import GridSearchCV\n",
    "# Set the parameters by cross-validation\n",
    "tuned_parameters = [\n",
    "    {\"kernel\": [\"rbf\"], \"gamma\": [1e-3, 1e-4], \"C\": [1, 10, 100, 1000]},\n",
    "    {\"kernel\": [\"linear\"], \"C\": [1, 10, 100, 1000]},\n",
    "]\n",
    "\n",
    "scores = [\"precision\", \"recall\"]\n",
    "\n",
    "for score in scores:\n",
    "    print(\"# Tuning hyper-parameters for %s\" % score)\n",
    "    print()\n",
    "\n",
    "    clf = GridSearchCV(SVC(), tuned_parameters, scoring=\"%s_macro\" % score)\n",
    "    clf.fit(X_train, Y_train)\n",
    "\n",
    "    print(\"Best parameters set found on development set:\")\n",
    "    print()\n",
    "    print(clf.best_params_)\n",
    "    print()\n",
    "    print(\"Grid scores on development set:\")\n",
    "    print()\n",
    "    means = clf.cv_results_[\"mean_test_score\"]\n",
    "    stds = clf.cv_results_[\"std_test_score\"]\n",
    "    for mean, std, params in zip(means, stds, clf.cv_results_[\"params\"]):\n",
    "        print(\"%0.3f (+/-%0.03f) for %r\" % (mean, std * 2, params))\n",
    "    print()\n",
    "\n",
    "    print(\"Detailed classification report:\")\n",
    "    print()\n",
    "    print(\"The model is trained on the full development set.\")\n",
    "    print(\"The scores are computed on the full evaluation set.\")\n",
    "    print()\n",
    "    y_true, y_pred = Y_test, clf.predict(X_test)\n",
    "    print(classification_report(y_true, y_pred))\n",
    "    print()"
   ]
  },
  {
   "cell_type": "markdown",
   "id": "67904c41",
   "metadata": {},
   "source": [
    "## Prepare test data"
   ]
  },
  {
   "cell_type": "code",
   "execution_count": 194,
   "id": "da814eb5",
   "metadata": {},
   "outputs": [],
   "source": [
    "df_test = pd.read_csv('data_reto_1/test_nolabel.csv')\n",
    "df_test.drop(['Name', 'City', 'State', 'Bank', 'BankState', 'ApprovalFY', 'LoanNr_ChkDgt', 'BalanceGross'], axis=1, inplace=True)\n",
    "df_test['NewExist'].fillna(1.0, inplace=True)\n",
    "df_test.loc[df_test[\"NewExist\"] == 0.0, \"NewExist\"] = 1.0\n",
    "df_test.loc[df_test[\"RevLineCr\"] == \"0\", \"RevLineCr\"] = 'N'\n",
    "df_test.loc[df_test[\"RevLineCr\"] == \"T\", \"RevLineCr\"] = 'Y'\n",
    "df_test['RevLineCr'].fillna('N', inplace=True)\n",
    "df_test['LowDoc'].fillna('N', inplace=True)\n",
    "df_test.loc[df_test[\"LowDoc\"] == \"0\", \"LowDoc\"] = 'N'\n",
    "df_test.loc[df_test[\"LowDoc\"] == \"A\", \"LowDoc\"] = 'N'\n",
    "df_test.loc[df_test[\"LowDoc\"] == \"C\", \"LowDoc\"] = 'N'\n",
    "df_test.loc[df_test[\"LowDoc\"] == \"R\", \"LowDoc\"] = 'N'\n",
    "df_test.loc[df_test[\"LowDoc\"] == \"S\", \"LowDoc\"] = 'N'"
   ]
  },
  {
   "cell_type": "code",
   "execution_count": 195,
   "id": "d3404265",
   "metadata": {},
   "outputs": [],
   "source": [
    "df_test['id'] = df_test['id'].astype(str)\n",
    "#df_test['ApprovalDate'] = df_test['ApprovalDate'].astype(str)\n",
    "#df_test['DisbursementDate'] = df_test['DisbursementDate'].astype(str)\n",
    "df_test['NewExist'] = df_test['NewExist'].astype(np.int64)\n",
    "\n",
    "df_test.loc[df_test[\"RevLineCr\"] == \"N\", \"RevLineCr\"] = 0\n",
    "df_test.loc[df_test[\"RevLineCr\"] == \"Y\", \"RevLineCr\"] = 1\n",
    "df_test['RevLineCr'] = df_test['RevLineCr'].astype(np.int64)\n",
    "\n",
    "df_test.loc[df_test[\"LowDoc\"] == \"N\", \"LowDoc\"] = 0\n",
    "df_test.loc[df_test[\"LowDoc\"] == \"Y\", \"LowDoc\"] = 1\n",
    "df_test['LowDoc'] = df_test['LowDoc'].astype(np.int64)\n",
    "\n",
    "df_test[\"DisbursementGross\"] = df_test[\"DisbursementGross\"].astype(str)\n",
    "df_test[\"DisbursementGross\"] = df_test[\"DisbursementGross\"].apply(lambda x: x[1:])\n",
    "df_test[\"DisbursementGross\"] = df_test[\"DisbursementGross\"].apply(lambda s: s.strip())\n",
    "df_test[\"DisbursementGross\"] = df_test[\"DisbursementGross\"].replace({',':''}, regex=True)\n",
    "df_test.loc[df_test[\"DisbursementGross\"] == \"\", \"DisbursementGross\"] = 0\n",
    "df_test[\"DisbursementGross\"] = df_test[\"DisbursementGross\"].astype(float)\n",
    "\n",
    "#Para calcular el periodo de aprobación, hay que obtener las fechas y restarlas\n",
    "#df_test[\"ApprovalDate\"] = df_test[\"ApprovalDate\"].apply(lambda date: datetime.strptime(date, \"%d-%b-%y\"))\n",
    "#En DisbursementDate hay valores sin fecha, los dejaremos en blanco\n",
    "#df_test[\"DisbursementDate\"] = df_test[\"DisbursementDate\"].apply(lambda date: datetime.strptime(date, \"%d-%b-%y\") if (date!=\"nan\") else '')\n",
    "#df_test.insert(1, 'ApprovalPeriod', df_test[\"DisbursementDate\"] - df_test[\"ApprovalDate\"])\n",
    "#Rellenamos los valores en blanco con el promedio ApprovalPeriod\n",
    "#df_test['ApprovalPeriod'].fillna(df_test['ApprovalPeriod'].mean(), inplace=True)\n",
    "#df_test[\"ApprovalPeriod\"] = df_test[\"ApprovalPeriod\"].apply(lambda t: t/np.timedelta64(1, 'D'))\n",
    "#df_test[\"ApprovalPeriod\"] = df_test[\"ApprovalPeriod\"].astype(np.int64)\n",
    "df_test.drop(['ApprovalDate', 'DisbursementDate'], axis=1, inplace=True)\n",
    "#df_test.loc[df_test[\"ApprovalPeriod\"] < 0, \"ApprovalPeriod\"] = df_test['ApprovalPeriod'].mean()"
   ]
  },
  {
   "cell_type": "code",
   "execution_count": 196,
   "id": "82a79f05",
   "metadata": {},
   "outputs": [
    {
     "name": "stdout",
     "output_type": "stream",
     "text": [
      "<class 'pandas.core.frame.DataFrame'>\n",
      "RangeIndex: 7050 entries, 0 to 7049\n",
      "Data columns (total 10 columns):\n",
      " #   Column             Non-Null Count  Dtype  \n",
      "---  ------             --------------  -----  \n",
      " 0   id                 7050 non-null   object \n",
      " 1   NoEmp              7050 non-null   int64  \n",
      " 2   NewExist           7050 non-null   int64  \n",
      " 3   CreateJob          7050 non-null   int64  \n",
      " 4   RetainedJob        7050 non-null   int64  \n",
      " 5   FranchiseCode      7050 non-null   int64  \n",
      " 6   UrbanRural         7050 non-null   int64  \n",
      " 7   RevLineCr          7050 non-null   int64  \n",
      " 8   LowDoc             7050 non-null   int64  \n",
      " 9   DisbursementGross  7050 non-null   float64\n",
      "dtypes: float64(1), int64(8), object(1)\n",
      "memory usage: 550.9+ KB\n"
     ]
    }
   ],
   "source": [
    "df_test.info()"
   ]
  },
  {
   "cell_type": "code",
   "execution_count": 198,
   "id": "dd0916d8",
   "metadata": {},
   "outputs": [
    {
     "data": {
      "text/html": [
       "<div>\n",
       "<style scoped>\n",
       "    .dataframe tbody tr th:only-of-type {\n",
       "        vertical-align: middle;\n",
       "    }\n",
       "\n",
       "    .dataframe tbody tr th {\n",
       "        vertical-align: top;\n",
       "    }\n",
       "\n",
       "    .dataframe thead th {\n",
       "        text-align: right;\n",
       "    }\n",
       "</style>\n",
       "<table border=\"1\" class=\"dataframe\">\n",
       "  <thead>\n",
       "    <tr style=\"text-align: right;\">\n",
       "      <th></th>\n",
       "      <th>id</th>\n",
       "      <th>NoEmp</th>\n",
       "      <th>NewExist</th>\n",
       "      <th>CreateJob</th>\n",
       "      <th>RetainedJob</th>\n",
       "      <th>FranchiseCode</th>\n",
       "      <th>UrbanRural</th>\n",
       "      <th>RevLineCr</th>\n",
       "      <th>LowDoc</th>\n",
       "      <th>DisbursementGross</th>\n",
       "    </tr>\n",
       "  </thead>\n",
       "  <tbody>\n",
       "    <tr>\n",
       "      <th>0</th>\n",
       "      <td>63ef5dfc62f</td>\n",
       "      <td>1</td>\n",
       "      <td>2</td>\n",
       "      <td>0</td>\n",
       "      <td>0</td>\n",
       "      <td>1</td>\n",
       "      <td>0</td>\n",
       "      <td>0</td>\n",
       "      <td>1</td>\n",
       "      <td>35000.0</td>\n",
       "    </tr>\n",
       "    <tr>\n",
       "      <th>1</th>\n",
       "      <td>65ee0569c05</td>\n",
       "      <td>81</td>\n",
       "      <td>1</td>\n",
       "      <td>0</td>\n",
       "      <td>0</td>\n",
       "      <td>1</td>\n",
       "      <td>0</td>\n",
       "      <td>0</td>\n",
       "      <td>0</td>\n",
       "      <td>145000.0</td>\n",
       "    </tr>\n",
       "    <tr>\n",
       "      <th>2</th>\n",
       "      <td>19058f4da52</td>\n",
       "      <td>4</td>\n",
       "      <td>1</td>\n",
       "      <td>1</td>\n",
       "      <td>5</td>\n",
       "      <td>1</td>\n",
       "      <td>1</td>\n",
       "      <td>1</td>\n",
       "      <td>0</td>\n",
       "      <td>52174.0</td>\n",
       "    </tr>\n",
       "    <tr>\n",
       "      <th>3</th>\n",
       "      <td>a0f1299afe4</td>\n",
       "      <td>6</td>\n",
       "      <td>2</td>\n",
       "      <td>3</td>\n",
       "      <td>6</td>\n",
       "      <td>0</td>\n",
       "      <td>1</td>\n",
       "      <td>1</td>\n",
       "      <td>0</td>\n",
       "      <td>194316.0</td>\n",
       "    </tr>\n",
       "    <tr>\n",
       "      <th>4</th>\n",
       "      <td>e47da0be9fc</td>\n",
       "      <td>3</td>\n",
       "      <td>1</td>\n",
       "      <td>0</td>\n",
       "      <td>3</td>\n",
       "      <td>1</td>\n",
       "      <td>1</td>\n",
       "      <td>1</td>\n",
       "      <td>0</td>\n",
       "      <td>75000.0</td>\n",
       "    </tr>\n",
       "    <tr>\n",
       "      <th>...</th>\n",
       "      <td>...</td>\n",
       "      <td>...</td>\n",
       "      <td>...</td>\n",
       "      <td>...</td>\n",
       "      <td>...</td>\n",
       "      <td>...</td>\n",
       "      <td>...</td>\n",
       "      <td>...</td>\n",
       "      <td>...</td>\n",
       "      <td>...</td>\n",
       "    </tr>\n",
       "    <tr>\n",
       "      <th>7045</th>\n",
       "      <td>78c2f0067d8</td>\n",
       "      <td>2</td>\n",
       "      <td>1</td>\n",
       "      <td>0</td>\n",
       "      <td>2</td>\n",
       "      <td>1</td>\n",
       "      <td>1</td>\n",
       "      <td>0</td>\n",
       "      <td>0</td>\n",
       "      <td>30000.0</td>\n",
       "    </tr>\n",
       "    <tr>\n",
       "      <th>7046</th>\n",
       "      <td>279c7d23eb7</td>\n",
       "      <td>5</td>\n",
       "      <td>2</td>\n",
       "      <td>0</td>\n",
       "      <td>5</td>\n",
       "      <td>0</td>\n",
       "      <td>1</td>\n",
       "      <td>0</td>\n",
       "      <td>0</td>\n",
       "      <td>18.0</td>\n",
       "    </tr>\n",
       "    <tr>\n",
       "      <th>7047</th>\n",
       "      <td>d67af0ec109</td>\n",
       "      <td>1</td>\n",
       "      <td>1</td>\n",
       "      <td>0</td>\n",
       "      <td>1</td>\n",
       "      <td>0</td>\n",
       "      <td>2</td>\n",
       "      <td>1</td>\n",
       "      <td>0</td>\n",
       "      <td>23762.0</td>\n",
       "    </tr>\n",
       "    <tr>\n",
       "      <th>7048</th>\n",
       "      <td>7d2e8114e9a</td>\n",
       "      <td>2</td>\n",
       "      <td>1</td>\n",
       "      <td>0</td>\n",
       "      <td>2</td>\n",
       "      <td>1</td>\n",
       "      <td>1</td>\n",
       "      <td>1</td>\n",
       "      <td>0</td>\n",
       "      <td>30000.0</td>\n",
       "    </tr>\n",
       "    <tr>\n",
       "      <th>7049</th>\n",
       "      <td>f479ed04b66</td>\n",
       "      <td>1</td>\n",
       "      <td>2</td>\n",
       "      <td>0</td>\n",
       "      <td>1</td>\n",
       "      <td>0</td>\n",
       "      <td>1</td>\n",
       "      <td>1</td>\n",
       "      <td>0</td>\n",
       "      <td>25247.0</td>\n",
       "    </tr>\n",
       "  </tbody>\n",
       "</table>\n",
       "<p>7050 rows × 10 columns</p>\n",
       "</div>"
      ],
      "text/plain": [
       "               id  NoEmp  NewExist  CreateJob  RetainedJob  FranchiseCode  \\\n",
       "0     63ef5dfc62f      1         2          0            0              1   \n",
       "1     65ee0569c05     81         1          0            0              1   \n",
       "2     19058f4da52      4         1          1            5              1   \n",
       "3     a0f1299afe4      6         2          3            6              0   \n",
       "4     e47da0be9fc      3         1          0            3              1   \n",
       "...           ...    ...       ...        ...          ...            ...   \n",
       "7045  78c2f0067d8      2         1          0            2              1   \n",
       "7046  279c7d23eb7      5         2          0            5              0   \n",
       "7047  d67af0ec109      1         1          0            1              0   \n",
       "7048  7d2e8114e9a      2         1          0            2              1   \n",
       "7049  f479ed04b66      1         2          0            1              0   \n",
       "\n",
       "      UrbanRural  RevLineCr  LowDoc  DisbursementGross  \n",
       "0              0          0       1            35000.0  \n",
       "1              0          0       0           145000.0  \n",
       "2              1          1       0            52174.0  \n",
       "3              1          1       0           194316.0  \n",
       "4              1          1       0            75000.0  \n",
       "...          ...        ...     ...                ...  \n",
       "7045           1          0       0            30000.0  \n",
       "7046           1          0       0               18.0  \n",
       "7047           2          1       0            23762.0  \n",
       "7048           1          1       0            30000.0  \n",
       "7049           1          1       0            25247.0  \n",
       "\n",
       "[7050 rows x 10 columns]"
      ]
     },
     "execution_count": 198,
     "metadata": {},
     "output_type": "execute_result"
    }
   ],
   "source": [
    "df_test"
   ]
  },
  {
   "cell_type": "code",
   "execution_count": 199,
   "id": "5026dd8b",
   "metadata": {},
   "outputs": [],
   "source": [
    "ids = df_test['id'].values\n",
    "x_test = df_test[features].values\n",
    "predicted = clf.predict(x_test)"
   ]
  },
  {
   "cell_type": "markdown",
   "id": "639872f1",
   "metadata": {},
   "source": [
    "## 4º Paso: Entrega"
   ]
  },
  {
   "cell_type": "code",
   "execution_count": 201,
   "id": "0835be0c",
   "metadata": {},
   "outputs": [],
   "source": [
    "submission = pd.DataFrame(predicted.astype(int), index=ids, columns=['Accept'])\n",
    "submission.index.name=\"id\"\n",
    "submission.to_csv(r'C:\\Users\\Usuario\\OneDrive - Universidad Politécnica de Madrid\\Clases\\2 Cuatrimestre\\ABID\\KaggleChallenge\\notebook\\submission.csv', index=True)"
   ]
  }
 ],
 "metadata": {
  "kernelspec": {
   "display_name": "Python 3",
   "language": "python",
   "name": "python3"
  },
  "language_info": {
   "codemirror_mode": {
    "name": "ipython",
    "version": 3
   },
   "file_extension": ".py",
   "mimetype": "text/x-python",
   "name": "python",
   "nbconvert_exporter": "python",
   "pygments_lexer": "ipython3",
   "version": "3.8.8"
  }
 },
 "nbformat": 4,
 "nbformat_minor": 5
}
